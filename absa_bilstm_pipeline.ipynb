{
  "cells": [
    {
      "cell_type": "code",
      "execution_count": 2,
      "metadata": {
        "id": "iHWikygrP5u8"
      },
      "outputs": [],
      "source": [
        "import pandas as pd\n",
        "import json\n",
        "from collections import Counter\n",
        "import numpy as np\n",
        "import os\n",
        "from pathlib import Path"
      ]
    },
    {
      "cell_type": "code",
      "execution_count": 3,
      "metadata": {
        "id": "YSSIkLWDQQDS"
      },
      "outputs": [],
      "source": [
        "def load_json_as_df(filepath):\n",
        "    with open(filepath, 'r') as file:\n",
        "        json_data = json.load(file)\n",
        "\n",
        "    df = pd.DataFrame(data=json_data['data'], columns=json_data['columns'])\n",
        "    return df\n",
        "\n",
        "data_dir = os.path.join(os.getcwd(), 'data')\n",
        "\n",
        "train_file_path = os.path.join(data_dir, 'train.json')\n",
        "val_file_path = os.path.join(data_dir, 'val.json')\n",
        "test_file_path = os.path.join(data_dir, 'test.json')\n",
        "\n",
        "train_df = load_json_as_df(train_file_path)\n",
        "val_df = load_json_as_df(val_file_path)\n",
        "test_df = load_json_as_df(test_file_path)"
      ]
    },
    {
      "cell_type": "code",
      "execution_count": 4,
      "metadata": {
        "colab": {
          "base_uri": "https://localhost:8080/",
          "height": 206
        },
        "id": "URl17VoGRfkK",
        "outputId": "86859491-f027-48a2-f3a4-287be9782b80"
      },
      "outputs": [
        {
          "data": {
            "text/html": [
              "<div>\n",
              "<style scoped>\n",
              "    .dataframe tbody tr th:only-of-type {\n",
              "        vertical-align: middle;\n",
              "    }\n",
              "\n",
              "    .dataframe tbody tr th {\n",
              "        vertical-align: top;\n",
              "    }\n",
              "\n",
              "    .dataframe thead th {\n",
              "        text-align: right;\n",
              "    }\n",
              "</style>\n",
              "<table border=\"1\" class=\"dataframe\">\n",
              "  <thead>\n",
              "    <tr style=\"text-align: right;\">\n",
              "      <th></th>\n",
              "      <th>sentence</th>\n",
              "      <th>aspect</th>\n",
              "      <th>polarity</th>\n",
              "    </tr>\n",
              "  </thead>\n",
              "  <tbody>\n",
              "    <tr>\n",
              "      <th>0</th>\n",
              "      <td>It might be the best sit down food I've had in...</td>\n",
              "      <td>food</td>\n",
              "      <td>positive</td>\n",
              "    </tr>\n",
              "    <tr>\n",
              "      <th>1</th>\n",
              "      <td>It might be the best sit down food I've had in...</td>\n",
              "      <td>place</td>\n",
              "      <td>neutral</td>\n",
              "    </tr>\n",
              "    <tr>\n",
              "      <th>2</th>\n",
              "      <td>Hostess was extremely accommodating when we ar...</td>\n",
              "      <td>staff</td>\n",
              "      <td>positive</td>\n",
              "    </tr>\n",
              "    <tr>\n",
              "      <th>3</th>\n",
              "      <td>Hostess was extremely accommodating when we ar...</td>\n",
              "      <td>miscellaneous</td>\n",
              "      <td>neutral</td>\n",
              "    </tr>\n",
              "    <tr>\n",
              "      <th>4</th>\n",
              "      <td>We were a couple of minutes late for our reser...</td>\n",
              "      <td>miscellaneous</td>\n",
              "      <td>neutral</td>\n",
              "    </tr>\n",
              "  </tbody>\n",
              "</table>\n",
              "</div>"
            ],
            "text/plain": [
              "                                            sentence         aspect  polarity\n",
              "0  It might be the best sit down food I've had in...           food  positive\n",
              "1  It might be the best sit down food I've had in...          place   neutral\n",
              "2  Hostess was extremely accommodating when we ar...          staff  positive\n",
              "3  Hostess was extremely accommodating when we ar...  miscellaneous   neutral\n",
              "4  We were a couple of minutes late for our reser...  miscellaneous   neutral"
            ]
          },
          "execution_count": 4,
          "metadata": {},
          "output_type": "execute_result"
        }
      ],
      "source": [
        "train_df.head()"
      ]
    },
    {
      "cell_type": "markdown",
      "metadata": {
        "id": "PlLckKVgSEz4"
      },
      "source": [
        "## I. EDA"
      ]
    },
    {
      "cell_type": "markdown",
      "metadata": {},
      "source": [
        "The dataset contains 7,090 rows but only 3,149 unique sentences, indicating that many sentences have multiple aspect-sentiment annotations. Each unique sentence appears aroiund 2.25 times with different aspect tags and sentiment polarities."
      ]
    },
    {
      "cell_type": "code",
      "execution_count": 5,
      "metadata": {},
      "outputs": [
        {
          "name": "stdout",
          "output_type": "stream",
          "text": [
            "Dataset dimensions: (7090, 3)\n",
            "Number of unique sentences: 3149\n"
          ]
        }
      ],
      "source": [
        "print(\"Dataset dimensions:\", train_df.shape)\n",
        "print(\"Number of unique sentences:\", train_df['sentence'].nunique())"
      ]
    },
    {
      "cell_type": "markdown",
      "metadata": {},
      "source": [
        "### Aspect distribution"
      ]
    },
    {
      "cell_type": "code",
      "execution_count": 6,
      "metadata": {},
      "outputs": [
        {
          "name": "stdout",
          "output_type": "stream",
          "text": [
            "\n",
            "Aspect distribution:\n",
            "aspect\n",
            "food             2307\n",
            "staff            1383\n",
            "miscellaneous     954\n",
            "place             694\n",
            "service           631\n",
            "menu              475\n",
            "ambience          324\n",
            "price             322\n",
            "Name: count, dtype: int64\n"
          ]
        },
        {
          "data": {
            "image/png": "[encoded data removed]",
            "text/plain": [
              "<Figure size 1000x600 with 1 Axes>"
            ]
          },
          "metadata": {},
          "output_type": "display_data"
        }
      ],
      "source": [
        "import matplotlib.pyplot as plt\n",
        "import seaborn as sns\n",
        "\n",
        "aspect_counts = train_df['aspect'].value_counts()\n",
        "print(\"\\nAspect distribution:\")\n",
        "print(aspect_counts)\n",
        "\n",
        "plt.figure(figsize=(10, 6))\n",
        "sns.barplot(x=aspect_counts.index, y=aspect_counts.values)\n",
        "plt.title('Distribution of Aspects')\n",
        "plt.xticks(rotation=45)\n",
        "plt.tight_layout()\n",
        "plt.show()"
      ]
    },
    {
      "cell_type": "markdown",
      "metadata": {},
      "source": [
        "### Sentiment distribution\n",
        "\n",
        "The distribution shows a higher occurence of 'neutral' polarity and 'food' aspect. This suggest that the imbalanced data may lead to biased learning of the more frequently occuring class."
      ]
    },
    {
      "cell_type": "code",
      "execution_count": 137,
      "metadata": {},
      "outputs": [
        {
          "name": "stdout",
          "output_type": "stream",
          "text": [
            "\n",
            "Sentiment distribution:\n",
            "polarity\n",
            "neutral     3077\n",
            "negative    2084\n",
            "positive    1929\n",
            "Name: count, dtype: int64\n"
          ]
        },
        {
          "data": {
            "image/png": "[encoded data removed]",
            "text/plain": [
              "<Figure size 800x500 with 1 Axes>"
            ]
          },
          "metadata": {},
          "output_type": "display_data"
        }
      ],
      "source": [
        "sentiment_counts = train_df['polarity'].value_counts()\n",
        "print(\"\\nSentiment distribution:\")\n",
        "print(sentiment_counts)\n",
        "\n",
        "plt.figure(figsize=(8, 5))\n",
        "sns.barplot(x=sentiment_counts.index, y=sentiment_counts.values)\n",
        "plt.title('Distribution of Sentiment Polarity')\n",
        "plt.tight_layout()\n",
        "plt.show()"
      ]
    },
    {
      "cell_type": "markdown",
      "metadata": {},
      "source": [
        "### Sentiment by aspect"
      ]
    },
    {
      "cell_type": "code",
      "execution_count": 8,
      "metadata": {},
      "outputs": [
        {
          "name": "stdout",
          "output_type": "stream",
          "text": [
            "\n",
            "Sentiment distribution by aspect (normalized):\n",
            "polarity       negative   neutral  positive\n",
            "aspect                                     \n",
            "ambience       0.277778  0.163580  0.558642\n",
            "food           0.110533  0.562635  0.326831\n",
            "menu           0.082105  0.783158  0.134737\n",
            "miscellaneous  0.205451  0.556604  0.237945\n",
            "place          0.200288  0.619597  0.180115\n",
            "price          0.354037  0.422360  0.223602\n",
            "service        0.521395  0.202853  0.275753\n",
            "staff          0.666667  0.093275  0.240058\n"
          ]
        },
        {
          "data": {
            "text/plain": [
              "<Figure size 1200x700 with 0 Axes>"
            ]
          },
          "metadata": {},
          "output_type": "display_data"
        },
        {
          "data": {
            "image/png": "[encoded data removed]",
            "text/plain": [
              "<Figure size 640x480 with 1 Axes>"
            ]
          },
          "metadata": {},
          "output_type": "display_data"
        }
      ],
      "source": [
        "aspect_sentiment = pd.crosstab(train_df['aspect'], train_df['polarity'], normalize='index')\n",
        "print(\"\\nSentiment distribution by aspect (normalized):\")\n",
        "print(aspect_sentiment)\n",
        "\n",
        "plt.figure(figsize=(12, 7))\n",
        "aspect_sentiment.plot(kind='bar', stacked=True, colormap='viridis')\n",
        "plt.title('Sentiment Distribution by Aspect')\n",
        "plt.xlabel('Aspect')\n",
        "plt.ylabel('Proportion')\n",
        "plt.legend(title='Sentiment')\n",
        "plt.tight_layout()\n",
        "plt.show()"
      ]
    },
    {
      "cell_type": "markdown",
      "metadata": {},
      "source": [
        "### Sentence length analysis"
      ]
    },
    {
      "cell_type": "code",
      "execution_count": 9,
      "metadata": {},
      "outputs": [
        {
          "name": "stderr",
          "output_type": "stream",
          "text": [
            "[nltk_data] Downloading package punkt_tab to\n",
            "[nltk_data]     C:\\Users\\angel\\AppData\\Roaming\\nltk_data...\n",
            "[nltk_data]   Package punkt_tab is already up-to-date!\n",
            "[nltk_data] Downloading package stopwords to\n",
            "[nltk_data]     C:\\Users\\angel\\AppData\\Roaming\\nltk_data...\n",
            "[nltk_data]   Package stopwords is already up-to-date!\n"
          ]
        },
        {
          "data": {
            "image/png": "[encoded data removed]",
            "text/plain": [
              "<Figure size 1200x500 with 2 Axes>"
            ]
          },
          "metadata": {},
          "output_type": "display_data"
        }
      ],
      "source": [
        "import nltk\n",
        "import re\n",
        "from nltk.tokenize import word_tokenize\n",
        "from nltk.corpus import stopwords as sw\n",
        "\n",
        "nltk.download('punkt_tab') \n",
        "nltk.download('stopwords') \n",
        "\n",
        "\n",
        "train_df['sentence_length'] = train_df['sentence'].apply(len)\n",
        "train_df['word_count'] = train_df['sentence'].apply(lambda x: len(word_tokenize(x)))\n",
        "\n",
        "plt.figure(figsize=(12, 5))\n",
        "plt.subplot(1, 2, 1)\n",
        "sns.histplot(train_df['sentence_length'], kde=True)\n",
        "plt.title('Sentence Length Distribution (Characters)')\n",
        "plt.xlabel('Number of Characters')\n",
        "\n",
        "plt.subplot(1, 2, 2)\n",
        "sns.histplot(train_df['word_count'], kde=True)\n",
        "plt.title('Word Count Distribution')\n",
        "plt.xlabel('Number of Words')\n",
        "plt.tight_layout()\n",
        "plt.show()"
      ]
    },
    {
      "cell_type": "markdown",
      "metadata": {},
      "source": [
        "### Word frequency analysis by aspect and sentiment"
      ]
    },
    {
      "cell_type": "code",
      "execution_count": 10,
      "metadata": {},
      "outputs": [],
      "source": [
        "stop_words = set(sw.words('english'))\n",
        "\n",
        "def get_frequent_words(subset, n=20):\n",
        "    all_words = ' '.join(subset['sentence']).lower()\n",
        "    tokens = word_tokenize(all_words)\n",
        "    tokens = [word for word in tokens if word.isalpha() and word not in stop_words]\n",
        "    return Counter(tokens).most_common(n)"
      ]
    },
    {
      "cell_type": "code",
      "execution_count": 11,
      "metadata": {},
      "outputs": [
        {
          "name": "stdout",
          "output_type": "stream",
          "text": [
            "\n",
            "Most frequent words in positive food reviews:\n",
            "[('food', 318), ('menu', 156), ('good', 137), ('service', 111), ('great', 79), ('bar', 76), ('place', 56), ('like', 52), ('wait', 50), ('dinner', 45), ('best', 41), ('wine', 40), ('better', 39), ('prices', 38), ('table', 38), ('price', 38), ('worth', 38), ('us', 37), ('get', 35), ('one', 35)]\n"
          ]
        }
      ],
      "source": [
        "# Most frequent words for the \"food\" aspect with positive sentiment\n",
        "food_positive = train_df[(train_df['aspect'] == 'food') & (train_df['polarity'] == 'positive')]\n",
        "food_pos_words = get_frequent_words(food_positive)\n",
        "print(\"\\nMost frequent words in positive food reviews:\")\n",
        "print(food_pos_words)"
      ]
    },
    {
      "cell_type": "code",
      "execution_count": 12,
      "metadata": {},
      "outputs": [
        {
          "name": "stdout",
          "output_type": "stream",
          "text": [
            "\n",
            "Most frequent words in positive staff reviews:\n",
            "[('us', 74), ('waiter', 71), ('staff', 64), ('menu', 44), ('bar', 43), ('food', 39), ('table', 37), ('wait', 36), ('waitress', 34), ('even', 32), ('drinks', 30), ('dinner', 25), ('nice', 25), ('manager', 24), ('service', 23), ('friendly', 23), ('wine', 23), ('one', 23), ('time', 23), ('great', 22)]\n"
          ]
        }
      ],
      "source": [
        "# Most frequent words for the \"staff\" aspect with positive sentiment\n",
        "staff_positive = train_df[(train_df['aspect'] == 'staff') & (train_df['polarity'] == 'positive')]\n",
        "staff_pos_words = get_frequent_words(staff_positive)\n",
        "print(\"\\nMost frequent words in positive staff reviews:\")\n",
        "print(staff_pos_words)"
      ]
    },
    {
      "cell_type": "markdown",
      "metadata": {
        "id": "Ce6pC3lITbLM"
      },
      "source": [
        "## II. Data Pre-processing"
      ]
    },
    {
      "cell_type": "markdown",
      "metadata": {},
      "source": [
        "### A. Dependency Parsing\n",
        "Using spaCy's language processing tools, we can break down each sentence to see how the words are connected, capturing relationships between words as (token, dependency type, head word) tuples. This provides valuable grammatical information that can help identify how the customer express their feelings in relation to specific aspects."
      ]
    },
    {
      "cell_type": "code",
      "execution_count": null,
      "metadata": {},
      "outputs": [],
      "source": [
        "import spacy\n",
        "\n",
        "nlp = spacy.load(\"en_core_web_sm\")\n",
        "\n",
        "def add_dependency_parse(df):\n",
        "    # Map unique sentences to their parsed results for efficiency\n",
        "    unique_sentences = df['sentence'].unique()\n",
        "    parsed_dict = {sent: [(token.text, token.dep_, token.head.text) for token in nlp(sent)] \n",
        "                  for sent in unique_sentences}\n",
        "    \n",
        "    df['parsed'] = df['sentence'].map(parsed_dict)\n",
        "    return df\n",
        "\n",
        "train_df = add_dependency_parse(train_df)\n",
        "val_df = add_dependency_parse(val_df)\n",
        "test_df = add_dependency_parse(test_df)"
      ]
    },
    {
      "cell_type": "markdown",
      "metadata": {},
      "source": [
        "Result example: \"Hostess\" is the subject (nsubj) linked to the word \"accommodating.\"\n",
        "The sentence structure shows the hostess as the one being described as accommodating, which helps us understand the sentiment being directed at her."
      ]
    },
    {
      "cell_type": "code",
      "execution_count": 17,
      "metadata": {},
      "outputs": [
        {
          "data": {
            "text/html": [
              "<div>\n",
              "<style scoped>\n",
              "    .dataframe tbody tr th:only-of-type {\n",
              "        vertical-align: middle;\n",
              "    }\n",
              "\n",
              "    .dataframe tbody tr th {\n",
              "        vertical-align: top;\n",
              "    }\n",
              "\n",
              "    .dataframe thead th {\n",
              "        text-align: right;\n",
              "    }\n",
              "</style>\n",
              "<table border=\"1\" class=\"dataframe\">\n",
              "  <thead>\n",
              "    <tr style=\"text-align: right;\">\n",
              "      <th></th>\n",
              "      <th>sentence</th>\n",
              "      <th>aspect</th>\n",
              "      <th>polarity</th>\n",
              "      <th>sentence_length</th>\n",
              "      <th>word_count</th>\n",
              "      <th>parsed</th>\n",
              "    </tr>\n",
              "  </thead>\n",
              "  <tbody>\n",
              "    <tr>\n",
              "      <th>0</th>\n",
              "      <td>It might be the best sit down food I've had in...</td>\n",
              "      <td>food</td>\n",
              "      <td>positive</td>\n",
              "      <td>159</td>\n",
              "      <td>39</td>\n",
              "      <td>[(It, nsubj, be), (might, aux, be), (be, ROOT,...</td>\n",
              "    </tr>\n",
              "    <tr>\n",
              "      <th>1</th>\n",
              "      <td>It might be the best sit down food I've had in...</td>\n",
              "      <td>place</td>\n",
              "      <td>neutral</td>\n",
              "      <td>159</td>\n",
              "      <td>39</td>\n",
              "      <td>[(It, nsubj, be), (might, aux, be), (be, ROOT,...</td>\n",
              "    </tr>\n",
              "    <tr>\n",
              "      <th>2</th>\n",
              "      <td>Hostess was extremely accommodating when we ar...</td>\n",
              "      <td>staff</td>\n",
              "      <td>positive</td>\n",
              "      <td>86</td>\n",
              "      <td>14</td>\n",
              "      <td>[(Hostess, nsubj, accommodating), (was, aux, a...</td>\n",
              "    </tr>\n",
              "    <tr>\n",
              "      <th>3</th>\n",
              "      <td>Hostess was extremely accommodating when we ar...</td>\n",
              "      <td>miscellaneous</td>\n",
              "      <td>neutral</td>\n",
              "      <td>86</td>\n",
              "      <td>14</td>\n",
              "      <td>[(Hostess, nsubj, accommodating), (was, aux, a...</td>\n",
              "    </tr>\n",
              "    <tr>\n",
              "      <th>4</th>\n",
              "      <td>We were a couple of minutes late for our reser...</td>\n",
              "      <td>miscellaneous</td>\n",
              "      <td>neutral</td>\n",
              "      <td>143</td>\n",
              "      <td>30</td>\n",
              "      <td>[(We, nsubj, were), (were, ROOT, were), (a, de...</td>\n",
              "    </tr>\n",
              "  </tbody>\n",
              "</table>\n",
              "</div>"
            ],
            "text/plain": [
              "                                            sentence         aspect  polarity  \\\n",
              "0  It might be the best sit down food I've had in...           food  positive   \n",
              "1  It might be the best sit down food I've had in...          place   neutral   \n",
              "2  Hostess was extremely accommodating when we ar...          staff  positive   \n",
              "3  Hostess was extremely accommodating when we ar...  miscellaneous   neutral   \n",
              "4  We were a couple of minutes late for our reser...  miscellaneous   neutral   \n",
              "\n",
              "   sentence_length  word_count  \\\n",
              "0              159          39   \n",
              "1              159          39   \n",
              "2               86          14   \n",
              "3               86          14   \n",
              "4              143          30   \n",
              "\n",
              "                                              parsed  \n",
              "0  [(It, nsubj, be), (might, aux, be), (be, ROOT,...  \n",
              "1  [(It, nsubj, be), (might, aux, be), (be, ROOT,...  \n",
              "2  [(Hostess, nsubj, accommodating), (was, aux, a...  \n",
              "3  [(Hostess, nsubj, accommodating), (was, aux, a...  \n",
              "4  [(We, nsubj, were), (were, ROOT, were), (a, de...  "
            ]
          },
          "execution_count": 17,
          "metadata": {},
          "output_type": "execute_result"
        }
      ],
      "source": [
        "train_df.head()"
      ]
    },
    {
      "cell_type": "markdown",
      "metadata": {
        "id": "A6F6RbtttsVA"
      },
      "source": [
        "### B. Text Normalization \n",
        "- Word contractions"
      ]
    },
    {
      "cell_type": "code",
      "execution_count": 19,
      "metadata": {
        "id": "YG6tQb-Tttsx"
      },
      "outputs": [],
      "source": [
        "contraction_dict = {\"ain't\": \"is not\", \"aren't\": \"are not\",\"can't\": \"cannot\", \"'cause\": \"because\", \"could've\": \"could have\",\n",
        "                    \"couldn't\": \"could not\", \"didn't\": \"did not\",  \"doesn't\": \"does not\", \"don't\": \"do not\", \"hadn't\": \"had not\",\n",
        "                    \"hasn't\": \"has not\", \"haven't\": \"have not\", \"he'd\": \"he would\",\"he'll\": \"he will\", \"he's\": \"he is\", \"how'd\": \"how did\",\n",
        "                    \"how'd'y\": \"how do you\", \"how'll\": \"how will\", \"how's\": \"how is\",  \"I'd\": \"I would\", \"I'd've\": \"I would have\",\n",
        "                    \"I'll\": \"I will\", \"I'll've\": \"I will have\",\"I'm\": \"I am\", \"I've\": \"I have\", \"i'd\": \"i would\", \"i'd've\": \"i would have\",\n",
        "                    \"i'll\": \"i will\",  \"i'll've\": \"i will have\",\"i'm\": \"i am\", \"i've\": \"i have\", \"isn't\": \"is not\", \"it'd\": \"it would\",\n",
        "                    \"it'd've\": \"it would have\", \"it'll\": \"it will\", \"it'll've\": \"it will have\",\"it's\": \"it is\", \"let's\": \"let us\",\n",
        "                    \"ma'am\": \"madam\", \"mayn't\": \"may not\", \"might've\": \"might have\",\"mightn't\": \"might not\",\"mightn't've\": \"might not have\",\n",
        "                    \"must've\": \"must have\", \"mustn't\": \"must not\", \"mustn't've\": \"must not have\", \"needn't\": \"need not\", \"needn't've\": \"need not have\",\n",
        "                    \"o'clock\": \"of the clock\", \"oughtn't\": \"ought not\", \"oughtn't've\": \"ought not have\", \"shan't\": \"shall not\", \"sha'n't\": \"shall not\",\n",
        "                    \"shan't've\": \"shall not have\", \"she'd\": \"she would\", \"she'd've\": \"she would have\", \"she'll\": \"she will\", \"she'll've\": \"she will have\",\n",
        "                    \"she's\": \"she is\", \"should've\": \"should have\", \"shouldn't\": \"should not\", \"shouldn't've\": \"should not have\", \"so've\": \"so have\",\n",
        "                    \"so's\": \"so as\", \"this's\": \"this is\",\"that'd\": \"that would\", \"that'd've\": \"that would have\", \"that's\": \"that is\", \"there'd\": \"there would\",\n",
        "                    \"there'd've\": \"there would have\", \"there's\": \"there is\", \"here's\": \"here is\",\"they'd\": \"they would\", \"they'd've\": \"they would have\",\n",
        "                    \"they'll\": \"they will\", \"they'll've\": \"they will have\", \"they're\": \"they are\", \"they've\": \"they have\", \"to've\": \"to have\", \"wasn't\": \"was not\",\n",
        "                    \"we'd\": \"we would\", \"we'd've\": \"we would have\", \"we'll\": \"we will\", \"we'll've\": \"we will have\", \"we're\": \"we are\", \"we've\": \"we have\",\n",
        "                    \"weren't\": \"were not\", \"what'll\": \"what will\", \"what'll've\": \"what will have\", \"what're\": \"what are\",  \"what's\": \"what is\", \"what've\": \"what have\",\n",
        "                    \"when's\": \"when is\", \"when've\": \"when have\", \"where'd\": \"where did\", \"where's\": \"where is\", \"where've\": \"where have\", \"who'll\": \"who will\",\n",
        "                    \"who'll've\": \"who will have\", \"who's\": \"who is\", \"who've\": \"who have\", \"why's\": \"why is\", \"why've\": \"why have\", \"will've\": \"will have\",\n",
        "                    \"won't\": \"will not\", \"won't've\": \"will not have\", \"would've\": \"would have\", \"wouldn't\": \"would not\", \"wouldn't've\": \"would not have\",\n",
        "                    \"y'all\": \"you all\", \"y'all'd\": \"you all would\",\"y'all'd've\": \"you all would have\",\"y'all're\": \"you all are\",\"y'all've\": \"you all have\",\n",
        "                    \"you'd\": \"you would\", \"you'd've\": \"you would have\", \"you'll\": \"you will\", \"you'll've\": \"you will have\", \"you're\": \"you are\", \"you've\": \"you have\"}"
      ]
    },
    {
      "cell_type": "code",
      "execution_count": 20,
      "metadata": {
        "colab": {
          "base_uri": "https://localhost:8080/"
        },
        "id": "2JFeiwgntx5O",
        "outputId": "92362eb5-a37c-49f3-c9be-9397a50293be"
      },
      "outputs": [],
      "source": [
        "# Regex pattern to identify potential contractions, excluding words ending with \"'s\"\n",
        "contraction_pattern = re.compile(r\"\\b(\\w+'(?!s\\b)\\w+)\\b\")\n",
        "\n",
        "# Function to find contractions not in the dictionary using regex\n",
        "def find_missing_contractions(df, contraction_dict):\n",
        "    missing_contractions = set()\n",
        "\n",
        "    for sentence in df['sentence']:\n",
        "        matches = re.findall(contraction_pattern, sentence)  # Find all potential contractions\n",
        "        for match in matches:\n",
        "            if match.lower() not in contraction_dict: # Cross check with contraction_dict\n",
        "                missing_contractions.add(match)\n",
        "\n",
        "    return missing_contractions"
      ]
    },
    {
      "cell_type": "code",
      "execution_count": 21,
      "metadata": {},
      "outputs": [
        {
          "name": "stdout",
          "output_type": "stream",
          "text": [
            "Missing contractions across datasets:\n",
            "{\"N'awlins\", \"ass'd\", \"rec'd\", \"that'll\", \"shuoldn't\", \"c'mon\", \"RSVP'd\", \"maitre'd\", \"doens't\", \"yuo're\", \"comp'ed\", \"who'd\"}\n"
          ]
        }
      ],
      "source": [
        "missing_train = find_missing_contractions(train_df, contraction_dict)\n",
        "missing_val = find_missing_contractions(val_df, contraction_dict)\n",
        "missing_test = find_missing_contractions(test_df, contraction_dict)\n",
        "\n",
        "# Combine all missing contractions from all sets\n",
        "all_missing_contractions = missing_train.union(missing_val).union(missing_test)\n",
        "\n",
        "print(\"Missing contractions across datasets:\")\n",
        "print(all_missing_contractions)"
      ]
    },
    {
      "cell_type": "markdown",
      "metadata": {
        "id": "mBfrkmfTzxIF"
      },
      "source": [
        "Correcting mispelled contraction words"
      ]
    },
    {
      "cell_type": "code",
      "execution_count": 22,
      "metadata": {
        "id": "4GVVt4Hsz3Xm"
      },
      "outputs": [],
      "source": [
        "corrections = {\n",
        "    \"shuoldn't\": \"shouldn't\",\n",
        "    \"yuo're\": \"you're\",\n",
        "    \"doens't\": \"doesn't\"\n",
        "}\n",
        "\n",
        "# Function to replace misspelled words based on the corrections dictionary\n",
        "def correct_spelling(sentence, corrections):\n",
        "    words = sentence.split()\n",
        "    corrected_words = [corrections.get(word, word) for word in words]\n",
        "    return ' '.join(corrected_words)\n",
        "\n",
        "# Apply the correction to each DataFrame\n",
        "train_df['sentence'] = train_df['sentence'].apply(lambda x: correct_spelling(x, corrections))\n",
        "val_df['sentence'] = val_df['sentence'].apply(lambda x: correct_spelling(x, corrections))\n",
        "test_df['sentence'] = test_df['sentence'].apply(lambda x: correct_spelling(x, corrections))"
      ]
    },
    {
      "cell_type": "markdown",
      "metadata": {
        "id": "VXCxolUe1CFE"
      },
      "source": [
        "Adding to contraction_dict"
      ]
    },
    {
      "cell_type": "code",
      "execution_count": 23,
      "metadata": {
        "id": "lJKp2ZZX1EQS"
      },
      "outputs": [],
      "source": [
        "contraction_dict.update({\n",
        "    \"that'll\": \"that will\",\n",
        "    \"who'd\": \"who would\"\n",
        "})"
      ]
    },
    {
      "cell_type": "markdown",
      "metadata": {
        "id": "cYaL9wJw1mwD"
      },
      "source": [
        "Expanding Contractions in Data\n",
        "\n",
        "*Code by Jawwad from\n",
        "https://stackoverflow.com/questions/19790188/expanding-english-language-contractions-in-python*\n"
      ]
    },
    {
      "cell_type": "code",
      "execution_count": 24,
      "metadata": {
        "id": "DRdiXsPI1qEe"
      },
      "outputs": [],
      "source": [
        "def expand_contractions(text, contraction_dict):\n",
        "  contractions_pattern = re.compile(r'\\b({})\\b'.format('|'.join(re.escape(k) for k in contraction_dict.keys())), \n",
        "                                     flags=re.IGNORECASE|re.DOTALL)\n",
        "\n",
        "  def expand_match(contraction):\n",
        "    match = contraction.group(0)\n",
        "    first_char = match[0]\n",
        "    expanded_contraction = contraction_dict.get(match.lower(), match)\n",
        "    expanded_contraction = first_char + expanded_contraction[1:]\n",
        "    return expanded_contraction\n",
        "\n",
        "  expanded_text = contractions_pattern.sub(expand_match, text)\n",
        "  return expanded_text"
      ]
    },
    {
      "cell_type": "code",
      "execution_count": 25,
      "metadata": {},
      "outputs": [],
      "source": [
        "train_df['sentence'] = train_df['sentence'].apply(lambda x: expand_contractions(x, contraction_dict))\n",
        "val_df['sentence'] = val_df['sentence'].apply(lambda x: expand_contractions(x, contraction_dict))\n",
        "test_df['sentence'] = test_df['sentence'].apply(lambda x: expand_contractions(x, contraction_dict))"
      ]
    },
    {
      "cell_type": "markdown",
      "metadata": {
        "id": "G4GB-rPG8_qH"
      },
      "source": [
        "- Punctuation Removal"
      ]
    },
    {
      "cell_type": "code",
      "execution_count": 26,
      "metadata": {
        "id": "EbM8TOxVTiEy"
      },
      "outputs": [],
      "source": [
        "def remove_punctuation_re(text):\n",
        "    return re.sub(r'[^\\w\\s]', '', text)\n",
        "\n",
        "train_df['sentence'] = train_df['sentence'].apply(remove_punctuation_re)\n",
        "val_df['sentence'] = val_df['sentence'].apply(remove_punctuation_re)\n",
        "test_df['sentence'] = test_df['sentence'].apply(remove_punctuation_re)\n"
      ]
    },
    {
      "cell_type": "markdown",
      "metadata": {
        "id": "NgEFKtDBZ5I3"
      },
      "source": [
        "- Case-folding"
      ]
    },
    {
      "cell_type": "code",
      "execution_count": 27,
      "metadata": {
        "id": "RRpOnOglZ9yB"
      },
      "outputs": [],
      "source": [
        "train_df['sentence'] = train_df['sentence'].str.lower()\n",
        "val_df['sentence'] = val_df['sentence'].str.lower()\n",
        "test_df['sentence'] = test_df['sentence'].str.lower()"
      ]
    },
    {
      "cell_type": "markdown",
      "metadata": {
        "id": "PpSAD_wm96dO"
      },
      "source": [
        "### C. Tokenization"
      ]
    },
    {
      "cell_type": "code",
      "execution_count": 28,
      "metadata": {
        "colab": {
          "base_uri": "https://localhost:8080/"
        },
        "id": "Sd59-5QA98nf",
        "outputId": "036db04a-7354-4091-9c8a-f8ea03186c9f"
      },
      "outputs": [
        {
          "name": "stderr",
          "output_type": "stream",
          "text": [
            "[nltk_data] Downloading package punkt to\n",
            "[nltk_data]     C:\\Users\\angel\\AppData\\Roaming\\nltk_data...\n",
            "[nltk_data]   Package punkt is already up-to-date!\n"
          ]
        }
      ],
      "source": [
        "import nltk\n",
        "nltk.download('punkt')\n",
        "from nltk.tokenize import word_tokenize\n",
        "\n",
        "def tokenize_sentences(dataframe):\n",
        "    dataframe['tokenized_sentence'] = dataframe['sentence'].apply(word_tokenize)\n",
        "    return dataframe\n",
        "\n",
        "train_df = tokenize_sentences(train_df)\n",
        "val_df = tokenize_sentences(val_df)\n",
        "test_df = tokenize_sentences(test_df)"
      ]
    },
    {
      "cell_type": "code",
      "execution_count": 29,
      "metadata": {
        "colab": {
          "base_uri": "https://localhost:8080/",
          "height": 206
        },
        "id": "MHJoTgV4-pZp",
        "outputId": "77a30273-8eb3-4ac1-c82a-128dd7990d61"
      },
      "outputs": [
        {
          "data": {
            "text/html": [
              "<div>\n",
              "<style scoped>\n",
              "    .dataframe tbody tr th:only-of-type {\n",
              "        vertical-align: middle;\n",
              "    }\n",
              "\n",
              "    .dataframe tbody tr th {\n",
              "        vertical-align: top;\n",
              "    }\n",
              "\n",
              "    .dataframe thead th {\n",
              "        text-align: right;\n",
              "    }\n",
              "</style>\n",
              "<table border=\"1\" class=\"dataframe\">\n",
              "  <thead>\n",
              "    <tr style=\"text-align: right;\">\n",
              "      <th></th>\n",
              "      <th>sentence</th>\n",
              "      <th>aspect</th>\n",
              "      <th>polarity</th>\n",
              "      <th>sentence_length</th>\n",
              "      <th>word_count</th>\n",
              "      <th>parsed</th>\n",
              "      <th>tokenized_sentence</th>\n",
              "    </tr>\n",
              "  </thead>\n",
              "  <tbody>\n",
              "    <tr>\n",
              "      <th>0</th>\n",
              "      <td>it might be the best sit down food i have had ...</td>\n",
              "      <td>food</td>\n",
              "      <td>positive</td>\n",
              "      <td>159</td>\n",
              "      <td>39</td>\n",
              "      <td>[(It, nsubj, be), (might, aux, be), (be, ROOT,...</td>\n",
              "      <td>[it, might, be, the, best, sit, down, food, i,...</td>\n",
              "    </tr>\n",
              "    <tr>\n",
              "      <th>1</th>\n",
              "      <td>it might be the best sit down food i have had ...</td>\n",
              "      <td>place</td>\n",
              "      <td>neutral</td>\n",
              "      <td>159</td>\n",
              "      <td>39</td>\n",
              "      <td>[(It, nsubj, be), (might, aux, be), (be, ROOT,...</td>\n",
              "      <td>[it, might, be, the, best, sit, down, food, i,...</td>\n",
              "    </tr>\n",
              "    <tr>\n",
              "      <th>2</th>\n",
              "      <td>hostess was extremely accommodating when we ar...</td>\n",
              "      <td>staff</td>\n",
              "      <td>positive</td>\n",
              "      <td>86</td>\n",
              "      <td>14</td>\n",
              "      <td>[(Hostess, nsubj, accommodating), (was, aux, a...</td>\n",
              "      <td>[hostess, was, extremely, accommodating, when,...</td>\n",
              "    </tr>\n",
              "    <tr>\n",
              "      <th>3</th>\n",
              "      <td>hostess was extremely accommodating when we ar...</td>\n",
              "      <td>miscellaneous</td>\n",
              "      <td>neutral</td>\n",
              "      <td>86</td>\n",
              "      <td>14</td>\n",
              "      <td>[(Hostess, nsubj, accommodating), (was, aux, a...</td>\n",
              "      <td>[hostess, was, extremely, accommodating, when,...</td>\n",
              "    </tr>\n",
              "    <tr>\n",
              "      <th>4</th>\n",
              "      <td>we were a couple of minutes late for our reser...</td>\n",
              "      <td>miscellaneous</td>\n",
              "      <td>neutral</td>\n",
              "      <td>143</td>\n",
              "      <td>30</td>\n",
              "      <td>[(We, nsubj, were), (were, ROOT, were), (a, de...</td>\n",
              "      <td>[we, were, a, couple, of, minutes, late, for, ...</td>\n",
              "    </tr>\n",
              "  </tbody>\n",
              "</table>\n",
              "</div>"
            ],
            "text/plain": [
              "                                            sentence         aspect  polarity  \\\n",
              "0  it might be the best sit down food i have had ...           food  positive   \n",
              "1  it might be the best sit down food i have had ...          place   neutral   \n",
              "2  hostess was extremely accommodating when we ar...          staff  positive   \n",
              "3  hostess was extremely accommodating when we ar...  miscellaneous   neutral   \n",
              "4  we were a couple of minutes late for our reser...  miscellaneous   neutral   \n",
              "\n",
              "   sentence_length  word_count  \\\n",
              "0              159          39   \n",
              "1              159          39   \n",
              "2               86          14   \n",
              "3               86          14   \n",
              "4              143          30   \n",
              "\n",
              "                                              parsed  \\\n",
              "0  [(It, nsubj, be), (might, aux, be), (be, ROOT,...   \n",
              "1  [(It, nsubj, be), (might, aux, be), (be, ROOT,...   \n",
              "2  [(Hostess, nsubj, accommodating), (was, aux, a...   \n",
              "3  [(Hostess, nsubj, accommodating), (was, aux, a...   \n",
              "4  [(We, nsubj, were), (were, ROOT, were), (a, de...   \n",
              "\n",
              "                                  tokenized_sentence  \n",
              "0  [it, might, be, the, best, sit, down, food, i,...  \n",
              "1  [it, might, be, the, best, sit, down, food, i,...  \n",
              "2  [hostess, was, extremely, accommodating, when,...  \n",
              "3  [hostess, was, extremely, accommodating, when,...  \n",
              "4  [we, were, a, couple, of, minutes, late, for, ...  "
            ]
          },
          "execution_count": 29,
          "metadata": {},
          "output_type": "execute_result"
        }
      ],
      "source": [
        "train_df.head()"
      ]
    },
    {
      "cell_type": "markdown",
      "metadata": {
        "id": "Qo-b3MigKuwT"
      },
      "source": [
        "### D. Stopword removal"
      ]
    },
    {
      "cell_type": "code",
      "execution_count": 30,
      "metadata": {},
      "outputs": [
        {
          "name": "stdout",
          "output_type": "stream",
          "text": [
            "{'him', 'should', \"we're\", 'in', 'his', 'ourselves', 'your', 'not', 'so', \"mightn't\", 'their', \"we'd\", 'that', \"mustn't\", 'he', 'off', 'they', 'theirs', 'is', 'over', 'into', 'on', 'than', 'needn', 'couldn', 'about', \"couldn't\", \"you've\", 'both', 'who', \"should've\", 'any', 'did', \"hasn't\", 'does', \"shan't\", 'own', 'themselves', 't', 'an', 'mustn', 'down', 'and', \"needn't\", 'to', \"shouldn't\", \"they're\", \"it's\", 'me', 'd', 'aren', 'hasn', 'shan', 've', \"didn't\", 'mightn', 'above', 'doesn', \"doesn't\", 'didn', 'isn', 're', \"isn't\", \"they've\", 'wasn', 'by', 'when', 'having', 'how', 'weren', 'm', 'because', 'itself', 'will', \"don't\", 'if', \"you'll\", 'myself', 'ain', \"you're\", 'such', \"he's\", \"we'll\", 'being', 'why', 'the', \"that'll\", 'there', 'ours', \"she'd\", 'those', \"wasn't\", 'be', 'am', 'himself', 'it', 'shouldn', 'until', 'very', \"i'd\", \"hadn't\", 'you', 'more', 'now', \"he'll\", 'can', 'once', 'do', 'a', 'here', 'are', \"she'll\", 'during', 'has', 'were', 'yours', \"aren't\", \"he'd\", \"they'd\", 'wouldn', 'doing', 'all', \"i'm\", 'my', 'don', 'our', 'before', 'which', 'for', 'or', 'against', 'below', 'yourselves', 'haven', 'herself', \"you'd\", \"haven't\", 'between', \"it'll\", 'her', 'out', 'same', 'with', \"i've\", 'up', 'll', 'what', 'where', \"i'll\", 'o', \"they'll\", 'while', \"it'd\", 'then', \"wouldn't\", 'hadn', 'nor', 'y', 'but', 'was', \"won't\", 'again', 'further', 'most', 'as', 'them', \"she's\", \"weren't\", 'each', 'few', 'hers', 'ma', 'its', 'at', 'from', 'only', 'some', 'had', 'i', 'through', 'under', 'whom', 'these', 'been', 'other', 'she', 'of', 'we', 'too', 'won', 's', 'have', 'after', 'just', 'no', \"we've\", 'yourself', 'this'}\n"
          ]
        }
      ],
      "source": [
        "stop_words = set(sw.words('english'))\n",
        "print(stop_words)"
      ]
    },
    {
      "cell_type": "code",
      "execution_count": 31,
      "metadata": {},
      "outputs": [],
      "source": [
        "# Words to keep for ASBA\n",
        "sentiment_critical = {\n",
        "    # Negations\n",
        "    'no', 'not', 'nor', 'none', \n",
        "    \"don't\", \"doesn't\", \"didn't\", \"won't\", \"wouldn't\", \n",
        "    \"can't\", \"couldn't\", \"shouldn't\", \"isn't\", \"aren't\", \"wasn't\", \"weren't\",\n",
        "    \"haven't\", \"hasn't\", \"hadn't\", \"mightn't\", \"mustn't\", \"needn't\",\n",
        "    \n",
        "    # Intensifiers/Downtoners\n",
        "    'very', 'too', 'so', 'quite', 'just',\n",
        "    \n",
        "    # Contrast words\n",
        "    'but', 'however', 'though', 'although', 'yet',\n",
        "    \n",
        "    # For aspect identification\n",
        "    'it', 'its', 'itself'\n",
        "}"
      ]
    },
    {
      "cell_type": "code",
      "execution_count": 34,
      "metadata": {
        "colab": {
          "base_uri": "https://localhost:8080/"
        },
        "id": "19o8A1ShsHCn",
        "outputId": "4d9b30db-31aa-4372-9f82-c69cbe7033db"
      },
      "outputs": [],
      "source": [
        "absa_stopwords = stop_words - sentiment_critical\n",
        "\n",
        "def remove_absa_stopwords(tokens):\n",
        "    return [word for word in tokens if word not in absa_stopwords]\n",
        "\n",
        "train_df['tokens_no_stopwords'] = train_df['tokenized_sentence'].apply(remove_absa_stopwords)\n",
        "val_df['tokens_no_stopwords'] = val_df['tokenized_sentence'].apply(remove_absa_stopwords)\n",
        "test_df['tokens_no_stopwords'] = test_df['tokenized_sentence'].apply(remove_absa_stopwords)\n"
      ]
    },
    {
      "cell_type": "markdown",
      "metadata": {
        "id": "LeIMhOKpRJDC"
      },
      "source": [
        "### E. Feature Extraction\n",
        "- Pos Tagging"
      ]
    },
    {
      "cell_type": "code",
      "execution_count": 50,
      "metadata": {
        "colab": {
          "base_uri": "https://localhost:8080/"
        },
        "id": "9rAC9KcwRKtA",
        "outputId": "1914799c-feda-4a75-99ff-70b85c1d4935"
      },
      "outputs": [
        {
          "name": "stderr",
          "output_type": "stream",
          "text": [
            "[nltk_data] Downloading package averaged_perceptron_tagger_eng to\n",
            "[nltk_data]     C:\\Users\\angel\\AppData\\Roaming\\nltk_data...\n",
            "[nltk_data]   Package averaged_perceptron_tagger_eng is already up-to-\n",
            "[nltk_data]       date!\n"
          ]
        }
      ],
      "source": [
        "from nltk.tag import pos_tag\n",
        "nltk.download('averaged_perceptron_tagger_eng')\n",
        "\n",
        "def pos_tag_sentences(df, column_name):\n",
        "    # Assuming 'tokenized_sentence' contains lists of words\n",
        "    df['pos_tags'] = df[column_name].apply(pos_tag)\n",
        "    return df\n",
        "\n",
        "\n",
        "# Applying POS tagging to the datasets\n",
        "train_df = pos_tag_sentences(train_df, 'tokenized_sentence')\n",
        "val_df = pos_tag_sentences(val_df, 'tokenized_sentence')\n",
        "test_df = pos_tag_sentences(test_df, 'tokenized_sentence')"
      ]
    },
    {
      "cell_type": "markdown",
      "metadata": {},
      "source": [
        "### F. Lemmatisation\n",
        "Reducing words to their base or dictionary form (lemma)"
      ]
    },
    {
      "cell_type": "code",
      "execution_count": 51,
      "metadata": {},
      "outputs": [
        {
          "name": "stderr",
          "output_type": "stream",
          "text": [
            "[nltk_data] Downloading package wordnet to\n",
            "[nltk_data]     C:\\Users\\angel\\AppData\\Roaming\\nltk_data...\n",
            "[nltk_data]   Package wordnet is already up-to-date!\n"
          ]
        }
      ],
      "source": [
        "from nltk.stem import WordNetLemmatizer\n",
        "import nltk\n",
        "nltk.download('wordnet')\n",
        "\n",
        "lemmatizer = WordNetLemmatizer()\n",
        "\n",
        "# convert NLTK POS tags to WordNet format\n",
        "def get_wordnet_pos(nltk_tag):\n",
        "    if nltk_tag.startswith('J'):  # Adjective\n",
        "        return 'a' \n",
        "    elif nltk_tag.startswith('V'):  # Verb\n",
        "        return 'v'  \n",
        "    elif nltk_tag.startswith('N'):  # Noun\n",
        "        return 'n' \n",
        "    elif nltk_tag.startswith('R'):  # Adverb\n",
        "        return 'r' \n",
        "    else:\n",
        "        return 'n'\n",
        "\n",
        "def lemmatize_with_pos(pos_tagged_tokens):\n",
        "    return [lemmatizer.lemmatize(word, get_wordnet_pos(tag)) for word, tag in pos_tagged_tokens]"
      ]
    },
    {
      "cell_type": "code",
      "execution_count": 52,
      "metadata": {},
      "outputs": [],
      "source": [
        "train_df['lemmatized_tokens'] = train_df['pos_tags'].apply(lemmatize_with_pos)\n",
        "val_df['lemmatized_tokens'] = val_df['pos_tags'].apply(lemmatize_with_pos)\n",
        "test_df['lemmatized_tokens'] = test_df['pos_tags'].apply(lemmatize_with_pos)"
      ]
    },
    {
      "cell_type": "code",
      "execution_count": 53,
      "metadata": {},
      "outputs": [
        {
          "name": "stdout",
          "output_type": "stream",
          "text": [
            "Words changed by lemmatization (original → lemma):\n",
            "'accommodating' (VBG) → 'accommodate'\n",
            "'appetizers' (NNS) → 'appetizer'\n",
            "'are' (VBP) → 'be'\n",
            "'arrived' (VBD) → 'arrive'\n",
            "'as' (IN) → 'a'\n",
            "'been' (VBN) → 'be'\n",
            "'bites' (NNS) → 'bite'\n",
            "'brings' (VBZ) → 'bring'\n",
            "'brought' (VBD) → 'bring'\n",
            "'came' (VBD) → 'come'\n",
            "'chairs' (VBZ) → 'chair'\n",
            "'considering' (VBG) → 'consider'\n",
            "'creating' (VBG) → 'create'\n",
            "'crowded' (VBN) → 'crowd'\n",
            "'customers' (NNS) → 'customer'\n",
            "'decided' (VBD) → 'decide'\n",
            "'describing' (VBG) → 'describe'\n",
            "'deserved' (VBD) → 'deserve'\n",
            "'did' (VBD) → 'do'\n",
            "'drinks' (NNS) → 'drink'\n",
            "'entering' (VBG) → 'enter'\n",
            "'enticing' (VBG) → 'entice'\n",
            "'expecting' (VBG) → 'expect'\n",
            "'flagged' (VBN) → 'flag'\n",
            "'found' (VBD) → 'find'\n",
            "'going' (VBG) → 'go'\n",
            "'got' (VBD) → 'get'\n",
            "'had' (VBD) → 'have'\n",
            "'had' (VBN) → 'have'\n",
            "'impressed' (VBN) → 'impress'\n",
            "'ingredients' (NNS) → 'ingredient'\n",
            "'is' (VBZ) → 'be'\n",
            "'items' (NNS) → 'item'\n",
            "'its' (PRP$) → 'it'\n",
            "'leaves' (VBZ) → 'leave'\n",
            "'left' (VBD) → 'leave'\n",
            "'looks' (VBZ) → 'look'\n",
            "'made' (VB) → 'make'\n",
            "'meals' (NNS) → 'meal'\n",
            "'minutes' (NNS) → 'minute'\n",
            "'mugs' (NNS) → 'mug'\n",
            "'ordering' (VBG) → 'order'\n",
            "'orders' (NNS) → 'order'\n",
            "'peers' (NNS) → 'peer'\n",
            "'peoples' (NNS) → 'people'\n",
            "'plates' (NNS) → 'plate'\n",
            "'portions' (NNS) → 'portion'\n",
            "'reading' (VBG) → 'read'\n",
            "'recommended' (VBN) → 'recommend'\n",
            "'reviews' (NNS) → 'review'\n",
            "'rounds' (NNS) → 'round'\n",
            "'said' (VBD) → 'say'\n",
            "'seemed' (VBD) → 'seem'\n",
            "'served' (VBN) → 'serve'\n",
            "'shots' (NNS) → 'shot'\n",
            "'smaller' (JJR) → 'small'\n",
            "'soups' (NN) → 'soup'\n",
            "'souvenirs' (NNS) → 'souvenir'\n",
            "'surprised' (VBN) → 'surprise'\n",
            "'tables' (NNS) → 'table'\n",
            "'times' (NNS) → 'time'\n",
            "'told' (VBN) → 'tell'\n",
            "'treats' (NNS) → 'treat'\n",
            "'us' (PRP) → 'u'\n",
            "'waited' (VBD) → 'wait'\n",
            "'waiters' (NNS) → 'waiter'\n",
            "'waiting' (VBG) → 'wait'\n",
            "'waitresses' (NNS) → 'waitress'\n",
            "'was' (VBD) → 'be'\n",
            "'went' (VBD) → 'go'\n",
            "'were' (VBD) → 'be'\n",
            "\n",
            "Total tokens checked: 1149\n",
            "Tokens changed by lemmatization: 71\n",
            "Percentage changed: 6.18%\n"
          ]
        }
      ],
      "source": [
        "def compare_tokens_to_lemmas(row):\n",
        "    \"\"\"Compare original tokens to their lemmatized forms and return changed pairs\"\"\"\n",
        "    changes = []\n",
        "    for (word, tag), lemma in zip(row['pos_tags'], row['lemmatized_tokens']):\n",
        "        if word.lower() != lemma.lower():\n",
        "            changes.append((word, tag, lemma))\n",
        "    return changes\n",
        "\n",
        "# Get changes for a few example rows\n",
        "sample_changes = train_df.head(50).apply(compare_tokens_to_lemmas, axis=1)\n",
        "\n",
        "# Collect all unique word-lemma pairs\n",
        "all_changes = set()\n",
        "for row_changes in sample_changes:\n",
        "    for word, tag, lemma in row_changes:\n",
        "        all_changes.add((word, tag, lemma))\n",
        "\n",
        "# Print the changes sorted alphabetically by original word\n",
        "print(\"Words changed by lemmatization (original → lemma):\")\n",
        "for word, tag, lemma in sorted(all_changes):\n",
        "    print(f\"'{word}' ({tag}) → '{lemma}'\")\n",
        "\n",
        "# Count how many words were changed\n",
        "total_tokens = sum(len(tokens) for tokens in train_df.head(50)['tokenized_sentence'])\n",
        "print(f\"\\nTotal tokens checked: {total_tokens}\")\n",
        "print(f\"Tokens changed by lemmatization: {len(all_changes)}\")\n",
        "print(f\"Percentage changed: {len(all_changes)/total_tokens:.2%}\")"
      ]
    },
    {
      "cell_type": "code",
      "execution_count": 54,
      "metadata": {
        "colab": {
          "base_uri": "https://localhost:8080/",
          "height": 293
        },
        "id": "m6h3S96XWg9Z",
        "outputId": "501692f3-f165-49bc-e3f4-ee9965bec921"
      },
      "outputs": [
        {
          "data": {
            "text/html": [
              "<div>\n",
              "<style scoped>\n",
              "    .dataframe tbody tr th:only-of-type {\n",
              "        vertical-align: middle;\n",
              "    }\n",
              "\n",
              "    .dataframe tbody tr th {\n",
              "        vertical-align: top;\n",
              "    }\n",
              "\n",
              "    .dataframe thead th {\n",
              "        text-align: right;\n",
              "    }\n",
              "</style>\n",
              "<table border=\"1\" class=\"dataframe\">\n",
              "  <thead>\n",
              "    <tr style=\"text-align: right;\">\n",
              "      <th></th>\n",
              "      <th>sentence</th>\n",
              "      <th>aspect</th>\n",
              "      <th>polarity</th>\n",
              "      <th>sentence_length</th>\n",
              "      <th>word_count</th>\n",
              "      <th>parsed</th>\n",
              "      <th>tokenized_sentence</th>\n",
              "      <th>tokens_no_stopwords</th>\n",
              "      <th>pos_tags</th>\n",
              "      <th>lemmatized_tokens</th>\n",
              "    </tr>\n",
              "  </thead>\n",
              "  <tbody>\n",
              "    <tr>\n",
              "      <th>0</th>\n",
              "      <td>it might be the best sit down food i have had ...</td>\n",
              "      <td>food</td>\n",
              "      <td>positive</td>\n",
              "      <td>159</td>\n",
              "      <td>39</td>\n",
              "      <td>[(It, nsubj, be), (might, aux, be), (be, ROOT,...</td>\n",
              "      <td>[it, might, be, the, best, sit, down, food, i,...</td>\n",
              "      <td>[it, might, best, sit, food, area, so, going, ...</td>\n",
              "      <td>[(it, PRP), (might, MD), (be, VB), (the, DT), ...</td>\n",
              "      <td>[it, might, be, the, best, sit, down, food, i,...</td>\n",
              "    </tr>\n",
              "    <tr>\n",
              "      <th>1</th>\n",
              "      <td>it might be the best sit down food i have had ...</td>\n",
              "      <td>place</td>\n",
              "      <td>neutral</td>\n",
              "      <td>159</td>\n",
              "      <td>39</td>\n",
              "      <td>[(It, nsubj, be), (might, aux, be), (be, ROOT,...</td>\n",
              "      <td>[it, might, be, the, best, sit, down, food, i,...</td>\n",
              "      <td>[it, might, best, sit, food, area, so, going, ...</td>\n",
              "      <td>[(it, PRP), (might, MD), (be, VB), (the, DT), ...</td>\n",
              "      <td>[it, might, be, the, best, sit, down, food, i,...</td>\n",
              "    </tr>\n",
              "    <tr>\n",
              "      <th>2</th>\n",
              "      <td>hostess was extremely accommodating when we ar...</td>\n",
              "      <td>staff</td>\n",
              "      <td>positive</td>\n",
              "      <td>86</td>\n",
              "      <td>14</td>\n",
              "      <td>[(Hostess, nsubj, accommodating), (was, aux, a...</td>\n",
              "      <td>[hostess, was, extremely, accommodating, when,...</td>\n",
              "      <td>[hostess, extremely, accommodating, arrived, h...</td>\n",
              "      <td>[(hostess, NN), (was, VBD), (extremely, RB), (...</td>\n",
              "      <td>[hostess, be, extremely, accommodate, when, we...</td>\n",
              "    </tr>\n",
              "    <tr>\n",
              "      <th>3</th>\n",
              "      <td>hostess was extremely accommodating when we ar...</td>\n",
              "      <td>miscellaneous</td>\n",
              "      <td>neutral</td>\n",
              "      <td>86</td>\n",
              "      <td>14</td>\n",
              "      <td>[(Hostess, nsubj, accommodating), (was, aux, a...</td>\n",
              "      <td>[hostess, was, extremely, accommodating, when,...</td>\n",
              "      <td>[hostess, extremely, accommodating, arrived, h...</td>\n",
              "      <td>[(hostess, NN), (was, VBD), (extremely, RB), (...</td>\n",
              "      <td>[hostess, be, extremely, accommodate, when, we...</td>\n",
              "    </tr>\n",
              "    <tr>\n",
              "      <th>4</th>\n",
              "      <td>we were a couple of minutes late for our reser...</td>\n",
              "      <td>miscellaneous</td>\n",
              "      <td>neutral</td>\n",
              "      <td>143</td>\n",
              "      <td>30</td>\n",
              "      <td>[(We, nsubj, were), (were, ROOT, were), (a, de...</td>\n",
              "      <td>[we, were, a, couple, of, minutes, late, for, ...</td>\n",
              "      <td>[couple, minutes, late, reservation, minus, on...</td>\n",
              "      <td>[(we, PRP), (were, VBD), (a, DT), (couple, NN)...</td>\n",
              "      <td>[we, be, a, couple, of, minute, late, for, our...</td>\n",
              "    </tr>\n",
              "  </tbody>\n",
              "</table>\n",
              "</div>"
            ],
            "text/plain": [
              "                                            sentence         aspect  polarity  \\\n",
              "0  it might be the best sit down food i have had ...           food  positive   \n",
              "1  it might be the best sit down food i have had ...          place   neutral   \n",
              "2  hostess was extremely accommodating when we ar...          staff  positive   \n",
              "3  hostess was extremely accommodating when we ar...  miscellaneous   neutral   \n",
              "4  we were a couple of minutes late for our reser...  miscellaneous   neutral   \n",
              "\n",
              "   sentence_length  word_count  \\\n",
              "0              159          39   \n",
              "1              159          39   \n",
              "2               86          14   \n",
              "3               86          14   \n",
              "4              143          30   \n",
              "\n",
              "                                              parsed  \\\n",
              "0  [(It, nsubj, be), (might, aux, be), (be, ROOT,...   \n",
              "1  [(It, nsubj, be), (might, aux, be), (be, ROOT,...   \n",
              "2  [(Hostess, nsubj, accommodating), (was, aux, a...   \n",
              "3  [(Hostess, nsubj, accommodating), (was, aux, a...   \n",
              "4  [(We, nsubj, were), (were, ROOT, were), (a, de...   \n",
              "\n",
              "                                  tokenized_sentence  \\\n",
              "0  [it, might, be, the, best, sit, down, food, i,...   \n",
              "1  [it, might, be, the, best, sit, down, food, i,...   \n",
              "2  [hostess, was, extremely, accommodating, when,...   \n",
              "3  [hostess, was, extremely, accommodating, when,...   \n",
              "4  [we, were, a, couple, of, minutes, late, for, ...   \n",
              "\n",
              "                                 tokens_no_stopwords  \\\n",
              "0  [it, might, best, sit, food, area, so, going, ...   \n",
              "1  [it, might, best, sit, food, area, so, going, ...   \n",
              "2  [hostess, extremely, accommodating, arrived, h...   \n",
              "3  [hostess, extremely, accommodating, arrived, h...   \n",
              "4  [couple, minutes, late, reservation, minus, on...   \n",
              "\n",
              "                                            pos_tags  \\\n",
              "0  [(it, PRP), (might, MD), (be, VB), (the, DT), ...   \n",
              "1  [(it, PRP), (might, MD), (be, VB), (the, DT), ...   \n",
              "2  [(hostess, NN), (was, VBD), (extremely, RB), (...   \n",
              "3  [(hostess, NN), (was, VBD), (extremely, RB), (...   \n",
              "4  [(we, PRP), (were, VBD), (a, DT), (couple, NN)...   \n",
              "\n",
              "                                   lemmatized_tokens  \n",
              "0  [it, might, be, the, best, sit, down, food, i,...  \n",
              "1  [it, might, be, the, best, sit, down, food, i,...  \n",
              "2  [hostess, be, extremely, accommodate, when, we...  \n",
              "3  [hostess, be, extremely, accommodate, when, we...  \n",
              "4  [we, be, a, couple, of, minute, late, for, our...  "
            ]
          },
          "execution_count": 54,
          "metadata": {},
          "output_type": "execute_result"
        }
      ],
      "source": [
        "train_df.head()"
      ]
    },
    {
      "cell_type": "markdown",
      "metadata": {
        "id": "9KU_k21Qx71z"
      },
      "source": [
        "### III. Embeddings\n",
        "Transforms raw text tokens into numerical vectors for the ML model."
      ]
    },
    {
      "cell_type": "markdown",
      "metadata": {
        "id": "BU2fZQf_TCCD"
      },
      "source": [
        "### A. Word Embedding\n",
        "Training word2vec model to learn word embeddings according to dataset."
      ]
    },
    {
      "cell_type": "code",
      "execution_count": 41,
      "metadata": {
        "id": "YKI0XMj8Udfd"
      },
      "outputs": [],
      "source": [
        "from gensim.models import Word2Vec\n",
        "\n",
        "sentences = train_df['lemmatized_tokens'].tolist()\n",
        "\n",
        "# Train a Word2Vec model using Skip-gram (sg=1)\n",
        "model = Word2Vec(sentences=sentences, vector_size=100, window=5, min_count=1, workers=4, sg=1)\n",
        "\n",
        "# Save the model for later use\n",
        "model.save(\"word2vec_skipgram.model\")"
      ]
    },
    {
      "cell_type": "markdown",
      "metadata": {
        "id": "XnjV8JS0TOS7"
      },
      "source": [
        "Creating the Word Embedding Layer in PyTorch"
      ]
    },
    {
      "cell_type": "code",
      "execution_count": 45,
      "metadata": {
        "id": "QoAcb99ZTQCn"
      },
      "outputs": [
        {
          "name": "stdout",
          "output_type": "stream",
          "text": [
            "Using device: cuda\n"
          ]
        }
      ],
      "source": [
        "import torch\n",
        "import torch.nn as nn\n",
        "import numpy as np\n",
        "\n",
        "device = torch.device(\"cuda\" if torch.cuda.is_available() else \"cpu\")\n",
        "print(f\"Using device: {device}\")\n",
        "\n",
        "model = Word2Vec.load(\"word2vec_skipgram.model\")\n",
        "\n",
        "word_to_index = {word: idx for idx, word in enumerate(model.wv.key_to_index.keys())} # Create index for every unique word\n",
        "embedding_matrix = np.zeros((len(word_to_index), model.vector_size)) # empty matrix\n",
        "\n",
        "for word, idx in word_to_index.items(): # Fill each row of the embedding matrix with the 100-dim vector for the corresponding word\n",
        "    embedding_matrix[idx] = model.wv[word]\n",
        "\n",
        "# Convert NumPy matrix into PyTorch embedding layer for NN\n",
        "embedding_tensor = torch.FloatTensor(embedding_matrix)\n",
        "pretrained_embeddings = nn.Embedding(*embedding_tensor.shape)\n",
        "pretrained_embeddings.weight = nn.Parameter(embedding_tensor)\n",
        "pretrained_embeddings.weight.requires_grad = False # Freeze pre-trained word vectors\n",
        "\n",
        "# Move embedding layer to GPU\n",
        "pretrained_embeddings = pretrained_embeddings.to(device)"
      ]
    },
    {
      "cell_type": "markdown",
      "metadata": {
        "id": "ZkJbfrF6NS9f"
      },
      "source": [
        "### B. Aspect Embeddding"
      ]
    },
    {
      "cell_type": "code",
      "execution_count": 62,
      "metadata": {
        "id": "pXPVUamENW9e"
      },
      "outputs": [],
      "source": [
        "num_aspects = len(train_df['aspect'].unique())\n",
        "embedding_dim = 100  # Same as word embeddings\n",
        "\n",
        "aspect_to_index = {aspect: idx for idx, aspect in enumerate(train_df['aspect'].unique())}\n",
        "\n",
        "aspect_embedding = nn.Embedding(num_aspects, embedding_dim)\n",
        "aspect_embedding = aspect_embedding.to(device)"
      ]
    },
    {
      "cell_type": "markdown",
      "metadata": {
        "id": "bzdEjeRM1X__"
      },
      "source": [
        "### C. POS Tag Embedding"
      ]
    },
    {
      "cell_type": "markdown",
      "metadata": {
        "id": "qrMX3vRT2Ecy"
      },
      "source": [
        "Map POS tags to indices"
      ]
    },
    {
      "cell_type": "code",
      "execution_count": 63,
      "metadata": {},
      "outputs": [
        {
          "name": "stdout",
          "output_type": "stream",
          "text": [
            "POS Tag Index: {'UH': 0, 'RBS': 1, 'TO': 2, 'WRB': 3, 'VBZ': 4, 'CD': 5, 'VBN': 6, 'RB': 7, 'NN': 8, 'WDT': 9, 'MD': 10, 'PRP$': 11, 'PRP': 12, 'WP$': 13, 'VBG': 14, 'RBR': 15, 'WP': 16, 'JJR': 17, 'VB': 18, 'PDT': 19, 'DT': 20, 'EX': 21, 'CC': 22, 'VBD': 23, 'NNS': 24, 'IN': 25, 'RP': 26, 'JJ': 27, 'NNP': 28, 'JJS': 29, 'FW': 30, 'VBP': 31}\n"
          ]
        }
      ],
      "source": [
        "def create_pos_tag_index(df_list):\n",
        "    # Collect all unique POS tags from the dataframes\n",
        "    pos_tags = set()\n",
        "    for df in df_list:\n",
        "        # Update set with all unique tags found in each row\n",
        "        df['pos_tags'].apply(lambda tags: pos_tags.update(tag for _, tag in tags))\n",
        "    # Create a mapping from tag to index\n",
        "    pos_tag_index = {tag: idx for idx, tag in enumerate(pos_tags)}\n",
        "    return pos_tag_index\n",
        "\n",
        "pos_tag_index = create_pos_tag_index([train_df, val_df, test_df])\n",
        "print(\"POS Tag Index:\", pos_tag_index)"
      ]
    },
    {
      "cell_type": "markdown",
      "metadata": {
        "id": "JoP8yXTe2ZNs"
      },
      "source": [
        "Convert the POS tags into indices"
      ]
    },
    {
      "cell_type": "code",
      "execution_count": 64,
      "metadata": {
        "id": "NTT19E2W2Ydw"
      },
      "outputs": [],
      "source": [
        "def pos_tags_to_indices(df, pos_tag_index, input_column='pos_tags', output_column='pos_indices'):\n",
        "    # Convert POS tag sequences to index sequences and store in a new column\n",
        "    df[output_column] = df[input_column].apply(lambda tags: [pos_tag_index[tag] for _, tag in tags])\n",
        "    return df\n",
        "\n",
        "train_df = pos_tags_to_indices(train_df, pos_tag_index, input_column='pos_tags', output_column='pos_indices')\n",
        "val_df = pos_tags_to_indices(val_df, pos_tag_index, input_column='pos_tags', output_column='pos_indices')\n",
        "test_df = pos_tags_to_indices(test_df, pos_tag_index, input_column='pos_tags', output_column='pos_indices')"
      ]
    },
    {
      "cell_type": "markdown",
      "metadata": {
        "id": "rqQM_mOS5vnQ"
      },
      "source": [
        "Creating the POS tags embedding layer"
      ]
    },
    {
      "cell_type": "code",
      "execution_count": 65,
      "metadata": {
        "id": "QEWB7-BC3QTb"
      },
      "outputs": [],
      "source": [
        "pos_vocab_size = len(pos_tag_index)\n",
        "pos_embedding_dim = 50\n",
        "pos_embedding_layer = nn.Embedding(num_embeddings=pos_vocab_size, embedding_dim=pos_embedding_dim)\n",
        "pos_embedding_layer = pos_embedding_layer.to(device)"
      ]
    },
    {
      "cell_type": "markdown",
      "metadata": {
        "id": "QRXhGkEq6VCN"
      },
      "source": [
        "### D. Dependency parsing label Embedding"
      ]
    },
    {
      "cell_type": "markdown",
      "metadata": {
        "id": "UmNi3lIw6hov"
      },
      "source": [
        "Map Dependency parsing labels to indices"
      ]
    },
    {
      "cell_type": "code",
      "execution_count": 66,
      "metadata": {
        "colab": {
          "base_uri": "https://localhost:8080/"
        },
        "id": "BWAWDZLU7cA7",
        "outputId": "4a8238e1-552a-46ac-ee5e-515f0ad3e5bb"
      },
      "outputs": [
        {
          "name": "stdout",
          "output_type": "stream",
          "text": [
            "Dependency Label Index: {'ROOT': 0, 'dative': 1, 'expl': 2, 'advcl': 3, 'cc': 4, 'advmod': 5, 'predet': 6, 'xcomp': 7, 'nsubj': 8, 'nsubjpass': 9, 'auxpass': 10, 'meta': 11, 'neg': 12, 'ccomp': 13, 'aux': 14, 'prep': 15, 'preconj': 16, 'poss': 17, 'mark': 18, 'dep': 19, 'case': 20, 'quantmod': 21, 'csubj': 22, 'pobj': 23, 'det': 24, 'amod': 25, 'npadvmod': 26, 'acl': 27, 'parataxis': 28, 'pcomp': 29, 'conj': 30, 'relcl': 31, 'intj': 32, 'acomp': 33, 'attr': 34, 'dobj': 35, 'compound': 36, 'prt': 37, 'oprd': 38, 'appos': 39, 'nummod': 40, 'punct': 41, 'agent': 42, 'nmod': 43}\n"
          ]
        }
      ],
      "source": [
        "def create_dep_label_index(df_list):\n",
        "    # Collect all unique dependency labels from the dataframes\n",
        "    dep_labels = set()\n",
        "    for df in df_list:\n",
        "        df['parsed'].apply(lambda parsed_list: dep_labels.update(dep for _, dep, _ in parsed_list))\n",
        "    # Create a mapping from dependency label to index\n",
        "    dep_label_index = {label: idx for idx, label in enumerate(dep_labels)}\n",
        "    return dep_label_index\n",
        "\n",
        "dep_label_index = create_dep_label_index([train_df, val_df, test_df])\n",
        "print(\"Dependency Label Index:\", dep_label_index)"
      ]
    },
    {
      "cell_type": "markdown",
      "metadata": {
        "id": "ZPi4cdVJ7et_"
      },
      "source": [
        "Convert Dependency Labels to indices"
      ]
    },
    {
      "cell_type": "code",
      "execution_count": 67,
      "metadata": {
        "id": "34eAxhKh7hWm"
      },
      "outputs": [],
      "source": [
        "def dep_labels_to_indices(df, dep_label_index):\n",
        "    # Convert dependency label sequences to index sequences and store in a new column\n",
        "    df['dep_indices'] = df['parsed'].apply(lambda parsed_list: [dep_label_index[dep] for _, dep, _ in parsed_list])\n",
        "    return df\n",
        "\n",
        "train_df = dep_labels_to_indices(train_df, dep_label_index)\n",
        "val_df = dep_labels_to_indices(val_df, dep_label_index)\n",
        "test_df = dep_labels_to_indices(test_df, dep_label_index)"
      ]
    },
    {
      "cell_type": "markdown",
      "metadata": {
        "id": "Q4G31BCC913k"
      },
      "source": [
        "Creating the Dependency Parsing embedding layer"
      ]
    },
    {
      "cell_type": "code",
      "execution_count": 68,
      "metadata": {
        "id": "OAe1HDUz7pte"
      },
      "outputs": [],
      "source": [
        "dep_vocab_size = len(dep_label_index)\n",
        "dep_embedding_dim = 50\n",
        "dep_embedding_layer = nn.Embedding(num_embeddings=dep_vocab_size, embedding_dim=dep_embedding_dim)\n",
        "dep_embedding_layer = dep_embedding_layer.to(device)"
      ]
    },
    {
      "cell_type": "markdown",
      "metadata": {
        "id": "m5LwWUVkT-qB"
      },
      "source": [
        "## Model 1: BI-LSTM integrating aspect information as additional input.\n",
        "\n"
      ]
    },
    {
      "cell_type": "markdown",
      "metadata": {
        "id": "MHHt2_tmUmbU"
      },
      "source": [
        "Function to concatenate all embeddings"
      ]
    },
    {
      "cell_type": "code",
      "execution_count": 84,
      "metadata": {
        "id": "VtTLSz8uMhiM"
      },
      "outputs": [],
      "source": [
        "import torch.nn.functional as F\n",
        "\n",
        "def get_combined_embeddings(sentences, aspects, pos_indices, dep_indices, \n",
        "                           word_to_index, aspect_to_index, \n",
        "                           pretrained_embeddings, aspect_embedding, \n",
        "                           pos_embedding_layer, dep_embedding_layer, \n",
        "                           device=torch.device(\"cuda\" if torch.cuda.is_available() else \"cpu\")):\n",
        "    embedded_sentences = []\n",
        "\n",
        "    max_length = max(max(len(sentence) for sentence in sentences), ## Determine the max length across all types of sequences for batch processing\n",
        "                    max(len(dep) for dep in dep_indices),\n",
        "                    max(len(pos) for pos in pos_indices))\n",
        "\n",
        "    for sentence, aspect, pos_seq, dep_seq in zip(sentences, aspects, pos_indices, dep_indices):\n",
        "        # Process word embeddings\n",
        "        extended_sentence = sentence + [0] * (max_length - len(sentence)) if len(sentence) < max_length else sentence[:max_length]\n",
        "        word_idxs = torch.tensor([word_to_index.get(word, 0) for word in extended_sentence], dtype=torch.long, device=device)\n",
        "        word_embs = pretrained_embeddings(word_idxs)\n",
        "\n",
        "        # Process aspect embeddings\n",
        "        aspect_idx = torch.tensor([aspect_to_index[aspect]] * max_length, dtype=torch.long, device=device)\n",
        "        aspect_emb = aspect_embedding(aspect_idx)\n",
        "\n",
        "        # Process POS tag embeddings\n",
        "        extended_pos = pos_seq + [0] * (max_length - len(pos_seq)) if len(pos_seq) < max_length else pos_seq[:max_length]\n",
        "        pos_idxs = torch.tensor(extended_pos, dtype=torch.long, device=device)\n",
        "        pos_embs = pos_embedding_layer(pos_idxs)\n",
        "\n",
        "        # Process dependency embeddings\n",
        "        extended_dep = dep_seq + [0] * (max_length - len(dep_seq)) if len(dep_seq) < max_length else dep_seq[:max_length]\n",
        "        dep_idxs = torch.tensor(extended_dep, dtype=torch.long, device=device)\n",
        "        dep_embs = dep_embedding_layer(dep_idxs)\n",
        "\n",
        "        # Concatenate all embeddings along the feature dimension\n",
        "        combined_embs = torch.cat((word_embs, aspect_emb, pos_embs, dep_embs), dim=1)\n",
        "        embedded_sentences.append(combined_embs)\n",
        "\n",
        "    # Stack all sequences for the batch\n",
        "    batch_embeddings = torch.stack(embedded_sentences)\n",
        "    return batch_embeddings"
      ]
    },
    {
      "cell_type": "markdown",
      "metadata": {
        "id": "6HJdUeWyta8i"
      },
      "source": [
        "Pytorch's Dataloader to handle batching of data"
      ]
    },
    {
      "cell_type": "code",
      "execution_count": 85,
      "metadata": {},
      "outputs": [],
      "source": [
        "from torch.utils.data import Dataset, DataLoader\n",
        "from torch.nn.utils.rnn import pad_sequence\n",
        "\n",
        "class SentimentDataset(Dataset):\n",
        "    def __init__(self, sentences, aspects, pos_indices, dep_indices, labels):\n",
        "        self.sentences = sentences\n",
        "        self.aspects = aspects\n",
        "        self.pos_indices = pos_indices\n",
        "        self.dep_indices = dep_indices\n",
        "        self.labels = labels\n",
        "\n",
        "    def __len__(self):\n",
        "        return len(self.labels)\n",
        "\n",
        "    def __getitem__(self, idx):\n",
        "        return {\n",
        "            'sentence': self.sentences[idx],\n",
        "            'aspect': self.aspects[idx],\n",
        "            'pos_indices': self.pos_indices[idx],\n",
        "            'dep_indices': self.dep_indices[idx],\n",
        "            'label': self.labels[idx]\n",
        "        }\n",
        "\n",
        "def collate_fn(batch, word_to_index, aspect_to_index, pretrained_embeddings, \n",
        "               aspect_embedding, pos_embedding_layer, dep_embedding_layer, device):\n",
        "    # Extract items from batch\n",
        "    sentences = [item['sentence'] for item in batch]\n",
        "    aspects = [item['aspect'] for item in batch]\n",
        "    pos_indices = [item['pos_indices'] for item in batch]\n",
        "    dep_indices = [item['dep_indices'] for item in batch]\n",
        "    labels = [item['label'] for item in batch]\n",
        "    \n",
        "    # Call get_combined_embeddings function to compute embeddings for all items in the batch\n",
        "    combined_embs = get_combined_embeddings(\n",
        "        sentences, aspects, pos_indices, dep_indices,\n",
        "        word_to_index, aspect_to_index,\n",
        "        pretrained_embeddings, aspect_embedding,\n",
        "        pos_embedding_layer, dep_embedding_layer,\n",
        "        device\n",
        "    )\n",
        "    \n",
        "    labels = torch.tensor(labels, dtype=torch.long, device=device)\n",
        "    \n",
        "    return combined_embs, labels"
      ]
    },
    {
      "cell_type": "code",
      "execution_count": null,
      "metadata": {},
      "outputs": [],
      "source": [
        "device = torch.device(\"cuda\" if torch.cuda.is_available() else \"cpu\")\n",
        "\n",
        "# Convert sentiment polarity labels to numerical indices\n",
        "label_to_index = {'positive': 0, 'negative': 1, 'neutral': 2}\n",
        "train_labels = train_df['polarity'].map(label_to_index).tolist()\n",
        "val_labels = val_df['polarity'].map(label_to_index).tolist()\n",
        "test_labels = test_df['polarity'].map(label_to_index).tolist()\n",
        "\n",
        "# Custom collate function with embedding layers and dictionaries\n",
        "custom_collate = lambda batch: collate_fn(\n",
        "    batch, word_to_index, aspect_to_index, \n",
        "    pretrained_embeddings, aspect_embedding, \n",
        "    pos_embedding_layer, dep_embedding_layer, device\n",
        ")\n",
        "\n",
        "# Create datasets (without embedding layers)\n",
        "train_dataset = SentimentDataset(\n",
        "    train_df['lemmatized_tokens'].tolist(),\n",
        "    train_df['aspect'].tolist(),\n",
        "    train_df['pos_indices'].tolist(),\n",
        "    train_df['dep_indices'].tolist(),\n",
        "    train_labels\n",
        ")\n",
        "\n",
        "val_dataset = SentimentDataset(\n",
        "    val_df['lemmatized_tokens'].tolist(),\n",
        "    val_df['aspect'].tolist(),\n",
        "    val_df['pos_indices'].tolist(),\n",
        "    val_df['dep_indices'].tolist(),\n",
        "    val_labels\n",
        ")\n",
        "\n",
        "\n",
        "# Create dataloaders\n",
        "batch_size = 64\n",
        "\n",
        "train_loader = DataLoader(\n",
        "    train_dataset, batch_size=batch_size, \n",
        "    shuffle=True, \n",
        "    collate_fn=custom_collate # Shuffle to prevent overfitting\n",
        ")\n",
        "\n",
        "val_loader = DataLoader(\n",
        "    val_dataset, batch_size=batch_size,  \n",
        "    shuffle=False, # Do not shuffle validation data\n",
        "    collate_fn=custom_collate\n",
        ")\n"
      ]
    },
    {
      "cell_type": "code",
      "execution_count": null,
      "metadata": {
        "id": "egqmI90QMwv1"
      },
      "outputs": [],
      "source": [
        "# from torch.utils.data import Dataset, DataLoader\n",
        "# from torch.nn.utils.rnn import pad_sequence\n",
        "\n",
        "# class SentimentDataset(Dataset):\n",
        "#     def __init__(self, sentences, aspects, dep_indices, labels, word_to_index, aspect_to_index, pretrained_embeddings, aspect_embedding, dep_embedding_layer):\n",
        "#         self.sentences = sentences\n",
        "#         self.aspects = aspects\n",
        "#         self.dep_indices = dep_indices\n",
        "#         self.labels = labels\n",
        "#         self.word_to_index = word_to_index\n",
        "#         self.aspect_to_index = aspect_to_index\n",
        "#         self.pretrained_embeddings = pretrained_embeddings\n",
        "#         self.aspect_embedding = aspect_embedding\n",
        "#         self.dep_embedding_layer = dep_embedding_layer\n",
        "\n",
        "#     def __len__(self):\n",
        "#         return len(self.labels)\n",
        "\n",
        "#     def __getitem__(self, idx):\n",
        "#         combined_embeddings = get_combined_embeddings(\n",
        "#             [self.sentences[idx]], [self.aspects[idx]], [self.dep_indices[idx]],\n",
        "#             self.word_to_index, self.aspect_to_index, self.pretrained_embeddings,\n",
        "#             self.aspect_embedding, self.dep_embedding_layer\n",
        "#         )\n",
        "#         return combined_embeddings.squeeze(0), self.labels[idx]\n",
        "\n",
        "# def collate_fn(batch): # adjusts the padding for each batch based on the longest sentence within that particular batch,\n",
        "#     # Unpack the batch\n",
        "#     texts, labels = zip(*batch)\n",
        "\n",
        "#     # Determine the maximum sequence length in the batch\n",
        "#     max_length = max(text.shape[0] for text in texts)\n",
        "\n",
        "#     # Debugging: Check sequence lengths\n",
        "#     # print(\"Max sequence length in batch:\", max_length)\n",
        "#     # for text in texts:\n",
        "#     #     print(\"Before padding:\", text.shape)\n",
        "\n",
        "#     # Pad or trim all sequences to the maximum length\n",
        "#     padded_texts = [F.pad(text, (0, 0, 0, max_length - text.shape[0]), value=0) for text in texts]\n",
        "\n",
        "#     # Debugging: Check shapes after padding\n",
        "#     # for text in padded_texts:\n",
        "#     #     print(\"After padding:\", text.shape)\n",
        "\n",
        "#     # Stack the padded sequences\n",
        "#     texts = torch.stack(padded_texts, dim=0)\n",
        "\n",
        "#     # Convert labels to tensor\n",
        "#     labels = torch.tensor(labels, dtype=torch.long)\n",
        "\n",
        "#     return texts, labels\n",
        "\n",
        "# label_to_index = {'positive': 0, 'negative': 1, 'neutral': 2}\n",
        "# train_labels = train_df['polarity'].map(label_to_index).tolist()\n",
        "# val_labels = val_df['polarity'].map(label_to_index).tolist()\n",
        "# test_labels = test_df['polarity'].map(label_to_index).tolist()\n",
        "\n",
        "# train_dataset = SentimentDataset(\n",
        "#     train_df['lemmatized_tokens'].tolist(),\n",
        "#     train_df['aspect'].tolist(),\n",
        "#     train_df['dep_indices'].tolist(),\n",
        "#     train_labels,\n",
        "#     word_to_index,\n",
        "#     aspect_to_index,\n",
        "#     pretrained_embeddings,\n",
        "#     aspect_embedding,\n",
        "#     dep_embedding_layer\n",
        "# )\n",
        "\n",
        "# val_dataset = SentimentDataset(\n",
        "#     val_df['lemmatized_tokens'].tolist(),\n",
        "#     val_df['aspect'].tolist(),\n",
        "#     val_df['dep_indices'].tolist(),\n",
        "#     val_labels,\n",
        "#     word_to_index,\n",
        "#     aspect_to_index,\n",
        "#     pretrained_embeddings,\n",
        "#     aspect_embedding,\n",
        "#     dep_embedding_layer\n",
        "# )\n",
        "\n",
        "# test_dataset = SentimentDataset(\n",
        "#     test_df['lemmatized_tokens'].tolist(),\n",
        "#     test_df['aspect'].tolist(),\n",
        "#     test_df['dep_indices'].tolist(),\n",
        "#     test_labels,\n",
        "#     word_to_index,\n",
        "#     aspect_to_index,\n",
        "#     pretrained_embeddings,\n",
        "#     aspect_embedding,\n",
        "#     dep_embedding_layer\n",
        "# )\n",
        "\n",
        "# # Create dataloaders\n",
        "# # batch_size = 64\n",
        "# # train_loader = DataLoader(train_dataset, batch_size=batch_size, shuffle=True, collate_fn=collate_fn)\n",
        "# # val_loader = DataLoader(val_dataset, batch_size=batch_size, shuffle=False, collate_fn=collate_fn)\n",
        "# # test_loader = DataLoader(test_dataset, batch_size=batch_size, shuffle=False, collate_fn=collate_fn)"
      ]
    },
    {
      "cell_type": "markdown",
      "metadata": {
        "id": "UKiTI60kAne7"
      },
      "source": [
        "### Defining the BI-LSTM model"
      ]
    },
    {
      "cell_type": "code",
      "execution_count": 95,
      "metadata": {
        "id": "nz-aL_oQCwzF"
      },
      "outputs": [],
      "source": [
        "import wandb\n",
        "import torch.optim as optim\n",
        "from torch.optim import Adam\n",
        "from sklearn.metrics import accuracy_score\n",
        "\n",
        "class BiLSTMAttention(nn.Module):\n",
        "    def __init__(self, input_dim, hidden_dim, output_dim, num_layers, dropout):\n",
        "        super(BiLSTMAttention, self).__init__()\n",
        "        self.hidden_dim = hidden_dim\n",
        "\n",
        "        # Bidirectional LSTM layer\n",
        "        self.bilstm = nn.LSTM(input_dim, hidden_dim, num_layers=num_layers,\n",
        "                              bidirectional=True, dropout=dropout, batch_first=True)\n",
        "        \n",
        "        # Attention mechanism\n",
        "        self.attention = nn.Linear(hidden_dim * 2, 1)\n",
        "\n",
        "        self.dropout = nn.Dropout(dropout)  # Additional dropout layer\n",
        "\n",
        "        # Output layer\n",
        "        self.fc = nn.Linear(hidden_dim * 2, output_dim)\n",
        "\n",
        "    def forward(self, x):\n",
        "        # Mask to avoid learning from padding\n",
        "        mask = (x.sum(dim=2) != 0).float()  # x shape: [batch_size, seq_length, input_dim] -> [batch_size, seq_length]\n",
        "\n",
        "        # Passing the input through the Bi-LSTM\n",
        "        lstm_out, _ = self.bilstm(x)  # lstm_out shape: [batch_size, seq_length, 2 * hidden_dim]\n",
        "\n",
        "        # Calculate attention scores\n",
        "        attention_scores = self.attention(lstm_out).squeeze(-1)  # [batch_size, seq_length]\n",
        "\n",
        "        # Mask padding tokens by setting their attention scores to a large negative value, giving padding near-zero probability after softmax\n",
        "        attention_scores = attention_scores.masked_fill(mask == 0, -1e10)\n",
        "\n",
        "        # Apply softmax to get attention weights\n",
        "        attention_weights = F.softmax(attention_scores, dim=1)\n",
        "\n",
        "        # Apply attention weights to get context vector\n",
        "        context = torch.bmm(attention_weights.unsqueeze(1), lstm_out).squeeze(1)  # [batch_size, 2*hidden_dim]\n",
        "\n",
        "        context = self.dropout(context)\n",
        "        \n",
        "        # Final classification\n",
        "        output = self.fc(context)\n",
        "        \n",
        "        return output"
      ]
    },
    {
      "cell_type": "code",
      "execution_count": 105,
      "metadata": {},
      "outputs": [],
      "source": [
        "def evaluate(model, val_loader, criterion, device):\n",
        "    model.eval()\n",
        "    total_loss = 0\n",
        "    total_correct = 0\n",
        "    total_samples = 0\n",
        "\n",
        "    with torch.no_grad():\n",
        "        for inputs, labels in val_loader:\n",
        "            inputs, labels = inputs.to(device), labels.to(device)\n",
        "            outputs = model(inputs)\n",
        "            loss = criterion(outputs, labels)\n",
        "\n",
        "            total_loss += loss.item()\n",
        "            _, predicted = torch.max(outputs.data, 1)\n",
        "            total_correct += (predicted == labels).sum().item()\n",
        "            total_samples += labels.size(0)\n",
        "\n",
        "    avg_loss = total_loss / len(val_loader)\n",
        "    accuracy = total_correct / total_samples\n",
        "    return avg_loss, accuracy\n",
        "\n",
        "def train_model(model, train_loader, val_loader, criterion, optimizer, device, num_epochs, patience=5):\n",
        "    best_val_acc = 0\n",
        "    best_model = None\n",
        "    patience_counter = 0\n",
        "    \n",
        "    for epoch in range(num_epochs):\n",
        "        # Training phase\n",
        "        model.train()\n",
        "        total_loss = 0\n",
        "        total_correct = 0\n",
        "        total_samples = 0\n",
        "        \n",
        "        for inputs, labels in train_loader:\n",
        "            inputs, labels = inputs.to(device), labels.to(device)\n",
        "            \n",
        "            optimizer.zero_grad()\n",
        "            outputs = model(inputs)\n",
        "            loss = criterion(outputs, labels)\n",
        "            \n",
        "            loss.backward()\n",
        "            torch.nn.utils.clip_grad_norm_(model.parameters(), 1.0)  # Clip gradients\n",
        "            optimizer.step()\n",
        "            \n",
        "            total_loss += loss.item()\n",
        "            _, predicted = torch.max(outputs.data, 1)\n",
        "            total_correct += (predicted == labels).sum().item()\n",
        "            total_samples += labels.size(0)\n",
        "        \n",
        "        train_loss = total_loss / len(train_loader)\n",
        "        train_acc = total_correct / total_samples\n",
        "        \n",
        "        # Validation phase\n",
        "        if val_loader is not None:\n",
        "            val_loss, val_acc = evaluate(model, val_loader, criterion, device)\n",
        "\n",
        "            # Log metrics to wandb\n",
        "            wandb.log({\n",
        "                \"epoch\": epoch + 1,\n",
        "                \"train_loss\": train_loss,\n",
        "                \"train_acc\": train_acc,\n",
        "                \"val_loss\": val_loss,\n",
        "                \"val_acc\": val_acc\n",
        "            })\n",
        "        \n",
        "            print(f'Epoch {epoch+1}/{num_epochs} | '\n",
        "                f'Train Loss: {train_loss:.4f} | Train Acc: {train_acc*100:.2f}% | '\n",
        "                f'Val Loss: {val_loss:.4f} | Val Acc: {val_acc*100:.2f}%')\n",
        "        \n",
        "            # Early stopping check\n",
        "            if val_acc > best_val_acc:\n",
        "                best_val_acc = val_acc\n",
        "                best_model = model.state_dict().copy()\n",
        "                patience_counter = 0\n",
        "            else:\n",
        "                patience_counter += 1\n",
        "                if patience_counter >= patience:\n",
        "                    print(f'Early stopping at epoch {epoch+1}')\n",
        "                    break\n",
        "        else:\n",
        "            wandb.log({\n",
        "                \"epoch\": epoch + 1,\n",
        "                \"train_loss\": train_loss,\n",
        "                \"train_acc\": train_acc\n",
        "            })\n",
        "\n",
        "            print(f\"Epoch {epoch+1}/{num_epochs} | \"\n",
        "                  f\"Train Loss: {train_loss:.4f} | Train Acc: {train_acc*100:.2f}%\")\n",
        "    \n",
        "    # Load best model\n",
        "    if best_model is not None:\n",
        "        model.load_state_dict(best_model)\n",
        "    \n",
        "    return model"
      ]
    },
    {
      "cell_type": "code",
      "execution_count": 101,
      "metadata": {},
      "outputs": [],
      "source": [
        "def hyperparameter_tuning(train_dataset, val_dataset, collate_fn, device):\n",
        "    param_grid = {\n",
        "        'learning_rate': [0.01, 0.005, 0.001],\n",
        "        'batch_size': [32, 64, 128],\n",
        "        'hidden_dim': [50, 100],\n",
        "        'num_layers': [1, 2],\n",
        "        'dropout': [0.3, 0.5]\n",
        "    }\n",
        "    \n",
        "    best_val_acc = 0\n",
        "    best_params = {}\n",
        "    results = []\n",
        "    \n",
        "    input_dim = 300\n",
        "    output_dim = 3   # Number of classes\n",
        "    \n",
        "    # Training config\n",
        "    num_epochs = 30\n",
        "    patience = 5\n",
        "    \n",
        "    for hidden_dim in param_grid['hidden_dim']:\n",
        "        for num_layers in param_grid['num_layers']:\n",
        "            for dropout in param_grid['dropout']:\n",
        "                for lr in param_grid['learning_rate']:\n",
        "                    for batch_size in param_grid['batch_size']:\n",
        "\n",
        "                        wandb.init(\n",
        "                            project=\"absa-bilstm-attention\",\n",
        "                            name=f\"HD={hidden_dim}_NL={num_layers}_DO={dropout}_LR={lr}_BS={batch_size}\",\n",
        "                            config={\n",
        "                                \"hidden_dim\": hidden_dim,\n",
        "                                \"num_layers\": num_layers,\n",
        "                                \"dropout\": dropout,\n",
        "                                \"learning_rate\": lr,\n",
        "                                \"batch_size\": batch_size,\n",
        "                                \"input_dim\": input_dim,\n",
        "                                \"output_dim\": output_dim,\n",
        "                                \"epochs\": num_epochs\n",
        "                            }\n",
        "                        )\n",
        "\n",
        "                        print(f\"\\nTesting: hidden_dim={hidden_dim}, num_layers={num_layers}, \"\n",
        "                              f\"dropout={dropout}, lr={lr}, batch_size={batch_size}\")\n",
        "\n",
        "                        train_loader = DataLoader(train_dataset, batch_size=batch_size, shuffle=True, collate_fn=collate_fn)\n",
        "                        val_loader = DataLoader(val_dataset, batch_size=batch_size, shuffle=False, collate_fn=collate_fn)\n",
        "\n",
        "                        model = BiLSTMAttention(input_dim, hidden_dim, output_dim, num_layers, dropout).to(device)\n",
        "                        criterion = nn.CrossEntropyLoss()\n",
        "                        optimizer = optim.Adam(model.parameters(), lr=lr)\n",
        "\n",
        "                        model = train_model(model, train_loader, val_loader, criterion, optimizer, device, num_epochs, patience)\n",
        "\n",
        "                        _, val_acc = evaluate(model, val_loader, criterion, device)\n",
        "\n",
        "                        wandb.log({\"final_val_acc\": val_acc})\n",
        "                        wandb.finish()\n",
        "\n",
        "                        params = {\n",
        "                            'hidden_dim': hidden_dim,\n",
        "                            'num_layers': num_layers,\n",
        "                            'dropout': dropout,\n",
        "                            'learning_rate': lr,\n",
        "                            'batch_size': batch_size,\n",
        "                            'val_accuracy': val_acc\n",
        "                        }\n",
        "                        results.append(params)\n",
        "\n",
        "                        if val_acc > best_val_acc:\n",
        "                            best_val_acc = val_acc\n",
        "                            best_params = params.copy()\n",
        "                            torch.save(model.state_dict(), 'best_model.pt')\n",
        "\n",
        "    print(\"\\nBest Hyperparameters:\")\n",
        "    for param, value in best_params.items():\n",
        "        if param != 'val_accuracy':\n",
        "            print(f\"{param}: {value}\")\n",
        "    print(f\"Validation Accuracy: {best_params['val_accuracy']*100:.2f}%\")\n",
        "\n",
        "    return best_params, results"
      ]
    },
    {
      "cell_type": "code",
      "execution_count": 102,
      "metadata": {},
      "outputs": [
        {
          "data": {
            "text/html": [
              "Finishing previous runs because reinit is set to 'default'."
            ],
            "text/plain": [
              "<IPython.core.display.HTML object>"
            ]
          },
          "metadata": {},
          "output_type": "display_data"
        },
        {
          "data": {
            "text/html": [],
            "text/plain": [
              "<IPython.core.display.HTML object>"
            ]
          },
          "metadata": {},
          "output_type": "display_data"
        },
        {
          "data": {
            "text/html": [
              " View run <strong style=\"color:#cdcd00\">HD=50_NL=1_DO=0.3_LR=0.01_BS=32</strong> at: <a href='https://wandb.ai/angelajcnto-the-university-of-western-australia/absa-bilstm-attention/runs/yupx0lck' target=\"_blank\">https://wandb.ai/angelajcnto-the-university-of-western-australia/absa-bilstm-attention/runs/yupx0lck</a><br> View project at: <a href='https://wandb.ai/angelajcnto-the-university-of-western-australia/absa-bilstm-attention' target=\"_blank\">https://wandb.ai/angelajcnto-the-university-of-western-australia/absa-bilstm-attention</a><br>Synced 5 W&B file(s), 0 media file(s), 0 artifact file(s) and 0 other file(s)"
            ],
            "text/plain": [
              "<IPython.core.display.HTML object>"
            ]
          },
          "metadata": {},
          "output_type": "display_data"
        },
        {
          "data": {
            "text/html": [
              "Find logs at: <code>.\\wandb\\run-20250425_204026-yupx0lck\\logs</code>"
            ],
            "text/plain": [
              "<IPython.core.display.HTML object>"
            ]
          },
          "metadata": {},
          "output_type": "display_data"
        },
        {
          "data": {
            "text/html": [
              "Tracking run with wandb version 0.19.10"
            ],
            "text/plain": [
              "<IPython.core.display.HTML object>"
            ]
          },
          "metadata": {},
          "output_type": "display_data"
        },
        {
          "data": {
            "text/html": [
              "Run data is saved locally in <code>c:\\Users\\angel\\OneDrive\\uni_projects\\DATA_SCIENCE_ML\\NLP-Aspect-Based-Sentiment-Analysis\\wandb\\run-20250425_204202-1fsixpaq</code>"
            ],
            "text/plain": [
              "<IPython.core.display.HTML object>"
            ]
          },
          "metadata": {},
          "output_type": "display_data"
        },
        {
          "data": {
            "text/html": [
              "Syncing run <strong><a href='https://wandb.ai/angelajcnto-the-university-of-western-australia/absa-bilstm-attention/runs/1fsixpaq' target=\"_blank\">HD=50_NL=1_DO=0.3_LR=0.01_BS=32</a></strong> to <a href='https://wandb.ai/angelajcnto-the-university-of-western-australia/absa-bilstm-attention' target=\"_blank\">Weights & Biases</a> (<a href='https://wandb.me/developer-guide' target=\"_blank\">docs</a>)<br>"
            ],
            "text/plain": [
              "<IPython.core.display.HTML object>"
            ]
          },
          "metadata": {},
          "output_type": "display_data"
        },
        {
          "data": {
            "text/html": [
              " View project at <a href='https://wandb.ai/angelajcnto-the-university-of-western-australia/absa-bilstm-attention' target=\"_blank\">https://wandb.ai/angelajcnto-the-university-of-western-australia/absa-bilstm-attention</a>"
            ],
            "text/plain": [
              "<IPython.core.display.HTML object>"
            ]
          },
          "metadata": {},
          "output_type": "display_data"
        },
        {
          "data": {
            "text/html": [
              " View run at <a href='https://wandb.ai/angelajcnto-the-university-of-western-australia/absa-bilstm-attention/runs/1fsixpaq' target=\"_blank\">https://wandb.ai/angelajcnto-the-university-of-western-australia/absa-bilstm-attention/runs/1fsixpaq</a>"
            ],
            "text/plain": [
              "<IPython.core.display.HTML object>"
            ]
          },
          "metadata": {},
          "output_type": "display_data"
        },
        {
          "name": "stdout",
          "output_type": "stream",
          "text": [
            "\n",
            "Testing: hidden_dim=50, num_layers=1, dropout=0.3, lr=0.01, batch_size=32\n"
          ]
        },
        {
          "name": "stderr",
          "output_type": "stream",
          "text": [
            "c:\\Users\\angel\\anaconda3\\Lib\\site-packages\\torch\\nn\\modules\\rnn.py:123: UserWarning: dropout option adds dropout after all but last recurrent layer, so non-zero dropout expects num_layers greater than 1, but got dropout=0.3 and num_layers=1\n",
            "  warnings.warn(\n"
          ]
        },
        {
          "name": "stdout",
          "output_type": "stream",
          "text": [
            "Epoch 1/30 | Train Loss: 0.9130 | Train Acc: 59.90% | Val Loss: 0.8532 | Val Acc: 61.60%\n",
            "Epoch 2/30 | Train Loss: 0.8779 | Train Acc: 61.44% | Val Loss: 0.8254 | Val Acc: 61.94%\n",
            "Epoch 3/30 | Train Loss: 0.8547 | Train Acc: 62.64% | Val Loss: 0.8478 | Val Acc: 61.49%\n",
            "Epoch 4/30 | Train Loss: 0.8457 | Train Acc: 63.06% | Val Loss: 0.8297 | Val Acc: 63.29%\n",
            "Epoch 5/30 | Train Loss: 0.8284 | Train Acc: 63.44% | Val Loss: 0.8079 | Val Acc: 63.63%\n",
            "Epoch 6/30 | Train Loss: 0.8266 | Train Acc: 63.78% | Val Loss: 0.8201 | Val Acc: 61.49%\n",
            "Epoch 7/30 | Train Loss: 0.8162 | Train Acc: 64.22% | Val Loss: 0.7876 | Val Acc: 64.19%\n",
            "Epoch 8/30 | Train Loss: 0.8060 | Train Acc: 64.65% | Val Loss: 0.7945 | Val Acc: 63.29%\n",
            "Epoch 9/30 | Train Loss: 0.8024 | Train Acc: 64.47% | Val Loss: 0.7901 | Val Acc: 64.08%\n",
            "Epoch 10/30 | Train Loss: 0.8043 | Train Acc: 64.47% | Val Loss: 0.7741 | Val Acc: 63.85%\n",
            "Epoch 11/30 | Train Loss: 0.7980 | Train Acc: 64.64% | Val Loss: 0.8035 | Val Acc: 64.75%\n",
            "Epoch 12/30 | Train Loss: 0.7916 | Train Acc: 64.89% | Val Loss: 0.7823 | Val Acc: 64.41%\n",
            "Epoch 13/30 | Train Loss: 0.7876 | Train Acc: 65.30% | Val Loss: 0.7642 | Val Acc: 64.30%\n",
            "Epoch 14/30 | Train Loss: 0.7875 | Train Acc: 65.33% | Val Loss: 0.7781 | Val Acc: 64.75%\n",
            "Epoch 15/30 | Train Loss: 0.7747 | Train Acc: 65.68% | Val Loss: 0.7494 | Val Acc: 65.54%\n",
            "Epoch 16/30 | Train Loss: 0.7764 | Train Acc: 65.47% | Val Loss: 0.7921 | Val Acc: 65.09%\n",
            "Epoch 17/30 | Train Loss: 0.7746 | Train Acc: 65.81% | Val Loss: 0.7536 | Val Acc: 64.86%\n",
            "Epoch 18/30 | Train Loss: 0.7668 | Train Acc: 66.14% | Val Loss: 0.7693 | Val Acc: 64.64%\n",
            "Epoch 19/30 | Train Loss: 0.7631 | Train Acc: 66.42% | Val Loss: 0.7795 | Val Acc: 65.99%\n",
            "Epoch 20/30 | Train Loss: 0.7607 | Train Acc: 66.12% | Val Loss: 0.7711 | Val Acc: 65.09%\n",
            "Epoch 21/30 | Train Loss: 0.7585 | Train Acc: 66.77% | Val Loss: 0.7735 | Val Acc: 63.85%\n",
            "Epoch 22/30 | Train Loss: 0.7603 | Train Acc: 66.40% | Val Loss: 0.7495 | Val Acc: 64.98%\n",
            "Epoch 23/30 | Train Loss: 0.7506 | Train Acc: 66.83% | Val Loss: 0.7646 | Val Acc: 64.86%\n",
            "Epoch 24/30 | Train Loss: 0.7551 | Train Acc: 66.38% | Val Loss: 0.8003 | Val Acc: 63.40%\n",
            "Early stopping at epoch 24\n"
          ]
        },
        {
          "data": {
            "text/html": [],
            "text/plain": [
              "<IPython.core.display.HTML object>"
            ]
          },
          "metadata": {},
          "output_type": "display_data"
        },
        {
          "data": {
            "text/html": [
              "<br>    <style><br>        .wandb-row {<br>            display: flex;<br>            flex-direction: row;<br>            flex-wrap: wrap;<br>            justify-content: flex-start;<br>            width: 100%;<br>        }<br>        .wandb-col {<br>            display: flex;<br>            flex-direction: column;<br>            flex-basis: 100%;<br>            flex: 1;<br>            padding: 10px;<br>        }<br>    </style><br><div class=\"wandb-row\"><div class=\"wandb-col\"><h3>Run history:</h3><br/><table class=\"wandb\"><tr><td>epoch</td><td>▁▁▂▂▂▃▃▃▃▄▄▄▅▅▅▆▆▆▆▇▇▇██</td></tr><tr><td>final_val_acc</td><td>▁</td></tr><tr><td>train_acc</td><td>▁▃▄▄▅▅▅▆▆▆▆▆▆▆▇▇▇▇█▇████</td></tr><tr><td>train_loss</td><td>█▆▅▅▄▄▄▃▃▃▃▃▃▃▂▂▂▂▂▁▁▁▁▁</td></tr><tr><td>val_acc</td><td>▁▂▁▄▄▁▅▄▅▅▆▆▅▆▇▇▆▆█▇▅▆▆▄</td></tr><tr><td>val_loss</td><td>█▆█▆▅▆▄▄▄▃▅▃▂▃▁▄▁▂▃▂▃▁▂▄</td></tr></table><br/></div><div class=\"wandb-col\"><h3>Run summary:</h3><br/><table class=\"wandb\"><tr><td>epoch</td><td>24</td></tr><tr><td>final_val_acc</td><td>0.63401</td></tr><tr><td>train_acc</td><td>0.66375</td></tr><tr><td>train_loss</td><td>0.75514</td></tr><tr><td>val_acc</td><td>0.63401</td></tr><tr><td>val_loss</td><td>0.80029</td></tr></table><br/></div></div>"
            ],
            "text/plain": [
              "<IPython.core.display.HTML object>"
            ]
          },
          "metadata": {},
          "output_type": "display_data"
        },
        {
          "data": {
            "text/html": [
              " View run <strong style=\"color:#cdcd00\">HD=50_NL=1_DO=0.3_LR=0.01_BS=32</strong> at: <a href='https://wandb.ai/angelajcnto-the-university-of-western-australia/absa-bilstm-attention/runs/1fsixpaq' target=\"_blank\">https://wandb.ai/angelajcnto-the-university-of-western-australia/absa-bilstm-attention/runs/1fsixpaq</a><br> View project at: <a href='https://wandb.ai/angelajcnto-the-university-of-western-australia/absa-bilstm-attention' target=\"_blank\">https://wandb.ai/angelajcnto-the-university-of-western-australia/absa-bilstm-attention</a><br>Synced 5 W&B file(s), 0 media file(s), 0 artifact file(s) and 0 other file(s)"
            ],
            "text/plain": [
              "<IPython.core.display.HTML object>"
            ]
          },
          "metadata": {},
          "output_type": "display_data"
        },
        {
          "data": {
            "text/html": [
              "Find logs at: <code>.\\wandb\\run-20250425_204202-1fsixpaq\\logs</code>"
            ],
            "text/plain": [
              "<IPython.core.display.HTML object>"
            ]
          },
          "metadata": {},
          "output_type": "display_data"
        },
        {
          "data": {
            "text/html": [
              "Tracking run with wandb version 0.19.10"
            ],
            "text/plain": [
              "<IPython.core.display.HTML object>"
            ]
          },
          "metadata": {},
          "output_type": "display_data"
        },
        {
          "data": {
            "text/html": [
              "Run data is saved locally in <code>c:\\Users\\angel\\OneDrive\\uni_projects\\DATA_SCIENCE_ML\\NLP-Aspect-Based-Sentiment-Analysis\\wandb\\run-20250425_204335-9pm94ly5</code>"
            ],
            "text/plain": [
              "<IPython.core.display.HTML object>"
            ]
          },
          "metadata": {},
          "output_type": "display_data"
        },
        {
          "data": {
            "text/html": [
              "Syncing run <strong><a href='https://wandb.ai/angelajcnto-the-university-of-western-australia/absa-bilstm-attention/runs/9pm94ly5' target=\"_blank\">HD=50_NL=1_DO=0.3_LR=0.01_BS=64</a></strong> to <a href='https://wandb.ai/angelajcnto-the-university-of-western-australia/absa-bilstm-attention' target=\"_blank\">Weights & Biases</a> (<a href='https://wandb.me/developer-guide' target=\"_blank\">docs</a>)<br>"
            ],
            "text/plain": [
              "<IPython.core.display.HTML object>"
            ]
          },
          "metadata": {},
          "output_type": "display_data"
        },
        {
          "data": {
            "text/html": [
              " View project at <a href='https://wandb.ai/angelajcnto-the-university-of-western-australia/absa-bilstm-attention' target=\"_blank\">https://wandb.ai/angelajcnto-the-university-of-western-australia/absa-bilstm-attention</a>"
            ],
            "text/plain": [
              "<IPython.core.display.HTML object>"
            ]
          },
          "metadata": {},
          "output_type": "display_data"
        },
        {
          "data": {
            "text/html": [
              " View run at <a href='https://wandb.ai/angelajcnto-the-university-of-western-australia/absa-bilstm-attention/runs/9pm94ly5' target=\"_blank\">https://wandb.ai/angelajcnto-the-university-of-western-australia/absa-bilstm-attention/runs/9pm94ly5</a>"
            ],
            "text/plain": [
              "<IPython.core.display.HTML object>"
            ]
          },
          "metadata": {},
          "output_type": "display_data"
        },
        {
          "name": "stdout",
          "output_type": "stream",
          "text": [
            "\n",
            "Testing: hidden_dim=50, num_layers=1, dropout=0.3, lr=0.01, batch_size=64\n",
            "Epoch 1/30 | Train Loss: 0.9157 | Train Acc: 59.22% | Val Loss: 0.8534 | Val Acc: 62.39%\n",
            "Epoch 2/30 | Train Loss: 0.8609 | Train Acc: 62.85% | Val Loss: 0.8315 | Val Acc: 61.71%\n",
            "Epoch 3/30 | Train Loss: 0.8439 | Train Acc: 63.20% | Val Loss: 0.8088 | Val Acc: 63.96%\n",
            "Epoch 4/30 | Train Loss: 0.8278 | Train Acc: 63.40% | Val Loss: 0.7922 | Val Acc: 65.65%\n",
            "Epoch 5/30 | Train Loss: 0.8134 | Train Acc: 64.09% | Val Loss: 0.7805 | Val Acc: 64.75%\n",
            "Epoch 6/30 | Train Loss: 0.7970 | Train Acc: 65.37% | Val Loss: 0.7692 | Val Acc: 64.64%\n",
            "Epoch 7/30 | Train Loss: 0.7886 | Train Acc: 65.35% | Val Loss: 0.7996 | Val Acc: 63.51%\n",
            "Epoch 8/30 | Train Loss: 0.7847 | Train Acc: 65.33% | Val Loss: 0.7715 | Val Acc: 63.96%\n",
            "Epoch 9/30 | Train Loss: 0.7797 | Train Acc: 65.88% | Val Loss: 0.7797 | Val Acc: 64.64%\n",
            "Early stopping at epoch 9\n"
          ]
        },
        {
          "data": {
            "text/html": [],
            "text/plain": [
              "<IPython.core.display.HTML object>"
            ]
          },
          "metadata": {},
          "output_type": "display_data"
        },
        {
          "data": {
            "text/html": [
              "<br>    <style><br>        .wandb-row {<br>            display: flex;<br>            flex-direction: row;<br>            flex-wrap: wrap;<br>            justify-content: flex-start;<br>            width: 100%;<br>        }<br>        .wandb-col {<br>            display: flex;<br>            flex-direction: column;<br>            flex-basis: 100%;<br>            flex: 1;<br>            padding: 10px;<br>        }<br>    </style><br><div class=\"wandb-row\"><div class=\"wandb-col\"><h3>Run history:</h3><br/><table class=\"wandb\"><tr><td>epoch</td><td>▁▂▃▄▅▅▆▇█</td></tr><tr><td>final_val_acc</td><td>▁</td></tr><tr><td>train_acc</td><td>▁▅▅▅▆▇▇▇█</td></tr><tr><td>train_loss</td><td>█▅▄▃▃▂▁▁▁</td></tr><tr><td>val_acc</td><td>▂▁▅█▆▆▄▅▆</td></tr><tr><td>val_loss</td><td>█▆▄▃▂▁▄▁▂</td></tr></table><br/></div><div class=\"wandb-col\"><h3>Run summary:</h3><br/><table class=\"wandb\"><tr><td>epoch</td><td>9</td></tr><tr><td>final_val_acc</td><td>0.6464</td></tr><tr><td>train_acc</td><td>0.65882</td></tr><tr><td>train_loss</td><td>0.77974</td></tr><tr><td>val_acc</td><td>0.6464</td></tr><tr><td>val_loss</td><td>0.7797</td></tr></table><br/></div></div>"
            ],
            "text/plain": [
              "<IPython.core.display.HTML object>"
            ]
          },
          "metadata": {},
          "output_type": "display_data"
        },
        {
          "data": {
            "text/html": [
              " View run <strong style=\"color:#cdcd00\">HD=50_NL=1_DO=0.3_LR=0.01_BS=64</strong> at: <a href='https://wandb.ai/angelajcnto-the-university-of-western-australia/absa-bilstm-attention/runs/9pm94ly5' target=\"_blank\">https://wandb.ai/angelajcnto-the-university-of-western-australia/absa-bilstm-attention/runs/9pm94ly5</a><br> View project at: <a href='https://wandb.ai/angelajcnto-the-university-of-western-australia/absa-bilstm-attention' target=\"_blank\">https://wandb.ai/angelajcnto-the-university-of-western-australia/absa-bilstm-attention</a><br>Synced 5 W&B file(s), 0 media file(s), 0 artifact file(s) and 0 other file(s)"
            ],
            "text/plain": [
              "<IPython.core.display.HTML object>"
            ]
          },
          "metadata": {},
          "output_type": "display_data"
        },
        {
          "data": {
            "text/html": [
              "Find logs at: <code>.\\wandb\\run-20250425_204335-9pm94ly5\\logs</code>"
            ],
            "text/plain": [
              "<IPython.core.display.HTML object>"
            ]
          },
          "metadata": {},
          "output_type": "display_data"
        },
        {
          "data": {
            "text/html": [
              "creating run (0.4s)"
            ],
            "text/plain": [
              "<IPython.core.display.HTML object>"
            ]
          },
          "metadata": {},
          "output_type": "display_data"
        },
        {
          "data": {
            "text/html": [
              "Tracking run with wandb version 0.19.10"
            ],
            "text/plain": [
              "<IPython.core.display.HTML object>"
            ]
          },
          "metadata": {},
          "output_type": "display_data"
        },
        {
          "data": {
            "text/html": [
              "Run data is saved locally in <code>c:\\Users\\angel\\OneDrive\\uni_projects\\DATA_SCIENCE_ML\\NLP-Aspect-Based-Sentiment-Analysis\\wandb\\run-20250425_204411-au9mohjw</code>"
            ],
            "text/plain": [
              "<IPython.core.display.HTML object>"
            ]
          },
          "metadata": {},
          "output_type": "display_data"
        },
        {
          "data": {
            "text/html": [
              "Syncing run <strong><a href='https://wandb.ai/angelajcnto-the-university-of-western-australia/absa-bilstm-attention/runs/au9mohjw' target=\"_blank\">HD=50_NL=1_DO=0.3_LR=0.01_BS=128</a></strong> to <a href='https://wandb.ai/angelajcnto-the-university-of-western-australia/absa-bilstm-attention' target=\"_blank\">Weights & Biases</a> (<a href='https://wandb.me/developer-guide' target=\"_blank\">docs</a>)<br>"
            ],
            "text/plain": [
              "<IPython.core.display.HTML object>"
            ]
          },
          "metadata": {},
          "output_type": "display_data"
        },
        {
          "data": {
            "text/html": [
              " View project at <a href='https://wandb.ai/angelajcnto-the-university-of-western-australia/absa-bilstm-attention' target=\"_blank\">https://wandb.ai/angelajcnto-the-university-of-western-australia/absa-bilstm-attention</a>"
            ],
            "text/plain": [
              "<IPython.core.display.HTML object>"
            ]
          },
          "metadata": {},
          "output_type": "display_data"
        },
        {
          "data": {
            "text/html": [
              " View run at <a href='https://wandb.ai/angelajcnto-the-university-of-western-australia/absa-bilstm-attention/runs/au9mohjw' target=\"_blank\">https://wandb.ai/angelajcnto-the-university-of-western-australia/absa-bilstm-attention/runs/au9mohjw</a>"
            ],
            "text/plain": [
              "<IPython.core.display.HTML object>"
            ]
          },
          "metadata": {},
          "output_type": "display_data"
        },
        {
          "name": "stdout",
          "output_type": "stream",
          "text": [
            "\n",
            "Testing: hidden_dim=50, num_layers=1, dropout=0.3, lr=0.01, batch_size=128\n",
            "Epoch 1/30 | Train Loss: 0.9208 | Train Acc: 59.29% | Val Loss: 0.8526 | Val Acc: 60.47%\n",
            "Epoch 2/30 | Train Loss: 0.8697 | Train Acc: 61.55% | Val Loss: 0.8303 | Val Acc: 61.71%\n",
            "Epoch 3/30 | Train Loss: 0.8469 | Train Acc: 63.37% | Val Loss: 0.8094 | Val Acc: 62.61%\n",
            "Epoch 4/30 | Train Loss: 0.8381 | Train Acc: 62.75% | Val Loss: 0.8166 | Val Acc: 62.84%\n",
            "Epoch 5/30 | Train Loss: 0.8113 | Train Acc: 64.67% | Val Loss: 0.7926 | Val Acc: 64.19%\n",
            "Epoch 6/30 | Train Loss: 0.8010 | Train Acc: 64.23% | Val Loss: 0.8087 | Val Acc: 63.63%\n",
            "Epoch 7/30 | Train Loss: 0.7804 | Train Acc: 66.77% | Val Loss: 0.7903 | Val Acc: 64.19%\n",
            "Epoch 8/30 | Train Loss: 0.7688 | Train Acc: 65.87% | Val Loss: 0.7889 | Val Acc: 63.85%\n",
            "Epoch 9/30 | Train Loss: 0.7639 | Train Acc: 66.47% | Val Loss: 0.8018 | Val Acc: 63.06%\n",
            "Epoch 10/30 | Train Loss: 0.7447 | Train Acc: 67.60% | Val Loss: 0.7647 | Val Acc: 65.43%\n",
            "Epoch 11/30 | Train Loss: 0.7292 | Train Acc: 68.38% | Val Loss: 0.7874 | Val Acc: 65.43%\n",
            "Epoch 12/30 | Train Loss: 0.7201 | Train Acc: 68.77% | Val Loss: 0.8067 | Val Acc: 65.65%\n",
            "Epoch 13/30 | Train Loss: 0.7055 | Train Acc: 69.31% | Val Loss: 0.7747 | Val Acc: 67.00%\n",
            "Epoch 14/30 | Train Loss: 0.6984 | Train Acc: 69.48% | Val Loss: 0.7947 | Val Acc: 64.75%\n",
            "Epoch 15/30 | Train Loss: 0.6894 | Train Acc: 69.89% | Val Loss: 0.8197 | Val Acc: 62.95%\n",
            "Epoch 16/30 | Train Loss: 0.6951 | Train Acc: 70.47% | Val Loss: 0.7889 | Val Acc: 65.77%\n",
            "Epoch 17/30 | Train Loss: 0.6881 | Train Acc: 70.14% | Val Loss: 0.8178 | Val Acc: 64.64%\n",
            "Epoch 18/30 | Train Loss: 0.6807 | Train Acc: 70.04% | Val Loss: 0.8130 | Val Acc: 65.65%\n",
            "Early stopping at epoch 18\n"
          ]
        },
        {
          "data": {
            "text/html": [],
            "text/plain": [
              "<IPython.core.display.HTML object>"
            ]
          },
          "metadata": {},
          "output_type": "display_data"
        },
        {
          "data": {
            "text/html": [
              "<br>    <style><br>        .wandb-row {<br>            display: flex;<br>            flex-direction: row;<br>            flex-wrap: wrap;<br>            justify-content: flex-start;<br>            width: 100%;<br>        }<br>        .wandb-col {<br>            display: flex;<br>            flex-direction: column;<br>            flex-basis: 100%;<br>            flex: 1;<br>            padding: 10px;<br>        }<br>    </style><br><div class=\"wandb-row\"><div class=\"wandb-col\"><h3>Run history:</h3><br/><table class=\"wandb\"><tr><td>epoch</td><td>▁▁▂▂▃▃▃▄▄▅▅▆▆▆▇▇██</td></tr><tr><td>final_val_acc</td><td>▁</td></tr><tr><td>train_acc</td><td>▁▂▄▃▄▄▆▅▅▆▇▇▇▇████</td></tr><tr><td>train_loss</td><td>█▇▆▆▅▅▄▄▃▃▂▂▂▂▁▁▁▁</td></tr><tr><td>val_acc</td><td>▁▂▃▄▅▄▅▅▄▆▆▇█▆▄▇▅▇</td></tr><tr><td>val_loss</td><td>█▆▅▅▃▅▃▃▄▁▃▄▂▃▅▃▅▅</td></tr></table><br/></div><div class=\"wandb-col\"><h3>Run summary:</h3><br/><table class=\"wandb\"><tr><td>epoch</td><td>18</td></tr><tr><td>final_val_acc</td><td>0.65653</td></tr><tr><td>train_acc</td><td>0.70042</td></tr><tr><td>train_loss</td><td>0.68071</td></tr><tr><td>val_acc</td><td>0.65653</td></tr><tr><td>val_loss</td><td>0.81299</td></tr></table><br/></div></div>"
            ],
            "text/plain": [
              "<IPython.core.display.HTML object>"
            ]
          },
          "metadata": {},
          "output_type": "display_data"
        },
        {
          "data": {
            "text/html": [
              " View run <strong style=\"color:#cdcd00\">HD=50_NL=1_DO=0.3_LR=0.01_BS=128</strong> at: <a href='https://wandb.ai/angelajcnto-the-university-of-western-australia/absa-bilstm-attention/runs/au9mohjw' target=\"_blank\">https://wandb.ai/angelajcnto-the-university-of-western-australia/absa-bilstm-attention/runs/au9mohjw</a><br> View project at: <a href='https://wandb.ai/angelajcnto-the-university-of-western-australia/absa-bilstm-attention' target=\"_blank\">https://wandb.ai/angelajcnto-the-university-of-western-australia/absa-bilstm-attention</a><br>Synced 5 W&B file(s), 0 media file(s), 0 artifact file(s) and 0 other file(s)"
            ],
            "text/plain": [
              "<IPython.core.display.HTML object>"
            ]
          },
          "metadata": {},
          "output_type": "display_data"
        },
        {
          "data": {
            "text/html": [
              "Find logs at: <code>.\\wandb\\run-20250425_204411-au9mohjw\\logs</code>"
            ],
            "text/plain": [
              "<IPython.core.display.HTML object>"
            ]
          },
          "metadata": {},
          "output_type": "display_data"
        },
        {
          "data": {
            "text/html": [
              "Tracking run with wandb version 0.19.10"
            ],
            "text/plain": [
              "<IPython.core.display.HTML object>"
            ]
          },
          "metadata": {},
          "output_type": "display_data"
        },
        {
          "data": {
            "text/html": [
              "Run data is saved locally in <code>c:\\Users\\angel\\OneDrive\\uni_projects\\DATA_SCIENCE_ML\\NLP-Aspect-Based-Sentiment-Analysis\\wandb\\run-20250425_204515-2jgp6slr</code>"
            ],
            "text/plain": [
              "<IPython.core.display.HTML object>"
            ]
          },
          "metadata": {},
          "output_type": "display_data"
        },
        {
          "data": {
            "text/html": [
              "Syncing run <strong><a href='https://wandb.ai/angelajcnto-the-university-of-western-australia/absa-bilstm-attention/runs/2jgp6slr' target=\"_blank\">HD=50_NL=1_DO=0.3_LR=0.005_BS=32</a></strong> to <a href='https://wandb.ai/angelajcnto-the-university-of-western-australia/absa-bilstm-attention' target=\"_blank\">Weights & Biases</a> (<a href='https://wandb.me/developer-guide' target=\"_blank\">docs</a>)<br>"
            ],
            "text/plain": [
              "<IPython.core.display.HTML object>"
            ]
          },
          "metadata": {},
          "output_type": "display_data"
        },
        {
          "data": {
            "text/html": [
              " View project at <a href='https://wandb.ai/angelajcnto-the-university-of-western-australia/absa-bilstm-attention' target=\"_blank\">https://wandb.ai/angelajcnto-the-university-of-western-australia/absa-bilstm-attention</a>"
            ],
            "text/plain": [
              "<IPython.core.display.HTML object>"
            ]
          },
          "metadata": {},
          "output_type": "display_data"
        },
        {
          "data": {
            "text/html": [
              " View run at <a href='https://wandb.ai/angelajcnto-the-university-of-western-australia/absa-bilstm-attention/runs/2jgp6slr' target=\"_blank\">https://wandb.ai/angelajcnto-the-university-of-western-australia/absa-bilstm-attention/runs/2jgp6slr</a>"
            ],
            "text/plain": [
              "<IPython.core.display.HTML object>"
            ]
          },
          "metadata": {},
          "output_type": "display_data"
        },
        {
          "name": "stdout",
          "output_type": "stream",
          "text": [
            "\n",
            "Testing: hidden_dim=50, num_layers=1, dropout=0.3, lr=0.005, batch_size=32\n",
            "Epoch 1/30 | Train Loss: 0.9123 | Train Acc: 59.58% | Val Loss: 0.8655 | Val Acc: 61.94%\n",
            "Epoch 2/30 | Train Loss: 0.8647 | Train Acc: 61.82% | Val Loss: 0.8231 | Val Acc: 63.18%\n",
            "Epoch 3/30 | Train Loss: 0.8425 | Train Acc: 63.09% | Val Loss: 0.8067 | Val Acc: 63.18%\n",
            "Epoch 4/30 | Train Loss: 0.8232 | Train Acc: 63.64% | Val Loss: 0.8024 | Val Acc: 63.18%\n",
            "Epoch 5/30 | Train Loss: 0.8065 | Train Acc: 65.02% | Val Loss: 0.8069 | Val Acc: 65.88%\n",
            "Epoch 6/30 | Train Loss: 0.7911 | Train Acc: 64.80% | Val Loss: 0.7740 | Val Acc: 65.20%\n",
            "Epoch 7/30 | Train Loss: 0.7738 | Train Acc: 65.37% | Val Loss: 0.7883 | Val Acc: 63.96%\n",
            "Epoch 8/30 | Train Loss: 0.7705 | Train Acc: 65.85% | Val Loss: 0.7537 | Val Acc: 65.88%\n",
            "Epoch 9/30 | Train Loss: 0.7538 | Train Acc: 66.73% | Val Loss: 0.7635 | Val Acc: 65.20%\n",
            "Epoch 10/30 | Train Loss: 0.7390 | Train Acc: 67.70% | Val Loss: 0.7581 | Val Acc: 64.98%\n",
            "Early stopping at epoch 10\n"
          ]
        },
        {
          "data": {
            "text/html": [],
            "text/plain": [
              "<IPython.core.display.HTML object>"
            ]
          },
          "metadata": {},
          "output_type": "display_data"
        },
        {
          "data": {
            "text/html": [
              "<br>    <style><br>        .wandb-row {<br>            display: flex;<br>            flex-direction: row;<br>            flex-wrap: wrap;<br>            justify-content: flex-start;<br>            width: 100%;<br>        }<br>        .wandb-col {<br>            display: flex;<br>            flex-direction: column;<br>            flex-basis: 100%;<br>            flex: 1;<br>            padding: 10px;<br>        }<br>    </style><br><div class=\"wandb-row\"><div class=\"wandb-col\"><h3>Run history:</h3><br/><table class=\"wandb\"><tr><td>epoch</td><td>▁▂▃▃▄▅▆▆▇█</td></tr><tr><td>final_val_acc</td><td>▁</td></tr><tr><td>train_acc</td><td>▁▃▄▄▆▅▆▆▇█</td></tr><tr><td>train_loss</td><td>█▆▅▄▄▃▂▂▂▁</td></tr><tr><td>val_acc</td><td>▁▃▃▃█▇▅█▇▆</td></tr><tr><td>val_loss</td><td>█▅▄▄▄▂▃▁▂▁</td></tr></table><br/></div><div class=\"wandb-col\"><h3>Run summary:</h3><br/><table class=\"wandb\"><tr><td>epoch</td><td>10</td></tr><tr><td>final_val_acc</td><td>0.64977</td></tr><tr><td>train_acc</td><td>0.67701</td></tr><tr><td>train_loss</td><td>0.73902</td></tr><tr><td>val_acc</td><td>0.64977</td></tr><tr><td>val_loss</td><td>0.7581</td></tr></table><br/></div></div>"
            ],
            "text/plain": [
              "<IPython.core.display.HTML object>"
            ]
          },
          "metadata": {},
          "output_type": "display_data"
        },
        {
          "data": {
            "text/html": [
              " View run <strong style=\"color:#cdcd00\">HD=50_NL=1_DO=0.3_LR=0.005_BS=32</strong> at: <a href='https://wandb.ai/angelajcnto-the-university-of-western-australia/absa-bilstm-attention/runs/2jgp6slr' target=\"_blank\">https://wandb.ai/angelajcnto-the-university-of-western-australia/absa-bilstm-attention/runs/2jgp6slr</a><br> View project at: <a href='https://wandb.ai/angelajcnto-the-university-of-western-australia/absa-bilstm-attention' target=\"_blank\">https://wandb.ai/angelajcnto-the-university-of-western-australia/absa-bilstm-attention</a><br>Synced 5 W&B file(s), 0 media file(s), 0 artifact file(s) and 0 other file(s)"
            ],
            "text/plain": [
              "<IPython.core.display.HTML object>"
            ]
          },
          "metadata": {},
          "output_type": "display_data"
        },
        {
          "data": {
            "text/html": [
              "Find logs at: <code>.\\wandb\\run-20250425_204515-2jgp6slr\\logs</code>"
            ],
            "text/plain": [
              "<IPython.core.display.HTML object>"
            ]
          },
          "metadata": {},
          "output_type": "display_data"
        },
        {
          "data": {
            "text/html": [
              "creating run (0.5s)"
            ],
            "text/plain": [
              "<IPython.core.display.HTML object>"
            ]
          },
          "metadata": {},
          "output_type": "display_data"
        },
        {
          "data": {
            "text/html": [
              "Tracking run with wandb version 0.19.10"
            ],
            "text/plain": [
              "<IPython.core.display.HTML object>"
            ]
          },
          "metadata": {},
          "output_type": "display_data"
        },
        {
          "data": {
            "text/html": [
              "Run data is saved locally in <code>c:\\Users\\angel\\OneDrive\\uni_projects\\DATA_SCIENCE_ML\\NLP-Aspect-Based-Sentiment-Analysis\\wandb\\run-20250425_204558-6ae9djan</code>"
            ],
            "text/plain": [
              "<IPython.core.display.HTML object>"
            ]
          },
          "metadata": {},
          "output_type": "display_data"
        },
        {
          "data": {
            "text/html": [
              "Syncing run <strong><a href='https://wandb.ai/angelajcnto-the-university-of-western-australia/absa-bilstm-attention/runs/6ae9djan' target=\"_blank\">HD=50_NL=1_DO=0.3_LR=0.005_BS=64</a></strong> to <a href='https://wandb.ai/angelajcnto-the-university-of-western-australia/absa-bilstm-attention' target=\"_blank\">Weights & Biases</a> (<a href='https://wandb.me/developer-guide' target=\"_blank\">docs</a>)<br>"
            ],
            "text/plain": [
              "<IPython.core.display.HTML object>"
            ]
          },
          "metadata": {},
          "output_type": "display_data"
        },
        {
          "data": {
            "text/html": [
              " View project at <a href='https://wandb.ai/angelajcnto-the-university-of-western-australia/absa-bilstm-attention' target=\"_blank\">https://wandb.ai/angelajcnto-the-university-of-western-australia/absa-bilstm-attention</a>"
            ],
            "text/plain": [
              "<IPython.core.display.HTML object>"
            ]
          },
          "metadata": {},
          "output_type": "display_data"
        },
        {
          "data": {
            "text/html": [
              " View run at <a href='https://wandb.ai/angelajcnto-the-university-of-western-australia/absa-bilstm-attention/runs/6ae9djan' target=\"_blank\">https://wandb.ai/angelajcnto-the-university-of-western-australia/absa-bilstm-attention/runs/6ae9djan</a>"
            ],
            "text/plain": [
              "<IPython.core.display.HTML object>"
            ]
          },
          "metadata": {},
          "output_type": "display_data"
        },
        {
          "name": "stdout",
          "output_type": "stream",
          "text": [
            "\n",
            "Testing: hidden_dim=50, num_layers=1, dropout=0.3, lr=0.005, batch_size=64\n",
            "Epoch 1/30 | Train Loss: 0.9012 | Train Acc: 60.38% | Val Loss: 0.8741 | Val Acc: 57.66%\n",
            "Epoch 2/30 | Train Loss: 0.8588 | Train Acc: 62.07% | Val Loss: 0.8135 | Val Acc: 62.27%\n",
            "Epoch 3/30 | Train Loss: 0.8322 | Train Acc: 63.20% | Val Loss: 0.8065 | Val Acc: 63.74%\n",
            "Epoch 4/30 | Train Loss: 0.8155 | Train Acc: 64.43% | Val Loss: 0.8337 | Val Acc: 62.16%\n",
            "Epoch 5/30 | Train Loss: 0.7916 | Train Acc: 65.08% | Val Loss: 0.7730 | Val Acc: 64.64%\n",
            "Epoch 6/30 | Train Loss: 0.7697 | Train Acc: 65.90% | Val Loss: 0.7860 | Val Acc: 64.08%\n",
            "Epoch 7/30 | Train Loss: 0.7509 | Train Acc: 66.52% | Val Loss: 0.7682 | Val Acc: 64.30%\n",
            "Epoch 8/30 | Train Loss: 0.7319 | Train Acc: 68.21% | Val Loss: 0.7751 | Val Acc: 65.20%\n",
            "Epoch 9/30 | Train Loss: 0.7129 | Train Acc: 69.31% | Val Loss: 0.7735 | Val Acc: 66.33%\n",
            "Epoch 10/30 | Train Loss: 0.7003 | Train Acc: 69.59% | Val Loss: 0.7729 | Val Acc: 65.54%\n",
            "Epoch 11/30 | Train Loss: 0.6710 | Train Acc: 71.28% | Val Loss: 0.8292 | Val Acc: 63.18%\n",
            "Epoch 12/30 | Train Loss: 0.6635 | Train Acc: 71.35% | Val Loss: 0.7722 | Val Acc: 64.53%\n",
            "Epoch 13/30 | Train Loss: 0.6421 | Train Acc: 72.52% | Val Loss: 0.7951 | Val Acc: 64.30%\n",
            "Epoch 14/30 | Train Loss: 0.6161 | Train Acc: 73.53% | Val Loss: 0.7846 | Val Acc: 66.89%\n",
            "Epoch 15/30 | Train Loss: 0.6007 | Train Acc: 74.64% | Val Loss: 0.8376 | Val Acc: 63.63%\n",
            "Epoch 16/30 | Train Loss: 0.5929 | Train Acc: 75.02% | Val Loss: 0.8192 | Val Acc: 65.32%\n",
            "Epoch 17/30 | Train Loss: 0.5803 | Train Acc: 75.49% | Val Loss: 0.8393 | Val Acc: 64.41%\n",
            "Epoch 18/30 | Train Loss: 0.5669 | Train Acc: 76.12% | Val Loss: 0.8301 | Val Acc: 65.54%\n",
            "Epoch 19/30 | Train Loss: 0.5455 | Train Acc: 77.15% | Val Loss: 0.8719 | Val Acc: 63.74%\n",
            "Early stopping at epoch 19\n"
          ]
        },
        {
          "data": {
            "text/html": [],
            "text/plain": [
              "<IPython.core.display.HTML object>"
            ]
          },
          "metadata": {},
          "output_type": "display_data"
        },
        {
          "data": {
            "text/html": [
              "<br>    <style><br>        .wandb-row {<br>            display: flex;<br>            flex-direction: row;<br>            flex-wrap: wrap;<br>            justify-content: flex-start;<br>            width: 100%;<br>        }<br>        .wandb-col {<br>            display: flex;<br>            flex-direction: column;<br>            flex-basis: 100%;<br>            flex: 1;<br>            padding: 10px;<br>        }<br>    </style><br><div class=\"wandb-row\"><div class=\"wandb-col\"><h3>Run history:</h3><br/><table class=\"wandb\"><tr><td>epoch</td><td>▁▁▂▂▃▃▃▄▄▅▅▅▆▆▆▇▇██</td></tr><tr><td>final_val_acc</td><td>▁</td></tr><tr><td>train_acc</td><td>▁▂▂▃▃▃▄▄▅▅▆▆▆▆▇▇▇██</td></tr><tr><td>train_loss</td><td>█▇▇▆▆▅▅▅▄▄▃▃▃▂▂▂▂▁▁</td></tr><tr><td>val_acc</td><td>▁▄▆▄▆▆▆▇█▇▅▆▆█▆▇▆▇▆</td></tr><tr><td>val_loss</td><td>█▄▄▅▁▂▁▁▁▁▅▁▃▂▆▄▆▅█</td></tr></table><br/></div><div class=\"wandb-col\"><h3>Run summary:</h3><br/><table class=\"wandb\"><tr><td>epoch</td><td>19</td></tr><tr><td>final_val_acc</td><td>0.63739</td></tr><tr><td>train_acc</td><td>0.77151</td></tr><tr><td>train_loss</td><td>0.54546</td></tr><tr><td>val_acc</td><td>0.63739</td></tr><tr><td>val_loss</td><td>0.87187</td></tr></table><br/></div></div>"
            ],
            "text/plain": [
              "<IPython.core.display.HTML object>"
            ]
          },
          "metadata": {},
          "output_type": "display_data"
        },
        {
          "data": {
            "text/html": [
              " View run <strong style=\"color:#cdcd00\">HD=50_NL=1_DO=0.3_LR=0.005_BS=64</strong> at: <a href='https://wandb.ai/angelajcnto-the-university-of-western-australia/absa-bilstm-attention/runs/6ae9djan' target=\"_blank\">https://wandb.ai/angelajcnto-the-university-of-western-australia/absa-bilstm-attention/runs/6ae9djan</a><br> View project at: <a href='https://wandb.ai/angelajcnto-the-university-of-western-australia/absa-bilstm-attention' target=\"_blank\">https://wandb.ai/angelajcnto-the-university-of-western-australia/absa-bilstm-attention</a><br>Synced 5 W&B file(s), 0 media file(s), 0 artifact file(s) and 0 other file(s)"
            ],
            "text/plain": [
              "<IPython.core.display.HTML object>"
            ]
          },
          "metadata": {},
          "output_type": "display_data"
        },
        {
          "data": {
            "text/html": [
              "Find logs at: <code>.\\wandb\\run-20250425_204558-6ae9djan\\logs</code>"
            ],
            "text/plain": [
              "<IPython.core.display.HTML object>"
            ]
          },
          "metadata": {},
          "output_type": "display_data"
        },
        {
          "data": {
            "text/html": [],
            "text/plain": [
              "<IPython.core.display.HTML object>"
            ]
          },
          "metadata": {},
          "output_type": "display_data"
        },
        {
          "data": {
            "text/html": [
              "Tracking run with wandb version 0.19.10"
            ],
            "text/plain": [
              "<IPython.core.display.HTML object>"
            ]
          },
          "metadata": {},
          "output_type": "display_data"
        },
        {
          "data": {
            "text/html": [
              "Run data is saved locally in <code>c:\\Users\\angel\\OneDrive\\uni_projects\\DATA_SCIENCE_ML\\NLP-Aspect-Based-Sentiment-Analysis\\wandb\\run-20250425_204707-wimw53gy</code>"
            ],
            "text/plain": [
              "<IPython.core.display.HTML object>"
            ]
          },
          "metadata": {},
          "output_type": "display_data"
        },
        {
          "data": {
            "text/html": [
              "Syncing run <strong><a href='https://wandb.ai/angelajcnto-the-university-of-western-australia/absa-bilstm-attention/runs/wimw53gy' target=\"_blank\">HD=50_NL=1_DO=0.3_LR=0.005_BS=128</a></strong> to <a href='https://wandb.ai/angelajcnto-the-university-of-western-australia/absa-bilstm-attention' target=\"_blank\">Weights & Biases</a> (<a href='https://wandb.me/developer-guide' target=\"_blank\">docs</a>)<br>"
            ],
            "text/plain": [
              "<IPython.core.display.HTML object>"
            ]
          },
          "metadata": {},
          "output_type": "display_data"
        },
        {
          "data": {
            "text/html": [
              " View project at <a href='https://wandb.ai/angelajcnto-the-university-of-western-australia/absa-bilstm-attention' target=\"_blank\">https://wandb.ai/angelajcnto-the-university-of-western-australia/absa-bilstm-attention</a>"
            ],
            "text/plain": [
              "<IPython.core.display.HTML object>"
            ]
          },
          "metadata": {},
          "output_type": "display_data"
        },
        {
          "data": {
            "text/html": [
              " View run at <a href='https://wandb.ai/angelajcnto-the-university-of-western-australia/absa-bilstm-attention/runs/wimw53gy' target=\"_blank\">https://wandb.ai/angelajcnto-the-university-of-western-australia/absa-bilstm-attention/runs/wimw53gy</a>"
            ],
            "text/plain": [
              "<IPython.core.display.HTML object>"
            ]
          },
          "metadata": {},
          "output_type": "display_data"
        },
        {
          "name": "stdout",
          "output_type": "stream",
          "text": [
            "\n",
            "Testing: hidden_dim=50, num_layers=1, dropout=0.3, lr=0.005, batch_size=128\n",
            "Epoch 1/30 | Train Loss: 0.9228 | Train Acc: 58.11% | Val Loss: 0.8589 | Val Acc: 60.47%\n",
            "Epoch 2/30 | Train Loss: 0.8639 | Train Acc: 62.71% | Val Loss: 0.8223 | Val Acc: 61.60%\n",
            "Epoch 3/30 | Train Loss: 0.8368 | Train Acc: 63.19% | Val Loss: 0.8156 | Val Acc: 62.16%\n",
            "Epoch 4/30 | Train Loss: 0.8194 | Train Acc: 63.96% | Val Loss: 0.8023 | Val Acc: 63.51%\n",
            "Epoch 5/30 | Train Loss: 0.7914 | Train Acc: 65.50% | Val Loss: 0.7763 | Val Acc: 64.53%\n",
            "Epoch 6/30 | Train Loss: 0.7687 | Train Acc: 66.49% | Val Loss: 0.7772 | Val Acc: 65.43%\n",
            "Epoch 7/30 | Train Loss: 0.7491 | Train Acc: 67.24% | Val Loss: 0.7584 | Val Acc: 65.32%\n",
            "Epoch 8/30 | Train Loss: 0.7247 | Train Acc: 68.32% | Val Loss: 0.7644 | Val Acc: 65.43%\n",
            "Epoch 9/30 | Train Loss: 0.6984 | Train Acc: 69.63% | Val Loss: 0.7735 | Val Acc: 65.54%\n",
            "Epoch 10/30 | Train Loss: 0.6762 | Train Acc: 70.62% | Val Loss: 0.7814 | Val Acc: 65.88%\n",
            "Epoch 11/30 | Train Loss: 0.6588 | Train Acc: 71.85% | Val Loss: 0.7840 | Val Acc: 64.75%\n",
            "Epoch 12/30 | Train Loss: 0.6230 | Train Acc: 73.81% | Val Loss: 0.7904 | Val Acc: 64.30%\n",
            "Epoch 13/30 | Train Loss: 0.6048 | Train Acc: 74.41% | Val Loss: 0.7992 | Val Acc: 66.10%\n",
            "Epoch 14/30 | Train Loss: 0.5842 | Train Acc: 75.30% | Val Loss: 0.7944 | Val Acc: 66.44%\n",
            "Epoch 15/30 | Train Loss: 0.5678 | Train Acc: 75.54% | Val Loss: 0.8342 | Val Acc: 64.75%\n",
            "Epoch 16/30 | Train Loss: 0.5500 | Train Acc: 76.35% | Val Loss: 0.8548 | Val Acc: 65.65%\n",
            "Epoch 17/30 | Train Loss: 0.5272 | Train Acc: 77.79% | Val Loss: 0.8327 | Val Acc: 67.12%\n",
            "Epoch 18/30 | Train Loss: 0.5201 | Train Acc: 78.18% | Val Loss: 0.8515 | Val Acc: 65.20%\n",
            "Epoch 19/30 | Train Loss: 0.5010 | Train Acc: 79.00% | Val Loss: 0.9016 | Val Acc: 63.63%\n",
            "Epoch 20/30 | Train Loss: 0.4608 | Train Acc: 80.96% | Val Loss: 0.9194 | Val Acc: 62.84%\n",
            "Epoch 21/30 | Train Loss: 0.4511 | Train Acc: 81.28% | Val Loss: 0.9309 | Val Acc: 64.53%\n",
            "Epoch 22/30 | Train Loss: 0.4456 | Train Acc: 82.24% | Val Loss: 0.9728 | Val Acc: 64.53%\n",
            "Early stopping at epoch 22\n"
          ]
        },
        {
          "data": {
            "text/html": [],
            "text/plain": [
              "<IPython.core.display.HTML object>"
            ]
          },
          "metadata": {},
          "output_type": "display_data"
        },
        {
          "data": {
            "text/html": [
              "<br>    <style><br>        .wandb-row {<br>            display: flex;<br>            flex-direction: row;<br>            flex-wrap: wrap;<br>            justify-content: flex-start;<br>            width: 100%;<br>        }<br>        .wandb-col {<br>            display: flex;<br>            flex-direction: column;<br>            flex-basis: 100%;<br>            flex: 1;<br>            padding: 10px;<br>        }<br>    </style><br><div class=\"wandb-row\"><div class=\"wandb-col\"><h3>Run history:</h3><br/><table class=\"wandb\"><tr><td>epoch</td><td>▁▁▂▂▂▃▃▃▄▄▄▅▅▅▆▆▆▇▇▇██</td></tr><tr><td>final_val_acc</td><td>▁</td></tr><tr><td>train_acc</td><td>▁▂▂▃▃▃▄▄▄▅▅▆▆▆▆▆▇▇▇███</td></tr><tr><td>train_loss</td><td>█▇▇▆▆▆▅▅▅▄▄▄▃▃▃▃▂▂▂▁▁▁</td></tr><tr><td>val_acc</td><td>▁▂▃▄▅▆▆▆▆▇▆▅▇▇▆▆█▆▄▃▅▅</td></tr><tr><td>val_loss</td><td>▄▃▃▂▂▂▁▁▁▂▂▂▂▂▃▄▃▄▆▆▇█</td></tr></table><br/></div><div class=\"wandb-col\"><h3>Run summary:</h3><br/><table class=\"wandb\"><tr><td>epoch</td><td>22</td></tr><tr><td>final_val_acc</td><td>0.64527</td></tr><tr><td>train_acc</td><td>0.82243</td></tr><tr><td>train_loss</td><td>0.44555</td></tr><tr><td>val_acc</td><td>0.64527</td></tr><tr><td>val_loss</td><td>0.97278</td></tr></table><br/></div></div>"
            ],
            "text/plain": [
              "<IPython.core.display.HTML object>"
            ]
          },
          "metadata": {},
          "output_type": "display_data"
        },
        {
          "data": {
            "text/html": [
              " View run <strong style=\"color:#cdcd00\">HD=50_NL=1_DO=0.3_LR=0.005_BS=128</strong> at: <a href='https://wandb.ai/angelajcnto-the-university-of-western-australia/absa-bilstm-attention/runs/wimw53gy' target=\"_blank\">https://wandb.ai/angelajcnto-the-university-of-western-australia/absa-bilstm-attention/runs/wimw53gy</a><br> View project at: <a href='https://wandb.ai/angelajcnto-the-university-of-western-australia/absa-bilstm-attention' target=\"_blank\">https://wandb.ai/angelajcnto-the-university-of-western-australia/absa-bilstm-attention</a><br>Synced 5 W&B file(s), 0 media file(s), 0 artifact file(s) and 0 other file(s)"
            ],
            "text/plain": [
              "<IPython.core.display.HTML object>"
            ]
          },
          "metadata": {},
          "output_type": "display_data"
        },
        {
          "data": {
            "text/html": [
              "Find logs at: <code>.\\wandb\\run-20250425_204707-wimw53gy\\logs</code>"
            ],
            "text/plain": [
              "<IPython.core.display.HTML object>"
            ]
          },
          "metadata": {},
          "output_type": "display_data"
        },
        {
          "data": {
            "text/html": [
              "Tracking run with wandb version 0.19.10"
            ],
            "text/plain": [
              "<IPython.core.display.HTML object>"
            ]
          },
          "metadata": {},
          "output_type": "display_data"
        },
        {
          "data": {
            "text/html": [
              "Run data is saved locally in <code>c:\\Users\\angel\\OneDrive\\uni_projects\\DATA_SCIENCE_ML\\NLP-Aspect-Based-Sentiment-Analysis\\wandb\\run-20250425_204821-7rbujxfl</code>"
            ],
            "text/plain": [
              "<IPython.core.display.HTML object>"
            ]
          },
          "metadata": {},
          "output_type": "display_data"
        },
        {
          "data": {
            "text/html": [
              "Syncing run <strong><a href='https://wandb.ai/angelajcnto-the-university-of-western-australia/absa-bilstm-attention/runs/7rbujxfl' target=\"_blank\">HD=50_NL=1_DO=0.3_LR=0.001_BS=32</a></strong> to <a href='https://wandb.ai/angelajcnto-the-university-of-western-australia/absa-bilstm-attention' target=\"_blank\">Weights & Biases</a> (<a href='https://wandb.me/developer-guide' target=\"_blank\">docs</a>)<br>"
            ],
            "text/plain": [
              "<IPython.core.display.HTML object>"
            ]
          },
          "metadata": {},
          "output_type": "display_data"
        },
        {
          "data": {
            "text/html": [
              " View project at <a href='https://wandb.ai/angelajcnto-the-university-of-western-australia/absa-bilstm-attention' target=\"_blank\">https://wandb.ai/angelajcnto-the-university-of-western-australia/absa-bilstm-attention</a>"
            ],
            "text/plain": [
              "<IPython.core.display.HTML object>"
            ]
          },
          "metadata": {},
          "output_type": "display_data"
        },
        {
          "data": {
            "text/html": [
              " View run at <a href='https://wandb.ai/angelajcnto-the-university-of-western-australia/absa-bilstm-attention/runs/7rbujxfl' target=\"_blank\">https://wandb.ai/angelajcnto-the-university-of-western-australia/absa-bilstm-attention/runs/7rbujxfl</a>"
            ],
            "text/plain": [
              "<IPython.core.display.HTML object>"
            ]
          },
          "metadata": {},
          "output_type": "display_data"
        },
        {
          "name": "stdout",
          "output_type": "stream",
          "text": [
            "\n",
            "Testing: hidden_dim=50, num_layers=1, dropout=0.3, lr=0.001, batch_size=32\n",
            "Epoch 1/30 | Train Loss: 0.9093 | Train Acc: 59.65% | Val Loss: 0.8428 | Val Acc: 62.27%\n",
            "Epoch 2/30 | Train Loss: 0.8544 | Train Acc: 62.96% | Val Loss: 0.8167 | Val Acc: 62.61%\n",
            "Epoch 3/30 | Train Loss: 0.8317 | Train Acc: 63.50% | Val Loss: 0.8343 | Val Acc: 62.39%\n",
            "Epoch 4/30 | Train Loss: 0.8111 | Train Acc: 65.08% | Val Loss: 0.7894 | Val Acc: 64.53%\n",
            "Epoch 5/30 | Train Loss: 0.7930 | Train Acc: 65.16% | Val Loss: 0.7935 | Val Acc: 64.53%\n",
            "Epoch 6/30 | Train Loss: 0.7665 | Train Acc: 67.01% | Val Loss: 0.7896 | Val Acc: 64.98%\n",
            "Epoch 7/30 | Train Loss: 0.7408 | Train Acc: 67.38% | Val Loss: 0.7707 | Val Acc: 65.20%\n",
            "Epoch 8/30 | Train Loss: 0.7133 | Train Acc: 69.01% | Val Loss: 0.7780 | Val Acc: 64.41%\n",
            "Epoch 9/30 | Train Loss: 0.6805 | Train Acc: 70.41% | Val Loss: 0.7709 | Val Acc: 66.44%\n",
            "Epoch 10/30 | Train Loss: 0.6409 | Train Acc: 72.37% | Val Loss: 0.7984 | Val Acc: 67.00%\n",
            "Epoch 11/30 | Train Loss: 0.6051 | Train Acc: 74.26% | Val Loss: 0.8067 | Val Acc: 65.88%\n",
            "Epoch 12/30 | Train Loss: 0.5662 | Train Acc: 76.19% | Val Loss: 0.8244 | Val Acc: 64.98%\n",
            "Epoch 13/30 | Train Loss: 0.5277 | Train Acc: 77.45% | Val Loss: 0.8681 | Val Acc: 65.99%\n",
            "Epoch 14/30 | Train Loss: 0.4894 | Train Acc: 79.76% | Val Loss: 0.8950 | Val Acc: 66.78%\n",
            "Epoch 15/30 | Train Loss: 0.4479 | Train Acc: 81.68% | Val Loss: 0.9498 | Val Acc: 66.22%\n",
            "Early stopping at epoch 15\n"
          ]
        },
        {
          "data": {
            "text/html": [],
            "text/plain": [
              "<IPython.core.display.HTML object>"
            ]
          },
          "metadata": {},
          "output_type": "display_data"
        },
        {
          "data": {
            "text/html": [
              "<br>    <style><br>        .wandb-row {<br>            display: flex;<br>            flex-direction: row;<br>            flex-wrap: wrap;<br>            justify-content: flex-start;<br>            width: 100%;<br>        }<br>        .wandb-col {<br>            display: flex;<br>            flex-direction: column;<br>            flex-basis: 100%;<br>            flex: 1;<br>            padding: 10px;<br>        }<br>    </style><br><div class=\"wandb-row\"><div class=\"wandb-col\"><h3>Run history:</h3><br/><table class=\"wandb\"><tr><td>epoch</td><td>▁▁▂▃▃▃▄▅▅▅▆▇▇▇█</td></tr><tr><td>final_val_acc</td><td>▁</td></tr><tr><td>train_acc</td><td>▁▂▂▃▃▃▃▄▄▅▆▆▇▇█</td></tr><tr><td>train_loss</td><td>█▇▇▇▆▆▅▅▅▄▃▃▂▂▁</td></tr><tr><td>val_acc</td><td>▁▂▁▄▄▅▅▄▇█▆▅▇█▇</td></tr><tr><td>val_loss</td><td>▄▃▃▂▂▂▁▁▁▂▂▃▅▆█</td></tr></table><br/></div><div class=\"wandb-col\"><h3>Run summary:</h3><br/><table class=\"wandb\"><tr><td>epoch</td><td>15</td></tr><tr><td>final_val_acc</td><td>0.66216</td></tr><tr><td>train_acc</td><td>0.81678</td></tr><tr><td>train_loss</td><td>0.44792</td></tr><tr><td>val_acc</td><td>0.66216</td></tr><tr><td>val_loss</td><td>0.94978</td></tr></table><br/></div></div>"
            ],
            "text/plain": [
              "<IPython.core.display.HTML object>"
            ]
          },
          "metadata": {},
          "output_type": "display_data"
        },
        {
          "data": {
            "text/html": [
              " View run <strong style=\"color:#cdcd00\">HD=50_NL=1_DO=0.3_LR=0.001_BS=32</strong> at: <a href='https://wandb.ai/angelajcnto-the-university-of-western-australia/absa-bilstm-attention/runs/7rbujxfl' target=\"_blank\">https://wandb.ai/angelajcnto-the-university-of-western-australia/absa-bilstm-attention/runs/7rbujxfl</a><br> View project at: <a href='https://wandb.ai/angelajcnto-the-university-of-western-australia/absa-bilstm-attention' target=\"_blank\">https://wandb.ai/angelajcnto-the-university-of-western-australia/absa-bilstm-attention</a><br>Synced 5 W&B file(s), 0 media file(s), 0 artifact file(s) and 0 other file(s)"
            ],
            "text/plain": [
              "<IPython.core.display.HTML object>"
            ]
          },
          "metadata": {},
          "output_type": "display_data"
        },
        {
          "data": {
            "text/html": [
              "Find logs at: <code>.\\wandb\\run-20250425_204821-7rbujxfl\\logs</code>"
            ],
            "text/plain": [
              "<IPython.core.display.HTML object>"
            ]
          },
          "metadata": {},
          "output_type": "display_data"
        },
        {
          "data": {
            "text/html": [
              "creating run (0.4s)"
            ],
            "text/plain": [
              "<IPython.core.display.HTML object>"
            ]
          },
          "metadata": {},
          "output_type": "display_data"
        },
        {
          "data": {
            "text/html": [
              "Tracking run with wandb version 0.19.10"
            ],
            "text/plain": [
              "<IPython.core.display.HTML object>"
            ]
          },
          "metadata": {},
          "output_type": "display_data"
        },
        {
          "data": {
            "text/html": [
              "Run data is saved locally in <code>c:\\Users\\angel\\OneDrive\\uni_projects\\DATA_SCIENCE_ML\\NLP-Aspect-Based-Sentiment-Analysis\\wandb\\run-20250425_204922-o9j7n96m</code>"
            ],
            "text/plain": [
              "<IPython.core.display.HTML object>"
            ]
          },
          "metadata": {},
          "output_type": "display_data"
        },
        {
          "data": {
            "text/html": [
              "Syncing run <strong><a href='https://wandb.ai/angelajcnto-the-university-of-western-australia/absa-bilstm-attention/runs/o9j7n96m' target=\"_blank\">HD=50_NL=1_DO=0.3_LR=0.001_BS=64</a></strong> to <a href='https://wandb.ai/angelajcnto-the-university-of-western-australia/absa-bilstm-attention' target=\"_blank\">Weights & Biases</a> (<a href='https://wandb.me/developer-guide' target=\"_blank\">docs</a>)<br>"
            ],
            "text/plain": [
              "<IPython.core.display.HTML object>"
            ]
          },
          "metadata": {},
          "output_type": "display_data"
        },
        {
          "data": {
            "text/html": [
              " View project at <a href='https://wandb.ai/angelajcnto-the-university-of-western-australia/absa-bilstm-attention' target=\"_blank\">https://wandb.ai/angelajcnto-the-university-of-western-australia/absa-bilstm-attention</a>"
            ],
            "text/plain": [
              "<IPython.core.display.HTML object>"
            ]
          },
          "metadata": {},
          "output_type": "display_data"
        },
        {
          "data": {
            "text/html": [
              " View run at <a href='https://wandb.ai/angelajcnto-the-university-of-western-australia/absa-bilstm-attention/runs/o9j7n96m' target=\"_blank\">https://wandb.ai/angelajcnto-the-university-of-western-australia/absa-bilstm-attention/runs/o9j7n96m</a>"
            ],
            "text/plain": [
              "<IPython.core.display.HTML object>"
            ]
          },
          "metadata": {},
          "output_type": "display_data"
        },
        {
          "name": "stdout",
          "output_type": "stream",
          "text": [
            "\n",
            "Testing: hidden_dim=50, num_layers=1, dropout=0.3, lr=0.001, batch_size=64\n",
            "Epoch 1/30 | Train Loss: 0.9261 | Train Acc: 58.86% | Val Loss: 0.8592 | Val Acc: 60.14%\n",
            "Epoch 2/30 | Train Loss: 0.8599 | Train Acc: 62.23% | Val Loss: 0.8311 | Val Acc: 62.05%\n",
            "Epoch 3/30 | Train Loss: 0.8404 | Train Acc: 63.37% | Val Loss: 0.8207 | Val Acc: 62.39%\n",
            "Epoch 4/30 | Train Loss: 0.8242 | Train Acc: 64.01% | Val Loss: 0.8162 | Val Acc: 63.06%\n",
            "Epoch 5/30 | Train Loss: 0.8103 | Train Acc: 65.04% | Val Loss: 0.8061 | Val Acc: 63.85%\n",
            "Epoch 6/30 | Train Loss: 0.7922 | Train Acc: 65.30% | Val Loss: 0.8010 | Val Acc: 63.96%\n",
            "Epoch 7/30 | Train Loss: 0.7801 | Train Acc: 65.74% | Val Loss: 0.7906 | Val Acc: 64.30%\n",
            "Epoch 8/30 | Train Loss: 0.7560 | Train Acc: 66.88% | Val Loss: 0.7843 | Val Acc: 65.65%\n",
            "Epoch 9/30 | Train Loss: 0.7336 | Train Acc: 68.10% | Val Loss: 0.7820 | Val Acc: 64.19%\n",
            "Epoch 10/30 | Train Loss: 0.7103 | Train Acc: 69.18% | Val Loss: 0.8003 | Val Acc: 63.18%\n",
            "Epoch 11/30 | Train Loss: 0.6859 | Train Acc: 69.99% | Val Loss: 0.7678 | Val Acc: 66.33%\n",
            "Epoch 12/30 | Train Loss: 0.6584 | Train Acc: 71.42% | Val Loss: 0.8000 | Val Acc: 65.09%\n",
            "Epoch 13/30 | Train Loss: 0.6270 | Train Acc: 72.85% | Val Loss: 0.7919 | Val Acc: 65.20%\n",
            "Epoch 14/30 | Train Loss: 0.5941 | Train Acc: 74.91% | Val Loss: 0.8095 | Val Acc: 66.78%\n",
            "Epoch 15/30 | Train Loss: 0.5611 | Train Acc: 76.59% | Val Loss: 0.8161 | Val Acc: 67.23%\n",
            "Epoch 16/30 | Train Loss: 0.5239 | Train Acc: 78.36% | Val Loss: 0.8319 | Val Acc: 67.68%\n",
            "Epoch 17/30 | Train Loss: 0.4828 | Train Acc: 80.00% | Val Loss: 0.9035 | Val Acc: 64.75%\n",
            "Epoch 18/30 | Train Loss: 0.4481 | Train Acc: 82.13% | Val Loss: 0.9272 | Val Acc: 63.96%\n",
            "Epoch 19/30 | Train Loss: 0.4064 | Train Acc: 84.15% | Val Loss: 0.9736 | Val Acc: 64.41%\n",
            "Epoch 20/30 | Train Loss: 0.3761 | Train Acc: 85.43% | Val Loss: 1.0113 | Val Acc: 65.99%\n",
            "Epoch 21/30 | Train Loss: 0.3430 | Train Acc: 86.70% | Val Loss: 1.0330 | Val Acc: 64.86%\n",
            "Early stopping at epoch 21\n"
          ]
        },
        {
          "data": {
            "text/html": [],
            "text/plain": [
              "<IPython.core.display.HTML object>"
            ]
          },
          "metadata": {},
          "output_type": "display_data"
        },
        {
          "data": {
            "text/html": [
              "<br>    <style><br>        .wandb-row {<br>            display: flex;<br>            flex-direction: row;<br>            flex-wrap: wrap;<br>            justify-content: flex-start;<br>            width: 100%;<br>        }<br>        .wandb-col {<br>            display: flex;<br>            flex-direction: column;<br>            flex-basis: 100%;<br>            flex: 1;<br>            padding: 10px;<br>        }<br>    </style><br><div class=\"wandb-row\"><div class=\"wandb-col\"><h3>Run history:</h3><br/><table class=\"wandb\"><tr><td>epoch</td><td>▁▁▂▂▂▃▃▃▄▄▅▅▅▆▆▆▇▇▇██</td></tr><tr><td>final_val_acc</td><td>▁</td></tr><tr><td>train_acc</td><td>▁▂▂▂▃▃▃▃▃▄▄▄▅▅▅▆▆▇▇██</td></tr><tr><td>train_loss</td><td>█▇▇▇▇▆▆▆▆▅▅▅▄▄▄▃▃▂▂▁▁</td></tr><tr><td>val_acc</td><td>▁▃▃▄▄▅▅▆▅▄▇▆▆▇██▅▅▅▆▅</td></tr><tr><td>val_loss</td><td>▃▃▂▂▂▂▂▁▁▂▁▂▂▂▂▃▅▅▆▇█</td></tr></table><br/></div><div class=\"wandb-col\"><h3>Run summary:</h3><br/><table class=\"wandb\"><tr><td>epoch</td><td>21</td></tr><tr><td>final_val_acc</td><td>0.64865</td></tr><tr><td>train_acc</td><td>0.867</td></tr><tr><td>train_loss</td><td>0.343</td></tr><tr><td>val_acc</td><td>0.64865</td></tr><tr><td>val_loss</td><td>1.03299</td></tr></table><br/></div></div>"
            ],
            "text/plain": [
              "<IPython.core.display.HTML object>"
            ]
          },
          "metadata": {},
          "output_type": "display_data"
        },
        {
          "data": {
            "text/html": [
              " View run <strong style=\"color:#cdcd00\">HD=50_NL=1_DO=0.3_LR=0.001_BS=64</strong> at: <a href='https://wandb.ai/angelajcnto-the-university-of-western-australia/absa-bilstm-attention/runs/o9j7n96m' target=\"_blank\">https://wandb.ai/angelajcnto-the-university-of-western-australia/absa-bilstm-attention/runs/o9j7n96m</a><br> View project at: <a href='https://wandb.ai/angelajcnto-the-university-of-western-australia/absa-bilstm-attention' target=\"_blank\">https://wandb.ai/angelajcnto-the-university-of-western-australia/absa-bilstm-attention</a><br>Synced 5 W&B file(s), 0 media file(s), 0 artifact file(s) and 0 other file(s)"
            ],
            "text/plain": [
              "<IPython.core.display.HTML object>"
            ]
          },
          "metadata": {},
          "output_type": "display_data"
        },
        {
          "data": {
            "text/html": [
              "Find logs at: <code>.\\wandb\\run-20250425_204922-o9j7n96m\\logs</code>"
            ],
            "text/plain": [
              "<IPython.core.display.HTML object>"
            ]
          },
          "metadata": {},
          "output_type": "display_data"
        },
        {
          "data": {
            "text/html": [],
            "text/plain": [
              "<IPython.core.display.HTML object>"
            ]
          },
          "metadata": {},
          "output_type": "display_data"
        },
        {
          "data": {
            "text/html": [
              "Tracking run with wandb version 0.19.10"
            ],
            "text/plain": [
              "<IPython.core.display.HTML object>"
            ]
          },
          "metadata": {},
          "output_type": "display_data"
        },
        {
          "data": {
            "text/html": [
              "Run data is saved locally in <code>c:\\Users\\angel\\OneDrive\\uni_projects\\DATA_SCIENCE_ML\\NLP-Aspect-Based-Sentiment-Analysis\\wandb\\run-20250425_205038-gjphh6wp</code>"
            ],
            "text/plain": [
              "<IPython.core.display.HTML object>"
            ]
          },
          "metadata": {},
          "output_type": "display_data"
        },
        {
          "data": {
            "text/html": [
              "Syncing run <strong><a href='https://wandb.ai/angelajcnto-the-university-of-western-australia/absa-bilstm-attention/runs/gjphh6wp' target=\"_blank\">HD=50_NL=1_DO=0.3_LR=0.001_BS=128</a></strong> to <a href='https://wandb.ai/angelajcnto-the-university-of-western-australia/absa-bilstm-attention' target=\"_blank\">Weights & Biases</a> (<a href='https://wandb.me/developer-guide' target=\"_blank\">docs</a>)<br>"
            ],
            "text/plain": [
              "<IPython.core.display.HTML object>"
            ]
          },
          "metadata": {},
          "output_type": "display_data"
        },
        {
          "data": {
            "text/html": [
              " View project at <a href='https://wandb.ai/angelajcnto-the-university-of-western-australia/absa-bilstm-attention' target=\"_blank\">https://wandb.ai/angelajcnto-the-university-of-western-australia/absa-bilstm-attention</a>"
            ],
            "text/plain": [
              "<IPython.core.display.HTML object>"
            ]
          },
          "metadata": {},
          "output_type": "display_data"
        },
        {
          "data": {
            "text/html": [
              " View run at <a href='https://wandb.ai/angelajcnto-the-university-of-western-australia/absa-bilstm-attention/runs/gjphh6wp' target=\"_blank\">https://wandb.ai/angelajcnto-the-university-of-western-australia/absa-bilstm-attention/runs/gjphh6wp</a>"
            ],
            "text/plain": [
              "<IPython.core.display.HTML object>"
            ]
          },
          "metadata": {},
          "output_type": "display_data"
        },
        {
          "name": "stdout",
          "output_type": "stream",
          "text": [
            "\n",
            "Testing: hidden_dim=50, num_layers=1, dropout=0.3, lr=0.001, batch_size=128\n",
            "Epoch 1/30 | Train Loss: 0.9349 | Train Acc: 57.72% | Val Loss: 0.8943 | Val Acc: 59.91%\n",
            "Epoch 2/30 | Train Loss: 0.8869 | Train Acc: 60.92% | Val Loss: 0.8522 | Val Acc: 61.71%\n",
            "Epoch 3/30 | Train Loss: 0.8544 | Train Acc: 62.55% | Val Loss: 0.8365 | Val Acc: 62.39%\n",
            "Epoch 4/30 | Train Loss: 0.8348 | Train Acc: 64.05% | Val Loss: 0.8130 | Val Acc: 62.84%\n",
            "Epoch 5/30 | Train Loss: 0.8259 | Train Acc: 64.09% | Val Loss: 0.8008 | Val Acc: 63.51%\n",
            "Epoch 6/30 | Train Loss: 0.8076 | Train Acc: 64.61% | Val Loss: 0.7965 | Val Acc: 63.74%\n",
            "Epoch 7/30 | Train Loss: 0.7936 | Train Acc: 65.70% | Val Loss: 0.7927 | Val Acc: 64.86%\n",
            "Epoch 8/30 | Train Loss: 0.7773 | Train Acc: 66.49% | Val Loss: 0.7992 | Val Acc: 64.08%\n",
            "Epoch 9/30 | Train Loss: 0.7637 | Train Acc: 67.21% | Val Loss: 0.7970 | Val Acc: 63.29%\n",
            "Epoch 10/30 | Train Loss: 0.7484 | Train Acc: 67.73% | Val Loss: 0.7866 | Val Acc: 63.96%\n",
            "Epoch 11/30 | Train Loss: 0.7337 | Train Acc: 68.84% | Val Loss: 0.7875 | Val Acc: 64.64%\n",
            "Epoch 12/30 | Train Loss: 0.7158 | Train Acc: 69.01% | Val Loss: 0.7876 | Val Acc: 64.64%\n",
            "Early stopping at epoch 12\n"
          ]
        },
        {
          "data": {
            "text/html": [],
            "text/plain": [
              "<IPython.core.display.HTML object>"
            ]
          },
          "metadata": {},
          "output_type": "display_data"
        },
        {
          "data": {
            "text/html": [
              "<br>    <style><br>        .wandb-row {<br>            display: flex;<br>            flex-direction: row;<br>            flex-wrap: wrap;<br>            justify-content: flex-start;<br>            width: 100%;<br>        }<br>        .wandb-col {<br>            display: flex;<br>            flex-direction: column;<br>            flex-basis: 100%;<br>            flex: 1;<br>            padding: 10px;<br>        }<br>    </style><br><div class=\"wandb-row\"><div class=\"wandb-col\"><h3>Run history:</h3><br/><table class=\"wandb\"><tr><td>epoch</td><td>▁▂▂▃▄▄▅▅▆▇▇█</td></tr><tr><td>final_val_acc</td><td>▁</td></tr><tr><td>train_acc</td><td>▁▃▄▅▅▅▆▆▇▇██</td></tr><tr><td>train_loss</td><td>█▆▅▅▅▄▃▃▃▂▂▁</td></tr><tr><td>val_acc</td><td>▁▄▅▅▆▆█▇▆▇██</td></tr><tr><td>val_loss</td><td>█▅▄▃▂▂▁▂▂▁▁▁</td></tr></table><br/></div><div class=\"wandb-col\"><h3>Run summary:</h3><br/><table class=\"wandb\"><tr><td>epoch</td><td>12</td></tr><tr><td>final_val_acc</td><td>0.6464</td></tr><tr><td>train_acc</td><td>0.69013</td></tr><tr><td>train_loss</td><td>0.71579</td></tr><tr><td>val_acc</td><td>0.6464</td></tr><tr><td>val_loss</td><td>0.78757</td></tr></table><br/></div></div>"
            ],
            "text/plain": [
              "<IPython.core.display.HTML object>"
            ]
          },
          "metadata": {},
          "output_type": "display_data"
        },
        {
          "data": {
            "text/html": [
              " View run <strong style=\"color:#cdcd00\">HD=50_NL=1_DO=0.3_LR=0.001_BS=128</strong> at: <a href='https://wandb.ai/angelajcnto-the-university-of-western-australia/absa-bilstm-attention/runs/gjphh6wp' target=\"_blank\">https://wandb.ai/angelajcnto-the-university-of-western-australia/absa-bilstm-attention/runs/gjphh6wp</a><br> View project at: <a href='https://wandb.ai/angelajcnto-the-university-of-western-australia/absa-bilstm-attention' target=\"_blank\">https://wandb.ai/angelajcnto-the-university-of-western-australia/absa-bilstm-attention</a><br>Synced 5 W&B file(s), 0 media file(s), 0 artifact file(s) and 0 other file(s)"
            ],
            "text/plain": [
              "<IPython.core.display.HTML object>"
            ]
          },
          "metadata": {},
          "output_type": "display_data"
        },
        {
          "data": {
            "text/html": [
              "Find logs at: <code>.\\wandb\\run-20250425_205038-gjphh6wp\\logs</code>"
            ],
            "text/plain": [
              "<IPython.core.display.HTML object>"
            ]
          },
          "metadata": {},
          "output_type": "display_data"
        },
        {
          "data": {
            "text/html": [
              "Tracking run with wandb version 0.19.10"
            ],
            "text/plain": [
              "<IPython.core.display.HTML object>"
            ]
          },
          "metadata": {},
          "output_type": "display_data"
        },
        {
          "data": {
            "text/html": [
              "Run data is saved locally in <code>c:\\Users\\angel\\OneDrive\\uni_projects\\DATA_SCIENCE_ML\\NLP-Aspect-Based-Sentiment-Analysis\\wandb\\run-20250425_205121-u3gqnl87</code>"
            ],
            "text/plain": [
              "<IPython.core.display.HTML object>"
            ]
          },
          "metadata": {},
          "output_type": "display_data"
        },
        {
          "data": {
            "text/html": [
              "Syncing run <strong><a href='https://wandb.ai/angelajcnto-the-university-of-western-australia/absa-bilstm-attention/runs/u3gqnl87' target=\"_blank\">HD=50_NL=1_DO=0.5_LR=0.01_BS=32</a></strong> to <a href='https://wandb.ai/angelajcnto-the-university-of-western-australia/absa-bilstm-attention' target=\"_blank\">Weights & Biases</a> (<a href='https://wandb.me/developer-guide' target=\"_blank\">docs</a>)<br>"
            ],
            "text/plain": [
              "<IPython.core.display.HTML object>"
            ]
          },
          "metadata": {},
          "output_type": "display_data"
        },
        {
          "data": {
            "text/html": [
              " View project at <a href='https://wandb.ai/angelajcnto-the-university-of-western-australia/absa-bilstm-attention' target=\"_blank\">https://wandb.ai/angelajcnto-the-university-of-western-australia/absa-bilstm-attention</a>"
            ],
            "text/plain": [
              "<IPython.core.display.HTML object>"
            ]
          },
          "metadata": {},
          "output_type": "display_data"
        },
        {
          "data": {
            "text/html": [
              " View run at <a href='https://wandb.ai/angelajcnto-the-university-of-western-australia/absa-bilstm-attention/runs/u3gqnl87' target=\"_blank\">https://wandb.ai/angelajcnto-the-university-of-western-australia/absa-bilstm-attention/runs/u3gqnl87</a>"
            ],
            "text/plain": [
              "<IPython.core.display.HTML object>"
            ]
          },
          "metadata": {},
          "output_type": "display_data"
        },
        {
          "name": "stdout",
          "output_type": "stream",
          "text": [
            "\n",
            "Testing: hidden_dim=50, num_layers=1, dropout=0.5, lr=0.01, batch_size=32\n"
          ]
        },
        {
          "name": "stderr",
          "output_type": "stream",
          "text": [
            "c:\\Users\\angel\\anaconda3\\Lib\\site-packages\\torch\\nn\\modules\\rnn.py:123: UserWarning: dropout option adds dropout after all but last recurrent layer, so non-zero dropout expects num_layers greater than 1, but got dropout=0.5 and num_layers=1\n",
            "  warnings.warn(\n"
          ]
        },
        {
          "name": "stdout",
          "output_type": "stream",
          "text": [
            "Epoch 1/30 | Train Loss: 0.9279 | Train Acc: 58.11% | Val Loss: 0.8656 | Val Acc: 61.49%\n",
            "Epoch 2/30 | Train Loss: 0.8922 | Train Acc: 60.55% | Val Loss: 0.8416 | Val Acc: 61.26%\n",
            "Epoch 3/30 | Train Loss: 0.8699 | Train Acc: 61.30% | Val Loss: 0.8281 | Val Acc: 60.70%\n",
            "Epoch 4/30 | Train Loss: 0.8700 | Train Acc: 61.26% | Val Loss: 0.8412 | Val Acc: 63.29%\n",
            "Epoch 5/30 | Train Loss: 0.8526 | Train Acc: 62.20% | Val Loss: 0.8081 | Val Acc: 62.50%\n",
            "Epoch 6/30 | Train Loss: 0.8465 | Train Acc: 62.31% | Val Loss: 0.7947 | Val Acc: 64.30%\n",
            "Epoch 7/30 | Train Loss: 0.8417 | Train Acc: 62.44% | Val Loss: 0.7972 | Val Acc: 63.74%\n",
            "Epoch 8/30 | Train Loss: 0.8301 | Train Acc: 63.34% | Val Loss: 0.7959 | Val Acc: 62.05%\n",
            "Epoch 9/30 | Train Loss: 0.8240 | Train Acc: 63.86% | Val Loss: 0.7833 | Val Acc: 64.53%\n",
            "Epoch 10/30 | Train Loss: 0.8183 | Train Acc: 63.29% | Val Loss: 0.7976 | Val Acc: 64.41%\n",
            "Epoch 11/30 | Train Loss: 0.8117 | Train Acc: 63.50% | Val Loss: 0.7793 | Val Acc: 64.86%\n",
            "Epoch 12/30 | Train Loss: 0.8207 | Train Acc: 63.39% | Val Loss: 0.7652 | Val Acc: 64.53%\n",
            "Epoch 13/30 | Train Loss: 0.8130 | Train Acc: 64.49% | Val Loss: 0.7975 | Val Acc: 63.40%\n",
            "Epoch 14/30 | Train Loss: 0.8101 | Train Acc: 64.03% | Val Loss: 0.7867 | Val Acc: 64.98%\n",
            "Epoch 15/30 | Train Loss: 0.8045 | Train Acc: 64.16% | Val Loss: 0.7933 | Val Acc: 64.64%\n",
            "Epoch 16/30 | Train Loss: 0.8033 | Train Acc: 64.36% | Val Loss: 0.7788 | Val Acc: 66.10%\n",
            "Epoch 17/30 | Train Loss: 0.7941 | Train Acc: 64.95% | Val Loss: 0.7812 | Val Acc: 64.53%\n",
            "Epoch 18/30 | Train Loss: 0.7983 | Train Acc: 65.59% | Val Loss: 0.7713 | Val Acc: 65.09%\n",
            "Epoch 19/30 | Train Loss: 0.7880 | Train Acc: 64.85% | Val Loss: 0.7815 | Val Acc: 66.44%\n",
            "Epoch 20/30 | Train Loss: 0.7910 | Train Acc: 65.20% | Val Loss: 0.7786 | Val Acc: 63.40%\n",
            "Epoch 21/30 | Train Loss: 0.7772 | Train Acc: 66.25% | Val Loss: 0.7713 | Val Acc: 64.30%\n",
            "Epoch 22/30 | Train Loss: 0.7836 | Train Acc: 65.11% | Val Loss: 0.7996 | Val Acc: 63.74%\n",
            "Epoch 23/30 | Train Loss: 0.7851 | Train Acc: 65.60% | Val Loss: 0.7809 | Val Acc: 65.32%\n",
            "Epoch 24/30 | Train Loss: 0.7802 | Train Acc: 65.66% | Val Loss: 0.7825 | Val Acc: 65.09%\n",
            "Early stopping at epoch 24\n"
          ]
        },
        {
          "data": {
            "text/html": [],
            "text/plain": [
              "<IPython.core.display.HTML object>"
            ]
          },
          "metadata": {},
          "output_type": "display_data"
        },
        {
          "data": {
            "text/html": [
              "<br>    <style><br>        .wandb-row {<br>            display: flex;<br>            flex-direction: row;<br>            flex-wrap: wrap;<br>            justify-content: flex-start;<br>            width: 100%;<br>        }<br>        .wandb-col {<br>            display: flex;<br>            flex-direction: column;<br>            flex-basis: 100%;<br>            flex: 1;<br>            padding: 10px;<br>        }<br>    </style><br><div class=\"wandb-row\"><div class=\"wandb-col\"><h3>Run history:</h3><br/><table class=\"wandb\"><tr><td>epoch</td><td>▁▁▂▂▂▃▃▃▃▄▄▄▅▅▅▆▆▆▆▇▇▇██</td></tr><tr><td>final_val_acc</td><td>▁</td></tr><tr><td>train_acc</td><td>▁▃▄▄▅▅▅▆▆▅▆▆▆▆▆▆▇▇▇▇█▇▇▇</td></tr><tr><td>train_loss</td><td>█▆▅▅▅▄▄▃▃▃▃▃▃▃▂▂▂▂▂▂▁▁▁▁</td></tr><tr><td>val_acc</td><td>▂▂▁▄▃▅▅▃▆▆▆▆▄▆▆█▆▆█▄▅▅▇▆</td></tr><tr><td>val_loss</td><td>█▆▅▆▄▃▃▃▂▃▂▁▃▂▃▂▂▁▂▂▁▃▂▂</td></tr></table><br/></div><div class=\"wandb-col\"><h3>Run summary:</h3><br/><table class=\"wandb\"><tr><td>epoch</td><td>24</td></tr><tr><td>final_val_acc</td><td>0.6509</td></tr><tr><td>train_acc</td><td>0.65656</td></tr><tr><td>train_loss</td><td>0.78015</td></tr><tr><td>val_acc</td><td>0.6509</td></tr><tr><td>val_loss</td><td>0.78247</td></tr></table><br/></div></div>"
            ],
            "text/plain": [
              "<IPython.core.display.HTML object>"
            ]
          },
          "metadata": {},
          "output_type": "display_data"
        },
        {
          "data": {
            "text/html": [
              " View run <strong style=\"color:#cdcd00\">HD=50_NL=1_DO=0.5_LR=0.01_BS=32</strong> at: <a href='https://wandb.ai/angelajcnto-the-university-of-western-australia/absa-bilstm-attention/runs/u3gqnl87' target=\"_blank\">https://wandb.ai/angelajcnto-the-university-of-western-australia/absa-bilstm-attention/runs/u3gqnl87</a><br> View project at: <a href='https://wandb.ai/angelajcnto-the-university-of-western-australia/absa-bilstm-attention' target=\"_blank\">https://wandb.ai/angelajcnto-the-university-of-western-australia/absa-bilstm-attention</a><br>Synced 5 W&B file(s), 0 media file(s), 0 artifact file(s) and 0 other file(s)"
            ],
            "text/plain": [
              "<IPython.core.display.HTML object>"
            ]
          },
          "metadata": {},
          "output_type": "display_data"
        },
        {
          "data": {
            "text/html": [
              "Find logs at: <code>.\\wandb\\run-20250425_205121-u3gqnl87\\logs</code>"
            ],
            "text/plain": [
              "<IPython.core.display.HTML object>"
            ]
          },
          "metadata": {},
          "output_type": "display_data"
        },
        {
          "data": {
            "text/html": [
              "creating run (0.4s)"
            ],
            "text/plain": [
              "<IPython.core.display.HTML object>"
            ]
          },
          "metadata": {},
          "output_type": "display_data"
        },
        {
          "data": {
            "text/html": [
              "Tracking run with wandb version 0.19.10"
            ],
            "text/plain": [
              "<IPython.core.display.HTML object>"
            ]
          },
          "metadata": {},
          "output_type": "display_data"
        },
        {
          "data": {
            "text/html": [
              "Run data is saved locally in <code>c:\\Users\\angel\\OneDrive\\uni_projects\\DATA_SCIENCE_ML\\NLP-Aspect-Based-Sentiment-Analysis\\wandb\\run-20250425_205255-r7ryood7</code>"
            ],
            "text/plain": [
              "<IPython.core.display.HTML object>"
            ]
          },
          "metadata": {},
          "output_type": "display_data"
        },
        {
          "data": {
            "text/html": [
              "Syncing run <strong><a href='https://wandb.ai/angelajcnto-the-university-of-western-australia/absa-bilstm-attention/runs/r7ryood7' target=\"_blank\">HD=50_NL=1_DO=0.5_LR=0.01_BS=64</a></strong> to <a href='https://wandb.ai/angelajcnto-the-university-of-western-australia/absa-bilstm-attention' target=\"_blank\">Weights & Biases</a> (<a href='https://wandb.me/developer-guide' target=\"_blank\">docs</a>)<br>"
            ],
            "text/plain": [
              "<IPython.core.display.HTML object>"
            ]
          },
          "metadata": {},
          "output_type": "display_data"
        },
        {
          "data": {
            "text/html": [
              " View project at <a href='https://wandb.ai/angelajcnto-the-university-of-western-australia/absa-bilstm-attention' target=\"_blank\">https://wandb.ai/angelajcnto-the-university-of-western-australia/absa-bilstm-attention</a>"
            ],
            "text/plain": [
              "<IPython.core.display.HTML object>"
            ]
          },
          "metadata": {},
          "output_type": "display_data"
        },
        {
          "data": {
            "text/html": [
              " View run at <a href='https://wandb.ai/angelajcnto-the-university-of-western-australia/absa-bilstm-attention/runs/r7ryood7' target=\"_blank\">https://wandb.ai/angelajcnto-the-university-of-western-australia/absa-bilstm-attention/runs/r7ryood7</a>"
            ],
            "text/plain": [
              "<IPython.core.display.HTML object>"
            ]
          },
          "metadata": {},
          "output_type": "display_data"
        },
        {
          "name": "stdout",
          "output_type": "stream",
          "text": [
            "\n",
            "Testing: hidden_dim=50, num_layers=1, dropout=0.5, lr=0.01, batch_size=64\n",
            "Epoch 1/30 | Train Loss: 0.9252 | Train Acc: 58.93% | Val Loss: 0.8656 | Val Acc: 60.47%\n",
            "Epoch 2/30 | Train Loss: 0.8801 | Train Acc: 61.26% | Val Loss: 0.8250 | Val Acc: 62.61%\n",
            "Epoch 3/30 | Train Loss: 0.8580 | Train Acc: 62.27% | Val Loss: 0.8305 | Val Acc: 60.81%\n",
            "Epoch 4/30 | Train Loss: 0.8432 | Train Acc: 62.54% | Val Loss: 0.8072 | Val Acc: 62.84%\n",
            "Epoch 5/30 | Train Loss: 0.8339 | Train Acc: 63.26% | Val Loss: 0.8011 | Val Acc: 63.29%\n",
            "Epoch 6/30 | Train Loss: 0.8204 | Train Acc: 63.61% | Val Loss: 0.8071 | Val Acc: 62.84%\n",
            "Epoch 7/30 | Train Loss: 0.8146 | Train Acc: 63.74% | Val Loss: 0.7965 | Val Acc: 63.06%\n",
            "Epoch 8/30 | Train Loss: 0.8137 | Train Acc: 64.58% | Val Loss: 0.8144 | Val Acc: 62.39%\n",
            "Epoch 9/30 | Train Loss: 0.8045 | Train Acc: 64.29% | Val Loss: 0.7986 | Val Acc: 64.41%\n",
            "Epoch 10/30 | Train Loss: 0.7869 | Train Acc: 65.36% | Val Loss: 0.7786 | Val Acc: 64.08%\n",
            "Epoch 11/30 | Train Loss: 0.7958 | Train Acc: 65.09% | Val Loss: 0.7801 | Val Acc: 62.73%\n",
            "Epoch 12/30 | Train Loss: 0.7822 | Train Acc: 65.16% | Val Loss: 0.7673 | Val Acc: 64.19%\n",
            "Epoch 13/30 | Train Loss: 0.7777 | Train Acc: 65.91% | Val Loss: 0.7776 | Val Acc: 63.63%\n",
            "Epoch 14/30 | Train Loss: 0.7776 | Train Acc: 66.23% | Val Loss: 0.7810 | Val Acc: 65.09%\n",
            "Epoch 15/30 | Train Loss: 0.7751 | Train Acc: 65.77% | Val Loss: 0.7731 | Val Acc: 65.09%\n",
            "Epoch 16/30 | Train Loss: 0.7661 | Train Acc: 66.19% | Val Loss: 0.7922 | Val Acc: 64.98%\n",
            "Epoch 17/30 | Train Loss: 0.7596 | Train Acc: 66.50% | Val Loss: 0.8132 | Val Acc: 63.51%\n",
            "Epoch 18/30 | Train Loss: 0.7599 | Train Acc: 66.83% | Val Loss: 0.7741 | Val Acc: 64.86%\n",
            "Epoch 19/30 | Train Loss: 0.7503 | Train Acc: 67.19% | Val Loss: 0.8033 | Val Acc: 63.29%\n",
            "Early stopping at epoch 19\n"
          ]
        },
        {
          "data": {
            "text/html": [],
            "text/plain": [
              "<IPython.core.display.HTML object>"
            ]
          },
          "metadata": {},
          "output_type": "display_data"
        },
        {
          "data": {
            "text/html": [
              "<br>    <style><br>        .wandb-row {<br>            display: flex;<br>            flex-direction: row;<br>            flex-wrap: wrap;<br>            justify-content: flex-start;<br>            width: 100%;<br>        }<br>        .wandb-col {<br>            display: flex;<br>            flex-direction: column;<br>            flex-basis: 100%;<br>            flex: 1;<br>            padding: 10px;<br>        }<br>    </style><br><div class=\"wandb-row\"><div class=\"wandb-col\"><h3>Run history:</h3><br/><table class=\"wandb\"><tr><td>epoch</td><td>▁▁▂▂▃▃▃▄▄▅▅▅▆▆▆▇▇██</td></tr><tr><td>final_val_acc</td><td>▁</td></tr><tr><td>train_acc</td><td>▁▃▄▄▅▅▅▆▆▆▆▆▇▇▇▇▇██</td></tr><tr><td>train_loss</td><td>█▆▅▅▄▄▄▄▃▂▃▂▂▂▂▂▁▁▁</td></tr><tr><td>val_acc</td><td>▁▄▂▅▅▅▅▄▇▆▄▇▆███▆█▅</td></tr><tr><td>val_loss</td><td>█▅▆▄▃▄▃▄▃▂▂▁▂▂▁▃▄▁▄</td></tr></table><br/></div><div class=\"wandb-col\"><h3>Run summary:</h3><br/><table class=\"wandb\"><tr><td>epoch</td><td>19</td></tr><tr><td>final_val_acc</td><td>0.63288</td></tr><tr><td>train_acc</td><td>0.67193</td></tr><tr><td>train_loss</td><td>0.75033</td></tr><tr><td>val_acc</td><td>0.63288</td></tr><tr><td>val_loss</td><td>0.80331</td></tr></table><br/></div></div>"
            ],
            "text/plain": [
              "<IPython.core.display.HTML object>"
            ]
          },
          "metadata": {},
          "output_type": "display_data"
        },
        {
          "data": {
            "text/html": [
              " View run <strong style=\"color:#cdcd00\">HD=50_NL=1_DO=0.5_LR=0.01_BS=64</strong> at: <a href='https://wandb.ai/angelajcnto-the-university-of-western-australia/absa-bilstm-attention/runs/r7ryood7' target=\"_blank\">https://wandb.ai/angelajcnto-the-university-of-western-australia/absa-bilstm-attention/runs/r7ryood7</a><br> View project at: <a href='https://wandb.ai/angelajcnto-the-university-of-western-australia/absa-bilstm-attention' target=\"_blank\">https://wandb.ai/angelajcnto-the-university-of-western-australia/absa-bilstm-attention</a><br>Synced 5 W&B file(s), 0 media file(s), 0 artifact file(s) and 0 other file(s)"
            ],
            "text/plain": [
              "<IPython.core.display.HTML object>"
            ]
          },
          "metadata": {},
          "output_type": "display_data"
        },
        {
          "data": {
            "text/html": [
              "Find logs at: <code>.\\wandb\\run-20250425_205255-r7ryood7\\logs</code>"
            ],
            "text/plain": [
              "<IPython.core.display.HTML object>"
            ]
          },
          "metadata": {},
          "output_type": "display_data"
        },
        {
          "data": {
            "text/html": [
              "Tracking run with wandb version 0.19.10"
            ],
            "text/plain": [
              "<IPython.core.display.HTML object>"
            ]
          },
          "metadata": {},
          "output_type": "display_data"
        },
        {
          "data": {
            "text/html": [
              "Run data is saved locally in <code>c:\\Users\\angel\\OneDrive\\uni_projects\\DATA_SCIENCE_ML\\NLP-Aspect-Based-Sentiment-Analysis\\wandb\\run-20250425_205404-mcddl9e0</code>"
            ],
            "text/plain": [
              "<IPython.core.display.HTML object>"
            ]
          },
          "metadata": {},
          "output_type": "display_data"
        },
        {
          "data": {
            "text/html": [
              "Syncing run <strong><a href='https://wandb.ai/angelajcnto-the-university-of-western-australia/absa-bilstm-attention/runs/mcddl9e0' target=\"_blank\">HD=50_NL=1_DO=0.5_LR=0.01_BS=128</a></strong> to <a href='https://wandb.ai/angelajcnto-the-university-of-western-australia/absa-bilstm-attention' target=\"_blank\">Weights & Biases</a> (<a href='https://wandb.me/developer-guide' target=\"_blank\">docs</a>)<br>"
            ],
            "text/plain": [
              "<IPython.core.display.HTML object>"
            ]
          },
          "metadata": {},
          "output_type": "display_data"
        },
        {
          "data": {
            "text/html": [
              " View project at <a href='https://wandb.ai/angelajcnto-the-university-of-western-australia/absa-bilstm-attention' target=\"_blank\">https://wandb.ai/angelajcnto-the-university-of-western-australia/absa-bilstm-attention</a>"
            ],
            "text/plain": [
              "<IPython.core.display.HTML object>"
            ]
          },
          "metadata": {},
          "output_type": "display_data"
        },
        {
          "data": {
            "text/html": [
              " View run at <a href='https://wandb.ai/angelajcnto-the-university-of-western-australia/absa-bilstm-attention/runs/mcddl9e0' target=\"_blank\">https://wandb.ai/angelajcnto-the-university-of-western-australia/absa-bilstm-attention/runs/mcddl9e0</a>"
            ],
            "text/plain": [
              "<IPython.core.display.HTML object>"
            ]
          },
          "metadata": {},
          "output_type": "display_data"
        },
        {
          "name": "stdout",
          "output_type": "stream",
          "text": [
            "\n",
            "Testing: hidden_dim=50, num_layers=1, dropout=0.5, lr=0.01, batch_size=128\n",
            "Epoch 1/30 | Train Loss: 0.9230 | Train Acc: 58.45% | Val Loss: 0.8565 | Val Acc: 61.37%\n",
            "Epoch 2/30 | Train Loss: 0.8768 | Train Acc: 61.47% | Val Loss: 0.8232 | Val Acc: 62.16%\n",
            "Epoch 3/30 | Train Loss: 0.8521 | Train Acc: 61.92% | Val Loss: 0.8280 | Val Acc: 62.73%\n",
            "Epoch 4/30 | Train Loss: 0.8392 | Train Acc: 62.88% | Val Loss: 0.8097 | Val Acc: 63.18%\n",
            "Epoch 5/30 | Train Loss: 0.8212 | Train Acc: 63.94% | Val Loss: 0.8111 | Val Acc: 63.29%\n",
            "Epoch 6/30 | Train Loss: 0.8101 | Train Acc: 64.85% | Val Loss: 0.7807 | Val Acc: 65.88%\n",
            "Epoch 7/30 | Train Loss: 0.7936 | Train Acc: 65.53% | Val Loss: 0.7806 | Val Acc: 63.51%\n",
            "Epoch 8/30 | Train Loss: 0.7814 | Train Acc: 65.70% | Val Loss: 0.7846 | Val Acc: 64.08%\n",
            "Epoch 9/30 | Train Loss: 0.7682 | Train Acc: 66.64% | Val Loss: 0.7788 | Val Acc: 65.20%\n",
            "Epoch 10/30 | Train Loss: 0.7580 | Train Acc: 66.77% | Val Loss: 0.7702 | Val Acc: 65.54%\n",
            "Epoch 11/30 | Train Loss: 0.7555 | Train Acc: 67.48% | Val Loss: 0.7827 | Val Acc: 64.75%\n",
            "Early stopping at epoch 11\n"
          ]
        },
        {
          "data": {
            "text/html": [],
            "text/plain": [
              "<IPython.core.display.HTML object>"
            ]
          },
          "metadata": {},
          "output_type": "display_data"
        },
        {
          "data": {
            "text/html": [
              "<br>    <style><br>        .wandb-row {<br>            display: flex;<br>            flex-direction: row;<br>            flex-wrap: wrap;<br>            justify-content: flex-start;<br>            width: 100%;<br>        }<br>        .wandb-col {<br>            display: flex;<br>            flex-direction: column;<br>            flex-basis: 100%;<br>            flex: 1;<br>            padding: 10px;<br>        }<br>    </style><br><div class=\"wandb-row\"><div class=\"wandb-col\"><h3>Run history:</h3><br/><table class=\"wandb\"><tr><td>epoch</td><td>▁▂▂▃▄▅▅▆▇▇█</td></tr><tr><td>final_val_acc</td><td>▁</td></tr><tr><td>train_acc</td><td>▁▃▄▄▅▆▆▇▇▇█</td></tr><tr><td>train_loss</td><td>█▆▅▄▄▃▃▂▂▁▁</td></tr><tr><td>val_acc</td><td>▁▂▃▄▄█▄▅▇▇▆</td></tr><tr><td>val_loss</td><td>█▅▆▄▄▂▂▂▂▁▂</td></tr></table><br/></div><div class=\"wandb-col\"><h3>Run summary:</h3><br/><table class=\"wandb\"><tr><td>epoch</td><td>11</td></tr><tr><td>final_val_acc</td><td>0.64752</td></tr><tr><td>train_acc</td><td>0.67475</td></tr><tr><td>train_loss</td><td>0.75547</td></tr><tr><td>val_acc</td><td>0.64752</td></tr><tr><td>val_loss</td><td>0.78266</td></tr></table><br/></div></div>"
            ],
            "text/plain": [
              "<IPython.core.display.HTML object>"
            ]
          },
          "metadata": {},
          "output_type": "display_data"
        },
        {
          "data": {
            "text/html": [
              " View run <strong style=\"color:#cdcd00\">HD=50_NL=1_DO=0.5_LR=0.01_BS=128</strong> at: <a href='https://wandb.ai/angelajcnto-the-university-of-western-australia/absa-bilstm-attention/runs/mcddl9e0' target=\"_blank\">https://wandb.ai/angelajcnto-the-university-of-western-australia/absa-bilstm-attention/runs/mcddl9e0</a><br> View project at: <a href='https://wandb.ai/angelajcnto-the-university-of-western-australia/absa-bilstm-attention' target=\"_blank\">https://wandb.ai/angelajcnto-the-university-of-western-australia/absa-bilstm-attention</a><br>Synced 5 W&B file(s), 0 media file(s), 0 artifact file(s) and 0 other file(s)"
            ],
            "text/plain": [
              "<IPython.core.display.HTML object>"
            ]
          },
          "metadata": {},
          "output_type": "display_data"
        },
        {
          "data": {
            "text/html": [
              "Find logs at: <code>.\\wandb\\run-20250425_205404-mcddl9e0\\logs</code>"
            ],
            "text/plain": [
              "<IPython.core.display.HTML object>"
            ]
          },
          "metadata": {},
          "output_type": "display_data"
        },
        {
          "data": {
            "text/html": [
              "Tracking run with wandb version 0.19.10"
            ],
            "text/plain": [
              "<IPython.core.display.HTML object>"
            ]
          },
          "metadata": {},
          "output_type": "display_data"
        },
        {
          "data": {
            "text/html": [
              "Run data is saved locally in <code>c:\\Users\\angel\\OneDrive\\uni_projects\\DATA_SCIENCE_ML\\NLP-Aspect-Based-Sentiment-Analysis\\wandb\\run-20250425_205445-8q04qnke</code>"
            ],
            "text/plain": [
              "<IPython.core.display.HTML object>"
            ]
          },
          "metadata": {},
          "output_type": "display_data"
        },
        {
          "data": {
            "text/html": [
              "Syncing run <strong><a href='https://wandb.ai/angelajcnto-the-university-of-western-australia/absa-bilstm-attention/runs/8q04qnke' target=\"_blank\">HD=50_NL=1_DO=0.5_LR=0.005_BS=32</a></strong> to <a href='https://wandb.ai/angelajcnto-the-university-of-western-australia/absa-bilstm-attention' target=\"_blank\">Weights & Biases</a> (<a href='https://wandb.me/developer-guide' target=\"_blank\">docs</a>)<br>"
            ],
            "text/plain": [
              "<IPython.core.display.HTML object>"
            ]
          },
          "metadata": {},
          "output_type": "display_data"
        },
        {
          "data": {
            "text/html": [
              " View project at <a href='https://wandb.ai/angelajcnto-the-university-of-western-australia/absa-bilstm-attention' target=\"_blank\">https://wandb.ai/angelajcnto-the-university-of-western-australia/absa-bilstm-attention</a>"
            ],
            "text/plain": [
              "<IPython.core.display.HTML object>"
            ]
          },
          "metadata": {},
          "output_type": "display_data"
        },
        {
          "data": {
            "text/html": [
              " View run at <a href='https://wandb.ai/angelajcnto-the-university-of-western-australia/absa-bilstm-attention/runs/8q04qnke' target=\"_blank\">https://wandb.ai/angelajcnto-the-university-of-western-australia/absa-bilstm-attention/runs/8q04qnke</a>"
            ],
            "text/plain": [
              "<IPython.core.display.HTML object>"
            ]
          },
          "metadata": {},
          "output_type": "display_data"
        },
        {
          "name": "stdout",
          "output_type": "stream",
          "text": [
            "\n",
            "Testing: hidden_dim=50, num_layers=1, dropout=0.5, lr=0.005, batch_size=32\n",
            "Epoch 1/30 | Train Loss: 0.9183 | Train Acc: 59.15% | Val Loss: 0.8501 | Val Acc: 60.70%\n",
            "Epoch 2/30 | Train Loss: 0.8751 | Train Acc: 60.82% | Val Loss: 0.8244 | Val Acc: 62.84%\n",
            "Epoch 3/30 | Train Loss: 0.8500 | Train Acc: 62.41% | Val Loss: 0.8301 | Val Acc: 62.27%\n",
            "Epoch 4/30 | Train Loss: 0.8348 | Train Acc: 63.60% | Val Loss: 0.8139 | Val Acc: 63.18%\n",
            "Epoch 5/30 | Train Loss: 0.8220 | Train Acc: 64.08% | Val Loss: 0.7899 | Val Acc: 65.09%\n",
            "Epoch 6/30 | Train Loss: 0.8106 | Train Acc: 64.47% | Val Loss: 0.7961 | Val Acc: 64.08%\n",
            "Epoch 7/30 | Train Loss: 0.7948 | Train Acc: 65.51% | Val Loss: 0.7809 | Val Acc: 64.41%\n",
            "Epoch 8/30 | Train Loss: 0.7799 | Train Acc: 65.30% | Val Loss: 0.7540 | Val Acc: 67.45%\n",
            "Epoch 9/30 | Train Loss: 0.7788 | Train Acc: 65.92% | Val Loss: 0.7739 | Val Acc: 66.22%\n",
            "Epoch 10/30 | Train Loss: 0.7677 | Train Acc: 65.71% | Val Loss: 0.7728 | Val Acc: 64.75%\n",
            "Epoch 11/30 | Train Loss: 0.7607 | Train Acc: 66.81% | Val Loss: 0.7609 | Val Acc: 65.65%\n",
            "Epoch 12/30 | Train Loss: 0.7476 | Train Acc: 67.09% | Val Loss: 0.7680 | Val Acc: 65.99%\n",
            "Epoch 13/30 | Train Loss: 0.7397 | Train Acc: 67.53% | Val Loss: 0.7766 | Val Acc: 65.09%\n",
            "Early stopping at epoch 13\n"
          ]
        },
        {
          "data": {
            "text/html": [],
            "text/plain": [
              "<IPython.core.display.HTML object>"
            ]
          },
          "metadata": {},
          "output_type": "display_data"
        },
        {
          "data": {
            "text/html": [
              "<br>    <style><br>        .wandb-row {<br>            display: flex;<br>            flex-direction: row;<br>            flex-wrap: wrap;<br>            justify-content: flex-start;<br>            width: 100%;<br>        }<br>        .wandb-col {<br>            display: flex;<br>            flex-direction: column;<br>            flex-basis: 100%;<br>            flex: 1;<br>            padding: 10px;<br>        }<br>    </style><br><div class=\"wandb-row\"><div class=\"wandb-col\"><h3>Run history:</h3><br/><table class=\"wandb\"><tr><td>epoch</td><td>▁▂▂▃▃▄▅▅▆▆▇▇█</td></tr><tr><td>final_val_acc</td><td>▁</td></tr><tr><td>train_acc</td><td>▁▂▄▅▅▅▆▆▇▆▇██</td></tr><tr><td>train_loss</td><td>█▆▅▅▄▄▃▃▃▂▂▁▁</td></tr><tr><td>val_acc</td><td>▁▃▃▄▆▅▅█▇▅▆▆▆</td></tr><tr><td>val_loss</td><td>█▆▇▅▄▄▃▁▂▂▁▂▃</td></tr></table><br/></div><div class=\"wandb-col\"><h3>Run summary:</h3><br/><table class=\"wandb\"><tr><td>epoch</td><td>13</td></tr><tr><td>final_val_acc</td><td>0.6509</td></tr><tr><td>train_acc</td><td>0.67532</td></tr><tr><td>train_loss</td><td>0.73971</td></tr><tr><td>val_acc</td><td>0.6509</td></tr><tr><td>val_loss</td><td>0.77655</td></tr></table><br/></div></div>"
            ],
            "text/plain": [
              "<IPython.core.display.HTML object>"
            ]
          },
          "metadata": {},
          "output_type": "display_data"
        },
        {
          "data": {
            "text/html": [
              " View run <strong style=\"color:#cdcd00\">HD=50_NL=1_DO=0.5_LR=0.005_BS=32</strong> at: <a href='https://wandb.ai/angelajcnto-the-university-of-western-australia/absa-bilstm-attention/runs/8q04qnke' target=\"_blank\">https://wandb.ai/angelajcnto-the-university-of-western-australia/absa-bilstm-attention/runs/8q04qnke</a><br> View project at: <a href='https://wandb.ai/angelajcnto-the-university-of-western-australia/absa-bilstm-attention' target=\"_blank\">https://wandb.ai/angelajcnto-the-university-of-western-australia/absa-bilstm-attention</a><br>Synced 5 W&B file(s), 0 media file(s), 0 artifact file(s) and 0 other file(s)"
            ],
            "text/plain": [
              "<IPython.core.display.HTML object>"
            ]
          },
          "metadata": {},
          "output_type": "display_data"
        },
        {
          "data": {
            "text/html": [
              "Find logs at: <code>.\\wandb\\run-20250425_205445-8q04qnke\\logs</code>"
            ],
            "text/plain": [
              "<IPython.core.display.HTML object>"
            ]
          },
          "metadata": {},
          "output_type": "display_data"
        },
        {
          "data": {
            "text/html": [
              "Tracking run with wandb version 0.19.10"
            ],
            "text/plain": [
              "<IPython.core.display.HTML object>"
            ]
          },
          "metadata": {},
          "output_type": "display_data"
        },
        {
          "data": {
            "text/html": [
              "Run data is saved locally in <code>c:\\Users\\angel\\OneDrive\\uni_projects\\DATA_SCIENCE_ML\\NLP-Aspect-Based-Sentiment-Analysis\\wandb\\run-20250425_205537-0smapmu2</code>"
            ],
            "text/plain": [
              "<IPython.core.display.HTML object>"
            ]
          },
          "metadata": {},
          "output_type": "display_data"
        },
        {
          "data": {
            "text/html": [
              "Syncing run <strong><a href='https://wandb.ai/angelajcnto-the-university-of-western-australia/absa-bilstm-attention/runs/0smapmu2' target=\"_blank\">HD=50_NL=1_DO=0.5_LR=0.005_BS=64</a></strong> to <a href='https://wandb.ai/angelajcnto-the-university-of-western-australia/absa-bilstm-attention' target=\"_blank\">Weights & Biases</a> (<a href='https://wandb.me/developer-guide' target=\"_blank\">docs</a>)<br>"
            ],
            "text/plain": [
              "<IPython.core.display.HTML object>"
            ]
          },
          "metadata": {},
          "output_type": "display_data"
        },
        {
          "data": {
            "text/html": [
              " View project at <a href='https://wandb.ai/angelajcnto-the-university-of-western-australia/absa-bilstm-attention' target=\"_blank\">https://wandb.ai/angelajcnto-the-university-of-western-australia/absa-bilstm-attention</a>"
            ],
            "text/plain": [
              "<IPython.core.display.HTML object>"
            ]
          },
          "metadata": {},
          "output_type": "display_data"
        },
        {
          "data": {
            "text/html": [
              " View run at <a href='https://wandb.ai/angelajcnto-the-university-of-western-australia/absa-bilstm-attention/runs/0smapmu2' target=\"_blank\">https://wandb.ai/angelajcnto-the-university-of-western-australia/absa-bilstm-attention/runs/0smapmu2</a>"
            ],
            "text/plain": [
              "<IPython.core.display.HTML object>"
            ]
          },
          "metadata": {},
          "output_type": "display_data"
        },
        {
          "name": "stdout",
          "output_type": "stream",
          "text": [
            "\n",
            "Testing: hidden_dim=50, num_layers=1, dropout=0.5, lr=0.005, batch_size=64\n",
            "Epoch 1/30 | Train Loss: 0.9178 | Train Acc: 59.03% | Val Loss: 0.8423 | Val Acc: 61.26%\n",
            "Epoch 2/30 | Train Loss: 0.8728 | Train Acc: 61.95% | Val Loss: 0.8425 | Val Acc: 62.05%\n",
            "Epoch 3/30 | Train Loss: 0.8473 | Train Acc: 62.85% | Val Loss: 0.8180 | Val Acc: 62.84%\n",
            "Epoch 4/30 | Train Loss: 0.8292 | Train Acc: 63.65% | Val Loss: 0.8181 | Val Acc: 62.95%\n",
            "Epoch 5/30 | Train Loss: 0.8156 | Train Acc: 64.20% | Val Loss: 0.7857 | Val Acc: 64.53%\n",
            "Epoch 6/30 | Train Loss: 0.7960 | Train Acc: 65.11% | Val Loss: 0.7849 | Val Acc: 63.51%\n",
            "Epoch 7/30 | Train Loss: 0.7701 | Train Acc: 66.42% | Val Loss: 0.7664 | Val Acc: 64.98%\n",
            "Epoch 8/30 | Train Loss: 0.7655 | Train Acc: 66.42% | Val Loss: 0.7727 | Val Acc: 65.20%\n",
            "Epoch 9/30 | Train Loss: 0.7456 | Train Acc: 67.43% | Val Loss: 0.7859 | Val Acc: 64.08%\n",
            "Epoch 10/30 | Train Loss: 0.7360 | Train Acc: 68.27% | Val Loss: 0.8114 | Val Acc: 62.84%\n",
            "Epoch 11/30 | Train Loss: 0.7289 | Train Acc: 67.93% | Val Loss: 0.7887 | Val Acc: 64.75%\n",
            "Epoch 12/30 | Train Loss: 0.7158 | Train Acc: 69.34% | Val Loss: 0.7996 | Val Acc: 64.41%\n",
            "Epoch 13/30 | Train Loss: 0.7056 | Train Acc: 69.25% | Val Loss: 0.7887 | Val Acc: 65.32%\n",
            "Epoch 14/30 | Train Loss: 0.7045 | Train Acc: 69.14% | Val Loss: 0.7868 | Val Acc: 64.08%\n",
            "Epoch 15/30 | Train Loss: 0.6744 | Train Acc: 70.96% | Val Loss: 0.8466 | Val Acc: 64.98%\n",
            "Epoch 16/30 | Train Loss: 0.6672 | Train Acc: 71.03% | Val Loss: 0.8155 | Val Acc: 64.19%\n",
            "Epoch 17/30 | Train Loss: 0.6449 | Train Acc: 72.86% | Val Loss: 0.8069 | Val Acc: 64.53%\n",
            "Epoch 18/30 | Train Loss: 0.6389 | Train Acc: 72.62% | Val Loss: 0.8296 | Val Acc: 63.85%\n",
            "Early stopping at epoch 18\n"
          ]
        },
        {
          "data": {
            "text/html": [],
            "text/plain": [
              "<IPython.core.display.HTML object>"
            ]
          },
          "metadata": {},
          "output_type": "display_data"
        },
        {
          "data": {
            "text/html": [
              "<br>    <style><br>        .wandb-row {<br>            display: flex;<br>            flex-direction: row;<br>            flex-wrap: wrap;<br>            justify-content: flex-start;<br>            width: 100%;<br>        }<br>        .wandb-col {<br>            display: flex;<br>            flex-direction: column;<br>            flex-basis: 100%;<br>            flex: 1;<br>            padding: 10px;<br>        }<br>    </style><br><div class=\"wandb-row\"><div class=\"wandb-col\"><h3>Run history:</h3><br/><table class=\"wandb\"><tr><td>epoch</td><td>▁▁▂▂▃▃▃▄▄▅▅▆▆▆▇▇██</td></tr><tr><td>final_val_acc</td><td>▁</td></tr><tr><td>train_acc</td><td>▁▂▃▃▄▄▅▅▅▆▆▆▆▆▇▇██</td></tr><tr><td>train_loss</td><td>█▇▆▆▅▅▄▄▄▃▃▃▃▃▂▂▁▁</td></tr><tr><td>val_acc</td><td>▁▂▄▄▇▅▇█▆▄▇▆█▆▇▆▇▅</td></tr><tr><td>val_loss</td><td>██▅▆▃▃▁▂▃▅▃▄▃▃█▅▅▇</td></tr></table><br/></div><div class=\"wandb-col\"><h3>Run summary:</h3><br/><table class=\"wandb\"><tr><td>epoch</td><td>18</td></tr><tr><td>final_val_acc</td><td>0.63851</td></tr><tr><td>train_acc</td><td>0.72623</td></tr><tr><td>train_loss</td><td>0.63894</td></tr><tr><td>val_acc</td><td>0.63851</td></tr><tr><td>val_loss</td><td>0.82961</td></tr></table><br/></div></div>"
            ],
            "text/plain": [
              "<IPython.core.display.HTML object>"
            ]
          },
          "metadata": {},
          "output_type": "display_data"
        },
        {
          "data": {
            "text/html": [
              " View run <strong style=\"color:#cdcd00\">HD=50_NL=1_DO=0.5_LR=0.005_BS=64</strong> at: <a href='https://wandb.ai/angelajcnto-the-university-of-western-australia/absa-bilstm-attention/runs/0smapmu2' target=\"_blank\">https://wandb.ai/angelajcnto-the-university-of-western-australia/absa-bilstm-attention/runs/0smapmu2</a><br> View project at: <a href='https://wandb.ai/angelajcnto-the-university-of-western-australia/absa-bilstm-attention' target=\"_blank\">https://wandb.ai/angelajcnto-the-university-of-western-australia/absa-bilstm-attention</a><br>Synced 5 W&B file(s), 0 media file(s), 0 artifact file(s) and 0 other file(s)"
            ],
            "text/plain": [
              "<IPython.core.display.HTML object>"
            ]
          },
          "metadata": {},
          "output_type": "display_data"
        },
        {
          "data": {
            "text/html": [
              "Find logs at: <code>.\\wandb\\run-20250425_205537-0smapmu2\\logs</code>"
            ],
            "text/plain": [
              "<IPython.core.display.HTML object>"
            ]
          },
          "metadata": {},
          "output_type": "display_data"
        },
        {
          "data": {
            "text/html": [
              "Tracking run with wandb version 0.19.10"
            ],
            "text/plain": [
              "<IPython.core.display.HTML object>"
            ]
          },
          "metadata": {},
          "output_type": "display_data"
        },
        {
          "data": {
            "text/html": [
              "Run data is saved locally in <code>c:\\Users\\angel\\OneDrive\\uni_projects\\DATA_SCIENCE_ML\\NLP-Aspect-Based-Sentiment-Analysis\\wandb\\run-20250425_205725-j8lsd9gd</code>"
            ],
            "text/plain": [
              "<IPython.core.display.HTML object>"
            ]
          },
          "metadata": {},
          "output_type": "display_data"
        },
        {
          "data": {
            "text/html": [
              "Syncing run <strong><a href='https://wandb.ai/angelajcnto-the-university-of-western-australia/absa-bilstm-attention/runs/j8lsd9gd' target=\"_blank\">HD=50_NL=1_DO=0.5_LR=0.005_BS=128</a></strong> to <a href='https://wandb.ai/angelajcnto-the-university-of-western-australia/absa-bilstm-attention' target=\"_blank\">Weights & Biases</a> (<a href='https://wandb.me/developer-guide' target=\"_blank\">docs</a>)<br>"
            ],
            "text/plain": [
              "<IPython.core.display.HTML object>"
            ]
          },
          "metadata": {},
          "output_type": "display_data"
        },
        {
          "data": {
            "text/html": [
              " View project at <a href='https://wandb.ai/angelajcnto-the-university-of-western-australia/absa-bilstm-attention' target=\"_blank\">https://wandb.ai/angelajcnto-the-university-of-western-australia/absa-bilstm-attention</a>"
            ],
            "text/plain": [
              "<IPython.core.display.HTML object>"
            ]
          },
          "metadata": {},
          "output_type": "display_data"
        },
        {
          "data": {
            "text/html": [
              " View run at <a href='https://wandb.ai/angelajcnto-the-university-of-western-australia/absa-bilstm-attention/runs/j8lsd9gd' target=\"_blank\">https://wandb.ai/angelajcnto-the-university-of-western-australia/absa-bilstm-attention/runs/j8lsd9gd</a>"
            ],
            "text/plain": [
              "<IPython.core.display.HTML object>"
            ]
          },
          "metadata": {},
          "output_type": "display_data"
        },
        {
          "name": "stdout",
          "output_type": "stream",
          "text": [
            "\n",
            "Testing: hidden_dim=50, num_layers=1, dropout=0.5, lr=0.005, batch_size=128\n",
            "Epoch 1/30 | Train Loss: 0.9280 | Train Acc: 58.49% | Val Loss: 0.8459 | Val Acc: 60.81%\n",
            "Epoch 2/30 | Train Loss: 0.8710 | Train Acc: 61.76% | Val Loss: 0.8366 | Val Acc: 61.37%\n",
            "Epoch 3/30 | Train Loss: 0.8548 | Train Acc: 62.57% | Val Loss: 0.8290 | Val Acc: 62.16%\n",
            "Epoch 4/30 | Train Loss: 0.8361 | Train Acc: 63.00% | Val Loss: 0.8184 | Val Acc: 61.26%\n",
            "Epoch 5/30 | Train Loss: 0.8116 | Train Acc: 64.51% | Val Loss: 0.7931 | Val Acc: 63.18%\n",
            "Epoch 6/30 | Train Loss: 0.7978 | Train Acc: 64.44% | Val Loss: 0.8083 | Val Acc: 61.82%\n",
            "Epoch 7/30 | Train Loss: 0.7770 | Train Acc: 65.57% | Val Loss: 0.7756 | Val Acc: 65.09%\n",
            "Epoch 8/30 | Train Loss: 0.7503 | Train Acc: 67.32% | Val Loss: 0.7919 | Val Acc: 65.65%\n",
            "Epoch 9/30 | Train Loss: 0.7431 | Train Acc: 67.39% | Val Loss: 0.7612 | Val Acc: 66.10%\n",
            "Epoch 10/30 | Train Loss: 0.7253 | Train Acc: 68.90% | Val Loss: 0.7793 | Val Acc: 65.20%\n",
            "Epoch 11/30 | Train Loss: 0.6999 | Train Acc: 69.84% | Val Loss: 0.7759 | Val Acc: 65.65%\n",
            "Epoch 12/30 | Train Loss: 0.6795 | Train Acc: 70.96% | Val Loss: 0.7975 | Val Acc: 65.65%\n",
            "Epoch 13/30 | Train Loss: 0.6651 | Train Acc: 70.97% | Val Loss: 0.8055 | Val Acc: 64.75%\n",
            "Epoch 14/30 | Train Loss: 0.6385 | Train Acc: 72.65% | Val Loss: 0.8038 | Val Acc: 65.99%\n",
            "Early stopping at epoch 14\n"
          ]
        },
        {
          "data": {
            "text/html": [],
            "text/plain": [
              "<IPython.core.display.HTML object>"
            ]
          },
          "metadata": {},
          "output_type": "display_data"
        },
        {
          "data": {
            "text/html": [
              "<br>    <style><br>        .wandb-row {<br>            display: flex;<br>            flex-direction: row;<br>            flex-wrap: wrap;<br>            justify-content: flex-start;<br>            width: 100%;<br>        }<br>        .wandb-col {<br>            display: flex;<br>            flex-direction: column;<br>            flex-basis: 100%;<br>            flex: 1;<br>            padding: 10px;<br>        }<br>    </style><br><div class=\"wandb-row\"><div class=\"wandb-col\"><h3>Run history:</h3><br/><table class=\"wandb\"><tr><td>epoch</td><td>▁▂▂▃▃▄▄▅▅▆▆▇▇█</td></tr><tr><td>final_val_acc</td><td>▁</td></tr><tr><td>train_acc</td><td>▁▃▃▃▄▄▄▅▅▆▇▇▇█</td></tr><tr><td>train_loss</td><td>█▇▆▆▅▅▄▄▄▃▂▂▂▁</td></tr><tr><td>val_acc</td><td>▁▂▃▂▄▂▇▇█▇▇▇▆█</td></tr><tr><td>val_loss</td><td>█▇▇▆▄▅▂▄▁▂▂▄▅▅</td></tr></table><br/></div><div class=\"wandb-col\"><h3>Run summary:</h3><br/><table class=\"wandb\"><tr><td>epoch</td><td>14</td></tr><tr><td>final_val_acc</td><td>0.65991</td></tr><tr><td>train_acc</td><td>0.72652</td></tr><tr><td>train_loss</td><td>0.63854</td></tr><tr><td>val_acc</td><td>0.65991</td></tr><tr><td>val_loss</td><td>0.80382</td></tr></table><br/></div></div>"
            ],
            "text/plain": [
              "<IPython.core.display.HTML object>"
            ]
          },
          "metadata": {},
          "output_type": "display_data"
        },
        {
          "data": {
            "text/html": [
              " View run <strong style=\"color:#cdcd00\">HD=50_NL=1_DO=0.5_LR=0.005_BS=128</strong> at: <a href='https://wandb.ai/angelajcnto-the-university-of-western-australia/absa-bilstm-attention/runs/j8lsd9gd' target=\"_blank\">https://wandb.ai/angelajcnto-the-university-of-western-australia/absa-bilstm-attention/runs/j8lsd9gd</a><br> View project at: <a href='https://wandb.ai/angelajcnto-the-university-of-western-australia/absa-bilstm-attention' target=\"_blank\">https://wandb.ai/angelajcnto-the-university-of-western-australia/absa-bilstm-attention</a><br>Synced 5 W&B file(s), 0 media file(s), 0 artifact file(s) and 0 other file(s)"
            ],
            "text/plain": [
              "<IPython.core.display.HTML object>"
            ]
          },
          "metadata": {},
          "output_type": "display_data"
        },
        {
          "data": {
            "text/html": [
              "Find logs at: <code>.\\wandb\\run-20250425_205725-j8lsd9gd\\logs</code>"
            ],
            "text/plain": [
              "<IPython.core.display.HTML object>"
            ]
          },
          "metadata": {},
          "output_type": "display_data"
        },
        {
          "data": {
            "text/html": [
              "Tracking run with wandb version 0.19.10"
            ],
            "text/plain": [
              "<IPython.core.display.HTML object>"
            ]
          },
          "metadata": {},
          "output_type": "display_data"
        },
        {
          "data": {
            "text/html": [
              "Run data is saved locally in <code>c:\\Users\\angel\\OneDrive\\uni_projects\\DATA_SCIENCE_ML\\NLP-Aspect-Based-Sentiment-Analysis\\wandb\\run-20250425_205813-jokijkbu</code>"
            ],
            "text/plain": [
              "<IPython.core.display.HTML object>"
            ]
          },
          "metadata": {},
          "output_type": "display_data"
        },
        {
          "data": {
            "text/html": [
              "Syncing run <strong><a href='https://wandb.ai/angelajcnto-the-university-of-western-australia/absa-bilstm-attention/runs/jokijkbu' target=\"_blank\">HD=50_NL=1_DO=0.5_LR=0.001_BS=32</a></strong> to <a href='https://wandb.ai/angelajcnto-the-university-of-western-australia/absa-bilstm-attention' target=\"_blank\">Weights & Biases</a> (<a href='https://wandb.me/developer-guide' target=\"_blank\">docs</a>)<br>"
            ],
            "text/plain": [
              "<IPython.core.display.HTML object>"
            ]
          },
          "metadata": {},
          "output_type": "display_data"
        },
        {
          "data": {
            "text/html": [
              " View project at <a href='https://wandb.ai/angelajcnto-the-university-of-western-australia/absa-bilstm-attention' target=\"_blank\">https://wandb.ai/angelajcnto-the-university-of-western-australia/absa-bilstm-attention</a>"
            ],
            "text/plain": [
              "<IPython.core.display.HTML object>"
            ]
          },
          "metadata": {},
          "output_type": "display_data"
        },
        {
          "data": {
            "text/html": [
              " View run at <a href='https://wandb.ai/angelajcnto-the-university-of-western-australia/absa-bilstm-attention/runs/jokijkbu' target=\"_blank\">https://wandb.ai/angelajcnto-the-university-of-western-australia/absa-bilstm-attention/runs/jokijkbu</a>"
            ],
            "text/plain": [
              "<IPython.core.display.HTML object>"
            ]
          },
          "metadata": {},
          "output_type": "display_data"
        },
        {
          "name": "stdout",
          "output_type": "stream",
          "text": [
            "\n",
            "Testing: hidden_dim=50, num_layers=1, dropout=0.5, lr=0.001, batch_size=32\n",
            "Epoch 1/30 | Train Loss: 0.9127 | Train Acc: 59.66% | Val Loss: 0.8514 | Val Acc: 61.15%\n",
            "Epoch 2/30 | Train Loss: 0.8676 | Train Acc: 62.02% | Val Loss: 0.8437 | Val Acc: 61.26%\n",
            "Epoch 3/30 | Train Loss: 0.8389 | Train Acc: 63.17% | Val Loss: 0.8203 | Val Acc: 62.95%\n",
            "Epoch 4/30 | Train Loss: 0.8262 | Train Acc: 63.53% | Val Loss: 0.8016 | Val Acc: 63.63%\n",
            "Epoch 5/30 | Train Loss: 0.8159 | Train Acc: 64.26% | Val Loss: 0.8087 | Val Acc: 63.18%\n",
            "Epoch 6/30 | Train Loss: 0.7915 | Train Acc: 65.77% | Val Loss: 0.7962 | Val Acc: 64.08%\n",
            "Epoch 7/30 | Train Loss: 0.7693 | Train Acc: 66.22% | Val Loss: 0.7689 | Val Acc: 64.41%\n",
            "Epoch 8/30 | Train Loss: 0.7519 | Train Acc: 67.21% | Val Loss: 0.7886 | Val Acc: 63.96%\n",
            "Epoch 9/30 | Train Loss: 0.7209 | Train Acc: 68.12% | Val Loss: 0.7793 | Val Acc: 65.88%\n",
            "Epoch 10/30 | Train Loss: 0.6984 | Train Acc: 69.73% | Val Loss: 0.7738 | Val Acc: 65.20%\n",
            "Epoch 11/30 | Train Loss: 0.6684 | Train Acc: 70.94% | Val Loss: 0.7866 | Val Acc: 66.22%\n",
            "Epoch 12/30 | Train Loss: 0.6349 | Train Acc: 72.65% | Val Loss: 0.7987 | Val Acc: 64.19%\n",
            "Epoch 13/30 | Train Loss: 0.6057 | Train Acc: 74.08% | Val Loss: 0.8248 | Val Acc: 64.19%\n",
            "Epoch 14/30 | Train Loss: 0.5731 | Train Acc: 75.51% | Val Loss: 0.8244 | Val Acc: 64.75%\n",
            "Epoch 15/30 | Train Loss: 0.5471 | Train Acc: 76.90% | Val Loss: 0.8540 | Val Acc: 64.08%\n",
            "Epoch 16/30 | Train Loss: 0.5076 | Train Acc: 78.84% | Val Loss: 0.8847 | Val Acc: 64.08%\n",
            "Early stopping at epoch 16\n"
          ]
        },
        {
          "data": {
            "text/html": [],
            "text/plain": [
              "<IPython.core.display.HTML object>"
            ]
          },
          "metadata": {},
          "output_type": "display_data"
        },
        {
          "data": {
            "text/html": [
              "<br>    <style><br>        .wandb-row {<br>            display: flex;<br>            flex-direction: row;<br>            flex-wrap: wrap;<br>            justify-content: flex-start;<br>            width: 100%;<br>        }<br>        .wandb-col {<br>            display: flex;<br>            flex-direction: column;<br>            flex-basis: 100%;<br>            flex: 1;<br>            padding: 10px;<br>        }<br>    </style><br><div class=\"wandb-row\"><div class=\"wandb-col\"><h3>Run history:</h3><br/><table class=\"wandb\"><tr><td>epoch</td><td>▁▁▂▂▃▃▄▄▅▅▆▆▇▇██</td></tr><tr><td>final_val_acc</td><td>▁</td></tr><tr><td>train_acc</td><td>▁▂▂▂▃▃▃▄▄▅▅▆▆▇▇█</td></tr><tr><td>train_loss</td><td>█▇▇▇▆▆▆▅▅▄▄▃▃▂▂▁</td></tr><tr><td>val_acc</td><td>▁▁▃▄▄▅▆▅█▇█▅▅▆▅▅</td></tr><tr><td>val_loss</td><td>▆▆▄▃▃▃▁▂▂▁▂▃▄▄▆█</td></tr></table><br/></div><div class=\"wandb-col\"><h3>Run summary:</h3><br/><table class=\"wandb\"><tr><td>epoch</td><td>16</td></tr><tr><td>final_val_acc</td><td>0.64077</td></tr><tr><td>train_acc</td><td>0.78843</td></tr><tr><td>train_loss</td><td>0.50755</td></tr><tr><td>val_acc</td><td>0.64077</td></tr><tr><td>val_loss</td><td>0.88474</td></tr></table><br/></div></div>"
            ],
            "text/plain": [
              "<IPython.core.display.HTML object>"
            ]
          },
          "metadata": {},
          "output_type": "display_data"
        },
        {
          "data": {
            "text/html": [
              " View run <strong style=\"color:#cdcd00\">HD=50_NL=1_DO=0.5_LR=0.001_BS=32</strong> at: <a href='https://wandb.ai/angelajcnto-the-university-of-western-australia/absa-bilstm-attention/runs/jokijkbu' target=\"_blank\">https://wandb.ai/angelajcnto-the-university-of-western-australia/absa-bilstm-attention/runs/jokijkbu</a><br> View project at: <a href='https://wandb.ai/angelajcnto-the-university-of-western-australia/absa-bilstm-attention' target=\"_blank\">https://wandb.ai/angelajcnto-the-university-of-western-australia/absa-bilstm-attention</a><br>Synced 5 W&B file(s), 0 media file(s), 0 artifact file(s) and 0 other file(s)"
            ],
            "text/plain": [
              "<IPython.core.display.HTML object>"
            ]
          },
          "metadata": {},
          "output_type": "display_data"
        },
        {
          "data": {
            "text/html": [
              "Find logs at: <code>.\\wandb\\run-20250425_205813-jokijkbu\\logs</code>"
            ],
            "text/plain": [
              "<IPython.core.display.HTML object>"
            ]
          },
          "metadata": {},
          "output_type": "display_data"
        },
        {
          "data": {
            "text/html": [
              "Tracking run with wandb version 0.19.10"
            ],
            "text/plain": [
              "<IPython.core.display.HTML object>"
            ]
          },
          "metadata": {},
          "output_type": "display_data"
        },
        {
          "data": {
            "text/html": [
              "Run data is saved locally in <code>c:\\Users\\angel\\OneDrive\\uni_projects\\DATA_SCIENCE_ML\\NLP-Aspect-Based-Sentiment-Analysis\\wandb\\run-20250425_205916-u7g2xfhw</code>"
            ],
            "text/plain": [
              "<IPython.core.display.HTML object>"
            ]
          },
          "metadata": {},
          "output_type": "display_data"
        },
        {
          "data": {
            "text/html": [
              "Syncing run <strong><a href='https://wandb.ai/angelajcnto-the-university-of-western-australia/absa-bilstm-attention/runs/u7g2xfhw' target=\"_blank\">HD=50_NL=1_DO=0.5_LR=0.001_BS=64</a></strong> to <a href='https://wandb.ai/angelajcnto-the-university-of-western-australia/absa-bilstm-attention' target=\"_blank\">Weights & Biases</a> (<a href='https://wandb.me/developer-guide' target=\"_blank\">docs</a>)<br>"
            ],
            "text/plain": [
              "<IPython.core.display.HTML object>"
            ]
          },
          "metadata": {},
          "output_type": "display_data"
        },
        {
          "data": {
            "text/html": [
              " View project at <a href='https://wandb.ai/angelajcnto-the-university-of-western-australia/absa-bilstm-attention' target=\"_blank\">https://wandb.ai/angelajcnto-the-university-of-western-australia/absa-bilstm-attention</a>"
            ],
            "text/plain": [
              "<IPython.core.display.HTML object>"
            ]
          },
          "metadata": {},
          "output_type": "display_data"
        },
        {
          "data": {
            "text/html": [
              " View run at <a href='https://wandb.ai/angelajcnto-the-university-of-western-australia/absa-bilstm-attention/runs/u7g2xfhw' target=\"_blank\">https://wandb.ai/angelajcnto-the-university-of-western-australia/absa-bilstm-attention/runs/u7g2xfhw</a>"
            ],
            "text/plain": [
              "<IPython.core.display.HTML object>"
            ]
          },
          "metadata": {},
          "output_type": "display_data"
        },
        {
          "name": "stdout",
          "output_type": "stream",
          "text": [
            "\n",
            "Testing: hidden_dim=50, num_layers=1, dropout=0.5, lr=0.001, batch_size=64\n",
            "Epoch 1/30 | Train Loss: 0.9286 | Train Acc: 58.59% | Val Loss: 0.8585 | Val Acc: 61.60%\n",
            "Epoch 2/30 | Train Loss: 0.8666 | Train Acc: 61.93% | Val Loss: 0.8441 | Val Acc: 61.37%\n",
            "Epoch 3/30 | Train Loss: 0.8524 | Train Acc: 62.95% | Val Loss: 0.8237 | Val Acc: 63.74%\n",
            "Epoch 4/30 | Train Loss: 0.8296 | Train Acc: 63.88% | Val Loss: 0.8151 | Val Acc: 63.06%\n",
            "Epoch 5/30 | Train Loss: 0.8185 | Train Acc: 64.54% | Val Loss: 0.8120 | Val Acc: 62.84%\n",
            "Epoch 6/30 | Train Loss: 0.8041 | Train Acc: 64.89% | Val Loss: 0.7935 | Val Acc: 64.30%\n",
            "Epoch 7/30 | Train Loss: 0.7883 | Train Acc: 65.60% | Val Loss: 0.7817 | Val Acc: 64.53%\n",
            "Epoch 8/30 | Train Loss: 0.7752 | Train Acc: 66.80% | Val Loss: 0.7797 | Val Acc: 64.98%\n",
            "Epoch 9/30 | Train Loss: 0.7559 | Train Acc: 66.94% | Val Loss: 0.7701 | Val Acc: 65.43%\n",
            "Epoch 10/30 | Train Loss: 0.7282 | Train Acc: 68.31% | Val Loss: 0.7809 | Val Acc: 65.20%\n",
            "Epoch 11/30 | Train Loss: 0.7054 | Train Acc: 69.52% | Val Loss: 0.7689 | Val Acc: 65.43%\n",
            "Epoch 12/30 | Train Loss: 0.6832 | Train Acc: 71.11% | Val Loss: 0.7741 | Val Acc: 65.43%\n",
            "Epoch 13/30 | Train Loss: 0.6548 | Train Acc: 71.95% | Val Loss: 0.7950 | Val Acc: 64.19%\n",
            "Epoch 14/30 | Train Loss: 0.6334 | Train Acc: 73.07% | Val Loss: 0.8024 | Val Acc: 65.54%\n",
            "Epoch 15/30 | Train Loss: 0.5965 | Train Acc: 74.29% | Val Loss: 0.8040 | Val Acc: 65.65%\n",
            "Epoch 16/30 | Train Loss: 0.5729 | Train Acc: 75.60% | Val Loss: 0.8064 | Val Acc: 65.65%\n",
            "Epoch 17/30 | Train Loss: 0.5369 | Train Acc: 77.38% | Val Loss: 0.8108 | Val Acc: 65.88%\n",
            "Epoch 18/30 | Train Loss: 0.5087 | Train Acc: 79.34% | Val Loss: 0.8719 | Val Acc: 64.53%\n",
            "Epoch 19/30 | Train Loss: 0.4724 | Train Acc: 80.94% | Val Loss: 0.8953 | Val Acc: 65.32%\n",
            "Epoch 20/30 | Train Loss: 0.4525 | Train Acc: 81.52% | Val Loss: 0.9536 | Val Acc: 63.40%\n",
            "Epoch 21/30 | Train Loss: 0.4219 | Train Acc: 82.83% | Val Loss: 0.9592 | Val Acc: 63.96%\n",
            "Epoch 22/30 | Train Loss: 0.3877 | Train Acc: 85.02% | Val Loss: 0.9872 | Val Acc: 65.43%\n",
            "Early stopping at epoch 22\n"
          ]
        },
        {
          "data": {
            "text/html": [],
            "text/plain": [
              "<IPython.core.display.HTML object>"
            ]
          },
          "metadata": {},
          "output_type": "display_data"
        },
        {
          "data": {
            "text/html": [
              "<br>    <style><br>        .wandb-row {<br>            display: flex;<br>            flex-direction: row;<br>            flex-wrap: wrap;<br>            justify-content: flex-start;<br>            width: 100%;<br>        }<br>        .wandb-col {<br>            display: flex;<br>            flex-direction: column;<br>            flex-basis: 100%;<br>            flex: 1;<br>            padding: 10px;<br>        }<br>    </style><br><div class=\"wandb-row\"><div class=\"wandb-col\"><h3>Run history:</h3><br/><table class=\"wandb\"><tr><td>epoch</td><td>▁▁▂▂▂▃▃▃▄▄▄▅▅▅▆▆▆▇▇▇██</td></tr><tr><td>final_val_acc</td><td>▁</td></tr><tr><td>train_acc</td><td>▁▂▂▂▃▃▃▃▃▄▄▄▅▅▅▆▆▆▇▇▇█</td></tr><tr><td>train_loss</td><td>█▇▇▇▇▆▆▆▆▅▅▅▄▄▄▃▃▃▂▂▁▁</td></tr><tr><td>val_acc</td><td>▁▁▅▄▃▆▆▇▇▇▇▇▅▇███▆▇▄▅▇</td></tr><tr><td>val_loss</td><td>▄▃▃▂▂▂▁▁▁▁▁▁▂▂▂▂▂▄▅▇▇█</td></tr></table><br/></div><div class=\"wandb-col\"><h3>Run summary:</h3><br/><table class=\"wandb\"><tr><td>epoch</td><td>22</td></tr><tr><td>final_val_acc</td><td>0.65428</td></tr><tr><td>train_acc</td><td>0.85021</td></tr><tr><td>train_loss</td><td>0.3877</td></tr><tr><td>val_acc</td><td>0.65428</td></tr><tr><td>val_loss</td><td>0.98721</td></tr></table><br/></div></div>"
            ],
            "text/plain": [
              "<IPython.core.display.HTML object>"
            ]
          },
          "metadata": {},
          "output_type": "display_data"
        },
        {
          "data": {
            "text/html": [
              " View run <strong style=\"color:#cdcd00\">HD=50_NL=1_DO=0.5_LR=0.001_BS=64</strong> at: <a href='https://wandb.ai/angelajcnto-the-university-of-western-australia/absa-bilstm-attention/runs/u7g2xfhw' target=\"_blank\">https://wandb.ai/angelajcnto-the-university-of-western-australia/absa-bilstm-attention/runs/u7g2xfhw</a><br> View project at: <a href='https://wandb.ai/angelajcnto-the-university-of-western-australia/absa-bilstm-attention' target=\"_blank\">https://wandb.ai/angelajcnto-the-university-of-western-australia/absa-bilstm-attention</a><br>Synced 5 W&B file(s), 0 media file(s), 0 artifact file(s) and 0 other file(s)"
            ],
            "text/plain": [
              "<IPython.core.display.HTML object>"
            ]
          },
          "metadata": {},
          "output_type": "display_data"
        },
        {
          "data": {
            "text/html": [
              "Find logs at: <code>.\\wandb\\run-20250425_205916-u7g2xfhw\\logs</code>"
            ],
            "text/plain": [
              "<IPython.core.display.HTML object>"
            ]
          },
          "metadata": {},
          "output_type": "display_data"
        },
        {
          "data": {
            "text/html": [],
            "text/plain": [
              "<IPython.core.display.HTML object>"
            ]
          },
          "metadata": {},
          "output_type": "display_data"
        },
        {
          "data": {
            "text/html": [
              "Tracking run with wandb version 0.19.10"
            ],
            "text/plain": [
              "<IPython.core.display.HTML object>"
            ]
          },
          "metadata": {},
          "output_type": "display_data"
        },
        {
          "data": {
            "text/html": [
              "Run data is saved locally in <code>c:\\Users\\angel\\OneDrive\\uni_projects\\DATA_SCIENCE_ML\\NLP-Aspect-Based-Sentiment-Analysis\\wandb\\run-20250425_210037-zc18yovm</code>"
            ],
            "text/plain": [
              "<IPython.core.display.HTML object>"
            ]
          },
          "metadata": {},
          "output_type": "display_data"
        },
        {
          "data": {
            "text/html": [
              "Syncing run <strong><a href='https://wandb.ai/angelajcnto-the-university-of-western-australia/absa-bilstm-attention/runs/zc18yovm' target=\"_blank\">HD=50_NL=1_DO=0.5_LR=0.001_BS=128</a></strong> to <a href='https://wandb.ai/angelajcnto-the-university-of-western-australia/absa-bilstm-attention' target=\"_blank\">Weights & Biases</a> (<a href='https://wandb.me/developer-guide' target=\"_blank\">docs</a>)<br>"
            ],
            "text/plain": [
              "<IPython.core.display.HTML object>"
            ]
          },
          "metadata": {},
          "output_type": "display_data"
        },
        {
          "data": {
            "text/html": [
              " View project at <a href='https://wandb.ai/angelajcnto-the-university-of-western-australia/absa-bilstm-attention' target=\"_blank\">https://wandb.ai/angelajcnto-the-university-of-western-australia/absa-bilstm-attention</a>"
            ],
            "text/plain": [
              "<IPython.core.display.HTML object>"
            ]
          },
          "metadata": {},
          "output_type": "display_data"
        },
        {
          "data": {
            "text/html": [
              " View run at <a href='https://wandb.ai/angelajcnto-the-university-of-western-australia/absa-bilstm-attention/runs/zc18yovm' target=\"_blank\">https://wandb.ai/angelajcnto-the-university-of-western-australia/absa-bilstm-attention/runs/zc18yovm</a>"
            ],
            "text/plain": [
              "<IPython.core.display.HTML object>"
            ]
          },
          "metadata": {},
          "output_type": "display_data"
        },
        {
          "name": "stdout",
          "output_type": "stream",
          "text": [
            "\n",
            "Testing: hidden_dim=50, num_layers=1, dropout=0.5, lr=0.001, batch_size=128\n",
            "Epoch 1/30 | Train Loss: 0.9437 | Train Acc: 58.21% | Val Loss: 0.8883 | Val Acc: 59.91%\n",
            "Epoch 2/30 | Train Loss: 0.8933 | Train Acc: 60.23% | Val Loss: 0.8425 | Val Acc: 61.49%\n",
            "Epoch 3/30 | Train Loss: 0.8558 | Train Acc: 63.05% | Val Loss: 0.8329 | Val Acc: 60.81%\n",
            "Epoch 4/30 | Train Loss: 0.8454 | Train Acc: 63.31% | Val Loss: 0.8230 | Val Acc: 61.82%\n",
            "Epoch 5/30 | Train Loss: 0.8320 | Train Acc: 63.98% | Val Loss: 0.8217 | Val Acc: 63.51%\n",
            "Epoch 6/30 | Train Loss: 0.8193 | Train Acc: 64.40% | Val Loss: 0.8098 | Val Acc: 62.84%\n",
            "Epoch 7/30 | Train Loss: 0.8134 | Train Acc: 64.85% | Val Loss: 0.8052 | Val Acc: 63.18%\n",
            "Epoch 8/30 | Train Loss: 0.7972 | Train Acc: 65.49% | Val Loss: 0.7914 | Val Acc: 64.98%\n",
            "Epoch 9/30 | Train Loss: 0.7858 | Train Acc: 66.14% | Val Loss: 0.7843 | Val Acc: 64.53%\n",
            "Epoch 10/30 | Train Loss: 0.7741 | Train Acc: 66.45% | Val Loss: 0.7864 | Val Acc: 64.86%\n",
            "Epoch 11/30 | Train Loss: 0.7602 | Train Acc: 67.01% | Val Loss: 0.7999 | Val Acc: 64.08%\n",
            "Epoch 12/30 | Train Loss: 0.7507 | Train Acc: 68.04% | Val Loss: 0.8106 | Val Acc: 63.63%\n",
            "Epoch 13/30 | Train Loss: 0.7303 | Train Acc: 68.53% | Val Loss: 0.7791 | Val Acc: 65.09%\n",
            "Epoch 14/30 | Train Loss: 0.7077 | Train Acc: 69.96% | Val Loss: 0.7882 | Val Acc: 64.86%\n",
            "Epoch 15/30 | Train Loss: 0.7050 | Train Acc: 69.51% | Val Loss: 0.7761 | Val Acc: 67.23%\n",
            "Epoch 16/30 | Train Loss: 0.6783 | Train Acc: 71.21% | Val Loss: 0.7913 | Val Acc: 65.54%\n",
            "Epoch 17/30 | Train Loss: 0.6561 | Train Acc: 72.30% | Val Loss: 0.7972 | Val Acc: 66.33%\n",
            "Epoch 18/30 | Train Loss: 0.6294 | Train Acc: 73.62% | Val Loss: 0.8078 | Val Acc: 62.73%\n",
            "Epoch 19/30 | Train Loss: 0.6147 | Train Acc: 74.57% | Val Loss: 0.8226 | Val Acc: 64.86%\n",
            "Epoch 20/30 | Train Loss: 0.5869 | Train Acc: 75.92% | Val Loss: 0.8333 | Val Acc: 65.43%\n",
            "Early stopping at epoch 20\n"
          ]
        },
        {
          "data": {
            "text/html": [],
            "text/plain": [
              "<IPython.core.display.HTML object>"
            ]
          },
          "metadata": {},
          "output_type": "display_data"
        },
        {
          "data": {
            "text/html": [
              "<br>    <style><br>        .wandb-row {<br>            display: flex;<br>            flex-direction: row;<br>            flex-wrap: wrap;<br>            justify-content: flex-start;<br>            width: 100%;<br>        }<br>        .wandb-col {<br>            display: flex;<br>            flex-direction: column;<br>            flex-basis: 100%;<br>            flex: 1;<br>            padding: 10px;<br>        }<br>    </style><br><div class=\"wandb-row\"><div class=\"wandb-col\"><h3>Run history:</h3><br/><table class=\"wandb\"><tr><td>epoch</td><td>▁▁▂▂▂▃▃▄▄▄▅▅▅▆▆▇▇▇██</td></tr><tr><td>final_val_acc</td><td>▁</td></tr><tr><td>train_acc</td><td>▁▂▃▃▃▃▄▄▄▄▄▅▅▆▅▆▇▇▇█</td></tr><tr><td>train_loss</td><td>█▇▆▆▆▆▅▅▅▅▄▄▄▃▃▃▂▂▂▁</td></tr><tr><td>val_acc</td><td>▁▃▂▃▄▄▄▆▅▆▅▅▆▆█▆▇▄▆▆</td></tr><tr><td>val_loss</td><td>█▅▅▄▄▃▃▂▂▂▂▃▁▂▁▂▂▃▄▅</td></tr></table><br/></div><div class=\"wandb-col\"><h3>Run summary:</h3><br/><table class=\"wandb\"><tr><td>epoch</td><td>20</td></tr><tr><td>final_val_acc</td><td>0.65428</td></tr><tr><td>train_acc</td><td>0.75924</td></tr><tr><td>train_loss</td><td>0.58695</td></tr><tr><td>val_acc</td><td>0.65428</td></tr><tr><td>val_loss</td><td>0.83328</td></tr></table><br/></div></div>"
            ],
            "text/plain": [
              "<IPython.core.display.HTML object>"
            ]
          },
          "metadata": {},
          "output_type": "display_data"
        },
        {
          "data": {
            "text/html": [
              " View run <strong style=\"color:#cdcd00\">HD=50_NL=1_DO=0.5_LR=0.001_BS=128</strong> at: <a href='https://wandb.ai/angelajcnto-the-university-of-western-australia/absa-bilstm-attention/runs/zc18yovm' target=\"_blank\">https://wandb.ai/angelajcnto-the-university-of-western-australia/absa-bilstm-attention/runs/zc18yovm</a><br> View project at: <a href='https://wandb.ai/angelajcnto-the-university-of-western-australia/absa-bilstm-attention' target=\"_blank\">https://wandb.ai/angelajcnto-the-university-of-western-australia/absa-bilstm-attention</a><br>Synced 5 W&B file(s), 0 media file(s), 0 artifact file(s) and 0 other file(s)"
            ],
            "text/plain": [
              "<IPython.core.display.HTML object>"
            ]
          },
          "metadata": {},
          "output_type": "display_data"
        },
        {
          "data": {
            "text/html": [
              "Find logs at: <code>.\\wandb\\run-20250425_210037-zc18yovm\\logs</code>"
            ],
            "text/plain": [
              "<IPython.core.display.HTML object>"
            ]
          },
          "metadata": {},
          "output_type": "display_data"
        },
        {
          "data": {
            "text/html": [
              "Tracking run with wandb version 0.19.10"
            ],
            "text/plain": [
              "<IPython.core.display.HTML object>"
            ]
          },
          "metadata": {},
          "output_type": "display_data"
        },
        {
          "data": {
            "text/html": [
              "Run data is saved locally in <code>c:\\Users\\angel\\OneDrive\\uni_projects\\DATA_SCIENCE_ML\\NLP-Aspect-Based-Sentiment-Analysis\\wandb\\run-20250425_210145-9yt7mm3z</code>"
            ],
            "text/plain": [
              "<IPython.core.display.HTML object>"
            ]
          },
          "metadata": {},
          "output_type": "display_data"
        },
        {
          "data": {
            "text/html": [
              "Syncing run <strong><a href='https://wandb.ai/angelajcnto-the-university-of-western-australia/absa-bilstm-attention/runs/9yt7mm3z' target=\"_blank\">HD=50_NL=2_DO=0.3_LR=0.01_BS=32</a></strong> to <a href='https://wandb.ai/angelajcnto-the-university-of-western-australia/absa-bilstm-attention' target=\"_blank\">Weights & Biases</a> (<a href='https://wandb.me/developer-guide' target=\"_blank\">docs</a>)<br>"
            ],
            "text/plain": [
              "<IPython.core.display.HTML object>"
            ]
          },
          "metadata": {},
          "output_type": "display_data"
        },
        {
          "data": {
            "text/html": [
              " View project at <a href='https://wandb.ai/angelajcnto-the-university-of-western-australia/absa-bilstm-attention' target=\"_blank\">https://wandb.ai/angelajcnto-the-university-of-western-australia/absa-bilstm-attention</a>"
            ],
            "text/plain": [
              "<IPython.core.display.HTML object>"
            ]
          },
          "metadata": {},
          "output_type": "display_data"
        },
        {
          "data": {
            "text/html": [
              " View run at <a href='https://wandb.ai/angelajcnto-the-university-of-western-australia/absa-bilstm-attention/runs/9yt7mm3z' target=\"_blank\">https://wandb.ai/angelajcnto-the-university-of-western-australia/absa-bilstm-attention/runs/9yt7mm3z</a>"
            ],
            "text/plain": [
              "<IPython.core.display.HTML object>"
            ]
          },
          "metadata": {},
          "output_type": "display_data"
        },
        {
          "name": "stdout",
          "output_type": "stream",
          "text": [
            "\n",
            "Testing: hidden_dim=50, num_layers=2, dropout=0.3, lr=0.01, batch_size=32\n",
            "Epoch 1/30 | Train Loss: 0.9377 | Train Acc: 58.21% | Val Loss: 0.8815 | Val Acc: 59.23%\n",
            "Epoch 2/30 | Train Loss: 0.8854 | Train Acc: 60.94% | Val Loss: 0.8425 | Val Acc: 61.37%\n",
            "Epoch 3/30 | Train Loss: 0.8672 | Train Acc: 62.21% | Val Loss: 0.8576 | Val Acc: 61.94%\n",
            "Epoch 4/30 | Train Loss: 0.8628 | Train Acc: 62.28% | Val Loss: 0.8514 | Val Acc: 61.26%\n",
            "Epoch 5/30 | Train Loss: 0.8503 | Train Acc: 63.10% | Val Loss: 0.8555 | Val Acc: 60.70%\n",
            "Epoch 6/30 | Train Loss: 0.8451 | Train Acc: 63.07% | Val Loss: 0.8074 | Val Acc: 62.73%\n",
            "Epoch 7/30 | Train Loss: 0.8302 | Train Acc: 63.68% | Val Loss: 0.8151 | Val Acc: 63.63%\n",
            "Epoch 8/30 | Train Loss: 0.8328 | Train Acc: 63.20% | Val Loss: 0.8180 | Val Acc: 62.05%\n",
            "Epoch 9/30 | Train Loss: 0.8198 | Train Acc: 64.25% | Val Loss: 0.8138 | Val Acc: 63.74%\n",
            "Epoch 10/30 | Train Loss: 0.8113 | Train Acc: 64.78% | Val Loss: 0.8150 | Val Acc: 64.19%\n",
            "Epoch 11/30 | Train Loss: 0.8145 | Train Acc: 64.63% | Val Loss: 0.8316 | Val Acc: 63.06%\n",
            "Epoch 12/30 | Train Loss: 0.8056 | Train Acc: 65.50% | Val Loss: 0.7971 | Val Acc: 63.74%\n",
            "Epoch 13/30 | Train Loss: 0.7988 | Train Acc: 64.89% | Val Loss: 0.7928 | Val Acc: 64.30%\n",
            "Epoch 14/30 | Train Loss: 0.8104 | Train Acc: 64.30% | Val Loss: 0.8161 | Val Acc: 62.27%\n",
            "Epoch 15/30 | Train Loss: 0.8011 | Train Acc: 64.39% | Val Loss: 0.8138 | Val Acc: 62.39%\n",
            "Epoch 16/30 | Train Loss: 0.7967 | Train Acc: 64.80% | Val Loss: 0.8064 | Val Acc: 60.92%\n",
            "Epoch 17/30 | Train Loss: 0.7986 | Train Acc: 64.56% | Val Loss: 0.8088 | Val Acc: 62.39%\n",
            "Epoch 18/30 | Train Loss: 0.7853 | Train Acc: 65.16% | Val Loss: 0.8176 | Val Acc: 62.61%\n",
            "Early stopping at epoch 18\n"
          ]
        },
        {
          "data": {
            "text/html": [],
            "text/plain": [
              "<IPython.core.display.HTML object>"
            ]
          },
          "metadata": {},
          "output_type": "display_data"
        },
        {
          "data": {
            "text/html": [
              "<br>    <style><br>        .wandb-row {<br>            display: flex;<br>            flex-direction: row;<br>            flex-wrap: wrap;<br>            justify-content: flex-start;<br>            width: 100%;<br>        }<br>        .wandb-col {<br>            display: flex;<br>            flex-direction: column;<br>            flex-basis: 100%;<br>            flex: 1;<br>            padding: 10px;<br>        }<br>    </style><br><div class=\"wandb-row\"><div class=\"wandb-col\"><h3>Run history:</h3><br/><table class=\"wandb\"><tr><td>epoch</td><td>▁▁▂▂▃▃▃▄▄▅▅▆▆▆▇▇██</td></tr><tr><td>final_val_acc</td><td>▁</td></tr><tr><td>train_acc</td><td>▁▄▅▅▆▆▆▆▇▇▇█▇▇▇▇▇█</td></tr><tr><td>train_loss</td><td>█▆▅▅▄▄▃▃▃▂▂▂▂▂▂▂▂▁</td></tr><tr><td>val_acc</td><td>▁▄▅▄▃▆▇▅▇█▆▇█▅▅▃▅▆</td></tr><tr><td>val_loss</td><td>█▅▆▆▆▂▃▃▃▃▄▁▁▃▃▂▂▃</td></tr></table><br/></div><div class=\"wandb-col\"><h3>Run summary:</h3><br/><table class=\"wandb\"><tr><td>epoch</td><td>18</td></tr><tr><td>final_val_acc</td><td>0.62613</td></tr><tr><td>train_acc</td><td>0.65162</td></tr><tr><td>train_loss</td><td>0.78533</td></tr><tr><td>val_acc</td><td>0.62613</td></tr><tr><td>val_loss</td><td>0.8176</td></tr></table><br/></div></div>"
            ],
            "text/plain": [
              "<IPython.core.display.HTML object>"
            ]
          },
          "metadata": {},
          "output_type": "display_data"
        },
        {
          "data": {
            "text/html": [
              " View run <strong style=\"color:#cdcd00\">HD=50_NL=2_DO=0.3_LR=0.01_BS=32</strong> at: <a href='https://wandb.ai/angelajcnto-the-university-of-western-australia/absa-bilstm-attention/runs/9yt7mm3z' target=\"_blank\">https://wandb.ai/angelajcnto-the-university-of-western-australia/absa-bilstm-attention/runs/9yt7mm3z</a><br> View project at: <a href='https://wandb.ai/angelajcnto-the-university-of-western-australia/absa-bilstm-attention' target=\"_blank\">https://wandb.ai/angelajcnto-the-university-of-western-australia/absa-bilstm-attention</a><br>Synced 5 W&B file(s), 0 media file(s), 0 artifact file(s) and 0 other file(s)"
            ],
            "text/plain": [
              "<IPython.core.display.HTML object>"
            ]
          },
          "metadata": {},
          "output_type": "display_data"
        },
        {
          "data": {
            "text/html": [
              "Find logs at: <code>.\\wandb\\run-20250425_210145-9yt7mm3z\\logs</code>"
            ],
            "text/plain": [
              "<IPython.core.display.HTML object>"
            ]
          },
          "metadata": {},
          "output_type": "display_data"
        },
        {
          "data": {
            "text/html": [
              "Tracking run with wandb version 0.19.10"
            ],
            "text/plain": [
              "<IPython.core.display.HTML object>"
            ]
          },
          "metadata": {},
          "output_type": "display_data"
        },
        {
          "data": {
            "text/html": [
              "Run data is saved locally in <code>c:\\Users\\angel\\OneDrive\\uni_projects\\DATA_SCIENCE_ML\\NLP-Aspect-Based-Sentiment-Analysis\\wandb\\run-20250425_210300-3omozqvs</code>"
            ],
            "text/plain": [
              "<IPython.core.display.HTML object>"
            ]
          },
          "metadata": {},
          "output_type": "display_data"
        },
        {
          "data": {
            "text/html": [
              "Syncing run <strong><a href='https://wandb.ai/angelajcnto-the-university-of-western-australia/absa-bilstm-attention/runs/3omozqvs' target=\"_blank\">HD=50_NL=2_DO=0.3_LR=0.01_BS=64</a></strong> to <a href='https://wandb.ai/angelajcnto-the-university-of-western-australia/absa-bilstm-attention' target=\"_blank\">Weights & Biases</a> (<a href='https://wandb.me/developer-guide' target=\"_blank\">docs</a>)<br>"
            ],
            "text/plain": [
              "<IPython.core.display.HTML object>"
            ]
          },
          "metadata": {},
          "output_type": "display_data"
        },
        {
          "data": {
            "text/html": [
              " View project at <a href='https://wandb.ai/angelajcnto-the-university-of-western-australia/absa-bilstm-attention' target=\"_blank\">https://wandb.ai/angelajcnto-the-university-of-western-australia/absa-bilstm-attention</a>"
            ],
            "text/plain": [
              "<IPython.core.display.HTML object>"
            ]
          },
          "metadata": {},
          "output_type": "display_data"
        },
        {
          "data": {
            "text/html": [
              " View run at <a href='https://wandb.ai/angelajcnto-the-university-of-western-australia/absa-bilstm-attention/runs/3omozqvs' target=\"_blank\">https://wandb.ai/angelajcnto-the-university-of-western-australia/absa-bilstm-attention/runs/3omozqvs</a>"
            ],
            "text/plain": [
              "<IPython.core.display.HTML object>"
            ]
          },
          "metadata": {},
          "output_type": "display_data"
        },
        {
          "name": "stdout",
          "output_type": "stream",
          "text": [
            "\n",
            "Testing: hidden_dim=50, num_layers=2, dropout=0.3, lr=0.01, batch_size=64\n",
            "Epoch 1/30 | Train Loss: 0.9199 | Train Acc: 58.82% | Val Loss: 0.8634 | Val Acc: 60.81%\n",
            "Epoch 2/30 | Train Loss: 0.8755 | Train Acc: 61.21% | Val Loss: 0.8552 | Val Acc: 60.02%\n",
            "Epoch 3/30 | Train Loss: 0.8579 | Train Acc: 62.48% | Val Loss: 0.8207 | Val Acc: 63.29%\n",
            "Epoch 4/30 | Train Loss: 0.8477 | Train Acc: 62.99% | Val Loss: 0.8204 | Val Acc: 63.74%\n",
            "Epoch 5/30 | Train Loss: 0.8399 | Train Acc: 63.23% | Val Loss: 0.8297 | Val Acc: 62.39%\n",
            "Epoch 6/30 | Train Loss: 0.8231 | Train Acc: 63.81% | Val Loss: 0.8140 | Val Acc: 62.05%\n",
            "Epoch 7/30 | Train Loss: 0.8149 | Train Acc: 64.60% | Val Loss: 0.8014 | Val Acc: 62.61%\n",
            "Epoch 8/30 | Train Loss: 0.8086 | Train Acc: 65.02% | Val Loss: 0.8055 | Val Acc: 63.18%\n",
            "Epoch 9/30 | Train Loss: 0.7983 | Train Acc: 64.50% | Val Loss: 0.7863 | Val Acc: 64.53%\n",
            "Epoch 10/30 | Train Loss: 0.7880 | Train Acc: 65.74% | Val Loss: 0.7891 | Val Acc: 63.51%\n",
            "Epoch 11/30 | Train Loss: 0.7814 | Train Acc: 65.84% | Val Loss: 0.7927 | Val Acc: 63.96%\n",
            "Epoch 12/30 | Train Loss: 0.7836 | Train Acc: 65.80% | Val Loss: 0.8212 | Val Acc: 61.26%\n",
            "Epoch 13/30 | Train Loss: 0.7729 | Train Acc: 66.02% | Val Loss: 0.7827 | Val Acc: 64.75%\n",
            "Epoch 14/30 | Train Loss: 0.7651 | Train Acc: 66.18% | Val Loss: 0.7934 | Val Acc: 64.41%\n",
            "Epoch 15/30 | Train Loss: 0.7598 | Train Acc: 66.88% | Val Loss: 0.8003 | Val Acc: 64.41%\n",
            "Epoch 16/30 | Train Loss: 0.7549 | Train Acc: 66.30% | Val Loss: 0.8121 | Val Acc: 63.63%\n",
            "Epoch 17/30 | Train Loss: 0.7546 | Train Acc: 67.31% | Val Loss: 0.8204 | Val Acc: 64.53%\n",
            "Epoch 18/30 | Train Loss: 0.7378 | Train Acc: 67.02% | Val Loss: 0.8352 | Val Acc: 63.96%\n",
            "Early stopping at epoch 18\n"
          ]
        },
        {
          "data": {
            "text/html": [],
            "text/plain": [
              "<IPython.core.display.HTML object>"
            ]
          },
          "metadata": {},
          "output_type": "display_data"
        },
        {
          "data": {
            "text/html": [
              "<br>    <style><br>        .wandb-row {<br>            display: flex;<br>            flex-direction: row;<br>            flex-wrap: wrap;<br>            justify-content: flex-start;<br>            width: 100%;<br>        }<br>        .wandb-col {<br>            display: flex;<br>            flex-direction: column;<br>            flex-basis: 100%;<br>            flex: 1;<br>            padding: 10px;<br>        }<br>    </style><br><div class=\"wandb-row\"><div class=\"wandb-col\"><h3>Run history:</h3><br/><table class=\"wandb\"><tr><td>epoch</td><td>▁▁▂▂▃▃▃▄▄▅▅▆▆▆▇▇██</td></tr><tr><td>final_val_acc</td><td>▁</td></tr><tr><td>train_acc</td><td>▁▃▄▄▅▅▆▆▆▇▇▇▇▇█▇██</td></tr><tr><td>train_loss</td><td>█▆▆▅▅▄▄▄▃▃▃▃▂▂▂▂▂▁</td></tr><tr><td>val_acc</td><td>▂▁▆▇▅▄▅▆█▆▇▃█▇▇▆█▇</td></tr><tr><td>val_loss</td><td>█▇▄▄▅▄▃▃▁▂▂▄▁▂▃▄▄▆</td></tr></table><br/></div><div class=\"wandb-col\"><h3>Run summary:</h3><br/><table class=\"wandb\"><tr><td>epoch</td><td>18</td></tr><tr><td>final_val_acc</td><td>0.63964</td></tr><tr><td>train_acc</td><td>0.67024</td></tr><tr><td>train_loss</td><td>0.73781</td></tr><tr><td>val_acc</td><td>0.63964</td></tr><tr><td>val_loss</td><td>0.83521</td></tr></table><br/></div></div>"
            ],
            "text/plain": [
              "<IPython.core.display.HTML object>"
            ]
          },
          "metadata": {},
          "output_type": "display_data"
        },
        {
          "data": {
            "text/html": [
              " View run <strong style=\"color:#cdcd00\">HD=50_NL=2_DO=0.3_LR=0.01_BS=64</strong> at: <a href='https://wandb.ai/angelajcnto-the-university-of-western-australia/absa-bilstm-attention/runs/3omozqvs' target=\"_blank\">https://wandb.ai/angelajcnto-the-university-of-western-australia/absa-bilstm-attention/runs/3omozqvs</a><br> View project at: <a href='https://wandb.ai/angelajcnto-the-university-of-western-australia/absa-bilstm-attention' target=\"_blank\">https://wandb.ai/angelajcnto-the-university-of-western-australia/absa-bilstm-attention</a><br>Synced 5 W&B file(s), 0 media file(s), 0 artifact file(s) and 0 other file(s)"
            ],
            "text/plain": [
              "<IPython.core.display.HTML object>"
            ]
          },
          "metadata": {},
          "output_type": "display_data"
        },
        {
          "data": {
            "text/html": [
              "Find logs at: <code>.\\wandb\\run-20250425_210300-3omozqvs\\logs</code>"
            ],
            "text/plain": [
              "<IPython.core.display.HTML object>"
            ]
          },
          "metadata": {},
          "output_type": "display_data"
        },
        {
          "data": {
            "text/html": [],
            "text/plain": [
              "<IPython.core.display.HTML object>"
            ]
          },
          "metadata": {},
          "output_type": "display_data"
        },
        {
          "data": {
            "text/html": [
              "Tracking run with wandb version 0.19.10"
            ],
            "text/plain": [
              "<IPython.core.display.HTML object>"
            ]
          },
          "metadata": {},
          "output_type": "display_data"
        },
        {
          "data": {
            "text/html": [
              "Run data is saved locally in <code>c:\\Users\\angel\\OneDrive\\uni_projects\\DATA_SCIENCE_ML\\NLP-Aspect-Based-Sentiment-Analysis\\wandb\\run-20250425_210407-i5b4kzsp</code>"
            ],
            "text/plain": [
              "<IPython.core.display.HTML object>"
            ]
          },
          "metadata": {},
          "output_type": "display_data"
        },
        {
          "data": {
            "text/html": [
              "Syncing run <strong><a href='https://wandb.ai/angelajcnto-the-university-of-western-australia/absa-bilstm-attention/runs/i5b4kzsp' target=\"_blank\">HD=50_NL=2_DO=0.3_LR=0.01_BS=128</a></strong> to <a href='https://wandb.ai/angelajcnto-the-university-of-western-australia/absa-bilstm-attention' target=\"_blank\">Weights & Biases</a> (<a href='https://wandb.me/developer-guide' target=\"_blank\">docs</a>)<br>"
            ],
            "text/plain": [
              "<IPython.core.display.HTML object>"
            ]
          },
          "metadata": {},
          "output_type": "display_data"
        },
        {
          "data": {
            "text/html": [
              " View project at <a href='https://wandb.ai/angelajcnto-the-university-of-western-australia/absa-bilstm-attention' target=\"_blank\">https://wandb.ai/angelajcnto-the-university-of-western-australia/absa-bilstm-attention</a>"
            ],
            "text/plain": [
              "<IPython.core.display.HTML object>"
            ]
          },
          "metadata": {},
          "output_type": "display_data"
        },
        {
          "data": {
            "text/html": [
              " View run at <a href='https://wandb.ai/angelajcnto-the-university-of-western-australia/absa-bilstm-attention/runs/i5b4kzsp' target=\"_blank\">https://wandb.ai/angelajcnto-the-university-of-western-australia/absa-bilstm-attention/runs/i5b4kzsp</a>"
            ],
            "text/plain": [
              "<IPython.core.display.HTML object>"
            ]
          },
          "metadata": {},
          "output_type": "display_data"
        },
        {
          "name": "stdout",
          "output_type": "stream",
          "text": [
            "\n",
            "Testing: hidden_dim=50, num_layers=2, dropout=0.3, lr=0.01, batch_size=128\n",
            "Epoch 1/30 | Train Loss: 0.9267 | Train Acc: 58.72% | Val Loss: 0.8609 | Val Acc: 59.80%\n",
            "Epoch 2/30 | Train Loss: 0.8715 | Train Acc: 62.03% | Val Loss: 0.8549 | Val Acc: 61.82%\n",
            "Epoch 3/30 | Train Loss: 0.8623 | Train Acc: 62.14% | Val Loss: 0.8304 | Val Acc: 62.61%\n",
            "Epoch 4/30 | Train Loss: 0.8395 | Train Acc: 62.89% | Val Loss: 0.8191 | Val Acc: 62.39%\n",
            "Epoch 5/30 | Train Loss: 0.8296 | Train Acc: 63.37% | Val Loss: 0.7974 | Val Acc: 63.29%\n",
            "Epoch 6/30 | Train Loss: 0.8128 | Train Acc: 64.30% | Val Loss: 0.8253 | Val Acc: 61.71%\n",
            "Epoch 7/30 | Train Loss: 0.7997 | Train Acc: 65.19% | Val Loss: 0.8059 | Val Acc: 63.06%\n",
            "Epoch 8/30 | Train Loss: 0.7963 | Train Acc: 64.89% | Val Loss: 0.7887 | Val Acc: 63.51%\n",
            "Epoch 9/30 | Train Loss: 0.7798 | Train Acc: 65.33% | Val Loss: 0.8385 | Val Acc: 62.95%\n",
            "Epoch 10/30 | Train Loss: 0.7772 | Train Acc: 66.01% | Val Loss: 0.8083 | Val Acc: 62.50%\n",
            "Epoch 11/30 | Train Loss: 0.7699 | Train Acc: 66.38% | Val Loss: 0.8217 | Val Acc: 62.84%\n",
            "Epoch 12/30 | Train Loss: 0.7601 | Train Acc: 66.52% | Val Loss: 0.8063 | Val Acc: 62.61%\n",
            "Epoch 13/30 | Train Loss: 0.7478 | Train Acc: 67.14% | Val Loss: 0.8176 | Val Acc: 62.61%\n",
            "Early stopping at epoch 13\n"
          ]
        },
        {
          "data": {
            "text/html": [],
            "text/plain": [
              "<IPython.core.display.HTML object>"
            ]
          },
          "metadata": {},
          "output_type": "display_data"
        },
        {
          "data": {
            "text/html": [
              "<br>    <style><br>        .wandb-row {<br>            display: flex;<br>            flex-direction: row;<br>            flex-wrap: wrap;<br>            justify-content: flex-start;<br>            width: 100%;<br>        }<br>        .wandb-col {<br>            display: flex;<br>            flex-direction: column;<br>            flex-basis: 100%;<br>            flex: 1;<br>            padding: 10px;<br>        }<br>    </style><br><div class=\"wandb-row\"><div class=\"wandb-col\"><h3>Run history:</h3><br/><table class=\"wandb\"><tr><td>epoch</td><td>▁▂▂▃▃▄▅▅▆▆▇▇█</td></tr><tr><td>final_val_acc</td><td>▁</td></tr><tr><td>train_acc</td><td>▁▄▄▄▅▆▆▆▆▇▇▇█</td></tr><tr><td>train_loss</td><td>█▆▅▅▄▄▃▃▂▂▂▁▁</td></tr><tr><td>val_acc</td><td>▁▅▆▆█▅▇█▇▆▇▆▆</td></tr><tr><td>val_loss</td><td>█▇▅▄▂▅▃▁▆▃▄▃▄</td></tr></table><br/></div><div class=\"wandb-col\"><h3>Run summary:</h3><br/><table class=\"wandb\"><tr><td>epoch</td><td>13</td></tr><tr><td>final_val_acc</td><td>0.62613</td></tr><tr><td>train_acc</td><td>0.67137</td></tr><tr><td>train_loss</td><td>0.74778</td></tr><tr><td>val_acc</td><td>0.62613</td></tr><tr><td>val_loss</td><td>0.8176</td></tr></table><br/></div></div>"
            ],
            "text/plain": [
              "<IPython.core.display.HTML object>"
            ]
          },
          "metadata": {},
          "output_type": "display_data"
        },
        {
          "data": {
            "text/html": [
              " View run <strong style=\"color:#cdcd00\">HD=50_NL=2_DO=0.3_LR=0.01_BS=128</strong> at: <a href='https://wandb.ai/angelajcnto-the-university-of-western-australia/absa-bilstm-attention/runs/i5b4kzsp' target=\"_blank\">https://wandb.ai/angelajcnto-the-university-of-western-australia/absa-bilstm-attention/runs/i5b4kzsp</a><br> View project at: <a href='https://wandb.ai/angelajcnto-the-university-of-western-australia/absa-bilstm-attention' target=\"_blank\">https://wandb.ai/angelajcnto-the-university-of-western-australia/absa-bilstm-attention</a><br>Synced 5 W&B file(s), 0 media file(s), 0 artifact file(s) and 0 other file(s)"
            ],
            "text/plain": [
              "<IPython.core.display.HTML object>"
            ]
          },
          "metadata": {},
          "output_type": "display_data"
        },
        {
          "data": {
            "text/html": [
              "Find logs at: <code>.\\wandb\\run-20250425_210407-i5b4kzsp\\logs</code>"
            ],
            "text/plain": [
              "<IPython.core.display.HTML object>"
            ]
          },
          "metadata": {},
          "output_type": "display_data"
        },
        {
          "data": {
            "text/html": [
              "Tracking run with wandb version 0.19.10"
            ],
            "text/plain": [
              "<IPython.core.display.HTML object>"
            ]
          },
          "metadata": {},
          "output_type": "display_data"
        },
        {
          "data": {
            "text/html": [
              "Run data is saved locally in <code>c:\\Users\\angel\\OneDrive\\uni_projects\\DATA_SCIENCE_ML\\NLP-Aspect-Based-Sentiment-Analysis\\wandb\\run-20250425_210452-sjzpyvgd</code>"
            ],
            "text/plain": [
              "<IPython.core.display.HTML object>"
            ]
          },
          "metadata": {},
          "output_type": "display_data"
        },
        {
          "data": {
            "text/html": [
              "Syncing run <strong><a href='https://wandb.ai/angelajcnto-the-university-of-western-australia/absa-bilstm-attention/runs/sjzpyvgd' target=\"_blank\">HD=50_NL=2_DO=0.3_LR=0.005_BS=32</a></strong> to <a href='https://wandb.ai/angelajcnto-the-university-of-western-australia/absa-bilstm-attention' target=\"_blank\">Weights & Biases</a> (<a href='https://wandb.me/developer-guide' target=\"_blank\">docs</a>)<br>"
            ],
            "text/plain": [
              "<IPython.core.display.HTML object>"
            ]
          },
          "metadata": {},
          "output_type": "display_data"
        },
        {
          "data": {
            "text/html": [
              " View project at <a href='https://wandb.ai/angelajcnto-the-university-of-western-australia/absa-bilstm-attention' target=\"_blank\">https://wandb.ai/angelajcnto-the-university-of-western-australia/absa-bilstm-attention</a>"
            ],
            "text/plain": [
              "<IPython.core.display.HTML object>"
            ]
          },
          "metadata": {},
          "output_type": "display_data"
        },
        {
          "data": {
            "text/html": [
              " View run at <a href='https://wandb.ai/angelajcnto-the-university-of-western-australia/absa-bilstm-attention/runs/sjzpyvgd' target=\"_blank\">https://wandb.ai/angelajcnto-the-university-of-western-australia/absa-bilstm-attention/runs/sjzpyvgd</a>"
            ],
            "text/plain": [
              "<IPython.core.display.HTML object>"
            ]
          },
          "metadata": {},
          "output_type": "display_data"
        },
        {
          "name": "stdout",
          "output_type": "stream",
          "text": [
            "\n",
            "Testing: hidden_dim=50, num_layers=2, dropout=0.3, lr=0.005, batch_size=32\n",
            "Epoch 1/30 | Train Loss: 0.9209 | Train Acc: 58.79% | Val Loss: 0.8864 | Val Acc: 59.46%\n",
            "Epoch 2/30 | Train Loss: 0.8771 | Train Acc: 61.71% | Val Loss: 0.8338 | Val Acc: 62.16%\n",
            "Epoch 3/30 | Train Loss: 0.8557 | Train Acc: 62.54% | Val Loss: 0.8269 | Val Acc: 62.95%\n",
            "Epoch 4/30 | Train Loss: 0.8396 | Train Acc: 63.79% | Val Loss: 0.8277 | Val Acc: 62.73%\n",
            "Epoch 5/30 | Train Loss: 0.8224 | Train Acc: 64.30% | Val Loss: 0.8194 | Val Acc: 62.05%\n",
            "Epoch 6/30 | Train Loss: 0.8115 | Train Acc: 64.60% | Val Loss: 0.8172 | Val Acc: 62.95%\n",
            "Epoch 7/30 | Train Loss: 0.7912 | Train Acc: 65.44% | Val Loss: 0.8168 | Val Acc: 63.40%\n",
            "Epoch 8/30 | Train Loss: 0.7789 | Train Acc: 65.90% | Val Loss: 0.7960 | Val Acc: 64.08%\n",
            "Epoch 9/30 | Train Loss: 0.7722 | Train Acc: 66.12% | Val Loss: 0.7872 | Val Acc: 64.75%\n",
            "Epoch 10/30 | Train Loss: 0.7504 | Train Acc: 67.00% | Val Loss: 0.8061 | Val Acc: 63.06%\n",
            "Epoch 11/30 | Train Loss: 0.7551 | Train Acc: 67.25% | Val Loss: 0.7730 | Val Acc: 65.99%\n",
            "Epoch 12/30 | Train Loss: 0.7370 | Train Acc: 67.39% | Val Loss: 0.8164 | Val Acc: 65.43%\n",
            "Epoch 13/30 | Train Loss: 0.7237 | Train Acc: 68.35% | Val Loss: 0.7937 | Val Acc: 66.33%\n",
            "Epoch 14/30 | Train Loss: 0.7174 | Train Acc: 68.74% | Val Loss: 0.7919 | Val Acc: 65.54%\n",
            "Epoch 15/30 | Train Loss: 0.7096 | Train Acc: 68.93% | Val Loss: 0.8270 | Val Acc: 64.75%\n",
            "Epoch 16/30 | Train Loss: 0.6931 | Train Acc: 68.80% | Val Loss: 0.8241 | Val Acc: 64.30%\n",
            "Epoch 17/30 | Train Loss: 0.6866 | Train Acc: 70.10% | Val Loss: 0.8262 | Val Acc: 65.99%\n",
            "Epoch 18/30 | Train Loss: 0.6818 | Train Acc: 69.82% | Val Loss: 0.8517 | Val Acc: 64.75%\n",
            "Early stopping at epoch 18\n"
          ]
        },
        {
          "data": {
            "text/html": [],
            "text/plain": [
              "<IPython.core.display.HTML object>"
            ]
          },
          "metadata": {},
          "output_type": "display_data"
        },
        {
          "data": {
            "text/html": [
              "<br>    <style><br>        .wandb-row {<br>            display: flex;<br>            flex-direction: row;<br>            flex-wrap: wrap;<br>            justify-content: flex-start;<br>            width: 100%;<br>        }<br>        .wandb-col {<br>            display: flex;<br>            flex-direction: column;<br>            flex-basis: 100%;<br>            flex: 1;<br>            padding: 10px;<br>        }<br>    </style><br><div class=\"wandb-row\"><div class=\"wandb-col\"><h3>Run history:</h3><br/><table class=\"wandb\"><tr><td>epoch</td><td>▁▁▂▂▃▃▃▄▄▅▅▆▆▆▇▇██</td></tr><tr><td>final_val_acc</td><td>▁</td></tr><tr><td>train_acc</td><td>▁▃▃▄▄▅▅▅▆▆▆▆▇▇▇▇██</td></tr><tr><td>train_loss</td><td>█▇▆▆▅▅▄▄▄▃▃▃▂▂▂▁▁▁</td></tr><tr><td>val_acc</td><td>▁▄▅▄▄▅▅▆▆▅█▇█▇▆▆█▆</td></tr><tr><td>val_loss</td><td>█▅▄▄▄▄▄▂▂▃▁▄▂▂▄▄▄▆</td></tr></table><br/></div><div class=\"wandb-col\"><h3>Run summary:</h3><br/><table class=\"wandb\"><tr><td>epoch</td><td>18</td></tr><tr><td>final_val_acc</td><td>0.64752</td></tr><tr><td>train_acc</td><td>0.69817</td></tr><tr><td>train_loss</td><td>0.68175</td></tr><tr><td>val_acc</td><td>0.64752</td></tr><tr><td>val_loss</td><td>0.85167</td></tr></table><br/></div></div>"
            ],
            "text/plain": [
              "<IPython.core.display.HTML object>"
            ]
          },
          "metadata": {},
          "output_type": "display_data"
        },
        {
          "data": {
            "text/html": [
              " View run <strong style=\"color:#cdcd00\">HD=50_NL=2_DO=0.3_LR=0.005_BS=32</strong> at: <a href='https://wandb.ai/angelajcnto-the-university-of-western-australia/absa-bilstm-attention/runs/sjzpyvgd' target=\"_blank\">https://wandb.ai/angelajcnto-the-university-of-western-australia/absa-bilstm-attention/runs/sjzpyvgd</a><br> View project at: <a href='https://wandb.ai/angelajcnto-the-university-of-western-australia/absa-bilstm-attention' target=\"_blank\">https://wandb.ai/angelajcnto-the-university-of-western-australia/absa-bilstm-attention</a><br>Synced 5 W&B file(s), 0 media file(s), 0 artifact file(s) and 0 other file(s)"
            ],
            "text/plain": [
              "<IPython.core.display.HTML object>"
            ]
          },
          "metadata": {},
          "output_type": "display_data"
        },
        {
          "data": {
            "text/html": [
              "Find logs at: <code>.\\wandb\\run-20250425_210452-sjzpyvgd\\logs</code>"
            ],
            "text/plain": [
              "<IPython.core.display.HTML object>"
            ]
          },
          "metadata": {},
          "output_type": "display_data"
        },
        {
          "data": {
            "text/html": [
              "Tracking run with wandb version 0.19.10"
            ],
            "text/plain": [
              "<IPython.core.display.HTML object>"
            ]
          },
          "metadata": {},
          "output_type": "display_data"
        },
        {
          "data": {
            "text/html": [
              "Run data is saved locally in <code>c:\\Users\\angel\\OneDrive\\uni_projects\\DATA_SCIENCE_ML\\NLP-Aspect-Based-Sentiment-Analysis\\wandb\\run-20250425_210609-q2hag2w0</code>"
            ],
            "text/plain": [
              "<IPython.core.display.HTML object>"
            ]
          },
          "metadata": {},
          "output_type": "display_data"
        },
        {
          "data": {
            "text/html": [
              "Syncing run <strong><a href='https://wandb.ai/angelajcnto-the-university-of-western-australia/absa-bilstm-attention/runs/q2hag2w0' target=\"_blank\">HD=50_NL=2_DO=0.3_LR=0.005_BS=64</a></strong> to <a href='https://wandb.ai/angelajcnto-the-university-of-western-australia/absa-bilstm-attention' target=\"_blank\">Weights & Biases</a> (<a href='https://wandb.me/developer-guide' target=\"_blank\">docs</a>)<br>"
            ],
            "text/plain": [
              "<IPython.core.display.HTML object>"
            ]
          },
          "metadata": {},
          "output_type": "display_data"
        },
        {
          "data": {
            "text/html": [
              " View project at <a href='https://wandb.ai/angelajcnto-the-university-of-western-australia/absa-bilstm-attention' target=\"_blank\">https://wandb.ai/angelajcnto-the-university-of-western-australia/absa-bilstm-attention</a>"
            ],
            "text/plain": [
              "<IPython.core.display.HTML object>"
            ]
          },
          "metadata": {},
          "output_type": "display_data"
        },
        {
          "data": {
            "text/html": [
              " View run at <a href='https://wandb.ai/angelajcnto-the-university-of-western-australia/absa-bilstm-attention/runs/q2hag2w0' target=\"_blank\">https://wandb.ai/angelajcnto-the-university-of-western-australia/absa-bilstm-attention/runs/q2hag2w0</a>"
            ],
            "text/plain": [
              "<IPython.core.display.HTML object>"
            ]
          },
          "metadata": {},
          "output_type": "display_data"
        },
        {
          "name": "stdout",
          "output_type": "stream",
          "text": [
            "\n",
            "Testing: hidden_dim=50, num_layers=2, dropout=0.3, lr=0.005, batch_size=64\n",
            "Epoch 1/30 | Train Loss: 0.9234 | Train Acc: 58.94% | Val Loss: 0.8604 | Val Acc: 60.70%\n",
            "Epoch 2/30 | Train Loss: 0.8705 | Train Acc: 61.72% | Val Loss: 0.8390 | Val Acc: 61.71%\n",
            "Epoch 3/30 | Train Loss: 0.8522 | Train Acc: 62.57% | Val Loss: 0.8176 | Val Acc: 63.29%\n",
            "Epoch 4/30 | Train Loss: 0.8288 | Train Acc: 64.12% | Val Loss: 0.8155 | Val Acc: 62.61%\n",
            "Epoch 5/30 | Train Loss: 0.8147 | Train Acc: 64.60% | Val Loss: 0.8141 | Val Acc: 63.51%\n",
            "Epoch 6/30 | Train Loss: 0.7951 | Train Acc: 65.70% | Val Loss: 0.7847 | Val Acc: 63.29%\n",
            "Epoch 7/30 | Train Loss: 0.7771 | Train Acc: 65.67% | Val Loss: 0.7946 | Val Acc: 65.32%\n",
            "Epoch 8/30 | Train Loss: 0.7647 | Train Acc: 66.01% | Val Loss: 0.7911 | Val Acc: 65.32%\n",
            "Epoch 9/30 | Train Loss: 0.7464 | Train Acc: 66.61% | Val Loss: 0.7709 | Val Acc: 66.44%\n",
            "Epoch 10/30 | Train Loss: 0.7295 | Train Acc: 68.05% | Val Loss: 0.7879 | Val Acc: 64.98%\n",
            "Epoch 11/30 | Train Loss: 0.7180 | Train Acc: 68.03% | Val Loss: 0.8063 | Val Acc: 64.98%\n",
            "Epoch 12/30 | Train Loss: 0.7000 | Train Acc: 69.29% | Val Loss: 0.8265 | Val Acc: 64.08%\n",
            "Epoch 13/30 | Train Loss: 0.6877 | Train Acc: 69.96% | Val Loss: 0.8088 | Val Acc: 64.86%\n",
            "Epoch 14/30 | Train Loss: 0.6703 | Train Acc: 70.23% | Val Loss: 0.8600 | Val Acc: 63.96%\n",
            "Early stopping at epoch 14\n"
          ]
        },
        {
          "data": {
            "text/html": [],
            "text/plain": [
              "<IPython.core.display.HTML object>"
            ]
          },
          "metadata": {},
          "output_type": "display_data"
        },
        {
          "data": {
            "text/html": [
              "<br>    <style><br>        .wandb-row {<br>            display: flex;<br>            flex-direction: row;<br>            flex-wrap: wrap;<br>            justify-content: flex-start;<br>            width: 100%;<br>        }<br>        .wandb-col {<br>            display: flex;<br>            flex-direction: column;<br>            flex-basis: 100%;<br>            flex: 1;<br>            padding: 10px;<br>        }<br>    </style><br><div class=\"wandb-row\"><div class=\"wandb-col\"><h3>Run history:</h3><br/><table class=\"wandb\"><tr><td>epoch</td><td>▁▂▂▃▃▄▄▅▅▆▆▇▇█</td></tr><tr><td>final_val_acc</td><td>▁</td></tr><tr><td>train_acc</td><td>▁▃▃▄▅▅▅▅▆▇▇▇██</td></tr><tr><td>train_loss</td><td>█▇▆▅▅▄▄▄▃▃▂▂▁▁</td></tr><tr><td>val_acc</td><td>▁▂▄▃▄▄▇▇█▆▆▅▆▅</td></tr><tr><td>val_loss</td><td>█▆▅▄▄▂▃▃▁▂▄▅▄█</td></tr></table><br/></div><div class=\"wandb-col\"><h3>Run summary:</h3><br/><table class=\"wandb\"><tr><td>epoch</td><td>14</td></tr><tr><td>final_val_acc</td><td>0.63964</td></tr><tr><td>train_acc</td><td>0.70226</td></tr><tr><td>train_loss</td><td>0.67028</td></tr><tr><td>val_acc</td><td>0.63964</td></tr><tr><td>val_loss</td><td>0.85999</td></tr></table><br/></div></div>"
            ],
            "text/plain": [
              "<IPython.core.display.HTML object>"
            ]
          },
          "metadata": {},
          "output_type": "display_data"
        },
        {
          "data": {
            "text/html": [
              " View run <strong style=\"color:#cdcd00\">HD=50_NL=2_DO=0.3_LR=0.005_BS=64</strong> at: <a href='https://wandb.ai/angelajcnto-the-university-of-western-australia/absa-bilstm-attention/runs/q2hag2w0' target=\"_blank\">https://wandb.ai/angelajcnto-the-university-of-western-australia/absa-bilstm-attention/runs/q2hag2w0</a><br> View project at: <a href='https://wandb.ai/angelajcnto-the-university-of-western-australia/absa-bilstm-attention' target=\"_blank\">https://wandb.ai/angelajcnto-the-university-of-western-australia/absa-bilstm-attention</a><br>Synced 5 W&B file(s), 0 media file(s), 0 artifact file(s) and 0 other file(s)"
            ],
            "text/plain": [
              "<IPython.core.display.HTML object>"
            ]
          },
          "metadata": {},
          "output_type": "display_data"
        },
        {
          "data": {
            "text/html": [
              "Find logs at: <code>.\\wandb\\run-20250425_210609-q2hag2w0\\logs</code>"
            ],
            "text/plain": [
              "<IPython.core.display.HTML object>"
            ]
          },
          "metadata": {},
          "output_type": "display_data"
        },
        {
          "data": {
            "text/html": [
              "Tracking run with wandb version 0.19.10"
            ],
            "text/plain": [
              "<IPython.core.display.HTML object>"
            ]
          },
          "metadata": {},
          "output_type": "display_data"
        },
        {
          "data": {
            "text/html": [
              "Run data is saved locally in <code>c:\\Users\\angel\\OneDrive\\uni_projects\\DATA_SCIENCE_ML\\NLP-Aspect-Based-Sentiment-Analysis\\wandb\\run-20250425_210652-xf96n8sy</code>"
            ],
            "text/plain": [
              "<IPython.core.display.HTML object>"
            ]
          },
          "metadata": {},
          "output_type": "display_data"
        },
        {
          "data": {
            "text/html": [
              "Syncing run <strong><a href='https://wandb.ai/angelajcnto-the-university-of-western-australia/absa-bilstm-attention/runs/xf96n8sy' target=\"_blank\">HD=50_NL=2_DO=0.3_LR=0.005_BS=128</a></strong> to <a href='https://wandb.ai/angelajcnto-the-university-of-western-australia/absa-bilstm-attention' target=\"_blank\">Weights & Biases</a> (<a href='https://wandb.me/developer-guide' target=\"_blank\">docs</a>)<br>"
            ],
            "text/plain": [
              "<IPython.core.display.HTML object>"
            ]
          },
          "metadata": {},
          "output_type": "display_data"
        },
        {
          "data": {
            "text/html": [
              " View project at <a href='https://wandb.ai/angelajcnto-the-university-of-western-australia/absa-bilstm-attention' target=\"_blank\">https://wandb.ai/angelajcnto-the-university-of-western-australia/absa-bilstm-attention</a>"
            ],
            "text/plain": [
              "<IPython.core.display.HTML object>"
            ]
          },
          "metadata": {},
          "output_type": "display_data"
        },
        {
          "data": {
            "text/html": [
              " View run at <a href='https://wandb.ai/angelajcnto-the-university-of-western-australia/absa-bilstm-attention/runs/xf96n8sy' target=\"_blank\">https://wandb.ai/angelajcnto-the-university-of-western-australia/absa-bilstm-attention/runs/xf96n8sy</a>"
            ],
            "text/plain": [
              "<IPython.core.display.HTML object>"
            ]
          },
          "metadata": {},
          "output_type": "display_data"
        },
        {
          "name": "stdout",
          "output_type": "stream",
          "text": [
            "\n",
            "Testing: hidden_dim=50, num_layers=2, dropout=0.3, lr=0.005, batch_size=128\n",
            "Epoch 1/30 | Train Loss: 0.9261 | Train Acc: 59.13% | Val Loss: 0.8641 | Val Acc: 60.47%\n",
            "Epoch 2/30 | Train Loss: 0.8679 | Train Acc: 61.72% | Val Loss: 0.8479 | Val Acc: 62.05%\n",
            "Epoch 3/30 | Train Loss: 0.8496 | Train Acc: 63.17% | Val Loss: 0.8563 | Val Acc: 61.82%\n",
            "Epoch 4/30 | Train Loss: 0.8313 | Train Acc: 63.55% | Val Loss: 0.8369 | Val Acc: 61.26%\n",
            "Epoch 5/30 | Train Loss: 0.8051 | Train Acc: 64.68% | Val Loss: 0.8109 | Val Acc: 64.41%\n",
            "Epoch 6/30 | Train Loss: 0.7843 | Train Acc: 66.04% | Val Loss: 0.8051 | Val Acc: 63.63%\n",
            "Epoch 7/30 | Train Loss: 0.7634 | Train Acc: 67.04% | Val Loss: 0.8099 | Val Acc: 63.18%\n",
            "Epoch 8/30 | Train Loss: 0.7504 | Train Acc: 67.43% | Val Loss: 0.8193 | Val Acc: 64.19%\n",
            "Epoch 9/30 | Train Loss: 0.7316 | Train Acc: 67.90% | Val Loss: 0.8146 | Val Acc: 65.20%\n",
            "Epoch 10/30 | Train Loss: 0.7041 | Train Acc: 69.10% | Val Loss: 0.8322 | Val Acc: 64.53%\n",
            "Epoch 11/30 | Train Loss: 0.6845 | Train Acc: 70.56% | Val Loss: 0.8412 | Val Acc: 64.30%\n",
            "Epoch 12/30 | Train Loss: 0.6591 | Train Acc: 71.50% | Val Loss: 0.8282 | Val Acc: 64.30%\n",
            "Epoch 13/30 | Train Loss: 0.6480 | Train Acc: 72.34% | Val Loss: 0.8628 | Val Acc: 65.43%\n",
            "Epoch 14/30 | Train Loss: 0.6223 | Train Acc: 73.47% | Val Loss: 0.8374 | Val Acc: 64.64%\n",
            "Epoch 15/30 | Train Loss: 0.5970 | Train Acc: 74.60% | Val Loss: 0.9159 | Val Acc: 64.64%\n",
            "Epoch 16/30 | Train Loss: 0.5825 | Train Acc: 74.98% | Val Loss: 0.8965 | Val Acc: 64.64%\n",
            "Epoch 17/30 | Train Loss: 0.5654 | Train Acc: 76.01% | Val Loss: 0.9142 | Val Acc: 62.61%\n",
            "Epoch 18/30 | Train Loss: 0.5436 | Train Acc: 77.19% | Val Loss: 0.9513 | Val Acc: 62.39%\n",
            "Early stopping at epoch 18\n"
          ]
        },
        {
          "data": {
            "text/html": [],
            "text/plain": [
              "<IPython.core.display.HTML object>"
            ]
          },
          "metadata": {},
          "output_type": "display_data"
        },
        {
          "data": {
            "text/html": [
              "<br>    <style><br>        .wandb-row {<br>            display: flex;<br>            flex-direction: row;<br>            flex-wrap: wrap;<br>            justify-content: flex-start;<br>            width: 100%;<br>        }<br>        .wandb-col {<br>            display: flex;<br>            flex-direction: column;<br>            flex-basis: 100%;<br>            flex: 1;<br>            padding: 10px;<br>        }<br>    </style><br><div class=\"wandb-row\"><div class=\"wandb-col\"><h3>Run history:</h3><br/><table class=\"wandb\"><tr><td>epoch</td><td>▁▁▂▂▃▃▃▄▄▅▅▆▆▆▇▇██</td></tr><tr><td>final_val_acc</td><td>▁</td></tr><tr><td>train_acc</td><td>▁▂▃▃▃▄▄▄▄▅▅▆▆▇▇▇██</td></tr><tr><td>train_loss</td><td>█▇▇▆▆▅▅▅▄▄▄▃▃▂▂▂▁▁</td></tr><tr><td>val_acc</td><td>▁▃▃▂▇▅▅▆█▇▆▆█▇▇▇▄▄</td></tr><tr><td>val_loss</td><td>▄▃▃▃▁▁▁▂▁▂▃▂▄▃▆▅▆█</td></tr></table><br/></div><div class=\"wandb-col\"><h3>Run summary:</h3><br/><table class=\"wandb\"><tr><td>epoch</td><td>18</td></tr><tr><td>final_val_acc</td><td>0.62387</td></tr><tr><td>train_acc</td><td>0.77193</td></tr><tr><td>train_loss</td><td>0.54358</td></tr><tr><td>val_acc</td><td>0.62387</td></tr><tr><td>val_loss</td><td>0.95128</td></tr></table><br/></div></div>"
            ],
            "text/plain": [
              "<IPython.core.display.HTML object>"
            ]
          },
          "metadata": {},
          "output_type": "display_data"
        },
        {
          "data": {
            "text/html": [
              " View run <strong style=\"color:#cdcd00\">HD=50_NL=2_DO=0.3_LR=0.005_BS=128</strong> at: <a href='https://wandb.ai/angelajcnto-the-university-of-western-australia/absa-bilstm-attention/runs/xf96n8sy' target=\"_blank\">https://wandb.ai/angelajcnto-the-university-of-western-australia/absa-bilstm-attention/runs/xf96n8sy</a><br> View project at: <a href='https://wandb.ai/angelajcnto-the-university-of-western-australia/absa-bilstm-attention' target=\"_blank\">https://wandb.ai/angelajcnto-the-university-of-western-australia/absa-bilstm-attention</a><br>Synced 5 W&B file(s), 0 media file(s), 0 artifact file(s) and 0 other file(s)"
            ],
            "text/plain": [
              "<IPython.core.display.HTML object>"
            ]
          },
          "metadata": {},
          "output_type": "display_data"
        },
        {
          "data": {
            "text/html": [
              "Find logs at: <code>.\\wandb\\run-20250425_210652-xf96n8sy\\logs</code>"
            ],
            "text/plain": [
              "<IPython.core.display.HTML object>"
            ]
          },
          "metadata": {},
          "output_type": "display_data"
        },
        {
          "data": {
            "text/html": [
              "Tracking run with wandb version 0.19.10"
            ],
            "text/plain": [
              "<IPython.core.display.HTML object>"
            ]
          },
          "metadata": {},
          "output_type": "display_data"
        },
        {
          "data": {
            "text/html": [
              "Run data is saved locally in <code>c:\\Users\\angel\\OneDrive\\uni_projects\\DATA_SCIENCE_ML\\NLP-Aspect-Based-Sentiment-Analysis\\wandb\\run-20250425_210744-te06l1bu</code>"
            ],
            "text/plain": [
              "<IPython.core.display.HTML object>"
            ]
          },
          "metadata": {},
          "output_type": "display_data"
        },
        {
          "data": {
            "text/html": [
              "Syncing run <strong><a href='https://wandb.ai/angelajcnto-the-university-of-western-australia/absa-bilstm-attention/runs/te06l1bu' target=\"_blank\">HD=50_NL=2_DO=0.3_LR=0.001_BS=32</a></strong> to <a href='https://wandb.ai/angelajcnto-the-university-of-western-australia/absa-bilstm-attention' target=\"_blank\">Weights & Biases</a> (<a href='https://wandb.me/developer-guide' target=\"_blank\">docs</a>)<br>"
            ],
            "text/plain": [
              "<IPython.core.display.HTML object>"
            ]
          },
          "metadata": {},
          "output_type": "display_data"
        },
        {
          "data": {
            "text/html": [
              " View project at <a href='https://wandb.ai/angelajcnto-the-university-of-western-australia/absa-bilstm-attention' target=\"_blank\">https://wandb.ai/angelajcnto-the-university-of-western-australia/absa-bilstm-attention</a>"
            ],
            "text/plain": [
              "<IPython.core.display.HTML object>"
            ]
          },
          "metadata": {},
          "output_type": "display_data"
        },
        {
          "data": {
            "text/html": [
              " View run at <a href='https://wandb.ai/angelajcnto-the-university-of-western-australia/absa-bilstm-attention/runs/te06l1bu' target=\"_blank\">https://wandb.ai/angelajcnto-the-university-of-western-australia/absa-bilstm-attention/runs/te06l1bu</a>"
            ],
            "text/plain": [
              "<IPython.core.display.HTML object>"
            ]
          },
          "metadata": {},
          "output_type": "display_data"
        },
        {
          "name": "stdout",
          "output_type": "stream",
          "text": [
            "\n",
            "Testing: hidden_dim=50, num_layers=2, dropout=0.3, lr=0.001, batch_size=32\n",
            "Epoch 1/30 | Train Loss: 0.9096 | Train Acc: 59.79% | Val Loss: 0.8560 | Val Acc: 60.36%\n",
            "Epoch 2/30 | Train Loss: 0.8588 | Train Acc: 62.54% | Val Loss: 0.8255 | Val Acc: 62.39%\n",
            "Epoch 3/30 | Train Loss: 0.8328 | Train Acc: 63.88% | Val Loss: 0.8264 | Val Acc: 60.70%\n",
            "Epoch 4/30 | Train Loss: 0.8165 | Train Acc: 64.95% | Val Loss: 0.8364 | Val Acc: 63.18%\n",
            "Epoch 5/30 | Train Loss: 0.7980 | Train Acc: 65.51% | Val Loss: 0.8362 | Val Acc: 60.47%\n",
            "Epoch 6/30 | Train Loss: 0.7812 | Train Acc: 66.16% | Val Loss: 0.7953 | Val Acc: 66.10%\n",
            "Epoch 7/30 | Train Loss: 0.7570 | Train Acc: 66.91% | Val Loss: 0.7812 | Val Acc: 66.44%\n",
            "Epoch 8/30 | Train Loss: 0.7322 | Train Acc: 68.10% | Val Loss: 0.7899 | Val Acc: 64.86%\n",
            "Epoch 9/30 | Train Loss: 0.6977 | Train Acc: 69.52% | Val Loss: 0.7931 | Val Acc: 64.98%\n",
            "Epoch 10/30 | Train Loss: 0.6679 | Train Acc: 70.82% | Val Loss: 0.7946 | Val Acc: 65.65%\n",
            "Epoch 11/30 | Train Loss: 0.6236 | Train Acc: 72.91% | Val Loss: 0.8926 | Val Acc: 63.29%\n",
            "Epoch 12/30 | Train Loss: 0.5800 | Train Acc: 74.99% | Val Loss: 0.8804 | Val Acc: 64.64%\n",
            "Early stopping at epoch 12\n"
          ]
        },
        {
          "data": {
            "text/html": [],
            "text/plain": [
              "<IPython.core.display.HTML object>"
            ]
          },
          "metadata": {},
          "output_type": "display_data"
        },
        {
          "data": {
            "text/html": [
              "<br>    <style><br>        .wandb-row {<br>            display: flex;<br>            flex-direction: row;<br>            flex-wrap: wrap;<br>            justify-content: flex-start;<br>            width: 100%;<br>        }<br>        .wandb-col {<br>            display: flex;<br>            flex-direction: column;<br>            flex-basis: 100%;<br>            flex: 1;<br>            padding: 10px;<br>        }<br>    </style><br><div class=\"wandb-row\"><div class=\"wandb-col\"><h3>Run history:</h3><br/><table class=\"wandb\"><tr><td>epoch</td><td>▁▂▂▃▄▄▅▅▆▇▇█</td></tr><tr><td>final_val_acc</td><td>▁</td></tr><tr><td>train_acc</td><td>▁▂▃▃▄▄▄▅▅▆▇█</td></tr><tr><td>train_loss</td><td>█▇▆▆▆▅▅▄▄▃▂▁</td></tr><tr><td>val_acc</td><td>▁▃▁▄▁██▆▆▇▄▆</td></tr><tr><td>val_loss</td><td>▆▄▄▄▄▂▁▂▂▂█▇</td></tr></table><br/></div><div class=\"wandb-col\"><h3>Run summary:</h3><br/><table class=\"wandb\"><tr><td>epoch</td><td>12</td></tr><tr><td>final_val_acc</td><td>0.6464</td></tr><tr><td>train_acc</td><td>0.74993</td></tr><tr><td>train_loss</td><td>0.58002</td></tr><tr><td>val_acc</td><td>0.6464</td></tr><tr><td>val_loss</td><td>0.88036</td></tr></table><br/></div></div>"
            ],
            "text/plain": [
              "<IPython.core.display.HTML object>"
            ]
          },
          "metadata": {},
          "output_type": "display_data"
        },
        {
          "data": {
            "text/html": [
              " View run <strong style=\"color:#cdcd00\">HD=50_NL=2_DO=0.3_LR=0.001_BS=32</strong> at: <a href='https://wandb.ai/angelajcnto-the-university-of-western-australia/absa-bilstm-attention/runs/te06l1bu' target=\"_blank\">https://wandb.ai/angelajcnto-the-university-of-western-australia/absa-bilstm-attention/runs/te06l1bu</a><br> View project at: <a href='https://wandb.ai/angelajcnto-the-university-of-western-australia/absa-bilstm-attention' target=\"_blank\">https://wandb.ai/angelajcnto-the-university-of-western-australia/absa-bilstm-attention</a><br>Synced 5 W&B file(s), 0 media file(s), 0 artifact file(s) and 0 other file(s)"
            ],
            "text/plain": [
              "<IPython.core.display.HTML object>"
            ]
          },
          "metadata": {},
          "output_type": "display_data"
        },
        {
          "data": {
            "text/html": [
              "Find logs at: <code>.\\wandb\\run-20250425_210744-te06l1bu\\logs</code>"
            ],
            "text/plain": [
              "<IPython.core.display.HTML object>"
            ]
          },
          "metadata": {},
          "output_type": "display_data"
        },
        {
          "data": {
            "text/html": [],
            "text/plain": [
              "<IPython.core.display.HTML object>"
            ]
          },
          "metadata": {},
          "output_type": "display_data"
        },
        {
          "data": {
            "text/html": [
              "Tracking run with wandb version 0.19.10"
            ],
            "text/plain": [
              "<IPython.core.display.HTML object>"
            ]
          },
          "metadata": {},
          "output_type": "display_data"
        },
        {
          "data": {
            "text/html": [
              "Run data is saved locally in <code>c:\\Users\\angel\\OneDrive\\uni_projects\\DATA_SCIENCE_ML\\NLP-Aspect-Based-Sentiment-Analysis\\wandb\\run-20250425_210828-a7dollyn</code>"
            ],
            "text/plain": [
              "<IPython.core.display.HTML object>"
            ]
          },
          "metadata": {},
          "output_type": "display_data"
        },
        {
          "data": {
            "text/html": [
              "Syncing run <strong><a href='https://wandb.ai/angelajcnto-the-university-of-western-australia/absa-bilstm-attention/runs/a7dollyn' target=\"_blank\">HD=50_NL=2_DO=0.3_LR=0.001_BS=64</a></strong> to <a href='https://wandb.ai/angelajcnto-the-university-of-western-australia/absa-bilstm-attention' target=\"_blank\">Weights & Biases</a> (<a href='https://wandb.me/developer-guide' target=\"_blank\">docs</a>)<br>"
            ],
            "text/plain": [
              "<IPython.core.display.HTML object>"
            ]
          },
          "metadata": {},
          "output_type": "display_data"
        },
        {
          "data": {
            "text/html": [
              " View project at <a href='https://wandb.ai/angelajcnto-the-university-of-western-australia/absa-bilstm-attention' target=\"_blank\">https://wandb.ai/angelajcnto-the-university-of-western-australia/absa-bilstm-attention</a>"
            ],
            "text/plain": [
              "<IPython.core.display.HTML object>"
            ]
          },
          "metadata": {},
          "output_type": "display_data"
        },
        {
          "data": {
            "text/html": [
              " View run at <a href='https://wandb.ai/angelajcnto-the-university-of-western-australia/absa-bilstm-attention/runs/a7dollyn' target=\"_blank\">https://wandb.ai/angelajcnto-the-university-of-western-australia/absa-bilstm-attention/runs/a7dollyn</a>"
            ],
            "text/plain": [
              "<IPython.core.display.HTML object>"
            ]
          },
          "metadata": {},
          "output_type": "display_data"
        },
        {
          "name": "stdout",
          "output_type": "stream",
          "text": [
            "\n",
            "Testing: hidden_dim=50, num_layers=2, dropout=0.3, lr=0.001, batch_size=64\n",
            "Epoch 1/30 | Train Loss: 0.9248 | Train Acc: 59.03% | Val Loss: 0.8560 | Val Acc: 60.92%\n",
            "Epoch 2/30 | Train Loss: 0.8634 | Train Acc: 62.03% | Val Loss: 0.8259 | Val Acc: 61.37%\n",
            "Epoch 3/30 | Train Loss: 0.8448 | Train Acc: 62.78% | Val Loss: 0.8205 | Val Acc: 62.16%\n",
            "Epoch 4/30 | Train Loss: 0.8243 | Train Acc: 63.96% | Val Loss: 0.8051 | Val Acc: 61.82%\n",
            "Epoch 5/30 | Train Loss: 0.8102 | Train Acc: 64.49% | Val Loss: 0.8083 | Val Acc: 63.29%\n",
            "Epoch 6/30 | Train Loss: 0.7932 | Train Acc: 65.47% | Val Loss: 0.7925 | Val Acc: 63.51%\n",
            "Epoch 7/30 | Train Loss: 0.7684 | Train Acc: 66.46% | Val Loss: 0.8263 | Val Acc: 62.84%\n",
            "Epoch 8/30 | Train Loss: 0.7572 | Train Acc: 67.29% | Val Loss: 0.7872 | Val Acc: 62.95%\n",
            "Epoch 9/30 | Train Loss: 0.7228 | Train Acc: 68.55% | Val Loss: 0.8055 | Val Acc: 63.85%\n",
            "Epoch 10/30 | Train Loss: 0.7002 | Train Acc: 69.79% | Val Loss: 0.8205 | Val Acc: 64.53%\n",
            "Epoch 11/30 | Train Loss: 0.6654 | Train Acc: 71.23% | Val Loss: 0.8339 | Val Acc: 62.39%\n",
            "Epoch 12/30 | Train Loss: 0.6354 | Train Acc: 72.48% | Val Loss: 0.8638 | Val Acc: 63.40%\n",
            "Epoch 13/30 | Train Loss: 0.5872 | Train Acc: 75.30% | Val Loss: 0.8875 | Val Acc: 62.61%\n",
            "Epoch 14/30 | Train Loss: 0.5532 | Train Acc: 76.77% | Val Loss: 0.9569 | Val Acc: 62.84%\n",
            "Epoch 15/30 | Train Loss: 0.5073 | Train Acc: 78.67% | Val Loss: 1.0309 | Val Acc: 62.16%\n",
            "Early stopping at epoch 15\n"
          ]
        },
        {
          "data": {
            "text/html": [],
            "text/plain": [
              "<IPython.core.display.HTML object>"
            ]
          },
          "metadata": {},
          "output_type": "display_data"
        },
        {
          "data": {
            "text/html": [
              "<br>    <style><br>        .wandb-row {<br>            display: flex;<br>            flex-direction: row;<br>            flex-wrap: wrap;<br>            justify-content: flex-start;<br>            width: 100%;<br>        }<br>        .wandb-col {<br>            display: flex;<br>            flex-direction: column;<br>            flex-basis: 100%;<br>            flex: 1;<br>            padding: 10px;<br>        }<br>    </style><br><div class=\"wandb-row\"><div class=\"wandb-col\"><h3>Run history:</h3><br/><table class=\"wandb\"><tr><td>epoch</td><td>▁▁▂▃▃▃▄▅▅▅▆▇▇▇█</td></tr><tr><td>final_val_acc</td><td>▁</td></tr><tr><td>train_acc</td><td>▁▂▂▃▃▃▄▄▄▅▅▆▇▇█</td></tr><tr><td>train_loss</td><td>█▇▇▆▆▆▅▅▅▄▄▃▂▂▁</td></tr><tr><td>val_acc</td><td>▁▂▃▃▆▆▅▅▇█▄▆▄▅▃</td></tr><tr><td>val_loss</td><td>▃▂▂▂▂▁▂▁▂▂▂▃▄▆█</td></tr></table><br/></div><div class=\"wandb-col\"><h3>Run summary:</h3><br/><table class=\"wandb\"><tr><td>epoch</td><td>15</td></tr><tr><td>final_val_acc</td><td>0.62162</td></tr><tr><td>train_acc</td><td>0.78674</td></tr><tr><td>train_loss</td><td>0.50732</td></tr><tr><td>val_acc</td><td>0.62162</td></tr><tr><td>val_loss</td><td>1.03089</td></tr></table><br/></div></div>"
            ],
            "text/plain": [
              "<IPython.core.display.HTML object>"
            ]
          },
          "metadata": {},
          "output_type": "display_data"
        },
        {
          "data": {
            "text/html": [
              " View run <strong style=\"color:#cdcd00\">HD=50_NL=2_DO=0.3_LR=0.001_BS=64</strong> at: <a href='https://wandb.ai/angelajcnto-the-university-of-western-australia/absa-bilstm-attention/runs/a7dollyn' target=\"_blank\">https://wandb.ai/angelajcnto-the-university-of-western-australia/absa-bilstm-attention/runs/a7dollyn</a><br> View project at: <a href='https://wandb.ai/angelajcnto-the-university-of-western-australia/absa-bilstm-attention' target=\"_blank\">https://wandb.ai/angelajcnto-the-university-of-western-australia/absa-bilstm-attention</a><br>Synced 5 W&B file(s), 0 media file(s), 0 artifact file(s) and 0 other file(s)"
            ],
            "text/plain": [
              "<IPython.core.display.HTML object>"
            ]
          },
          "metadata": {},
          "output_type": "display_data"
        },
        {
          "data": {
            "text/html": [
              "Find logs at: <code>.\\wandb\\run-20250425_210828-a7dollyn\\logs</code>"
            ],
            "text/plain": [
              "<IPython.core.display.HTML object>"
            ]
          },
          "metadata": {},
          "output_type": "display_data"
        },
        {
          "data": {
            "text/html": [
              "Tracking run with wandb version 0.19.10"
            ],
            "text/plain": [
              "<IPython.core.display.HTML object>"
            ]
          },
          "metadata": {},
          "output_type": "display_data"
        },
        {
          "data": {
            "text/html": [
              "Run data is saved locally in <code>c:\\Users\\angel\\OneDrive\\uni_projects\\DATA_SCIENCE_ML\\NLP-Aspect-Based-Sentiment-Analysis\\wandb\\run-20250425_210913-azg1srxv</code>"
            ],
            "text/plain": [
              "<IPython.core.display.HTML object>"
            ]
          },
          "metadata": {},
          "output_type": "display_data"
        },
        {
          "data": {
            "text/html": [
              "Syncing run <strong><a href='https://wandb.ai/angelajcnto-the-university-of-western-australia/absa-bilstm-attention/runs/azg1srxv' target=\"_blank\">HD=50_NL=2_DO=0.3_LR=0.001_BS=128</a></strong> to <a href='https://wandb.ai/angelajcnto-the-university-of-western-australia/absa-bilstm-attention' target=\"_blank\">Weights & Biases</a> (<a href='https://wandb.me/developer-guide' target=\"_blank\">docs</a>)<br>"
            ],
            "text/plain": [
              "<IPython.core.display.HTML object>"
            ]
          },
          "metadata": {},
          "output_type": "display_data"
        },
        {
          "data": {
            "text/html": [
              " View project at <a href='https://wandb.ai/angelajcnto-the-university-of-western-australia/absa-bilstm-attention' target=\"_blank\">https://wandb.ai/angelajcnto-the-university-of-western-australia/absa-bilstm-attention</a>"
            ],
            "text/plain": [
              "<IPython.core.display.HTML object>"
            ]
          },
          "metadata": {},
          "output_type": "display_data"
        },
        {
          "data": {
            "text/html": [
              " View run at <a href='https://wandb.ai/angelajcnto-the-university-of-western-australia/absa-bilstm-attention/runs/azg1srxv' target=\"_blank\">https://wandb.ai/angelajcnto-the-university-of-western-australia/absa-bilstm-attention/runs/azg1srxv</a>"
            ],
            "text/plain": [
              "<IPython.core.display.HTML object>"
            ]
          },
          "metadata": {},
          "output_type": "display_data"
        },
        {
          "name": "stdout",
          "output_type": "stream",
          "text": [
            "\n",
            "Testing: hidden_dim=50, num_layers=2, dropout=0.3, lr=0.001, batch_size=128\n",
            "Epoch 1/30 | Train Loss: 0.9445 | Train Acc: 57.81% | Val Loss: 0.8920 | Val Acc: 59.91%\n",
            "Epoch 2/30 | Train Loss: 0.8823 | Train Acc: 61.13% | Val Loss: 0.8425 | Val Acc: 61.04%\n",
            "Epoch 3/30 | Train Loss: 0.8494 | Train Acc: 63.05% | Val Loss: 0.8400 | Val Acc: 61.94%\n",
            "Epoch 4/30 | Train Loss: 0.8342 | Train Acc: 63.67% | Val Loss: 0.8184 | Val Acc: 61.60%\n",
            "Epoch 5/30 | Train Loss: 0.8183 | Train Acc: 64.96% | Val Loss: 0.8146 | Val Acc: 62.73%\n",
            "Epoch 6/30 | Train Loss: 0.8048 | Train Acc: 65.16% | Val Loss: 0.8015 | Val Acc: 63.74%\n",
            "Epoch 7/30 | Train Loss: 0.7900 | Train Acc: 65.57% | Val Loss: 0.8029 | Val Acc: 64.08%\n",
            "Epoch 8/30 | Train Loss: 0.7676 | Train Acc: 66.47% | Val Loss: 0.8188 | Val Acc: 62.84%\n",
            "Epoch 9/30 | Train Loss: 0.7497 | Train Acc: 67.76% | Val Loss: 0.8182 | Val Acc: 63.63%\n",
            "Epoch 10/30 | Train Loss: 0.7369 | Train Acc: 68.15% | Val Loss: 0.8053 | Val Acc: 63.85%\n",
            "Epoch 11/30 | Train Loss: 0.7050 | Train Acc: 69.58% | Val Loss: 0.8181 | Val Acc: 64.30%\n",
            "Epoch 12/30 | Train Loss: 0.6855 | Train Acc: 70.76% | Val Loss: 0.8237 | Val Acc: 62.95%\n",
            "Epoch 13/30 | Train Loss: 0.6587 | Train Acc: 71.72% | Val Loss: 0.8853 | Val Acc: 62.05%\n",
            "Epoch 14/30 | Train Loss: 0.6184 | Train Acc: 73.46% | Val Loss: 0.8634 | Val Acc: 65.43%\n",
            "Epoch 15/30 | Train Loss: 0.5922 | Train Acc: 74.60% | Val Loss: 0.8750 | Val Acc: 64.19%\n",
            "Epoch 16/30 | Train Loss: 0.5525 | Train Acc: 76.61% | Val Loss: 0.9488 | Val Acc: 62.50%\n",
            "Epoch 17/30 | Train Loss: 0.5129 | Train Acc: 78.41% | Val Loss: 0.9710 | Val Acc: 63.40%\n",
            "Epoch 18/30 | Train Loss: 0.4809 | Train Acc: 80.34% | Val Loss: 1.0587 | Val Acc: 61.71%\n",
            "Epoch 19/30 | Train Loss: 0.4416 | Train Acc: 82.00% | Val Loss: 1.0700 | Val Acc: 64.08%\n",
            "Early stopping at epoch 19\n"
          ]
        },
        {
          "data": {
            "text/html": [],
            "text/plain": [
              "<IPython.core.display.HTML object>"
            ]
          },
          "metadata": {},
          "output_type": "display_data"
        },
        {
          "data": {
            "text/html": [
              "<br>    <style><br>        .wandb-row {<br>            display: flex;<br>            flex-direction: row;<br>            flex-wrap: wrap;<br>            justify-content: flex-start;<br>            width: 100%;<br>        }<br>        .wandb-col {<br>            display: flex;<br>            flex-direction: column;<br>            flex-basis: 100%;<br>            flex: 1;<br>            padding: 10px;<br>        }<br>    </style><br><div class=\"wandb-row\"><div class=\"wandb-col\"><h3>Run history:</h3><br/><table class=\"wandb\"><tr><td>epoch</td><td>▁▁▂▂▃▃▃▄▄▅▅▅▆▆▆▇▇██</td></tr><tr><td>final_val_acc</td><td>▁</td></tr><tr><td>train_acc</td><td>▁▂▃▃▃▃▃▄▄▄▄▅▅▆▆▆▇██</td></tr><tr><td>train_loss</td><td>█▇▇▆▆▆▆▆▅▅▅▄▄▃▃▃▂▂▁</td></tr><tr><td>val_acc</td><td>▁▂▄▃▅▆▆▅▆▆▇▅▄█▆▄▅▃▆</td></tr><tr><td>val_loss</td><td>▃▂▂▁▁▁▁▁▁▁▁▂▃▃▃▅▅██</td></tr></table><br/></div><div class=\"wandb-col\"><h3>Run summary:</h3><br/><table class=\"wandb\"><tr><td>epoch</td><td>19</td></tr><tr><td>final_val_acc</td><td>0.64077</td></tr><tr><td>train_acc</td><td>0.82003</td></tr><tr><td>train_loss</td><td>0.4416</td></tr><tr><td>val_acc</td><td>0.64077</td></tr><tr><td>val_loss</td><td>1.06995</td></tr></table><br/></div></div>"
            ],
            "text/plain": [
              "<IPython.core.display.HTML object>"
            ]
          },
          "metadata": {},
          "output_type": "display_data"
        },
        {
          "data": {
            "text/html": [
              " View run <strong style=\"color:#cdcd00\">HD=50_NL=2_DO=0.3_LR=0.001_BS=128</strong> at: <a href='https://wandb.ai/angelajcnto-the-university-of-western-australia/absa-bilstm-attention/runs/azg1srxv' target=\"_blank\">https://wandb.ai/angelajcnto-the-university-of-western-australia/absa-bilstm-attention/runs/azg1srxv</a><br> View project at: <a href='https://wandb.ai/angelajcnto-the-university-of-western-australia/absa-bilstm-attention' target=\"_blank\">https://wandb.ai/angelajcnto-the-university-of-western-australia/absa-bilstm-attention</a><br>Synced 5 W&B file(s), 0 media file(s), 0 artifact file(s) and 0 other file(s)"
            ],
            "text/plain": [
              "<IPython.core.display.HTML object>"
            ]
          },
          "metadata": {},
          "output_type": "display_data"
        },
        {
          "data": {
            "text/html": [
              "Find logs at: <code>.\\wandb\\run-20250425_210913-azg1srxv\\logs</code>"
            ],
            "text/plain": [
              "<IPython.core.display.HTML object>"
            ]
          },
          "metadata": {},
          "output_type": "display_data"
        },
        {
          "data": {
            "text/html": [
              "creating run (0.4s)"
            ],
            "text/plain": [
              "<IPython.core.display.HTML object>"
            ]
          },
          "metadata": {},
          "output_type": "display_data"
        },
        {
          "data": {
            "text/html": [
              "Tracking run with wandb version 0.19.10"
            ],
            "text/plain": [
              "<IPython.core.display.HTML object>"
            ]
          },
          "metadata": {},
          "output_type": "display_data"
        },
        {
          "data": {
            "text/html": [
              "Run data is saved locally in <code>c:\\Users\\angel\\OneDrive\\uni_projects\\DATA_SCIENCE_ML\\NLP-Aspect-Based-Sentiment-Analysis\\wandb\\run-20250425_211005-9f5e92s4</code>"
            ],
            "text/plain": [
              "<IPython.core.display.HTML object>"
            ]
          },
          "metadata": {},
          "output_type": "display_data"
        },
        {
          "data": {
            "text/html": [
              "Syncing run <strong><a href='https://wandb.ai/angelajcnto-the-university-of-western-australia/absa-bilstm-attention/runs/9f5e92s4' target=\"_blank\">HD=50_NL=2_DO=0.5_LR=0.01_BS=32</a></strong> to <a href='https://wandb.ai/angelajcnto-the-university-of-western-australia/absa-bilstm-attention' target=\"_blank\">Weights & Biases</a> (<a href='https://wandb.me/developer-guide' target=\"_blank\">docs</a>)<br>"
            ],
            "text/plain": [
              "<IPython.core.display.HTML object>"
            ]
          },
          "metadata": {},
          "output_type": "display_data"
        },
        {
          "data": {
            "text/html": [
              " View project at <a href='https://wandb.ai/angelajcnto-the-university-of-western-australia/absa-bilstm-attention' target=\"_blank\">https://wandb.ai/angelajcnto-the-university-of-western-australia/absa-bilstm-attention</a>"
            ],
            "text/plain": [
              "<IPython.core.display.HTML object>"
            ]
          },
          "metadata": {},
          "output_type": "display_data"
        },
        {
          "data": {
            "text/html": [
              " View run at <a href='https://wandb.ai/angelajcnto-the-university-of-western-australia/absa-bilstm-attention/runs/9f5e92s4' target=\"_blank\">https://wandb.ai/angelajcnto-the-university-of-western-australia/absa-bilstm-attention/runs/9f5e92s4</a>"
            ],
            "text/plain": [
              "<IPython.core.display.HTML object>"
            ]
          },
          "metadata": {},
          "output_type": "display_data"
        },
        {
          "name": "stdout",
          "output_type": "stream",
          "text": [
            "\n",
            "Testing: hidden_dim=50, num_layers=2, dropout=0.5, lr=0.01, batch_size=32\n",
            "Epoch 1/30 | Train Loss: 0.9349 | Train Acc: 58.42% | Val Loss: 0.8762 | Val Acc: 61.49%\n",
            "Epoch 2/30 | Train Loss: 0.8894 | Train Acc: 60.56% | Val Loss: 0.8709 | Val Acc: 61.15%\n",
            "Epoch 3/30 | Train Loss: 0.8745 | Train Acc: 62.17% | Val Loss: 0.8461 | Val Acc: 62.05%\n",
            "Epoch 4/30 | Train Loss: 0.8714 | Train Acc: 62.02% | Val Loss: 0.8392 | Val Acc: 63.40%\n",
            "Epoch 5/30 | Train Loss: 0.8630 | Train Acc: 62.52% | Val Loss: 0.8609 | Val Acc: 62.73%\n",
            "Epoch 6/30 | Train Loss: 0.8543 | Train Acc: 62.60% | Val Loss: 0.8285 | Val Acc: 63.51%\n",
            "Epoch 7/30 | Train Loss: 0.8489 | Train Acc: 63.09% | Val Loss: 0.8206 | Val Acc: 63.85%\n",
            "Epoch 8/30 | Train Loss: 0.8441 | Train Acc: 63.00% | Val Loss: 0.8380 | Val Acc: 64.86%\n",
            "Epoch 9/30 | Train Loss: 0.8476 | Train Acc: 63.07% | Val Loss: 0.8218 | Val Acc: 62.27%\n",
            "Epoch 10/30 | Train Loss: 0.8378 | Train Acc: 63.53% | Val Loss: 0.8061 | Val Acc: 62.73%\n",
            "Epoch 11/30 | Train Loss: 0.8256 | Train Acc: 63.78% | Val Loss: 0.8186 | Val Acc: 64.64%\n",
            "Epoch 12/30 | Train Loss: 0.8308 | Train Acc: 62.98% | Val Loss: 0.8128 | Val Acc: 63.29%\n",
            "Epoch 13/30 | Train Loss: 0.8290 | Train Acc: 63.78% | Val Loss: 0.7934 | Val Acc: 65.32%\n",
            "Epoch 14/30 | Train Loss: 0.8239 | Train Acc: 64.49% | Val Loss: 0.8123 | Val Acc: 63.85%\n",
            "Epoch 15/30 | Train Loss: 0.8207 | Train Acc: 63.95% | Val Loss: 0.8291 | Val Acc: 61.94%\n",
            "Epoch 16/30 | Train Loss: 0.8186 | Train Acc: 64.94% | Val Loss: 0.8204 | Val Acc: 61.71%\n",
            "Epoch 17/30 | Train Loss: 0.8134 | Train Acc: 64.36% | Val Loss: 0.8184 | Val Acc: 63.40%\n",
            "Epoch 18/30 | Train Loss: 0.8094 | Train Acc: 64.81% | Val Loss: 0.8119 | Val Acc: 64.08%\n",
            "Early stopping at epoch 18\n"
          ]
        },
        {
          "data": {
            "text/html": [],
            "text/plain": [
              "<IPython.core.display.HTML object>"
            ]
          },
          "metadata": {},
          "output_type": "display_data"
        },
        {
          "data": {
            "text/html": [
              "<br>    <style><br>        .wandb-row {<br>            display: flex;<br>            flex-direction: row;<br>            flex-wrap: wrap;<br>            justify-content: flex-start;<br>            width: 100%;<br>        }<br>        .wandb-col {<br>            display: flex;<br>            flex-direction: column;<br>            flex-basis: 100%;<br>            flex: 1;<br>            padding: 10px;<br>        }<br>    </style><br><div class=\"wandb-row\"><div class=\"wandb-col\"><h3>Run history:</h3><br/><table class=\"wandb\"><tr><td>epoch</td><td>▁▁▂▂▃▃▃▄▄▅▅▆▆▆▇▇██</td></tr><tr><td>final_val_acc</td><td>▁</td></tr><tr><td>train_acc</td><td>▁▃▅▅▅▅▆▆▆▆▇▆▇█▇█▇█</td></tr><tr><td>train_loss</td><td>█▅▅▄▄▄▃▃▃▃▂▂▂▂▂▂▁▁</td></tr><tr><td>val_acc</td><td>▂▁▃▅▄▅▆▇▃▄▇▅█▆▂▂▅▆</td></tr><tr><td>val_loss</td><td>██▅▅▇▄▃▅▃▂▃▃▁▃▄▃▃▃</td></tr></table><br/></div><div class=\"wandb-col\"><h3>Run summary:</h3><br/><table class=\"wandb\"><tr><td>epoch</td><td>18</td></tr><tr><td>final_val_acc</td><td>0.64077</td></tr><tr><td>train_acc</td><td>0.6481</td></tr><tr><td>train_loss</td><td>0.80944</td></tr><tr><td>val_acc</td><td>0.64077</td></tr><tr><td>val_loss</td><td>0.8119</td></tr></table><br/></div></div>"
            ],
            "text/plain": [
              "<IPython.core.display.HTML object>"
            ]
          },
          "metadata": {},
          "output_type": "display_data"
        },
        {
          "data": {
            "text/html": [
              " View run <strong style=\"color:#cdcd00\">HD=50_NL=2_DO=0.5_LR=0.01_BS=32</strong> at: <a href='https://wandb.ai/angelajcnto-the-university-of-western-australia/absa-bilstm-attention/runs/9f5e92s4' target=\"_blank\">https://wandb.ai/angelajcnto-the-university-of-western-australia/absa-bilstm-attention/runs/9f5e92s4</a><br> View project at: <a href='https://wandb.ai/angelajcnto-the-university-of-western-australia/absa-bilstm-attention' target=\"_blank\">https://wandb.ai/angelajcnto-the-university-of-western-australia/absa-bilstm-attention</a><br>Synced 5 W&B file(s), 0 media file(s), 0 artifact file(s) and 0 other file(s)"
            ],
            "text/plain": [
              "<IPython.core.display.HTML object>"
            ]
          },
          "metadata": {},
          "output_type": "display_data"
        },
        {
          "data": {
            "text/html": [
              "Find logs at: <code>.\\wandb\\run-20250425_211005-9f5e92s4\\logs</code>"
            ],
            "text/plain": [
              "<IPython.core.display.HTML object>"
            ]
          },
          "metadata": {},
          "output_type": "display_data"
        },
        {
          "data": {
            "text/html": [
              "Tracking run with wandb version 0.19.10"
            ],
            "text/plain": [
              "<IPython.core.display.HTML object>"
            ]
          },
          "metadata": {},
          "output_type": "display_data"
        },
        {
          "data": {
            "text/html": [
              "Run data is saved locally in <code>c:\\Users\\angel\\OneDrive\\uni_projects\\DATA_SCIENCE_ML\\NLP-Aspect-Based-Sentiment-Analysis\\wandb\\run-20250425_211104-tgmgr33b</code>"
            ],
            "text/plain": [
              "<IPython.core.display.HTML object>"
            ]
          },
          "metadata": {},
          "output_type": "display_data"
        },
        {
          "data": {
            "text/html": [
              "Syncing run <strong><a href='https://wandb.ai/angelajcnto-the-university-of-western-australia/absa-bilstm-attention/runs/tgmgr33b' target=\"_blank\">HD=50_NL=2_DO=0.5_LR=0.01_BS=64</a></strong> to <a href='https://wandb.ai/angelajcnto-the-university-of-western-australia/absa-bilstm-attention' target=\"_blank\">Weights & Biases</a> (<a href='https://wandb.me/developer-guide' target=\"_blank\">docs</a>)<br>"
            ],
            "text/plain": [
              "<IPython.core.display.HTML object>"
            ]
          },
          "metadata": {},
          "output_type": "display_data"
        },
        {
          "data": {
            "text/html": [
              " View project at <a href='https://wandb.ai/angelajcnto-the-university-of-western-australia/absa-bilstm-attention' target=\"_blank\">https://wandb.ai/angelajcnto-the-university-of-western-australia/absa-bilstm-attention</a>"
            ],
            "text/plain": [
              "<IPython.core.display.HTML object>"
            ]
          },
          "metadata": {},
          "output_type": "display_data"
        },
        {
          "data": {
            "text/html": [
              " View run at <a href='https://wandb.ai/angelajcnto-the-university-of-western-australia/absa-bilstm-attention/runs/tgmgr33b' target=\"_blank\">https://wandb.ai/angelajcnto-the-university-of-western-australia/absa-bilstm-attention/runs/tgmgr33b</a>"
            ],
            "text/plain": [
              "<IPython.core.display.HTML object>"
            ]
          },
          "metadata": {},
          "output_type": "display_data"
        },
        {
          "name": "stdout",
          "output_type": "stream",
          "text": [
            "\n",
            "Testing: hidden_dim=50, num_layers=2, dropout=0.5, lr=0.01, batch_size=64\n",
            "Epoch 1/30 | Train Loss: 0.9275 | Train Acc: 58.53% | Val Loss: 0.8558 | Val Acc: 61.15%\n",
            "Epoch 2/30 | Train Loss: 0.8870 | Train Acc: 61.30% | Val Loss: 0.8422 | Val Acc: 62.39%\n",
            "Epoch 3/30 | Train Loss: 0.8710 | Train Acc: 62.52% | Val Loss: 0.8370 | Val Acc: 62.73%\n",
            "Epoch 4/30 | Train Loss: 0.8552 | Train Acc: 63.15% | Val Loss: 0.8151 | Val Acc: 62.73%\n",
            "Epoch 5/30 | Train Loss: 0.8455 | Train Acc: 63.31% | Val Loss: 0.8224 | Val Acc: 62.27%\n",
            "Epoch 6/30 | Train Loss: 0.8399 | Train Acc: 63.07% | Val Loss: 0.8176 | Val Acc: 61.60%\n",
            "Epoch 7/30 | Train Loss: 0.8352 | Train Acc: 64.13% | Val Loss: 0.7981 | Val Acc: 63.29%\n",
            "Epoch 8/30 | Train Loss: 0.8261 | Train Acc: 64.03% | Val Loss: 0.8126 | Val Acc: 62.50%\n",
            "Epoch 9/30 | Train Loss: 0.8198 | Train Acc: 64.72% | Val Loss: 0.8040 | Val Acc: 63.96%\n",
            "Epoch 10/30 | Train Loss: 0.8116 | Train Acc: 64.82% | Val Loss: 0.8065 | Val Acc: 63.63%\n",
            "Epoch 11/30 | Train Loss: 0.8118 | Train Acc: 64.67% | Val Loss: 0.8097 | Val Acc: 64.19%\n",
            "Epoch 12/30 | Train Loss: 0.8158 | Train Acc: 64.87% | Val Loss: 0.8184 | Val Acc: 63.06%\n",
            "Epoch 13/30 | Train Loss: 0.8082 | Train Acc: 64.87% | Val Loss: 0.8078 | Val Acc: 64.41%\n",
            "Epoch 14/30 | Train Loss: 0.7995 | Train Acc: 65.11% | Val Loss: 0.7920 | Val Acc: 64.98%\n",
            "Epoch 15/30 | Train Loss: 0.8011 | Train Acc: 64.84% | Val Loss: 0.7764 | Val Acc: 64.64%\n",
            "Epoch 16/30 | Train Loss: 0.7962 | Train Acc: 65.29% | Val Loss: 0.7858 | Val Acc: 63.96%\n",
            "Epoch 17/30 | Train Loss: 0.7890 | Train Acc: 65.91% | Val Loss: 0.7878 | Val Acc: 64.75%\n",
            "Epoch 18/30 | Train Loss: 0.7863 | Train Acc: 65.56% | Val Loss: 0.7855 | Val Acc: 64.86%\n",
            "Epoch 19/30 | Train Loss: 0.7808 | Train Acc: 66.43% | Val Loss: 0.7907 | Val Acc: 64.53%\n",
            "Early stopping at epoch 19\n"
          ]
        },
        {
          "data": {
            "text/html": [],
            "text/plain": [
              "<IPython.core.display.HTML object>"
            ]
          },
          "metadata": {},
          "output_type": "display_data"
        },
        {
          "data": {
            "text/html": [
              "<br>    <style><br>        .wandb-row {<br>            display: flex;<br>            flex-direction: row;<br>            flex-wrap: wrap;<br>            justify-content: flex-start;<br>            width: 100%;<br>        }<br>        .wandb-col {<br>            display: flex;<br>            flex-direction: column;<br>            flex-basis: 100%;<br>            flex: 1;<br>            padding: 10px;<br>        }<br>    </style><br><div class=\"wandb-row\"><div class=\"wandb-col\"><h3>Run history:</h3><br/><table class=\"wandb\"><tr><td>epoch</td><td>▁▁▂▂▃▃▃▄▄▅▅▅▆▆▆▇▇██</td></tr><tr><td>final_val_acc</td><td>▁</td></tr><tr><td>train_acc</td><td>▁▃▅▅▅▅▆▆▆▇▆▇▇▇▇▇█▇█</td></tr><tr><td>train_loss</td><td>█▆▅▅▄▄▄▃▃▂▂▃▂▂▂▂▁▁▁</td></tr><tr><td>val_acc</td><td>▁▃▄▄▃▂▅▃▆▆▇▄▇█▇▆██▇</td></tr><tr><td>val_loss</td><td>█▇▆▄▅▅▃▄▃▄▄▅▄▂▁▂▂▂▂</td></tr></table><br/></div><div class=\"wandb-col\"><h3>Run summary:</h3><br/><table class=\"wandb\"><tr><td>epoch</td><td>19</td></tr><tr><td>final_val_acc</td><td>0.64527</td></tr><tr><td>train_acc</td><td>0.66432</td></tr><tr><td>train_loss</td><td>0.78077</td></tr><tr><td>val_acc</td><td>0.64527</td></tr><tr><td>val_loss</td><td>0.79071</td></tr></table><br/></div></div>"
            ],
            "text/plain": [
              "<IPython.core.display.HTML object>"
            ]
          },
          "metadata": {},
          "output_type": "display_data"
        },
        {
          "data": {
            "text/html": [
              " View run <strong style=\"color:#cdcd00\">HD=50_NL=2_DO=0.5_LR=0.01_BS=64</strong> at: <a href='https://wandb.ai/angelajcnto-the-university-of-western-australia/absa-bilstm-attention/runs/tgmgr33b' target=\"_blank\">https://wandb.ai/angelajcnto-the-university-of-western-australia/absa-bilstm-attention/runs/tgmgr33b</a><br> View project at: <a href='https://wandb.ai/angelajcnto-the-university-of-western-australia/absa-bilstm-attention' target=\"_blank\">https://wandb.ai/angelajcnto-the-university-of-western-australia/absa-bilstm-attention</a><br>Synced 5 W&B file(s), 0 media file(s), 0 artifact file(s) and 0 other file(s)"
            ],
            "text/plain": [
              "<IPython.core.display.HTML object>"
            ]
          },
          "metadata": {},
          "output_type": "display_data"
        },
        {
          "data": {
            "text/html": [
              "Find logs at: <code>.\\wandb\\run-20250425_211104-tgmgr33b\\logs</code>"
            ],
            "text/plain": [
              "<IPython.core.display.HTML object>"
            ]
          },
          "metadata": {},
          "output_type": "display_data"
        },
        {
          "data": {
            "text/html": [],
            "text/plain": [
              "<IPython.core.display.HTML object>"
            ]
          },
          "metadata": {},
          "output_type": "display_data"
        },
        {
          "data": {
            "text/html": [
              "Tracking run with wandb version 0.19.10"
            ],
            "text/plain": [
              "<IPython.core.display.HTML object>"
            ]
          },
          "metadata": {},
          "output_type": "display_data"
        },
        {
          "data": {
            "text/html": [
              "Run data is saved locally in <code>c:\\Users\\angel\\OneDrive\\uni_projects\\DATA_SCIENCE_ML\\NLP-Aspect-Based-Sentiment-Analysis\\wandb\\run-20250425_211200-pi251elg</code>"
            ],
            "text/plain": [
              "<IPython.core.display.HTML object>"
            ]
          },
          "metadata": {},
          "output_type": "display_data"
        },
        {
          "data": {
            "text/html": [
              "Syncing run <strong><a href='https://wandb.ai/angelajcnto-the-university-of-western-australia/absa-bilstm-attention/runs/pi251elg' target=\"_blank\">HD=50_NL=2_DO=0.5_LR=0.01_BS=128</a></strong> to <a href='https://wandb.ai/angelajcnto-the-university-of-western-australia/absa-bilstm-attention' target=\"_blank\">Weights & Biases</a> (<a href='https://wandb.me/developer-guide' target=\"_blank\">docs</a>)<br>"
            ],
            "text/plain": [
              "<IPython.core.display.HTML object>"
            ]
          },
          "metadata": {},
          "output_type": "display_data"
        },
        {
          "data": {
            "text/html": [
              " View project at <a href='https://wandb.ai/angelajcnto-the-university-of-western-australia/absa-bilstm-attention' target=\"_blank\">https://wandb.ai/angelajcnto-the-university-of-western-australia/absa-bilstm-attention</a>"
            ],
            "text/plain": [
              "<IPython.core.display.HTML object>"
            ]
          },
          "metadata": {},
          "output_type": "display_data"
        },
        {
          "data": {
            "text/html": [
              " View run at <a href='https://wandb.ai/angelajcnto-the-university-of-western-australia/absa-bilstm-attention/runs/pi251elg' target=\"_blank\">https://wandb.ai/angelajcnto-the-university-of-western-australia/absa-bilstm-attention/runs/pi251elg</a>"
            ],
            "text/plain": [
              "<IPython.core.display.HTML object>"
            ]
          },
          "metadata": {},
          "output_type": "display_data"
        },
        {
          "name": "stdout",
          "output_type": "stream",
          "text": [
            "\n",
            "Testing: hidden_dim=50, num_layers=2, dropout=0.5, lr=0.01, batch_size=128\n",
            "Epoch 1/30 | Train Loss: 0.9233 | Train Acc: 58.84% | Val Loss: 0.8655 | Val Acc: 60.70%\n",
            "Epoch 2/30 | Train Loss: 0.8825 | Train Acc: 61.71% | Val Loss: 0.8450 | Val Acc: 61.94%\n",
            "Epoch 3/30 | Train Loss: 0.8561 | Train Acc: 63.34% | Val Loss: 0.8283 | Val Acc: 61.37%\n",
            "Epoch 4/30 | Train Loss: 0.8394 | Train Acc: 63.60% | Val Loss: 0.8152 | Val Acc: 63.96%\n",
            "Epoch 5/30 | Train Loss: 0.8255 | Train Acc: 64.10% | Val Loss: 0.8152 | Val Acc: 64.64%\n",
            "Epoch 6/30 | Train Loss: 0.8200 | Train Acc: 63.94% | Val Loss: 0.8113 | Val Acc: 62.95%\n",
            "Epoch 7/30 | Train Loss: 0.8055 | Train Acc: 65.53% | Val Loss: 0.8158 | Val Acc: 64.64%\n",
            "Epoch 8/30 | Train Loss: 0.7948 | Train Acc: 65.66% | Val Loss: 0.8236 | Val Acc: 64.19%\n",
            "Epoch 9/30 | Train Loss: 0.7890 | Train Acc: 65.85% | Val Loss: 0.7953 | Val Acc: 64.30%\n",
            "Epoch 10/30 | Train Loss: 0.7850 | Train Acc: 65.99% | Val Loss: 0.8103 | Val Acc: 64.53%\n",
            "Early stopping at epoch 10\n"
          ]
        },
        {
          "data": {
            "text/html": [],
            "text/plain": [
              "<IPython.core.display.HTML object>"
            ]
          },
          "metadata": {},
          "output_type": "display_data"
        },
        {
          "data": {
            "text/html": [
              "<br>    <style><br>        .wandb-row {<br>            display: flex;<br>            flex-direction: row;<br>            flex-wrap: wrap;<br>            justify-content: flex-start;<br>            width: 100%;<br>        }<br>        .wandb-col {<br>            display: flex;<br>            flex-direction: column;<br>            flex-basis: 100%;<br>            flex: 1;<br>            padding: 10px;<br>        }<br>    </style><br><div class=\"wandb-row\"><div class=\"wandb-col\"><h3>Run history:</h3><br/><table class=\"wandb\"><tr><td>epoch</td><td>▁▂▃▃▄▅▆▆▇█</td></tr><tr><td>final_val_acc</td><td>▁</td></tr><tr><td>train_acc</td><td>▁▄▅▆▆▆████</td></tr><tr><td>train_loss</td><td>█▆▅▄▃▃▂▁▁▁</td></tr><tr><td>val_acc</td><td>▁▃▂▇█▅█▇▇█</td></tr><tr><td>val_loss</td><td>█▆▄▃▃▃▃▄▁▂</td></tr></table><br/></div><div class=\"wandb-col\"><h3>Run summary:</h3><br/><table class=\"wandb\"><tr><td>epoch</td><td>10</td></tr><tr><td>final_val_acc</td><td>0.64527</td></tr><tr><td>train_acc</td><td>0.65994</td></tr><tr><td>train_loss</td><td>0.78497</td></tr><tr><td>val_acc</td><td>0.64527</td></tr><tr><td>val_loss</td><td>0.81028</td></tr></table><br/></div></div>"
            ],
            "text/plain": [
              "<IPython.core.display.HTML object>"
            ]
          },
          "metadata": {},
          "output_type": "display_data"
        },
        {
          "data": {
            "text/html": [
              " View run <strong style=\"color:#cdcd00\">HD=50_NL=2_DO=0.5_LR=0.01_BS=128</strong> at: <a href='https://wandb.ai/angelajcnto-the-university-of-western-australia/absa-bilstm-attention/runs/pi251elg' target=\"_blank\">https://wandb.ai/angelajcnto-the-university-of-western-australia/absa-bilstm-attention/runs/pi251elg</a><br> View project at: <a href='https://wandb.ai/angelajcnto-the-university-of-western-australia/absa-bilstm-attention' target=\"_blank\">https://wandb.ai/angelajcnto-the-university-of-western-australia/absa-bilstm-attention</a><br>Synced 5 W&B file(s), 0 media file(s), 0 artifact file(s) and 0 other file(s)"
            ],
            "text/plain": [
              "<IPython.core.display.HTML object>"
            ]
          },
          "metadata": {},
          "output_type": "display_data"
        },
        {
          "data": {
            "text/html": [
              "Find logs at: <code>.\\wandb\\run-20250425_211200-pi251elg\\logs</code>"
            ],
            "text/plain": [
              "<IPython.core.display.HTML object>"
            ]
          },
          "metadata": {},
          "output_type": "display_data"
        },
        {
          "data": {
            "text/html": [
              "Tracking run with wandb version 0.19.10"
            ],
            "text/plain": [
              "<IPython.core.display.HTML object>"
            ]
          },
          "metadata": {},
          "output_type": "display_data"
        },
        {
          "data": {
            "text/html": [
              "Run data is saved locally in <code>c:\\Users\\angel\\OneDrive\\uni_projects\\DATA_SCIENCE_ML\\NLP-Aspect-Based-Sentiment-Analysis\\wandb\\run-20250425_211229-oxg1k8kd</code>"
            ],
            "text/plain": [
              "<IPython.core.display.HTML object>"
            ]
          },
          "metadata": {},
          "output_type": "display_data"
        },
        {
          "data": {
            "text/html": [
              "Syncing run <strong><a href='https://wandb.ai/angelajcnto-the-university-of-western-australia/absa-bilstm-attention/runs/oxg1k8kd' target=\"_blank\">HD=50_NL=2_DO=0.5_LR=0.005_BS=32</a></strong> to <a href='https://wandb.ai/angelajcnto-the-university-of-western-australia/absa-bilstm-attention' target=\"_blank\">Weights & Biases</a> (<a href='https://wandb.me/developer-guide' target=\"_blank\">docs</a>)<br>"
            ],
            "text/plain": [
              "<IPython.core.display.HTML object>"
            ]
          },
          "metadata": {},
          "output_type": "display_data"
        },
        {
          "data": {
            "text/html": [
              " View project at <a href='https://wandb.ai/angelajcnto-the-university-of-western-australia/absa-bilstm-attention' target=\"_blank\">https://wandb.ai/angelajcnto-the-university-of-western-australia/absa-bilstm-attention</a>"
            ],
            "text/plain": [
              "<IPython.core.display.HTML object>"
            ]
          },
          "metadata": {},
          "output_type": "display_data"
        },
        {
          "data": {
            "text/html": [
              " View run at <a href='https://wandb.ai/angelajcnto-the-university-of-western-australia/absa-bilstm-attention/runs/oxg1k8kd' target=\"_blank\">https://wandb.ai/angelajcnto-the-university-of-western-australia/absa-bilstm-attention/runs/oxg1k8kd</a>"
            ],
            "text/plain": [
              "<IPython.core.display.HTML object>"
            ]
          },
          "metadata": {},
          "output_type": "display_data"
        },
        {
          "name": "stdout",
          "output_type": "stream",
          "text": [
            "\n",
            "Testing: hidden_dim=50, num_layers=2, dropout=0.5, lr=0.005, batch_size=32\n",
            "Epoch 1/30 | Train Loss: 0.9258 | Train Acc: 59.17% | Val Loss: 0.8729 | Val Acc: 59.46%\n",
            "Epoch 2/30 | Train Loss: 0.8778 | Train Acc: 61.37% | Val Loss: 0.8431 | Val Acc: 61.82%\n",
            "Epoch 3/30 | Train Loss: 0.8633 | Train Acc: 62.78% | Val Loss: 0.8333 | Val Acc: 62.50%\n",
            "Epoch 4/30 | Train Loss: 0.8440 | Train Acc: 63.22% | Val Loss: 0.8277 | Val Acc: 62.16%\n",
            "Epoch 5/30 | Train Loss: 0.8367 | Train Acc: 63.67% | Val Loss: 0.8500 | Val Acc: 61.04%\n",
            "Epoch 6/30 | Train Loss: 0.8256 | Train Acc: 63.65% | Val Loss: 0.8182 | Val Acc: 62.50%\n",
            "Epoch 7/30 | Train Loss: 0.8111 | Train Acc: 64.81% | Val Loss: 0.8295 | Val Acc: 62.50%\n",
            "Epoch 8/30 | Train Loss: 0.8085 | Train Acc: 65.04% | Val Loss: 0.8010 | Val Acc: 63.18%\n",
            "Epoch 9/30 | Train Loss: 0.7991 | Train Acc: 65.83% | Val Loss: 0.7968 | Val Acc: 64.08%\n",
            "Epoch 10/30 | Train Loss: 0.7923 | Train Acc: 66.04% | Val Loss: 0.8164 | Val Acc: 62.95%\n",
            "Epoch 11/30 | Train Loss: 0.7797 | Train Acc: 66.28% | Val Loss: 0.8020 | Val Acc: 64.53%\n",
            "Epoch 12/30 | Train Loss: 0.7687 | Train Acc: 66.60% | Val Loss: 0.8233 | Val Acc: 62.95%\n",
            "Epoch 13/30 | Train Loss: 0.7653 | Train Acc: 66.45% | Val Loss: 0.8084 | Val Acc: 63.63%\n",
            "Epoch 14/30 | Train Loss: 0.7578 | Train Acc: 67.22% | Val Loss: 0.8219 | Val Acc: 62.39%\n",
            "Epoch 15/30 | Train Loss: 0.7592 | Train Acc: 66.91% | Val Loss: 0.8019 | Val Acc: 64.41%\n",
            "Epoch 16/30 | Train Loss: 0.7464 | Train Acc: 66.98% | Val Loss: 0.8305 | Val Acc: 64.41%\n",
            "Early stopping at epoch 16\n"
          ]
        },
        {
          "data": {
            "text/html": [],
            "text/plain": [
              "<IPython.core.display.HTML object>"
            ]
          },
          "metadata": {},
          "output_type": "display_data"
        },
        {
          "data": {
            "text/html": [
              "<br>    <style><br>        .wandb-row {<br>            display: flex;<br>            flex-direction: row;<br>            flex-wrap: wrap;<br>            justify-content: flex-start;<br>            width: 100%;<br>        }<br>        .wandb-col {<br>            display: flex;<br>            flex-direction: column;<br>            flex-basis: 100%;<br>            flex: 1;<br>            padding: 10px;<br>        }<br>    </style><br><div class=\"wandb-row\"><div class=\"wandb-col\"><h3>Run history:</h3><br/><table class=\"wandb\"><tr><td>epoch</td><td>▁▁▂▂▃▃▄▄▅▅▆▆▇▇██</td></tr><tr><td>final_val_acc</td><td>▁</td></tr><tr><td>train_acc</td><td>▁▃▄▅▅▅▆▆▇▇▇▇▇███</td></tr><tr><td>train_loss</td><td>█▆▆▅▅▄▄▃▃▃▂▂▂▁▁▁</td></tr><tr><td>val_acc</td><td>▁▄▅▅▃▅▅▆▇▆█▆▇▅██</td></tr><tr><td>val_loss</td><td>█▅▄▄▆▃▄▁▁▃▁▃▂▃▁▄</td></tr></table><br/></div><div class=\"wandb-col\"><h3>Run summary:</h3><br/><table class=\"wandb\"><tr><td>epoch</td><td>16</td></tr><tr><td>final_val_acc</td><td>0.64414</td></tr><tr><td>train_acc</td><td>0.66982</td></tr><tr><td>train_loss</td><td>0.74641</td></tr><tr><td>val_acc</td><td>0.64414</td></tr><tr><td>val_loss</td><td>0.83052</td></tr></table><br/></div></div>"
            ],
            "text/plain": [
              "<IPython.core.display.HTML object>"
            ]
          },
          "metadata": {},
          "output_type": "display_data"
        },
        {
          "data": {
            "text/html": [
              " View run <strong style=\"color:#cdcd00\">HD=50_NL=2_DO=0.5_LR=0.005_BS=32</strong> at: <a href='https://wandb.ai/angelajcnto-the-university-of-western-australia/absa-bilstm-attention/runs/oxg1k8kd' target=\"_blank\">https://wandb.ai/angelajcnto-the-university-of-western-australia/absa-bilstm-attention/runs/oxg1k8kd</a><br> View project at: <a href='https://wandb.ai/angelajcnto-the-university-of-western-australia/absa-bilstm-attention' target=\"_blank\">https://wandb.ai/angelajcnto-the-university-of-western-australia/absa-bilstm-attention</a><br>Synced 5 W&B file(s), 0 media file(s), 0 artifact file(s) and 0 other file(s)"
            ],
            "text/plain": [
              "<IPython.core.display.HTML object>"
            ]
          },
          "metadata": {},
          "output_type": "display_data"
        },
        {
          "data": {
            "text/html": [
              "Find logs at: <code>.\\wandb\\run-20250425_211229-oxg1k8kd\\logs</code>"
            ],
            "text/plain": [
              "<IPython.core.display.HTML object>"
            ]
          },
          "metadata": {},
          "output_type": "display_data"
        },
        {
          "data": {
            "text/html": [
              "Tracking run with wandb version 0.19.10"
            ],
            "text/plain": [
              "<IPython.core.display.HTML object>"
            ]
          },
          "metadata": {},
          "output_type": "display_data"
        },
        {
          "data": {
            "text/html": [
              "Run data is saved locally in <code>c:\\Users\\angel\\OneDrive\\uni_projects\\DATA_SCIENCE_ML\\NLP-Aspect-Based-Sentiment-Analysis\\wandb\\run-20250425_211322-7rs24xof</code>"
            ],
            "text/plain": [
              "<IPython.core.display.HTML object>"
            ]
          },
          "metadata": {},
          "output_type": "display_data"
        },
        {
          "data": {
            "text/html": [
              "Syncing run <strong><a href='https://wandb.ai/angelajcnto-the-university-of-western-australia/absa-bilstm-attention/runs/7rs24xof' target=\"_blank\">HD=50_NL=2_DO=0.5_LR=0.005_BS=64</a></strong> to <a href='https://wandb.ai/angelajcnto-the-university-of-western-australia/absa-bilstm-attention' target=\"_blank\">Weights & Biases</a> (<a href='https://wandb.me/developer-guide' target=\"_blank\">docs</a>)<br>"
            ],
            "text/plain": [
              "<IPython.core.display.HTML object>"
            ]
          },
          "metadata": {},
          "output_type": "display_data"
        },
        {
          "data": {
            "text/html": [
              " View project at <a href='https://wandb.ai/angelajcnto-the-university-of-western-australia/absa-bilstm-attention' target=\"_blank\">https://wandb.ai/angelajcnto-the-university-of-western-australia/absa-bilstm-attention</a>"
            ],
            "text/plain": [
              "<IPython.core.display.HTML object>"
            ]
          },
          "metadata": {},
          "output_type": "display_data"
        },
        {
          "data": {
            "text/html": [
              " View run at <a href='https://wandb.ai/angelajcnto-the-university-of-western-australia/absa-bilstm-attention/runs/7rs24xof' target=\"_blank\">https://wandb.ai/angelajcnto-the-university-of-western-australia/absa-bilstm-attention/runs/7rs24xof</a>"
            ],
            "text/plain": [
              "<IPython.core.display.HTML object>"
            ]
          },
          "metadata": {},
          "output_type": "display_data"
        },
        {
          "name": "stdout",
          "output_type": "stream",
          "text": [
            "\n",
            "Testing: hidden_dim=50, num_layers=2, dropout=0.5, lr=0.005, batch_size=64\n",
            "Epoch 1/30 | Train Loss: 0.9200 | Train Acc: 59.80% | Val Loss: 0.8583 | Val Acc: 62.27%\n",
            "Epoch 2/30 | Train Loss: 0.8763 | Train Acc: 61.58% | Val Loss: 0.8393 | Val Acc: 62.73%\n",
            "Epoch 3/30 | Train Loss: 0.8548 | Train Acc: 63.03% | Val Loss: 0.8343 | Val Acc: 62.73%\n",
            "Epoch 4/30 | Train Loss: 0.8383 | Train Acc: 63.51% | Val Loss: 0.8113 | Val Acc: 63.06%\n",
            "Epoch 5/30 | Train Loss: 0.8268 | Train Acc: 64.12% | Val Loss: 0.8138 | Val Acc: 63.18%\n",
            "Epoch 6/30 | Train Loss: 0.8094 | Train Acc: 64.36% | Val Loss: 0.8076 | Val Acc: 62.50%\n",
            "Epoch 7/30 | Train Loss: 0.7940 | Train Acc: 65.50% | Val Loss: 0.8120 | Val Acc: 63.40%\n",
            "Epoch 8/30 | Train Loss: 0.7832 | Train Acc: 66.43% | Val Loss: 0.8031 | Val Acc: 61.82%\n",
            "Epoch 9/30 | Train Loss: 0.7769 | Train Acc: 65.71% | Val Loss: 0.7918 | Val Acc: 64.19%\n",
            "Epoch 10/30 | Train Loss: 0.7576 | Train Acc: 67.19% | Val Loss: 0.7858 | Val Acc: 64.98%\n",
            "Epoch 11/30 | Train Loss: 0.7470 | Train Acc: 67.48% | Val Loss: 0.8147 | Val Acc: 61.49%\n",
            "Epoch 12/30 | Train Loss: 0.7410 | Train Acc: 67.88% | Val Loss: 0.7887 | Val Acc: 65.54%\n",
            "Epoch 13/30 | Train Loss: 0.7321 | Train Acc: 67.98% | Val Loss: 0.8342 | Val Acc: 64.75%\n",
            "Epoch 14/30 | Train Loss: 0.7204 | Train Acc: 68.14% | Val Loss: 0.8005 | Val Acc: 64.30%\n",
            "Epoch 15/30 | Train Loss: 0.6993 | Train Acc: 69.63% | Val Loss: 0.8341 | Val Acc: 64.64%\n",
            "Epoch 16/30 | Train Loss: 0.6951 | Train Acc: 69.45% | Val Loss: 0.8212 | Val Acc: 66.10%\n",
            "Epoch 17/30 | Train Loss: 0.6828 | Train Acc: 69.80% | Val Loss: 0.7962 | Val Acc: 65.32%\n",
            "Epoch 18/30 | Train Loss: 0.6819 | Train Acc: 70.16% | Val Loss: 0.8157 | Val Acc: 65.65%\n",
            "Epoch 19/30 | Train Loss: 0.6640 | Train Acc: 70.62% | Val Loss: 0.8100 | Val Acc: 64.19%\n",
            "Epoch 20/30 | Train Loss: 0.6485 | Train Acc: 71.57% | Val Loss: 0.8409 | Val Acc: 64.19%\n",
            "Epoch 21/30 | Train Loss: 0.6545 | Train Acc: 71.14% | Val Loss: 0.8666 | Val Acc: 64.08%\n",
            "Early stopping at epoch 21\n"
          ]
        },
        {
          "data": {
            "text/html": [],
            "text/plain": [
              "<IPython.core.display.HTML object>"
            ]
          },
          "metadata": {},
          "output_type": "display_data"
        },
        {
          "data": {
            "text/html": [
              "<br>    <style><br>        .wandb-row {<br>            display: flex;<br>            flex-direction: row;<br>            flex-wrap: wrap;<br>            justify-content: flex-start;<br>            width: 100%;<br>        }<br>        .wandb-col {<br>            display: flex;<br>            flex-direction: column;<br>            flex-basis: 100%;<br>            flex: 1;<br>            padding: 10px;<br>        }<br>    </style><br><div class=\"wandb-row\"><div class=\"wandb-col\"><h3>Run history:</h3><br/><table class=\"wandb\"><tr><td>epoch</td><td>▁▁▂▂▂▃▃▃▄▄▅▅▅▆▆▆▇▇▇██</td></tr><tr><td>final_val_acc</td><td>▁</td></tr><tr><td>train_acc</td><td>▁▂▃▃▄▄▄▅▅▅▆▆▆▆▇▇▇▇▇██</td></tr><tr><td>train_loss</td><td>█▇▆▆▆▅▅▄▄▄▄▃▃▃▂▂▂▂▁▁▁</td></tr><tr><td>val_acc</td><td>▂▃▃▃▄▃▄▂▅▆▁▇▆▅▆█▇▇▅▅▅</td></tr><tr><td>val_loss</td><td>▇▆▅▃▃▃▃▃▂▁▄▁▅▂▅▄▂▄▃▆█</td></tr></table><br/></div><div class=\"wandb-col\"><h3>Run summary:</h3><br/><table class=\"wandb\"><tr><td>epoch</td><td>21</td></tr><tr><td>final_val_acc</td><td>0.64077</td></tr><tr><td>train_acc</td><td>0.71142</td></tr><tr><td>train_loss</td><td>0.65451</td></tr><tr><td>val_acc</td><td>0.64077</td></tr><tr><td>val_loss</td><td>0.86664</td></tr></table><br/></div></div>"
            ],
            "text/plain": [
              "<IPython.core.display.HTML object>"
            ]
          },
          "metadata": {},
          "output_type": "display_data"
        },
        {
          "data": {
            "text/html": [
              " View run <strong style=\"color:#cdcd00\">HD=50_NL=2_DO=0.5_LR=0.005_BS=64</strong> at: <a href='https://wandb.ai/angelajcnto-the-university-of-western-australia/absa-bilstm-attention/runs/7rs24xof' target=\"_blank\">https://wandb.ai/angelajcnto-the-university-of-western-australia/absa-bilstm-attention/runs/7rs24xof</a><br> View project at: <a href='https://wandb.ai/angelajcnto-the-university-of-western-australia/absa-bilstm-attention' target=\"_blank\">https://wandb.ai/angelajcnto-the-university-of-western-australia/absa-bilstm-attention</a><br>Synced 5 W&B file(s), 0 media file(s), 0 artifact file(s) and 0 other file(s)"
            ],
            "text/plain": [
              "<IPython.core.display.HTML object>"
            ]
          },
          "metadata": {},
          "output_type": "display_data"
        },
        {
          "data": {
            "text/html": [
              "Find logs at: <code>.\\wandb\\run-20250425_211322-7rs24xof\\logs</code>"
            ],
            "text/plain": [
              "<IPython.core.display.HTML object>"
            ]
          },
          "metadata": {},
          "output_type": "display_data"
        },
        {
          "data": {
            "text/html": [
              "Tracking run with wandb version 0.19.10"
            ],
            "text/plain": [
              "<IPython.core.display.HTML object>"
            ]
          },
          "metadata": {},
          "output_type": "display_data"
        },
        {
          "data": {
            "text/html": [
              "Run data is saved locally in <code>c:\\Users\\angel\\OneDrive\\uni_projects\\DATA_SCIENCE_ML\\NLP-Aspect-Based-Sentiment-Analysis\\wandb\\run-20250425_211423-pwmo515d</code>"
            ],
            "text/plain": [
              "<IPython.core.display.HTML object>"
            ]
          },
          "metadata": {},
          "output_type": "display_data"
        },
        {
          "data": {
            "text/html": [
              "Syncing run <strong><a href='https://wandb.ai/angelajcnto-the-university-of-western-australia/absa-bilstm-attention/runs/pwmo515d' target=\"_blank\">HD=50_NL=2_DO=0.5_LR=0.005_BS=128</a></strong> to <a href='https://wandb.ai/angelajcnto-the-university-of-western-australia/absa-bilstm-attention' target=\"_blank\">Weights & Biases</a> (<a href='https://wandb.me/developer-guide' target=\"_blank\">docs</a>)<br>"
            ],
            "text/plain": [
              "<IPython.core.display.HTML object>"
            ]
          },
          "metadata": {},
          "output_type": "display_data"
        },
        {
          "data": {
            "text/html": [
              " View project at <a href='https://wandb.ai/angelajcnto-the-university-of-western-australia/absa-bilstm-attention' target=\"_blank\">https://wandb.ai/angelajcnto-the-university-of-western-australia/absa-bilstm-attention</a>"
            ],
            "text/plain": [
              "<IPython.core.display.HTML object>"
            ]
          },
          "metadata": {},
          "output_type": "display_data"
        },
        {
          "data": {
            "text/html": [
              " View run at <a href='https://wandb.ai/angelajcnto-the-university-of-western-australia/absa-bilstm-attention/runs/pwmo515d' target=\"_blank\">https://wandb.ai/angelajcnto-the-university-of-western-australia/absa-bilstm-attention/runs/pwmo515d</a>"
            ],
            "text/plain": [
              "<IPython.core.display.HTML object>"
            ]
          },
          "metadata": {},
          "output_type": "display_data"
        },
        {
          "name": "stdout",
          "output_type": "stream",
          "text": [
            "\n",
            "Testing: hidden_dim=50, num_layers=2, dropout=0.5, lr=0.005, batch_size=128\n",
            "Epoch 1/30 | Train Loss: 0.9258 | Train Acc: 58.82% | Val Loss: 0.8680 | Val Acc: 59.23%\n",
            "Epoch 2/30 | Train Loss: 0.8715 | Train Acc: 61.75% | Val Loss: 0.8504 | Val Acc: 61.82%\n",
            "Epoch 3/30 | Train Loss: 0.8520 | Train Acc: 62.69% | Val Loss: 0.8429 | Val Acc: 60.14%\n",
            "Epoch 4/30 | Train Loss: 0.8365 | Train Acc: 64.15% | Val Loss: 0.8002 | Val Acc: 63.96%\n",
            "Epoch 5/30 | Train Loss: 0.8184 | Train Acc: 63.64% | Val Loss: 0.8077 | Val Acc: 63.51%\n",
            "Epoch 6/30 | Train Loss: 0.8077 | Train Acc: 64.88% | Val Loss: 0.8161 | Val Acc: 63.74%\n",
            "Epoch 7/30 | Train Loss: 0.7951 | Train Acc: 65.51% | Val Loss: 0.8121 | Val Acc: 63.74%\n",
            "Epoch 8/30 | Train Loss: 0.7806 | Train Acc: 66.26% | Val Loss: 0.8093 | Val Acc: 62.27%\n",
            "Epoch 9/30 | Train Loss: 0.7587 | Train Acc: 67.09% | Val Loss: 0.7948 | Val Acc: 64.53%\n",
            "Epoch 10/30 | Train Loss: 0.7494 | Train Acc: 67.17% | Val Loss: 0.8118 | Val Acc: 64.86%\n",
            "Epoch 11/30 | Train Loss: 0.7327 | Train Acc: 68.63% | Val Loss: 0.7957 | Val Acc: 64.53%\n",
            "Epoch 12/30 | Train Loss: 0.7108 | Train Acc: 69.10% | Val Loss: 0.8067 | Val Acc: 62.50%\n",
            "Epoch 13/30 | Train Loss: 0.7110 | Train Acc: 69.44% | Val Loss: 0.8201 | Val Acc: 64.53%\n",
            "Epoch 14/30 | Train Loss: 0.6877 | Train Acc: 70.27% | Val Loss: 0.8498 | Val Acc: 63.51%\n",
            "Epoch 15/30 | Train Loss: 0.6676 | Train Acc: 70.99% | Val Loss: 0.8315 | Val Acc: 65.43%\n",
            "Epoch 16/30 | Train Loss: 0.6541 | Train Acc: 72.13% | Val Loss: 0.8463 | Val Acc: 65.77%\n",
            "Epoch 17/30 | Train Loss: 0.6396 | Train Acc: 72.60% | Val Loss: 0.8128 | Val Acc: 66.55%\n",
            "Epoch 18/30 | Train Loss: 0.6188 | Train Acc: 73.15% | Val Loss: 0.8767 | Val Acc: 62.05%\n",
            "Epoch 19/30 | Train Loss: 0.5838 | Train Acc: 75.70% | Val Loss: 0.9014 | Val Acc: 65.20%\n",
            "Epoch 20/30 | Train Loss: 0.5829 | Train Acc: 75.36% | Val Loss: 0.8747 | Val Acc: 65.77%\n",
            "Epoch 21/30 | Train Loss: 0.5662 | Train Acc: 76.70% | Val Loss: 0.8990 | Val Acc: 66.10%\n",
            "Epoch 22/30 | Train Loss: 0.5395 | Train Acc: 77.17% | Val Loss: 0.9458 | Val Acc: 66.55%\n",
            "Early stopping at epoch 22\n"
          ]
        },
        {
          "data": {
            "text/html": [],
            "text/plain": [
              "<IPython.core.display.HTML object>"
            ]
          },
          "metadata": {},
          "output_type": "display_data"
        },
        {
          "data": {
            "text/html": [
              "<br>    <style><br>        .wandb-row {<br>            display: flex;<br>            flex-direction: row;<br>            flex-wrap: wrap;<br>            justify-content: flex-start;<br>            width: 100%;<br>        }<br>        .wandb-col {<br>            display: flex;<br>            flex-direction: column;<br>            flex-basis: 100%;<br>            flex: 1;<br>            padding: 10px;<br>        }<br>    </style><br><div class=\"wandb-row\"><div class=\"wandb-col\"><h3>Run history:</h3><br/><table class=\"wandb\"><tr><td>epoch</td><td>▁▁▂▂▂▃▃▃▄▄▄▅▅▅▆▆▆▇▇▇██</td></tr><tr><td>final_val_acc</td><td>▁</td></tr><tr><td>train_acc</td><td>▁▂▂▃▃▃▄▄▄▄▅▅▅▅▆▆▆▆▇▇██</td></tr><tr><td>train_loss</td><td>█▇▇▆▆▆▆▅▅▅▅▄▄▄▃▃▃▂▂▂▁▁</td></tr><tr><td>val_acc</td><td>▁▃▂▆▅▅▅▄▆▆▆▄▆▅▇▇█▄▇▇██</td></tr><tr><td>val_loss</td><td>▄▄▃▁▂▂▂▂▁▂▁▂▂▄▃▃▂▅▆▅▆█</td></tr></table><br/></div><div class=\"wandb-col\"><h3>Run summary:</h3><br/><table class=\"wandb\"><tr><td>epoch</td><td>22</td></tr><tr><td>final_val_acc</td><td>0.66554</td></tr><tr><td>train_acc</td><td>0.77165</td></tr><tr><td>train_loss</td><td>0.53949</td></tr><tr><td>val_acc</td><td>0.66554</td></tr><tr><td>val_loss</td><td>0.94576</td></tr></table><br/></div></div>"
            ],
            "text/plain": [
              "<IPython.core.display.HTML object>"
            ]
          },
          "metadata": {},
          "output_type": "display_data"
        },
        {
          "data": {
            "text/html": [
              " View run <strong style=\"color:#cdcd00\">HD=50_NL=2_DO=0.5_LR=0.005_BS=128</strong> at: <a href='https://wandb.ai/angelajcnto-the-university-of-western-australia/absa-bilstm-attention/runs/pwmo515d' target=\"_blank\">https://wandb.ai/angelajcnto-the-university-of-western-australia/absa-bilstm-attention/runs/pwmo515d</a><br> View project at: <a href='https://wandb.ai/angelajcnto-the-university-of-western-australia/absa-bilstm-attention' target=\"_blank\">https://wandb.ai/angelajcnto-the-university-of-western-australia/absa-bilstm-attention</a><br>Synced 5 W&B file(s), 0 media file(s), 0 artifact file(s) and 0 other file(s)"
            ],
            "text/plain": [
              "<IPython.core.display.HTML object>"
            ]
          },
          "metadata": {},
          "output_type": "display_data"
        },
        {
          "data": {
            "text/html": [
              "Find logs at: <code>.\\wandb\\run-20250425_211423-pwmo515d\\logs</code>"
            ],
            "text/plain": [
              "<IPython.core.display.HTML object>"
            ]
          },
          "metadata": {},
          "output_type": "display_data"
        },
        {
          "data": {
            "text/html": [],
            "text/plain": [
              "<IPython.core.display.HTML object>"
            ]
          },
          "metadata": {},
          "output_type": "display_data"
        },
        {
          "data": {
            "text/html": [
              "Tracking run with wandb version 0.19.10"
            ],
            "text/plain": [
              "<IPython.core.display.HTML object>"
            ]
          },
          "metadata": {},
          "output_type": "display_data"
        },
        {
          "data": {
            "text/html": [
              "Run data is saved locally in <code>c:\\Users\\angel\\OneDrive\\uni_projects\\DATA_SCIENCE_ML\\NLP-Aspect-Based-Sentiment-Analysis\\wandb\\run-20250425_211523-a1a72tta</code>"
            ],
            "text/plain": [
              "<IPython.core.display.HTML object>"
            ]
          },
          "metadata": {},
          "output_type": "display_data"
        },
        {
          "data": {
            "text/html": [
              "Syncing run <strong><a href='https://wandb.ai/angelajcnto-the-university-of-western-australia/absa-bilstm-attention/runs/a1a72tta' target=\"_blank\">HD=50_NL=2_DO=0.5_LR=0.001_BS=32</a></strong> to <a href='https://wandb.ai/angelajcnto-the-university-of-western-australia/absa-bilstm-attention' target=\"_blank\">Weights & Biases</a> (<a href='https://wandb.me/developer-guide' target=\"_blank\">docs</a>)<br>"
            ],
            "text/plain": [
              "<IPython.core.display.HTML object>"
            ]
          },
          "metadata": {},
          "output_type": "display_data"
        },
        {
          "data": {
            "text/html": [
              " View project at <a href='https://wandb.ai/angelajcnto-the-university-of-western-australia/absa-bilstm-attention' target=\"_blank\">https://wandb.ai/angelajcnto-the-university-of-western-australia/absa-bilstm-attention</a>"
            ],
            "text/plain": [
              "<IPython.core.display.HTML object>"
            ]
          },
          "metadata": {},
          "output_type": "display_data"
        },
        {
          "data": {
            "text/html": [
              " View run at <a href='https://wandb.ai/angelajcnto-the-university-of-western-australia/absa-bilstm-attention/runs/a1a72tta' target=\"_blank\">https://wandb.ai/angelajcnto-the-university-of-western-australia/absa-bilstm-attention/runs/a1a72tta</a>"
            ],
            "text/plain": [
              "<IPython.core.display.HTML object>"
            ]
          },
          "metadata": {},
          "output_type": "display_data"
        },
        {
          "name": "stdout",
          "output_type": "stream",
          "text": [
            "\n",
            "Testing: hidden_dim=50, num_layers=2, dropout=0.5, lr=0.001, batch_size=32\n",
            "Epoch 1/30 | Train Loss: 0.9225 | Train Acc: 59.49% | Val Loss: 0.8538 | Val Acc: 61.15%\n",
            "Epoch 2/30 | Train Loss: 0.8653 | Train Acc: 62.17% | Val Loss: 0.8268 | Val Acc: 62.73%\n",
            "Epoch 3/30 | Train Loss: 0.8426 | Train Acc: 63.07% | Val Loss: 0.8138 | Val Acc: 63.18%\n",
            "Epoch 4/30 | Train Loss: 0.8312 | Train Acc: 63.58% | Val Loss: 0.8092 | Val Acc: 63.06%\n",
            "Epoch 5/30 | Train Loss: 0.8143 | Train Acc: 65.04% | Val Loss: 0.8024 | Val Acc: 63.74%\n",
            "Epoch 6/30 | Train Loss: 0.7973 | Train Acc: 65.74% | Val Loss: 0.7983 | Val Acc: 64.30%\n",
            "Epoch 7/30 | Train Loss: 0.7720 | Train Acc: 66.46% | Val Loss: 0.8142 | Val Acc: 64.41%\n",
            "Epoch 8/30 | Train Loss: 0.7561 | Train Acc: 67.31% | Val Loss: 0.8009 | Val Acc: 64.08%\n",
            "Epoch 9/30 | Train Loss: 0.7318 | Train Acc: 67.53% | Val Loss: 0.7983 | Val Acc: 65.20%\n",
            "Epoch 10/30 | Train Loss: 0.7056 | Train Acc: 69.58% | Val Loss: 0.8196 | Val Acc: 64.64%\n",
            "Epoch 11/30 | Train Loss: 0.6732 | Train Acc: 71.04% | Val Loss: 0.8504 | Val Acc: 63.96%\n",
            "Epoch 12/30 | Train Loss: 0.6533 | Train Acc: 72.36% | Val Loss: 0.8608 | Val Acc: 64.98%\n",
            "Epoch 13/30 | Train Loss: 0.6180 | Train Acc: 74.06% | Val Loss: 0.8962 | Val Acc: 64.30%\n",
            "Epoch 14/30 | Train Loss: 0.5845 | Train Acc: 75.20% | Val Loss: 0.9044 | Val Acc: 65.65%\n",
            "Epoch 15/30 | Train Loss: 0.5541 | Train Acc: 76.54% | Val Loss: 0.9761 | Val Acc: 65.20%\n",
            "Epoch 16/30 | Train Loss: 0.5161 | Train Acc: 78.17% | Val Loss: 0.9737 | Val Acc: 63.74%\n",
            "Epoch 17/30 | Train Loss: 0.4838 | Train Acc: 80.39% | Val Loss: 1.0735 | Val Acc: 65.09%\n",
            "Epoch 18/30 | Train Loss: 0.4496 | Train Acc: 81.26% | Val Loss: 1.0778 | Val Acc: 63.85%\n",
            "Epoch 19/30 | Train Loss: 0.4322 | Train Acc: 82.17% | Val Loss: 1.1482 | Val Acc: 62.73%\n",
            "Early stopping at epoch 19\n"
          ]
        },
        {
          "data": {
            "text/html": [],
            "text/plain": [
              "<IPython.core.display.HTML object>"
            ]
          },
          "metadata": {},
          "output_type": "display_data"
        },
        {
          "data": {
            "text/html": [
              "<br>    <style><br>        .wandb-row {<br>            display: flex;<br>            flex-direction: row;<br>            flex-wrap: wrap;<br>            justify-content: flex-start;<br>            width: 100%;<br>        }<br>        .wandb-col {<br>            display: flex;<br>            flex-direction: column;<br>            flex-basis: 100%;<br>            flex: 1;<br>            padding: 10px;<br>        }<br>    </style><br><div class=\"wandb-row\"><div class=\"wandb-col\"><h3>Run history:</h3><br/><table class=\"wandb\"><tr><td>epoch</td><td>▁▁▂▂▃▃▃▄▄▅▅▅▆▆▆▇▇██</td></tr><tr><td>final_val_acc</td><td>▁</td></tr><tr><td>train_acc</td><td>▁▂▂▂▃▃▃▃▃▄▅▅▅▆▆▇▇██</td></tr><tr><td>train_loss</td><td>█▇▇▇▆▆▆▆▅▅▄▄▄▃▃▂▂▁▁</td></tr><tr><td>val_acc</td><td>▁▃▄▄▅▆▆▆▇▆▅▇▆█▇▅▇▅▃</td></tr><tr><td>val_loss</td><td>▂▂▁▁▁▁▁▁▁▁▂▂▃▃▅▅▇▇█</td></tr></table><br/></div><div class=\"wandb-col\"><h3>Run summary:</h3><br/><table class=\"wandb\"><tr><td>epoch</td><td>19</td></tr><tr><td>final_val_acc</td><td>0.62725</td></tr><tr><td>train_acc</td><td>0.82172</td></tr><tr><td>train_loss</td><td>0.43223</td></tr><tr><td>val_acc</td><td>0.62725</td></tr><tr><td>val_loss</td><td>1.14816</td></tr></table><br/></div></div>"
            ],
            "text/plain": [
              "<IPython.core.display.HTML object>"
            ]
          },
          "metadata": {},
          "output_type": "display_data"
        },
        {
          "data": {
            "text/html": [
              " View run <strong style=\"color:#cdcd00\">HD=50_NL=2_DO=0.5_LR=0.001_BS=32</strong> at: <a href='https://wandb.ai/angelajcnto-the-university-of-western-australia/absa-bilstm-attention/runs/a1a72tta' target=\"_blank\">https://wandb.ai/angelajcnto-the-university-of-western-australia/absa-bilstm-attention/runs/a1a72tta</a><br> View project at: <a href='https://wandb.ai/angelajcnto-the-university-of-western-australia/absa-bilstm-attention' target=\"_blank\">https://wandb.ai/angelajcnto-the-university-of-western-australia/absa-bilstm-attention</a><br>Synced 5 W&B file(s), 0 media file(s), 0 artifact file(s) and 0 other file(s)"
            ],
            "text/plain": [
              "<IPython.core.display.HTML object>"
            ]
          },
          "metadata": {},
          "output_type": "display_data"
        },
        {
          "data": {
            "text/html": [
              "Find logs at: <code>.\\wandb\\run-20250425_211523-a1a72tta\\logs</code>"
            ],
            "text/plain": [
              "<IPython.core.display.HTML object>"
            ]
          },
          "metadata": {},
          "output_type": "display_data"
        },
        {
          "data": {
            "text/html": [
              "Tracking run with wandb version 0.19.10"
            ],
            "text/plain": [
              "<IPython.core.display.HTML object>"
            ]
          },
          "metadata": {},
          "output_type": "display_data"
        },
        {
          "data": {
            "text/html": [
              "Run data is saved locally in <code>c:\\Users\\angel\\OneDrive\\uni_projects\\DATA_SCIENCE_ML\\NLP-Aspect-Based-Sentiment-Analysis\\wandb\\run-20250425_211624-064t8otd</code>"
            ],
            "text/plain": [
              "<IPython.core.display.HTML object>"
            ]
          },
          "metadata": {},
          "output_type": "display_data"
        },
        {
          "data": {
            "text/html": [
              "Syncing run <strong><a href='https://wandb.ai/angelajcnto-the-university-of-western-australia/absa-bilstm-attention/runs/064t8otd' target=\"_blank\">HD=50_NL=2_DO=0.5_LR=0.001_BS=64</a></strong> to <a href='https://wandb.ai/angelajcnto-the-university-of-western-australia/absa-bilstm-attention' target=\"_blank\">Weights & Biases</a> (<a href='https://wandb.me/developer-guide' target=\"_blank\">docs</a>)<br>"
            ],
            "text/plain": [
              "<IPython.core.display.HTML object>"
            ]
          },
          "metadata": {},
          "output_type": "display_data"
        },
        {
          "data": {
            "text/html": [
              " View project at <a href='https://wandb.ai/angelajcnto-the-university-of-western-australia/absa-bilstm-attention' target=\"_blank\">https://wandb.ai/angelajcnto-the-university-of-western-australia/absa-bilstm-attention</a>"
            ],
            "text/plain": [
              "<IPython.core.display.HTML object>"
            ]
          },
          "metadata": {},
          "output_type": "display_data"
        },
        {
          "data": {
            "text/html": [
              " View run at <a href='https://wandb.ai/angelajcnto-the-university-of-western-australia/absa-bilstm-attention/runs/064t8otd' target=\"_blank\">https://wandb.ai/angelajcnto-the-university-of-western-australia/absa-bilstm-attention/runs/064t8otd</a>"
            ],
            "text/plain": [
              "<IPython.core.display.HTML object>"
            ]
          },
          "metadata": {},
          "output_type": "display_data"
        },
        {
          "name": "stdout",
          "output_type": "stream",
          "text": [
            "\n",
            "Testing: hidden_dim=50, num_layers=2, dropout=0.5, lr=0.001, batch_size=64\n",
            "Epoch 1/30 | Train Loss: 0.9272 | Train Acc: 58.93% | Val Loss: 0.8887 | Val Acc: 59.46%\n",
            "Epoch 2/30 | Train Loss: 0.8731 | Train Acc: 61.99% | Val Loss: 0.8665 | Val Acc: 60.81%\n",
            "Epoch 3/30 | Train Loss: 0.8496 | Train Acc: 62.76% | Val Loss: 0.8157 | Val Acc: 62.61%\n",
            "Epoch 4/30 | Train Loss: 0.8332 | Train Acc: 63.64% | Val Loss: 0.8103 | Val Acc: 62.39%\n",
            "Epoch 5/30 | Train Loss: 0.8207 | Train Acc: 64.61% | Val Loss: 0.8253 | Val Acc: 61.49%\n",
            "Epoch 6/30 | Train Loss: 0.8054 | Train Acc: 65.26% | Val Loss: 0.8135 | Val Acc: 64.19%\n",
            "Epoch 7/30 | Train Loss: 0.7891 | Train Acc: 66.22% | Val Loss: 0.8062 | Val Acc: 64.19%\n",
            "Epoch 8/30 | Train Loss: 0.7783 | Train Acc: 66.54% | Val Loss: 0.8193 | Val Acc: 63.96%\n",
            "Epoch 9/30 | Train Loss: 0.7629 | Train Acc: 67.08% | Val Loss: 0.7917 | Val Acc: 64.19%\n",
            "Epoch 10/30 | Train Loss: 0.7427 | Train Acc: 68.04% | Val Loss: 0.8100 | Val Acc: 65.32%\n",
            "Epoch 11/30 | Train Loss: 0.7235 | Train Acc: 68.60% | Val Loss: 0.8131 | Val Acc: 65.43%\n",
            "Epoch 12/30 | Train Loss: 0.6910 | Train Acc: 70.78% | Val Loss: 0.8569 | Val Acc: 64.08%\n",
            "Epoch 13/30 | Train Loss: 0.6675 | Train Acc: 71.75% | Val Loss: 0.8512 | Val Acc: 65.20%\n",
            "Epoch 14/30 | Train Loss: 0.6377 | Train Acc: 72.95% | Val Loss: 0.8526 | Val Acc: 66.33%\n",
            "Epoch 15/30 | Train Loss: 0.6031 | Train Acc: 74.63% | Val Loss: 0.8963 | Val Acc: 63.51%\n",
            "Epoch 16/30 | Train Loss: 0.5781 | Train Acc: 75.90% | Val Loss: 0.9910 | Val Acc: 65.32%\n",
            "Epoch 17/30 | Train Loss: 0.5395 | Train Acc: 77.60% | Val Loss: 0.9789 | Val Acc: 65.20%\n",
            "Epoch 18/30 | Train Loss: 0.4927 | Train Acc: 80.13% | Val Loss: 1.0575 | Val Acc: 62.95%\n",
            "Epoch 19/30 | Train Loss: 0.4628 | Train Acc: 81.57% | Val Loss: 1.0739 | Val Acc: 63.85%\n",
            "Early stopping at epoch 19\n"
          ]
        },
        {
          "data": {
            "text/html": [],
            "text/plain": [
              "<IPython.core.display.HTML object>"
            ]
          },
          "metadata": {},
          "output_type": "display_data"
        },
        {
          "data": {
            "text/html": [
              "<br>    <style><br>        .wandb-row {<br>            display: flex;<br>            flex-direction: row;<br>            flex-wrap: wrap;<br>            justify-content: flex-start;<br>            width: 100%;<br>        }<br>        .wandb-col {<br>            display: flex;<br>            flex-direction: column;<br>            flex-basis: 100%;<br>            flex: 1;<br>            padding: 10px;<br>        }<br>    </style><br><div class=\"wandb-row\"><div class=\"wandb-col\"><h3>Run history:</h3><br/><table class=\"wandb\"><tr><td>epoch</td><td>▁▁▂▂▃▃▃▄▄▅▅▅▆▆▆▇▇██</td></tr><tr><td>final_val_acc</td><td>▁</td></tr><tr><td>train_acc</td><td>▁▂▂▂▃▃▃▃▄▄▄▅▅▅▆▆▇██</td></tr><tr><td>train_loss</td><td>█▇▇▇▆▆▆▆▆▅▅▄▄▄▃▃▂▁▁</td></tr><tr><td>val_acc</td><td>▁▂▄▄▃▆▆▆▆▇▇▆▇█▅▇▇▅▅</td></tr><tr><td>val_loss</td><td>▃▃▂▁▂▂▁▂▁▁▂▃▂▃▄▆▆██</td></tr></table><br/></div><div class=\"wandb-col\"><h3>Run summary:</h3><br/><table class=\"wandb\"><tr><td>epoch</td><td>19</td></tr><tr><td>final_val_acc</td><td>0.63851</td></tr><tr><td>train_acc</td><td>0.81566</td></tr><tr><td>train_loss</td><td>0.4628</td></tr><tr><td>val_acc</td><td>0.63851</td></tr><tr><td>val_loss</td><td>1.07391</td></tr></table><br/></div></div>"
            ],
            "text/plain": [
              "<IPython.core.display.HTML object>"
            ]
          },
          "metadata": {},
          "output_type": "display_data"
        },
        {
          "data": {
            "text/html": [
              " View run <strong style=\"color:#cdcd00\">HD=50_NL=2_DO=0.5_LR=0.001_BS=64</strong> at: <a href='https://wandb.ai/angelajcnto-the-university-of-western-australia/absa-bilstm-attention/runs/064t8otd' target=\"_blank\">https://wandb.ai/angelajcnto-the-university-of-western-australia/absa-bilstm-attention/runs/064t8otd</a><br> View project at: <a href='https://wandb.ai/angelajcnto-the-university-of-western-australia/absa-bilstm-attention' target=\"_blank\">https://wandb.ai/angelajcnto-the-university-of-western-australia/absa-bilstm-attention</a><br>Synced 5 W&B file(s), 0 media file(s), 0 artifact file(s) and 0 other file(s)"
            ],
            "text/plain": [
              "<IPython.core.display.HTML object>"
            ]
          },
          "metadata": {},
          "output_type": "display_data"
        },
        {
          "data": {
            "text/html": [
              "Find logs at: <code>.\\wandb\\run-20250425_211624-064t8otd\\logs</code>"
            ],
            "text/plain": [
              "<IPython.core.display.HTML object>"
            ]
          },
          "metadata": {},
          "output_type": "display_data"
        },
        {
          "data": {
            "text/html": [
              "Tracking run with wandb version 0.19.10"
            ],
            "text/plain": [
              "<IPython.core.display.HTML object>"
            ]
          },
          "metadata": {},
          "output_type": "display_data"
        },
        {
          "data": {
            "text/html": [
              "Run data is saved locally in <code>c:\\Users\\angel\\OneDrive\\uni_projects\\DATA_SCIENCE_ML\\NLP-Aspect-Based-Sentiment-Analysis\\wandb\\run-20250425_211721-uk1p4yr3</code>"
            ],
            "text/plain": [
              "<IPython.core.display.HTML object>"
            ]
          },
          "metadata": {},
          "output_type": "display_data"
        },
        {
          "data": {
            "text/html": [
              "Syncing run <strong><a href='https://wandb.ai/angelajcnto-the-university-of-western-australia/absa-bilstm-attention/runs/uk1p4yr3' target=\"_blank\">HD=50_NL=2_DO=0.5_LR=0.001_BS=128</a></strong> to <a href='https://wandb.ai/angelajcnto-the-university-of-western-australia/absa-bilstm-attention' target=\"_blank\">Weights & Biases</a> (<a href='https://wandb.me/developer-guide' target=\"_blank\">docs</a>)<br>"
            ],
            "text/plain": [
              "<IPython.core.display.HTML object>"
            ]
          },
          "metadata": {},
          "output_type": "display_data"
        },
        {
          "data": {
            "text/html": [
              " View project at <a href='https://wandb.ai/angelajcnto-the-university-of-western-australia/absa-bilstm-attention' target=\"_blank\">https://wandb.ai/angelajcnto-the-university-of-western-australia/absa-bilstm-attention</a>"
            ],
            "text/plain": [
              "<IPython.core.display.HTML object>"
            ]
          },
          "metadata": {},
          "output_type": "display_data"
        },
        {
          "data": {
            "text/html": [
              " View run at <a href='https://wandb.ai/angelajcnto-the-university-of-western-australia/absa-bilstm-attention/runs/uk1p4yr3' target=\"_blank\">https://wandb.ai/angelajcnto-the-university-of-western-australia/absa-bilstm-attention/runs/uk1p4yr3</a>"
            ],
            "text/plain": [
              "<IPython.core.display.HTML object>"
            ]
          },
          "metadata": {},
          "output_type": "display_data"
        },
        {
          "name": "stdout",
          "output_type": "stream",
          "text": [
            "\n",
            "Testing: hidden_dim=50, num_layers=2, dropout=0.5, lr=0.001, batch_size=128\n",
            "Epoch 1/30 | Train Loss: 0.9492 | Train Acc: 57.59% | Val Loss: 0.9028 | Val Acc: 59.91%\n",
            "Epoch 2/30 | Train Loss: 0.8975 | Train Acc: 60.80% | Val Loss: 0.8550 | Val Acc: 62.50%\n",
            "Epoch 3/30 | Train Loss: 0.8637 | Train Acc: 62.19% | Val Loss: 0.8441 | Val Acc: 61.82%\n",
            "Epoch 4/30 | Train Loss: 0.8458 | Train Acc: 63.03% | Val Loss: 0.8246 | Val Acc: 62.05%\n",
            "Epoch 5/30 | Train Loss: 0.8369 | Train Acc: 63.53% | Val Loss: 0.8207 | Val Acc: 61.82%\n",
            "Epoch 6/30 | Train Loss: 0.8183 | Train Acc: 64.36% | Val Loss: 0.8086 | Val Acc: 61.49%\n",
            "Epoch 7/30 | Train Loss: 0.8068 | Train Acc: 65.57% | Val Loss: 0.8220 | Val Acc: 63.51%\n",
            "Epoch 8/30 | Train Loss: 0.7950 | Train Acc: 65.68% | Val Loss: 0.7922 | Val Acc: 64.08%\n",
            "Epoch 9/30 | Train Loss: 0.7839 | Train Acc: 66.18% | Val Loss: 0.8138 | Val Acc: 64.64%\n",
            "Epoch 10/30 | Train Loss: 0.7621 | Train Acc: 66.88% | Val Loss: 0.8000 | Val Acc: 63.85%\n",
            "Epoch 11/30 | Train Loss: 0.7474 | Train Acc: 67.18% | Val Loss: 0.7954 | Val Acc: 63.85%\n",
            "Epoch 12/30 | Train Loss: 0.7267 | Train Acc: 68.98% | Val Loss: 0.7955 | Val Acc: 64.64%\n",
            "Epoch 13/30 | Train Loss: 0.7104 | Train Acc: 69.55% | Val Loss: 0.8142 | Val Acc: 64.41%\n",
            "Epoch 14/30 | Train Loss: 0.6911 | Train Acc: 70.56% | Val Loss: 0.8513 | Val Acc: 63.51%\n",
            "Early stopping at epoch 14\n"
          ]
        },
        {
          "data": {
            "text/html": [],
            "text/plain": [
              "<IPython.core.display.HTML object>"
            ]
          },
          "metadata": {},
          "output_type": "display_data"
        },
        {
          "data": {
            "text/html": [
              "<br>    <style><br>        .wandb-row {<br>            display: flex;<br>            flex-direction: row;<br>            flex-wrap: wrap;<br>            justify-content: flex-start;<br>            width: 100%;<br>        }<br>        .wandb-col {<br>            display: flex;<br>            flex-direction: column;<br>            flex-basis: 100%;<br>            flex: 1;<br>            padding: 10px;<br>        }<br>    </style><br><div class=\"wandb-row\"><div class=\"wandb-col\"><h3>Run history:</h3><br/><table class=\"wandb\"><tr><td>epoch</td><td>▁▂▂▃▃▄▄▅▅▆▆▇▇█</td></tr><tr><td>final_val_acc</td><td>▁</td></tr><tr><td>train_acc</td><td>▁▃▃▄▄▅▅▅▆▆▆▇▇█</td></tr><tr><td>train_loss</td><td>█▇▆▅▅▄▄▄▄▃▃▂▂▁</td></tr><tr><td>val_acc</td><td>▁▅▄▄▄▃▆▇█▇▇██▆</td></tr><tr><td>val_loss</td><td>█▅▄▃▃▂▃▁▂▁▁▁▂▅</td></tr></table><br/></div><div class=\"wandb-col\"><h3>Run summary:</h3><br/><table class=\"wandb\"><tr><td>epoch</td><td>14</td></tr><tr><td>final_val_acc</td><td>0.63514</td></tr><tr><td>train_acc</td><td>0.70564</td></tr><tr><td>train_loss</td><td>0.69109</td></tr><tr><td>val_acc</td><td>0.63514</td></tr><tr><td>val_loss</td><td>0.85135</td></tr></table><br/></div></div>"
            ],
            "text/plain": [
              "<IPython.core.display.HTML object>"
            ]
          },
          "metadata": {},
          "output_type": "display_data"
        },
        {
          "data": {
            "text/html": [
              " View run <strong style=\"color:#cdcd00\">HD=50_NL=2_DO=0.5_LR=0.001_BS=128</strong> at: <a href='https://wandb.ai/angelajcnto-the-university-of-western-australia/absa-bilstm-attention/runs/uk1p4yr3' target=\"_blank\">https://wandb.ai/angelajcnto-the-university-of-western-australia/absa-bilstm-attention/runs/uk1p4yr3</a><br> View project at: <a href='https://wandb.ai/angelajcnto-the-university-of-western-australia/absa-bilstm-attention' target=\"_blank\">https://wandb.ai/angelajcnto-the-university-of-western-australia/absa-bilstm-attention</a><br>Synced 5 W&B file(s), 0 media file(s), 0 artifact file(s) and 0 other file(s)"
            ],
            "text/plain": [
              "<IPython.core.display.HTML object>"
            ]
          },
          "metadata": {},
          "output_type": "display_data"
        },
        {
          "data": {
            "text/html": [
              "Find logs at: <code>.\\wandb\\run-20250425_211721-uk1p4yr3\\logs</code>"
            ],
            "text/plain": [
              "<IPython.core.display.HTML object>"
            ]
          },
          "metadata": {},
          "output_type": "display_data"
        },
        {
          "data": {
            "text/html": [
              "Tracking run with wandb version 0.19.10"
            ],
            "text/plain": [
              "<IPython.core.display.HTML object>"
            ]
          },
          "metadata": {},
          "output_type": "display_data"
        },
        {
          "data": {
            "text/html": [
              "Run data is saved locally in <code>c:\\Users\\angel\\OneDrive\\uni_projects\\DATA_SCIENCE_ML\\NLP-Aspect-Based-Sentiment-Analysis\\wandb\\run-20250425_211801-6xbu3bon</code>"
            ],
            "text/plain": [
              "<IPython.core.display.HTML object>"
            ]
          },
          "metadata": {},
          "output_type": "display_data"
        },
        {
          "data": {
            "text/html": [
              "Syncing run <strong><a href='https://wandb.ai/angelajcnto-the-university-of-western-australia/absa-bilstm-attention/runs/6xbu3bon' target=\"_blank\">HD=100_NL=1_DO=0.3_LR=0.01_BS=32</a></strong> to <a href='https://wandb.ai/angelajcnto-the-university-of-western-australia/absa-bilstm-attention' target=\"_blank\">Weights & Biases</a> (<a href='https://wandb.me/developer-guide' target=\"_blank\">docs</a>)<br>"
            ],
            "text/plain": [
              "<IPython.core.display.HTML object>"
            ]
          },
          "metadata": {},
          "output_type": "display_data"
        },
        {
          "data": {
            "text/html": [
              " View project at <a href='https://wandb.ai/angelajcnto-the-university-of-western-australia/absa-bilstm-attention' target=\"_blank\">https://wandb.ai/angelajcnto-the-university-of-western-australia/absa-bilstm-attention</a>"
            ],
            "text/plain": [
              "<IPython.core.display.HTML object>"
            ]
          },
          "metadata": {},
          "output_type": "display_data"
        },
        {
          "data": {
            "text/html": [
              " View run at <a href='https://wandb.ai/angelajcnto-the-university-of-western-australia/absa-bilstm-attention/runs/6xbu3bon' target=\"_blank\">https://wandb.ai/angelajcnto-the-university-of-western-australia/absa-bilstm-attention/runs/6xbu3bon</a>"
            ],
            "text/plain": [
              "<IPython.core.display.HTML object>"
            ]
          },
          "metadata": {},
          "output_type": "display_data"
        },
        {
          "name": "stdout",
          "output_type": "stream",
          "text": [
            "\n",
            "Testing: hidden_dim=100, num_layers=1, dropout=0.3, lr=0.01, batch_size=32\n",
            "Epoch 1/30 | Train Loss: 0.9221 | Train Acc: 59.27% | Val Loss: 0.8411 | Val Acc: 60.81%\n",
            "Epoch 2/30 | Train Loss: 0.8733 | Train Acc: 61.73% | Val Loss: 0.8421 | Val Acc: 61.15%\n",
            "Epoch 3/30 | Train Loss: 0.8556 | Train Acc: 61.68% | Val Loss: 0.8414 | Val Acc: 62.05%\n",
            "Epoch 4/30 | Train Loss: 0.8467 | Train Acc: 62.62% | Val Loss: 0.8192 | Val Acc: 63.18%\n",
            "Epoch 5/30 | Train Loss: 0.8377 | Train Acc: 63.26% | Val Loss: 0.8774 | Val Acc: 62.50%\n",
            "Epoch 6/30 | Train Loss: 0.8339 | Train Acc: 63.43% | Val Loss: 0.8279 | Val Acc: 63.63%\n",
            "Epoch 7/30 | Train Loss: 0.8241 | Train Acc: 63.44% | Val Loss: 0.8062 | Val Acc: 63.96%\n",
            "Epoch 8/30 | Train Loss: 0.8190 | Train Acc: 63.82% | Val Loss: 0.7998 | Val Acc: 63.63%\n",
            "Epoch 9/30 | Train Loss: 0.8055 | Train Acc: 64.68% | Val Loss: 0.8144 | Val Acc: 64.41%\n",
            "Epoch 10/30 | Train Loss: 0.8110 | Train Acc: 64.47% | Val Loss: 0.8142 | Val Acc: 63.51%\n",
            "Epoch 11/30 | Train Loss: 0.7981 | Train Acc: 64.82% | Val Loss: 0.7766 | Val Acc: 65.20%\n",
            "Epoch 12/30 | Train Loss: 0.8014 | Train Acc: 64.96% | Val Loss: 0.7889 | Val Acc: 63.74%\n",
            "Epoch 13/30 | Train Loss: 0.7863 | Train Acc: 65.47% | Val Loss: 0.8113 | Val Acc: 63.40%\n",
            "Epoch 14/30 | Train Loss: 0.7987 | Train Acc: 64.64% | Val Loss: 0.8007 | Val Acc: 63.51%\n",
            "Epoch 15/30 | Train Loss: 0.7949 | Train Acc: 65.43% | Val Loss: 0.8266 | Val Acc: 64.08%\n",
            "Epoch 16/30 | Train Loss: 0.7832 | Train Acc: 65.67% | Val Loss: 0.8180 | Val Acc: 63.18%\n",
            "Early stopping at epoch 16\n"
          ]
        },
        {
          "data": {
            "text/html": [],
            "text/plain": [
              "<IPython.core.display.HTML object>"
            ]
          },
          "metadata": {},
          "output_type": "display_data"
        },
        {
          "data": {
            "text/html": [
              "<br>    <style><br>        .wandb-row {<br>            display: flex;<br>            flex-direction: row;<br>            flex-wrap: wrap;<br>            justify-content: flex-start;<br>            width: 100%;<br>        }<br>        .wandb-col {<br>            display: flex;<br>            flex-direction: column;<br>            flex-basis: 100%;<br>            flex: 1;<br>            padding: 10px;<br>        }<br>    </style><br><div class=\"wandb-row\"><div class=\"wandb-col\"><h3>Run history:</h3><br/><table class=\"wandb\"><tr><td>epoch</td><td>▁▁▂▂▃▃▄▄▅▅▆▆▇▇██</td></tr><tr><td>final_val_acc</td><td>▁</td></tr><tr><td>train_acc</td><td>▁▄▄▅▅▆▆▆▇▇▇▇█▇██</td></tr><tr><td>train_loss</td><td>█▆▅▄▄▄▃▃▂▂▂▂▁▂▂▁</td></tr><tr><td>val_acc</td><td>▁▂▃▅▄▅▆▅▇▅█▆▅▅▆▅</td></tr><tr><td>val_loss</td><td>▅▆▆▄█▅▃▃▄▄▁▂▃▃▄▄</td></tr></table><br/></div><div class=\"wandb-col\"><h3>Run summary:</h3><br/><table class=\"wandb\"><tr><td>epoch</td><td>16</td></tr><tr><td>final_val_acc</td><td>0.63176</td></tr><tr><td>train_acc</td><td>0.6567</td></tr><tr><td>train_loss</td><td>0.7832</td></tr><tr><td>val_acc</td><td>0.63176</td></tr><tr><td>val_loss</td><td>0.81803</td></tr></table><br/></div></div>"
            ],
            "text/plain": [
              "<IPython.core.display.HTML object>"
            ]
          },
          "metadata": {},
          "output_type": "display_data"
        },
        {
          "data": {
            "text/html": [
              " View run <strong style=\"color:#cdcd00\">HD=100_NL=1_DO=0.3_LR=0.01_BS=32</strong> at: <a href='https://wandb.ai/angelajcnto-the-university-of-western-australia/absa-bilstm-attention/runs/6xbu3bon' target=\"_blank\">https://wandb.ai/angelajcnto-the-university-of-western-australia/absa-bilstm-attention/runs/6xbu3bon</a><br> View project at: <a href='https://wandb.ai/angelajcnto-the-university-of-western-australia/absa-bilstm-attention' target=\"_blank\">https://wandb.ai/angelajcnto-the-university-of-western-australia/absa-bilstm-attention</a><br>Synced 5 W&B file(s), 0 media file(s), 0 artifact file(s) and 0 other file(s)"
            ],
            "text/plain": [
              "<IPython.core.display.HTML object>"
            ]
          },
          "metadata": {},
          "output_type": "display_data"
        },
        {
          "data": {
            "text/html": [
              "Find logs at: <code>.\\wandb\\run-20250425_211801-6xbu3bon\\logs</code>"
            ],
            "text/plain": [
              "<IPython.core.display.HTML object>"
            ]
          },
          "metadata": {},
          "output_type": "display_data"
        },
        {
          "data": {
            "text/html": [
              "Tracking run with wandb version 0.19.10"
            ],
            "text/plain": [
              "<IPython.core.display.HTML object>"
            ]
          },
          "metadata": {},
          "output_type": "display_data"
        },
        {
          "data": {
            "text/html": [
              "Run data is saved locally in <code>c:\\Users\\angel\\OneDrive\\uni_projects\\DATA_SCIENCE_ML\\NLP-Aspect-Based-Sentiment-Analysis\\wandb\\run-20250425_211852-zaqbb8hj</code>"
            ],
            "text/plain": [
              "<IPython.core.display.HTML object>"
            ]
          },
          "metadata": {},
          "output_type": "display_data"
        },
        {
          "data": {
            "text/html": [
              "Syncing run <strong><a href='https://wandb.ai/angelajcnto-the-university-of-western-australia/absa-bilstm-attention/runs/zaqbb8hj' target=\"_blank\">HD=100_NL=1_DO=0.3_LR=0.01_BS=64</a></strong> to <a href='https://wandb.ai/angelajcnto-the-university-of-western-australia/absa-bilstm-attention' target=\"_blank\">Weights & Biases</a> (<a href='https://wandb.me/developer-guide' target=\"_blank\">docs</a>)<br>"
            ],
            "text/plain": [
              "<IPython.core.display.HTML object>"
            ]
          },
          "metadata": {},
          "output_type": "display_data"
        },
        {
          "data": {
            "text/html": [
              " View project at <a href='https://wandb.ai/angelajcnto-the-university-of-western-australia/absa-bilstm-attention' target=\"_blank\">https://wandb.ai/angelajcnto-the-university-of-western-australia/absa-bilstm-attention</a>"
            ],
            "text/plain": [
              "<IPython.core.display.HTML object>"
            ]
          },
          "metadata": {},
          "output_type": "display_data"
        },
        {
          "data": {
            "text/html": [
              " View run at <a href='https://wandb.ai/angelajcnto-the-university-of-western-australia/absa-bilstm-attention/runs/zaqbb8hj' target=\"_blank\">https://wandb.ai/angelajcnto-the-university-of-western-australia/absa-bilstm-attention/runs/zaqbb8hj</a>"
            ],
            "text/plain": [
              "<IPython.core.display.HTML object>"
            ]
          },
          "metadata": {},
          "output_type": "display_data"
        },
        {
          "name": "stdout",
          "output_type": "stream",
          "text": [
            "\n",
            "Testing: hidden_dim=100, num_layers=1, dropout=0.3, lr=0.01, batch_size=64\n",
            "Epoch 1/30 | Train Loss: 0.9201 | Train Acc: 58.80% | Val Loss: 0.8428 | Val Acc: 61.26%\n",
            "Epoch 2/30 | Train Loss: 0.8626 | Train Acc: 61.95% | Val Loss: 0.8321 | Val Acc: 62.84%\n",
            "Epoch 3/30 | Train Loss: 0.8416 | Train Acc: 63.29% | Val Loss: 0.8282 | Val Acc: 61.71%\n",
            "Epoch 4/30 | Train Loss: 0.8290 | Train Acc: 63.92% | Val Loss: 0.8183 | Val Acc: 62.95%\n",
            "Epoch 5/30 | Train Loss: 0.8101 | Train Acc: 64.60% | Val Loss: 0.8078 | Val Acc: 62.50%\n",
            "Epoch 6/30 | Train Loss: 0.8023 | Train Acc: 65.28% | Val Loss: 0.7822 | Val Acc: 64.41%\n",
            "Epoch 7/30 | Train Loss: 0.7807 | Train Acc: 65.64% | Val Loss: 0.7787 | Val Acc: 65.54%\n",
            "Epoch 8/30 | Train Loss: 0.7871 | Train Acc: 65.70% | Val Loss: 0.7855 | Val Acc: 64.64%\n",
            "Epoch 9/30 | Train Loss: 0.7794 | Train Acc: 65.36% | Val Loss: 0.7796 | Val Acc: 65.77%\n",
            "Epoch 10/30 | Train Loss: 0.7725 | Train Acc: 65.92% | Val Loss: 0.7746 | Val Acc: 64.75%\n",
            "Epoch 11/30 | Train Loss: 0.7496 | Train Acc: 66.71% | Val Loss: 0.8204 | Val Acc: 64.98%\n",
            "Epoch 12/30 | Train Loss: 0.7554 | Train Acc: 66.85% | Val Loss: 0.7993 | Val Acc: 64.41%\n",
            "Epoch 13/30 | Train Loss: 0.7515 | Train Acc: 66.46% | Val Loss: 0.8004 | Val Acc: 62.84%\n",
            "Epoch 14/30 | Train Loss: 0.7442 | Train Acc: 67.94% | Val Loss: 0.7919 | Val Acc: 64.19%\n",
            "Early stopping at epoch 14\n"
          ]
        },
        {
          "data": {
            "text/html": [],
            "text/plain": [
              "<IPython.core.display.HTML object>"
            ]
          },
          "metadata": {},
          "output_type": "display_data"
        },
        {
          "data": {
            "text/html": [
              "<br>    <style><br>        .wandb-row {<br>            display: flex;<br>            flex-direction: row;<br>            flex-wrap: wrap;<br>            justify-content: flex-start;<br>            width: 100%;<br>        }<br>        .wandb-col {<br>            display: flex;<br>            flex-direction: column;<br>            flex-basis: 100%;<br>            flex: 1;<br>            padding: 10px;<br>        }<br>    </style><br><div class=\"wandb-row\"><div class=\"wandb-col\"><h3>Run history:</h3><br/><table class=\"wandb\"><tr><td>epoch</td><td>▁▂▂▃▃▄▄▅▅▆▆▇▇█</td></tr><tr><td>final_val_acc</td><td>▁</td></tr><tr><td>train_acc</td><td>▁▃▄▅▅▆▆▆▆▆▇▇▇█</td></tr><tr><td>train_loss</td><td>█▆▅▄▄▃▂▃▂▂▁▁▁▁</td></tr><tr><td>val_acc</td><td>▁▃▂▄▃▆█▆█▆▇▆▃▆</td></tr><tr><td>val_loss</td><td>█▇▇▅▄▂▁▂▂▁▆▄▄▃</td></tr></table><br/></div><div class=\"wandb-col\"><h3>Run summary:</h3><br/><table class=\"wandb\"><tr><td>epoch</td><td>14</td></tr><tr><td>final_val_acc</td><td>0.64189</td></tr><tr><td>train_acc</td><td>0.67941</td></tr><tr><td>train_loss</td><td>0.74415</td></tr><tr><td>val_acc</td><td>0.64189</td></tr><tr><td>val_loss</td><td>0.79187</td></tr></table><br/></div></div>"
            ],
            "text/plain": [
              "<IPython.core.display.HTML object>"
            ]
          },
          "metadata": {},
          "output_type": "display_data"
        },
        {
          "data": {
            "text/html": [
              " View run <strong style=\"color:#cdcd00\">HD=100_NL=1_DO=0.3_LR=0.01_BS=64</strong> at: <a href='https://wandb.ai/angelajcnto-the-university-of-western-australia/absa-bilstm-attention/runs/zaqbb8hj' target=\"_blank\">https://wandb.ai/angelajcnto-the-university-of-western-australia/absa-bilstm-attention/runs/zaqbb8hj</a><br> View project at: <a href='https://wandb.ai/angelajcnto-the-university-of-western-australia/absa-bilstm-attention' target=\"_blank\">https://wandb.ai/angelajcnto-the-university-of-western-australia/absa-bilstm-attention</a><br>Synced 5 W&B file(s), 0 media file(s), 0 artifact file(s) and 0 other file(s)"
            ],
            "text/plain": [
              "<IPython.core.display.HTML object>"
            ]
          },
          "metadata": {},
          "output_type": "display_data"
        },
        {
          "data": {
            "text/html": [
              "Find logs at: <code>.\\wandb\\run-20250425_211852-zaqbb8hj\\logs</code>"
            ],
            "text/plain": [
              "<IPython.core.display.HTML object>"
            ]
          },
          "metadata": {},
          "output_type": "display_data"
        },
        {
          "data": {
            "text/html": [
              "Tracking run with wandb version 0.19.10"
            ],
            "text/plain": [
              "<IPython.core.display.HTML object>"
            ]
          },
          "metadata": {},
          "output_type": "display_data"
        },
        {
          "data": {
            "text/html": [
              "Run data is saved locally in <code>c:\\Users\\angel\\OneDrive\\uni_projects\\DATA_SCIENCE_ML\\NLP-Aspect-Based-Sentiment-Analysis\\wandb\\run-20250425_211933-kynnouo5</code>"
            ],
            "text/plain": [
              "<IPython.core.display.HTML object>"
            ]
          },
          "metadata": {},
          "output_type": "display_data"
        },
        {
          "data": {
            "text/html": [
              "Syncing run <strong><a href='https://wandb.ai/angelajcnto-the-university-of-western-australia/absa-bilstm-attention/runs/kynnouo5' target=\"_blank\">HD=100_NL=1_DO=0.3_LR=0.01_BS=128</a></strong> to <a href='https://wandb.ai/angelajcnto-the-university-of-western-australia/absa-bilstm-attention' target=\"_blank\">Weights & Biases</a> (<a href='https://wandb.me/developer-guide' target=\"_blank\">docs</a>)<br>"
            ],
            "text/plain": [
              "<IPython.core.display.HTML object>"
            ]
          },
          "metadata": {},
          "output_type": "display_data"
        },
        {
          "data": {
            "text/html": [
              " View project at <a href='https://wandb.ai/angelajcnto-the-university-of-western-australia/absa-bilstm-attention' target=\"_blank\">https://wandb.ai/angelajcnto-the-university-of-western-australia/absa-bilstm-attention</a>"
            ],
            "text/plain": [
              "<IPython.core.display.HTML object>"
            ]
          },
          "metadata": {},
          "output_type": "display_data"
        },
        {
          "data": {
            "text/html": [
              " View run at <a href='https://wandb.ai/angelajcnto-the-university-of-western-australia/absa-bilstm-attention/runs/kynnouo5' target=\"_blank\">https://wandb.ai/angelajcnto-the-university-of-western-australia/absa-bilstm-attention/runs/kynnouo5</a>"
            ],
            "text/plain": [
              "<IPython.core.display.HTML object>"
            ]
          },
          "metadata": {},
          "output_type": "display_data"
        },
        {
          "name": "stdout",
          "output_type": "stream",
          "text": [
            "\n",
            "Testing: hidden_dim=100, num_layers=1, dropout=0.3, lr=0.01, batch_size=128\n",
            "Epoch 1/30 | Train Loss: 0.9280 | Train Acc: 58.43% | Val Loss: 0.8675 | Val Acc: 61.82%\n",
            "Epoch 2/30 | Train Loss: 0.8694 | Train Acc: 61.58% | Val Loss: 0.8563 | Val Acc: 62.84%\n",
            "Epoch 3/30 | Train Loss: 0.8444 | Train Acc: 63.27% | Val Loss: 0.8216 | Val Acc: 62.50%\n",
            "Epoch 4/30 | Train Loss: 0.8205 | Train Acc: 64.09% | Val Loss: 0.7970 | Val Acc: 63.29%\n",
            "Epoch 5/30 | Train Loss: 0.8036 | Train Acc: 64.50% | Val Loss: 0.7952 | Val Acc: 63.74%\n",
            "Epoch 6/30 | Train Loss: 0.7767 | Train Acc: 65.56% | Val Loss: 0.7858 | Val Acc: 63.63%\n",
            "Epoch 7/30 | Train Loss: 0.7597 | Train Acc: 66.60% | Val Loss: 0.7723 | Val Acc: 64.64%\n",
            "Epoch 8/30 | Train Loss: 0.7449 | Train Acc: 67.38% | Val Loss: 0.7901 | Val Acc: 64.19%\n",
            "Epoch 9/30 | Train Loss: 0.7372 | Train Acc: 67.74% | Val Loss: 0.7761 | Val Acc: 64.75%\n",
            "Epoch 10/30 | Train Loss: 0.7236 | Train Acc: 68.39% | Val Loss: 0.7620 | Val Acc: 65.43%\n",
            "Epoch 11/30 | Train Loss: 0.7050 | Train Acc: 69.62% | Val Loss: 0.7556 | Val Acc: 65.65%\n",
            "Epoch 12/30 | Train Loss: 0.7053 | Train Acc: 69.07% | Val Loss: 0.7806 | Val Acc: 67.12%\n",
            "Epoch 13/30 | Train Loss: 0.6921 | Train Acc: 70.27% | Val Loss: 0.7812 | Val Acc: 64.64%\n",
            "Epoch 14/30 | Train Loss: 0.6740 | Train Acc: 70.79% | Val Loss: 0.8054 | Val Acc: 64.08%\n",
            "Epoch 15/30 | Train Loss: 0.6687 | Train Acc: 70.80% | Val Loss: 0.8066 | Val Acc: 64.41%\n",
            "Epoch 16/30 | Train Loss: 0.6579 | Train Acc: 71.62% | Val Loss: 0.8207 | Val Acc: 64.30%\n",
            "Epoch 17/30 | Train Loss: 0.6248 | Train Acc: 72.98% | Val Loss: 0.8155 | Val Acc: 64.64%\n",
            "Early stopping at epoch 17\n"
          ]
        },
        {
          "data": {
            "text/html": [],
            "text/plain": [
              "<IPython.core.display.HTML object>"
            ]
          },
          "metadata": {},
          "output_type": "display_data"
        },
        {
          "data": {
            "text/html": [
              "<br>    <style><br>        .wandb-row {<br>            display: flex;<br>            flex-direction: row;<br>            flex-wrap: wrap;<br>            justify-content: flex-start;<br>            width: 100%;<br>        }<br>        .wandb-col {<br>            display: flex;<br>            flex-direction: column;<br>            flex-basis: 100%;<br>            flex: 1;<br>            padding: 10px;<br>        }<br>    </style><br><div class=\"wandb-row\"><div class=\"wandb-col\"><h3>Run history:</h3><br/><table class=\"wandb\"><tr><td>epoch</td><td>▁▁▂▂▃▃▄▄▅▅▅▆▆▇▇██</td></tr><tr><td>final_val_acc</td><td>▁</td></tr><tr><td>train_acc</td><td>▁▃▃▄▄▄▅▅▅▆▆▆▇▇▇▇█</td></tr><tr><td>train_loss</td><td>█▇▆▆▅▅▄▄▄▃▃▃▃▂▂▂▁</td></tr><tr><td>val_acc</td><td>▁▂▂▃▄▃▅▄▅▆▆█▅▄▄▄▅</td></tr><tr><td>val_loss</td><td>█▇▅▄▃▃▂▃▂▁▁▃▃▄▄▅▅</td></tr></table><br/></div><div class=\"wandb-col\"><h3>Run summary:</h3><br/><table class=\"wandb\"><tr><td>epoch</td><td>17</td></tr><tr><td>final_val_acc</td><td>0.6464</td></tr><tr><td>train_acc</td><td>0.72976</td></tr><tr><td>train_loss</td><td>0.62476</td></tr><tr><td>val_acc</td><td>0.6464</td></tr><tr><td>val_loss</td><td>0.81552</td></tr></table><br/></div></div>"
            ],
            "text/plain": [
              "<IPython.core.display.HTML object>"
            ]
          },
          "metadata": {},
          "output_type": "display_data"
        },
        {
          "data": {
            "text/html": [
              " View run <strong style=\"color:#cdcd00\">HD=100_NL=1_DO=0.3_LR=0.01_BS=128</strong> at: <a href='https://wandb.ai/angelajcnto-the-university-of-western-australia/absa-bilstm-attention/runs/kynnouo5' target=\"_blank\">https://wandb.ai/angelajcnto-the-university-of-western-australia/absa-bilstm-attention/runs/kynnouo5</a><br> View project at: <a href='https://wandb.ai/angelajcnto-the-university-of-western-australia/absa-bilstm-attention' target=\"_blank\">https://wandb.ai/angelajcnto-the-university-of-western-australia/absa-bilstm-attention</a><br>Synced 5 W&B file(s), 0 media file(s), 0 artifact file(s) and 0 other file(s)"
            ],
            "text/plain": [
              "<IPython.core.display.HTML object>"
            ]
          },
          "metadata": {},
          "output_type": "display_data"
        },
        {
          "data": {
            "text/html": [
              "Find logs at: <code>.\\wandb\\run-20250425_211933-kynnouo5\\logs</code>"
            ],
            "text/plain": [
              "<IPython.core.display.HTML object>"
            ]
          },
          "metadata": {},
          "output_type": "display_data"
        },
        {
          "data": {
            "text/html": [
              "Tracking run with wandb version 0.19.10"
            ],
            "text/plain": [
              "<IPython.core.display.HTML object>"
            ]
          },
          "metadata": {},
          "output_type": "display_data"
        },
        {
          "data": {
            "text/html": [
              "Run data is saved locally in <code>c:\\Users\\angel\\OneDrive\\uni_projects\\DATA_SCIENCE_ML\\NLP-Aspect-Based-Sentiment-Analysis\\wandb\\run-20250425_212021-jrpw2saq</code>"
            ],
            "text/plain": [
              "<IPython.core.display.HTML object>"
            ]
          },
          "metadata": {},
          "output_type": "display_data"
        },
        {
          "data": {
            "text/html": [
              "Syncing run <strong><a href='https://wandb.ai/angelajcnto-the-university-of-western-australia/absa-bilstm-attention/runs/jrpw2saq' target=\"_blank\">HD=100_NL=1_DO=0.3_LR=0.005_BS=32</a></strong> to <a href='https://wandb.ai/angelajcnto-the-university-of-western-australia/absa-bilstm-attention' target=\"_blank\">Weights & Biases</a> (<a href='https://wandb.me/developer-guide' target=\"_blank\">docs</a>)<br>"
            ],
            "text/plain": [
              "<IPython.core.display.HTML object>"
            ]
          },
          "metadata": {},
          "output_type": "display_data"
        },
        {
          "data": {
            "text/html": [
              " View project at <a href='https://wandb.ai/angelajcnto-the-university-of-western-australia/absa-bilstm-attention' target=\"_blank\">https://wandb.ai/angelajcnto-the-university-of-western-australia/absa-bilstm-attention</a>"
            ],
            "text/plain": [
              "<IPython.core.display.HTML object>"
            ]
          },
          "metadata": {},
          "output_type": "display_data"
        },
        {
          "data": {
            "text/html": [
              " View run at <a href='https://wandb.ai/angelajcnto-the-university-of-western-australia/absa-bilstm-attention/runs/jrpw2saq' target=\"_blank\">https://wandb.ai/angelajcnto-the-university-of-western-australia/absa-bilstm-attention/runs/jrpw2saq</a>"
            ],
            "text/plain": [
              "<IPython.core.display.HTML object>"
            ]
          },
          "metadata": {},
          "output_type": "display_data"
        },
        {
          "name": "stdout",
          "output_type": "stream",
          "text": [
            "\n",
            "Testing: hidden_dim=100, num_layers=1, dropout=0.3, lr=0.005, batch_size=32\n",
            "Epoch 1/30 | Train Loss: 0.9162 | Train Acc: 58.86% | Val Loss: 0.8553 | Val Acc: 61.04%\n",
            "Epoch 2/30 | Train Loss: 0.8590 | Train Acc: 62.14% | Val Loss: 0.8284 | Val Acc: 62.16%\n",
            "Epoch 3/30 | Train Loss: 0.8428 | Train Acc: 62.65% | Val Loss: 0.8147 | Val Acc: 63.06%\n",
            "Epoch 4/30 | Train Loss: 0.8203 | Train Acc: 63.98% | Val Loss: 0.7951 | Val Acc: 63.85%\n",
            "Epoch 5/30 | Train Loss: 0.8073 | Train Acc: 64.85% | Val Loss: 0.7738 | Val Acc: 66.10%\n",
            "Epoch 6/30 | Train Loss: 0.7854 | Train Acc: 65.12% | Val Loss: 0.8059 | Val Acc: 63.40%\n",
            "Epoch 7/30 | Train Loss: 0.7738 | Train Acc: 65.67% | Val Loss: 0.7917 | Val Acc: 63.40%\n",
            "Epoch 8/30 | Train Loss: 0.7568 | Train Acc: 67.01% | Val Loss: 0.7703 | Val Acc: 66.10%\n",
            "Epoch 9/30 | Train Loss: 0.7426 | Train Acc: 67.19% | Val Loss: 0.7754 | Val Acc: 64.75%\n",
            "Epoch 10/30 | Train Loss: 0.7355 | Train Acc: 67.53% | Val Loss: 0.8261 | Val Acc: 64.64%\n",
            "Early stopping at epoch 10\n"
          ]
        },
        {
          "data": {
            "text/html": [],
            "text/plain": [
              "<IPython.core.display.HTML object>"
            ]
          },
          "metadata": {},
          "output_type": "display_data"
        },
        {
          "data": {
            "text/html": [
              "<br>    <style><br>        .wandb-row {<br>            display: flex;<br>            flex-direction: row;<br>            flex-wrap: wrap;<br>            justify-content: flex-start;<br>            width: 100%;<br>        }<br>        .wandb-col {<br>            display: flex;<br>            flex-direction: column;<br>            flex-basis: 100%;<br>            flex: 1;<br>            padding: 10px;<br>        }<br>    </style><br><div class=\"wandb-row\"><div class=\"wandb-col\"><h3>Run history:</h3><br/><table class=\"wandb\"><tr><td>epoch</td><td>▁▂▃▃▄▅▆▆▇█</td></tr><tr><td>final_val_acc</td><td>▁</td></tr><tr><td>train_acc</td><td>▁▄▄▅▆▆▆███</td></tr><tr><td>train_loss</td><td>█▆▅▄▄▃▂▂▁▁</td></tr><tr><td>val_acc</td><td>▁▃▄▅█▄▄█▆▆</td></tr><tr><td>val_loss</td><td>█▆▅▃▁▄▃▁▁▆</td></tr></table><br/></div><div class=\"wandb-col\"><h3>Run summary:</h3><br/><table class=\"wandb\"><tr><td>epoch</td><td>10</td></tr><tr><td>final_val_acc</td><td>0.6464</td></tr><tr><td>train_acc</td><td>0.67532</td></tr><tr><td>train_loss</td><td>0.73555</td></tr><tr><td>val_acc</td><td>0.6464</td></tr><tr><td>val_loss</td><td>0.82605</td></tr></table><br/></div></div>"
            ],
            "text/plain": [
              "<IPython.core.display.HTML object>"
            ]
          },
          "metadata": {},
          "output_type": "display_data"
        },
        {
          "data": {
            "text/html": [
              " View run <strong style=\"color:#cdcd00\">HD=100_NL=1_DO=0.3_LR=0.005_BS=32</strong> at: <a href='https://wandb.ai/angelajcnto-the-university-of-western-australia/absa-bilstm-attention/runs/jrpw2saq' target=\"_blank\">https://wandb.ai/angelajcnto-the-university-of-western-australia/absa-bilstm-attention/runs/jrpw2saq</a><br> View project at: <a href='https://wandb.ai/angelajcnto-the-university-of-western-australia/absa-bilstm-attention' target=\"_blank\">https://wandb.ai/angelajcnto-the-university-of-western-australia/absa-bilstm-attention</a><br>Synced 5 W&B file(s), 0 media file(s), 0 artifact file(s) and 0 other file(s)"
            ],
            "text/plain": [
              "<IPython.core.display.HTML object>"
            ]
          },
          "metadata": {},
          "output_type": "display_data"
        },
        {
          "data": {
            "text/html": [
              "Find logs at: <code>.\\wandb\\run-20250425_212021-jrpw2saq\\logs</code>"
            ],
            "text/plain": [
              "<IPython.core.display.HTML object>"
            ]
          },
          "metadata": {},
          "output_type": "display_data"
        },
        {
          "data": {
            "text/html": [],
            "text/plain": [
              "<IPython.core.display.HTML object>"
            ]
          },
          "metadata": {},
          "output_type": "display_data"
        },
        {
          "data": {
            "text/html": [
              "Tracking run with wandb version 0.19.10"
            ],
            "text/plain": [
              "<IPython.core.display.HTML object>"
            ]
          },
          "metadata": {},
          "output_type": "display_data"
        },
        {
          "data": {
            "text/html": [
              "Run data is saved locally in <code>c:\\Users\\angel\\OneDrive\\uni_projects\\DATA_SCIENCE_ML\\NLP-Aspect-Based-Sentiment-Analysis\\wandb\\run-20250425_212054-mwk720y8</code>"
            ],
            "text/plain": [
              "<IPython.core.display.HTML object>"
            ]
          },
          "metadata": {},
          "output_type": "display_data"
        },
        {
          "data": {
            "text/html": [
              "Syncing run <strong><a href='https://wandb.ai/angelajcnto-the-university-of-western-australia/absa-bilstm-attention/runs/mwk720y8' target=\"_blank\">HD=100_NL=1_DO=0.3_LR=0.005_BS=64</a></strong> to <a href='https://wandb.ai/angelajcnto-the-university-of-western-australia/absa-bilstm-attention' target=\"_blank\">Weights & Biases</a> (<a href='https://wandb.me/developer-guide' target=\"_blank\">docs</a>)<br>"
            ],
            "text/plain": [
              "<IPython.core.display.HTML object>"
            ]
          },
          "metadata": {},
          "output_type": "display_data"
        },
        {
          "data": {
            "text/html": [
              " View project at <a href='https://wandb.ai/angelajcnto-the-university-of-western-australia/absa-bilstm-attention' target=\"_blank\">https://wandb.ai/angelajcnto-the-university-of-western-australia/absa-bilstm-attention</a>"
            ],
            "text/plain": [
              "<IPython.core.display.HTML object>"
            ]
          },
          "metadata": {},
          "output_type": "display_data"
        },
        {
          "data": {
            "text/html": [
              " View run at <a href='https://wandb.ai/angelajcnto-the-university-of-western-australia/absa-bilstm-attention/runs/mwk720y8' target=\"_blank\">https://wandb.ai/angelajcnto-the-university-of-western-australia/absa-bilstm-attention/runs/mwk720y8</a>"
            ],
            "text/plain": [
              "<IPython.core.display.HTML object>"
            ]
          },
          "metadata": {},
          "output_type": "display_data"
        },
        {
          "name": "stdout",
          "output_type": "stream",
          "text": [
            "\n",
            "Testing: hidden_dim=100, num_layers=1, dropout=0.3, lr=0.005, batch_size=64\n",
            "Epoch 1/30 | Train Loss: 0.9023 | Train Acc: 59.93% | Val Loss: 0.8482 | Val Acc: 61.82%\n",
            "Epoch 2/30 | Train Loss: 0.8542 | Train Acc: 62.31% | Val Loss: 0.8095 | Val Acc: 63.18%\n",
            "Epoch 3/30 | Train Loss: 0.8287 | Train Acc: 64.20% | Val Loss: 0.7938 | Val Acc: 64.08%\n",
            "Epoch 4/30 | Train Loss: 0.7993 | Train Acc: 65.36% | Val Loss: 0.7761 | Val Acc: 64.41%\n",
            "Epoch 5/30 | Train Loss: 0.7800 | Train Acc: 65.84% | Val Loss: 0.7657 | Val Acc: 64.64%\n",
            "Epoch 6/30 | Train Loss: 0.7623 | Train Acc: 66.85% | Val Loss: 0.7824 | Val Acc: 65.32%\n",
            "Epoch 7/30 | Train Loss: 0.7300 | Train Acc: 68.01% | Val Loss: 0.7606 | Val Acc: 65.77%\n",
            "Epoch 8/30 | Train Loss: 0.7160 | Train Acc: 68.31% | Val Loss: 0.7546 | Val Acc: 66.78%\n",
            "Epoch 9/30 | Train Loss: 0.7002 | Train Acc: 69.31% | Val Loss: 0.7690 | Val Acc: 64.64%\n",
            "Epoch 10/30 | Train Loss: 0.6753 | Train Acc: 70.34% | Val Loss: 0.7729 | Val Acc: 66.22%\n",
            "Epoch 11/30 | Train Loss: 0.6488 | Train Acc: 71.86% | Val Loss: 0.7907 | Val Acc: 65.88%\n",
            "Epoch 12/30 | Train Loss: 0.6436 | Train Acc: 71.93% | Val Loss: 0.7985 | Val Acc: 66.33%\n",
            "Epoch 13/30 | Train Loss: 0.6068 | Train Acc: 73.55% | Val Loss: 0.7870 | Val Acc: 67.57%\n",
            "Epoch 14/30 | Train Loss: 0.5809 | Train Acc: 74.84% | Val Loss: 0.8585 | Val Acc: 66.22%\n",
            "Epoch 15/30 | Train Loss: 0.5633 | Train Acc: 76.02% | Val Loss: 0.8231 | Val Acc: 67.12%\n",
            "Epoch 16/30 | Train Loss: 0.5552 | Train Acc: 76.66% | Val Loss: 0.8671 | Val Acc: 64.75%\n",
            "Epoch 17/30 | Train Loss: 0.5277 | Train Acc: 77.42% | Val Loss: 0.8698 | Val Acc: 65.99%\n",
            "Epoch 18/30 | Train Loss: 0.5139 | Train Acc: 78.43% | Val Loss: 0.8930 | Val Acc: 63.96%\n",
            "Early stopping at epoch 18\n"
          ]
        },
        {
          "data": {
            "text/html": [],
            "text/plain": [
              "<IPython.core.display.HTML object>"
            ]
          },
          "metadata": {},
          "output_type": "display_data"
        },
        {
          "data": {
            "text/html": [
              "<br>    <style><br>        .wandb-row {<br>            display: flex;<br>            flex-direction: row;<br>            flex-wrap: wrap;<br>            justify-content: flex-start;<br>            width: 100%;<br>        }<br>        .wandb-col {<br>            display: flex;<br>            flex-direction: column;<br>            flex-basis: 100%;<br>            flex: 1;<br>            padding: 10px;<br>        }<br>    </style><br><div class=\"wandb-row\"><div class=\"wandb-col\"><h3>Run history:</h3><br/><table class=\"wandb\"><tr><td>epoch</td><td>▁▁▂▂▃▃▃▄▄▅▅▆▆▆▇▇██</td></tr><tr><td>final_val_acc</td><td>▁</td></tr><tr><td>train_acc</td><td>▁▂▃▃▃▄▄▄▅▅▆▆▆▇▇▇██</td></tr><tr><td>train_loss</td><td>█▇▇▆▆▅▅▅▄▄▃▃▃▂▂▂▁▁</td></tr><tr><td>val_acc</td><td>▁▃▄▄▄▅▆▇▄▆▆▆█▆▇▅▆▄</td></tr><tr><td>val_loss</td><td>▆▄▃▂▂▂▁▁▂▂▃▃▃▆▄▇▇█</td></tr></table><br/></div><div class=\"wandb-col\"><h3>Run summary:</h3><br/><table class=\"wandb\"><tr><td>epoch</td><td>18</td></tr><tr><td>final_val_acc</td><td>0.63964</td></tr><tr><td>train_acc</td><td>0.78434</td></tr><tr><td>train_loss</td><td>0.51393</td></tr><tr><td>val_acc</td><td>0.63964</td></tr><tr><td>val_loss</td><td>0.89297</td></tr></table><br/></div></div>"
            ],
            "text/plain": [
              "<IPython.core.display.HTML object>"
            ]
          },
          "metadata": {},
          "output_type": "display_data"
        },
        {
          "data": {
            "text/html": [
              " View run <strong style=\"color:#cdcd00\">HD=100_NL=1_DO=0.3_LR=0.005_BS=64</strong> at: <a href='https://wandb.ai/angelajcnto-the-university-of-western-australia/absa-bilstm-attention/runs/mwk720y8' target=\"_blank\">https://wandb.ai/angelajcnto-the-university-of-western-australia/absa-bilstm-attention/runs/mwk720y8</a><br> View project at: <a href='https://wandb.ai/angelajcnto-the-university-of-western-australia/absa-bilstm-attention' target=\"_blank\">https://wandb.ai/angelajcnto-the-university-of-western-australia/absa-bilstm-attention</a><br>Synced 5 W&B file(s), 0 media file(s), 0 artifact file(s) and 0 other file(s)"
            ],
            "text/plain": [
              "<IPython.core.display.HTML object>"
            ]
          },
          "metadata": {},
          "output_type": "display_data"
        },
        {
          "data": {
            "text/html": [
              "Find logs at: <code>.\\wandb\\run-20250425_212054-mwk720y8\\logs</code>"
            ],
            "text/plain": [
              "<IPython.core.display.HTML object>"
            ]
          },
          "metadata": {},
          "output_type": "display_data"
        },
        {
          "data": {
            "text/html": [
              "Tracking run with wandb version 0.19.10"
            ],
            "text/plain": [
              "<IPython.core.display.HTML object>"
            ]
          },
          "metadata": {},
          "output_type": "display_data"
        },
        {
          "data": {
            "text/html": [
              "Run data is saved locally in <code>c:\\Users\\angel\\OneDrive\\uni_projects\\DATA_SCIENCE_ML\\NLP-Aspect-Based-Sentiment-Analysis\\wandb\\run-20250425_212148-sbl6g1k4</code>"
            ],
            "text/plain": [
              "<IPython.core.display.HTML object>"
            ]
          },
          "metadata": {},
          "output_type": "display_data"
        },
        {
          "data": {
            "text/html": [
              "Syncing run <strong><a href='https://wandb.ai/angelajcnto-the-university-of-western-australia/absa-bilstm-attention/runs/sbl6g1k4' target=\"_blank\">HD=100_NL=1_DO=0.3_LR=0.005_BS=128</a></strong> to <a href='https://wandb.ai/angelajcnto-the-university-of-western-australia/absa-bilstm-attention' target=\"_blank\">Weights & Biases</a> (<a href='https://wandb.me/developer-guide' target=\"_blank\">docs</a>)<br>"
            ],
            "text/plain": [
              "<IPython.core.display.HTML object>"
            ]
          },
          "metadata": {},
          "output_type": "display_data"
        },
        {
          "data": {
            "text/html": [
              " View project at <a href='https://wandb.ai/angelajcnto-the-university-of-western-australia/absa-bilstm-attention' target=\"_blank\">https://wandb.ai/angelajcnto-the-university-of-western-australia/absa-bilstm-attention</a>"
            ],
            "text/plain": [
              "<IPython.core.display.HTML object>"
            ]
          },
          "metadata": {},
          "output_type": "display_data"
        },
        {
          "data": {
            "text/html": [
              " View run at <a href='https://wandb.ai/angelajcnto-the-university-of-western-australia/absa-bilstm-attention/runs/sbl6g1k4' target=\"_blank\">https://wandb.ai/angelajcnto-the-university-of-western-australia/absa-bilstm-attention/runs/sbl6g1k4</a>"
            ],
            "text/plain": [
              "<IPython.core.display.HTML object>"
            ]
          },
          "metadata": {},
          "output_type": "display_data"
        },
        {
          "name": "stdout",
          "output_type": "stream",
          "text": [
            "\n",
            "Testing: hidden_dim=100, num_layers=1, dropout=0.3, lr=0.005, batch_size=128\n",
            "Epoch 1/30 | Train Loss: 0.9078 | Train Acc: 59.73% | Val Loss: 0.8499 | Val Acc: 61.04%\n",
            "Epoch 2/30 | Train Loss: 0.8557 | Train Acc: 62.00% | Val Loss: 0.8266 | Val Acc: 60.70%\n",
            "Epoch 3/30 | Train Loss: 0.8288 | Train Acc: 63.72% | Val Loss: 0.8039 | Val Acc: 63.29%\n",
            "Epoch 4/30 | Train Loss: 0.8048 | Train Acc: 64.63% | Val Loss: 0.7947 | Val Acc: 64.64%\n",
            "Epoch 5/30 | Train Loss: 0.7807 | Train Acc: 65.64% | Val Loss: 0.7785 | Val Acc: 64.75%\n",
            "Epoch 6/30 | Train Loss: 0.7548 | Train Acc: 67.04% | Val Loss: 0.7874 | Val Acc: 64.30%\n",
            "Epoch 7/30 | Train Loss: 0.7193 | Train Acc: 68.29% | Val Loss: 0.7606 | Val Acc: 66.55%\n",
            "Epoch 8/30 | Train Loss: 0.6911 | Train Acc: 69.89% | Val Loss: 0.7915 | Val Acc: 65.99%\n",
            "Epoch 9/30 | Train Loss: 0.6685 | Train Acc: 70.51% | Val Loss: 0.7901 | Val Acc: 64.41%\n",
            "Epoch 10/30 | Train Loss: 0.6368 | Train Acc: 72.89% | Val Loss: 0.7924 | Val Acc: 66.10%\n",
            "Epoch 11/30 | Train Loss: 0.6089 | Train Acc: 73.86% | Val Loss: 0.8305 | Val Acc: 65.20%\n",
            "Epoch 12/30 | Train Loss: 0.5936 | Train Acc: 74.68% | Val Loss: 0.8257 | Val Acc: 65.88%\n",
            "Early stopping at epoch 12\n"
          ]
        },
        {
          "data": {
            "text/html": [],
            "text/plain": [
              "<IPython.core.display.HTML object>"
            ]
          },
          "metadata": {},
          "output_type": "display_data"
        },
        {
          "data": {
            "text/html": [
              "<br>    <style><br>        .wandb-row {<br>            display: flex;<br>            flex-direction: row;<br>            flex-wrap: wrap;<br>            justify-content: flex-start;<br>            width: 100%;<br>        }<br>        .wandb-col {<br>            display: flex;<br>            flex-direction: column;<br>            flex-basis: 100%;<br>            flex: 1;<br>            padding: 10px;<br>        }<br>    </style><br><div class=\"wandb-row\"><div class=\"wandb-col\"><h3>Run history:</h3><br/><table class=\"wandb\"><tr><td>epoch</td><td>▁▂▂▃▄▄▅▅▆▇▇█</td></tr><tr><td>final_val_acc</td><td>▁</td></tr><tr><td>train_acc</td><td>▁▂▃▃▄▄▅▆▆▇██</td></tr><tr><td>train_loss</td><td>█▇▆▆▅▅▄▃▃▂▁▁</td></tr><tr><td>val_acc</td><td>▁▁▄▆▆▅█▇▅▇▆▇</td></tr><tr><td>val_loss</td><td>█▆▄▄▂▃▁▃▃▃▆▆</td></tr></table><br/></div><div class=\"wandb-col\"><h3>Run summary:</h3><br/><table class=\"wandb\"><tr><td>epoch</td><td>12</td></tr><tr><td>final_val_acc</td><td>0.65878</td></tr><tr><td>train_acc</td><td>0.74683</td></tr><tr><td>train_loss</td><td>0.59364</td></tr><tr><td>val_acc</td><td>0.65878</td></tr><tr><td>val_loss</td><td>0.82571</td></tr></table><br/></div></div>"
            ],
            "text/plain": [
              "<IPython.core.display.HTML object>"
            ]
          },
          "metadata": {},
          "output_type": "display_data"
        },
        {
          "data": {
            "text/html": [
              " View run <strong style=\"color:#cdcd00\">HD=100_NL=1_DO=0.3_LR=0.005_BS=128</strong> at: <a href='https://wandb.ai/angelajcnto-the-university-of-western-australia/absa-bilstm-attention/runs/sbl6g1k4' target=\"_blank\">https://wandb.ai/angelajcnto-the-university-of-western-australia/absa-bilstm-attention/runs/sbl6g1k4</a><br> View project at: <a href='https://wandb.ai/angelajcnto-the-university-of-western-australia/absa-bilstm-attention' target=\"_blank\">https://wandb.ai/angelajcnto-the-university-of-western-australia/absa-bilstm-attention</a><br>Synced 5 W&B file(s), 0 media file(s), 0 artifact file(s) and 0 other file(s)"
            ],
            "text/plain": [
              "<IPython.core.display.HTML object>"
            ]
          },
          "metadata": {},
          "output_type": "display_data"
        },
        {
          "data": {
            "text/html": [
              "Find logs at: <code>.\\wandb\\run-20250425_212148-sbl6g1k4\\logs</code>"
            ],
            "text/plain": [
              "<IPython.core.display.HTML object>"
            ]
          },
          "metadata": {},
          "output_type": "display_data"
        },
        {
          "data": {
            "text/html": [
              "creating run (0.5s)"
            ],
            "text/plain": [
              "<IPython.core.display.HTML object>"
            ]
          },
          "metadata": {},
          "output_type": "display_data"
        },
        {
          "data": {
            "text/html": [
              "Tracking run with wandb version 0.19.10"
            ],
            "text/plain": [
              "<IPython.core.display.HTML object>"
            ]
          },
          "metadata": {},
          "output_type": "display_data"
        },
        {
          "data": {
            "text/html": [
              "Run data is saved locally in <code>c:\\Users\\angel\\OneDrive\\uni_projects\\DATA_SCIENCE_ML\\NLP-Aspect-Based-Sentiment-Analysis\\wandb\\run-20250425_212240-my2flr8d</code>"
            ],
            "text/plain": [
              "<IPython.core.display.HTML object>"
            ]
          },
          "metadata": {},
          "output_type": "display_data"
        },
        {
          "data": {
            "text/html": [
              "Syncing run <strong><a href='https://wandb.ai/angelajcnto-the-university-of-western-australia/absa-bilstm-attention/runs/my2flr8d' target=\"_blank\">HD=100_NL=1_DO=0.3_LR=0.001_BS=32</a></strong> to <a href='https://wandb.ai/angelajcnto-the-university-of-western-australia/absa-bilstm-attention' target=\"_blank\">Weights & Biases</a> (<a href='https://wandb.me/developer-guide' target=\"_blank\">docs</a>)<br>"
            ],
            "text/plain": [
              "<IPython.core.display.HTML object>"
            ]
          },
          "metadata": {},
          "output_type": "display_data"
        },
        {
          "data": {
            "text/html": [
              " View project at <a href='https://wandb.ai/angelajcnto-the-university-of-western-australia/absa-bilstm-attention' target=\"_blank\">https://wandb.ai/angelajcnto-the-university-of-western-australia/absa-bilstm-attention</a>"
            ],
            "text/plain": [
              "<IPython.core.display.HTML object>"
            ]
          },
          "metadata": {},
          "output_type": "display_data"
        },
        {
          "data": {
            "text/html": [
              " View run at <a href='https://wandb.ai/angelajcnto-the-university-of-western-australia/absa-bilstm-attention/runs/my2flr8d' target=\"_blank\">https://wandb.ai/angelajcnto-the-university-of-western-australia/absa-bilstm-attention/runs/my2flr8d</a>"
            ],
            "text/plain": [
              "<IPython.core.display.HTML object>"
            ]
          },
          "metadata": {},
          "output_type": "display_data"
        },
        {
          "name": "stdout",
          "output_type": "stream",
          "text": [
            "\n",
            "Testing: hidden_dim=100, num_layers=1, dropout=0.3, lr=0.001, batch_size=32\n",
            "Epoch 1/30 | Train Loss: 0.8998 | Train Acc: 59.97% | Val Loss: 0.8470 | Val Acc: 61.49%\n",
            "Epoch 2/30 | Train Loss: 0.8502 | Train Acc: 62.67% | Val Loss: 0.8216 | Val Acc: 62.73%\n",
            "Epoch 3/30 | Train Loss: 0.8329 | Train Acc: 63.72% | Val Loss: 0.8091 | Val Acc: 63.06%\n",
            "Epoch 4/30 | Train Loss: 0.8117 | Train Acc: 64.53% | Val Loss: 0.8089 | Val Acc: 64.08%\n",
            "Epoch 5/30 | Train Loss: 0.7864 | Train Acc: 65.80% | Val Loss: 0.7775 | Val Acc: 65.54%\n",
            "Epoch 6/30 | Train Loss: 0.7563 | Train Acc: 66.43% | Val Loss: 0.7783 | Val Acc: 64.98%\n",
            "Epoch 7/30 | Train Loss: 0.7262 | Train Acc: 67.90% | Val Loss: 0.7672 | Val Acc: 65.09%\n",
            "Epoch 8/30 | Train Loss: 0.6789 | Train Acc: 70.32% | Val Loss: 0.7707 | Val Acc: 66.10%\n",
            "Epoch 9/30 | Train Loss: 0.6480 | Train Acc: 72.05% | Val Loss: 0.7811 | Val Acc: 65.43%\n",
            "Epoch 10/30 | Train Loss: 0.5890 | Train Acc: 74.85% | Val Loss: 0.7975 | Val Acc: 66.44%\n",
            "Epoch 11/30 | Train Loss: 0.5360 | Train Acc: 77.36% | Val Loss: 0.8088 | Val Acc: 67.45%\n",
            "Epoch 12/30 | Train Loss: 0.4765 | Train Acc: 80.24% | Val Loss: 0.8745 | Val Acc: 65.65%\n",
            "Epoch 13/30 | Train Loss: 0.4162 | Train Acc: 83.02% | Val Loss: 0.8936 | Val Acc: 66.78%\n",
            "Epoch 14/30 | Train Loss: 0.3766 | Train Acc: 84.84% | Val Loss: 0.9935 | Val Acc: 65.65%\n",
            "Epoch 15/30 | Train Loss: 0.3173 | Train Acc: 87.72% | Val Loss: 1.0025 | Val Acc: 64.98%\n",
            "Epoch 16/30 | Train Loss: 0.2746 | Train Acc: 89.84% | Val Loss: 1.1269 | Val Acc: 65.09%\n",
            "Early stopping at epoch 16\n"
          ]
        },
        {
          "data": {
            "text/html": [],
            "text/plain": [
              "<IPython.core.display.HTML object>"
            ]
          },
          "metadata": {},
          "output_type": "display_data"
        },
        {
          "data": {
            "text/html": [
              "<br>    <style><br>        .wandb-row {<br>            display: flex;<br>            flex-direction: row;<br>            flex-wrap: wrap;<br>            justify-content: flex-start;<br>            width: 100%;<br>        }<br>        .wandb-col {<br>            display: flex;<br>            flex-direction: column;<br>            flex-basis: 100%;<br>            flex: 1;<br>            padding: 10px;<br>        }<br>    </style><br><div class=\"wandb-row\"><div class=\"wandb-col\"><h3>Run history:</h3><br/><table class=\"wandb\"><tr><td>epoch</td><td>▁▁▂▂▃▃▄▄▅▅▆▆▇▇██</td></tr><tr><td>final_val_acc</td><td>▁</td></tr><tr><td>train_acc</td><td>▁▂▂▂▂▃▃▃▄▄▅▆▆▇██</td></tr><tr><td>train_loss</td><td>█▇▇▇▇▆▆▆▅▅▄▃▃▂▁▁</td></tr><tr><td>val_acc</td><td>▁▂▃▄▆▅▅▆▆▇█▆▇▆▅▅</td></tr><tr><td>val_loss</td><td>▃▂▂▂▁▁▁▁▁▂▂▃▃▅▆█</td></tr></table><br/></div><div class=\"wandb-col\"><h3>Run summary:</h3><br/><table class=\"wandb\"><tr><td>epoch</td><td>16</td></tr><tr><td>final_val_acc</td><td>0.6509</td></tr><tr><td>train_acc</td><td>0.89845</td></tr><tr><td>train_loss</td><td>0.27455</td></tr><tr><td>val_acc</td><td>0.6509</td></tr><tr><td>val_loss</td><td>1.12694</td></tr></table><br/></div></div>"
            ],
            "text/plain": [
              "<IPython.core.display.HTML object>"
            ]
          },
          "metadata": {},
          "output_type": "display_data"
        },
        {
          "data": {
            "text/html": [
              " View run <strong style=\"color:#cdcd00\">HD=100_NL=1_DO=0.3_LR=0.001_BS=32</strong> at: <a href='https://wandb.ai/angelajcnto-the-university-of-western-australia/absa-bilstm-attention/runs/my2flr8d' target=\"_blank\">https://wandb.ai/angelajcnto-the-university-of-western-australia/absa-bilstm-attention/runs/my2flr8d</a><br> View project at: <a href='https://wandb.ai/angelajcnto-the-university-of-western-australia/absa-bilstm-attention' target=\"_blank\">https://wandb.ai/angelajcnto-the-university-of-western-australia/absa-bilstm-attention</a><br>Synced 5 W&B file(s), 0 media file(s), 0 artifact file(s) and 0 other file(s)"
            ],
            "text/plain": [
              "<IPython.core.display.HTML object>"
            ]
          },
          "metadata": {},
          "output_type": "display_data"
        },
        {
          "data": {
            "text/html": [
              "Find logs at: <code>.\\wandb\\run-20250425_212240-my2flr8d\\logs</code>"
            ],
            "text/plain": [
              "<IPython.core.display.HTML object>"
            ]
          },
          "metadata": {},
          "output_type": "display_data"
        },
        {
          "data": {
            "text/html": [
              "Tracking run with wandb version 0.19.10"
            ],
            "text/plain": [
              "<IPython.core.display.HTML object>"
            ]
          },
          "metadata": {},
          "output_type": "display_data"
        },
        {
          "data": {
            "text/html": [
              "Run data is saved locally in <code>c:\\Users\\angel\\OneDrive\\uni_projects\\DATA_SCIENCE_ML\\NLP-Aspect-Based-Sentiment-Analysis\\wandb\\run-20250425_212332-f07hdpav</code>"
            ],
            "text/plain": [
              "<IPython.core.display.HTML object>"
            ]
          },
          "metadata": {},
          "output_type": "display_data"
        },
        {
          "data": {
            "text/html": [
              "Syncing run <strong><a href='https://wandb.ai/angelajcnto-the-university-of-western-australia/absa-bilstm-attention/runs/f07hdpav' target=\"_blank\">HD=100_NL=1_DO=0.3_LR=0.001_BS=64</a></strong> to <a href='https://wandb.ai/angelajcnto-the-university-of-western-australia/absa-bilstm-attention' target=\"_blank\">Weights & Biases</a> (<a href='https://wandb.me/developer-guide' target=\"_blank\">docs</a>)<br>"
            ],
            "text/plain": [
              "<IPython.core.display.HTML object>"
            ]
          },
          "metadata": {},
          "output_type": "display_data"
        },
        {
          "data": {
            "text/html": [
              " View project at <a href='https://wandb.ai/angelajcnto-the-university-of-western-australia/absa-bilstm-attention' target=\"_blank\">https://wandb.ai/angelajcnto-the-university-of-western-australia/absa-bilstm-attention</a>"
            ],
            "text/plain": [
              "<IPython.core.display.HTML object>"
            ]
          },
          "metadata": {},
          "output_type": "display_data"
        },
        {
          "data": {
            "text/html": [
              " View run at <a href='https://wandb.ai/angelajcnto-the-university-of-western-australia/absa-bilstm-attention/runs/f07hdpav' target=\"_blank\">https://wandb.ai/angelajcnto-the-university-of-western-australia/absa-bilstm-attention/runs/f07hdpav</a>"
            ],
            "text/plain": [
              "<IPython.core.display.HTML object>"
            ]
          },
          "metadata": {},
          "output_type": "display_data"
        },
        {
          "name": "stdout",
          "output_type": "stream",
          "text": [
            "\n",
            "Testing: hidden_dim=100, num_layers=1, dropout=0.3, lr=0.001, batch_size=64\n",
            "Epoch 1/30 | Train Loss: 0.9102 | Train Acc: 59.10% | Val Loss: 0.8444 | Val Acc: 62.05%\n",
            "Epoch 2/30 | Train Loss: 0.8602 | Train Acc: 62.31% | Val Loss: 0.8217 | Val Acc: 62.16%\n",
            "Epoch 3/30 | Train Loss: 0.8359 | Train Acc: 64.03% | Val Loss: 0.8175 | Val Acc: 63.74%\n",
            "Epoch 4/30 | Train Loss: 0.8185 | Train Acc: 64.10% | Val Loss: 0.8045 | Val Acc: 62.84%\n",
            "Epoch 5/30 | Train Loss: 0.7983 | Train Acc: 65.06% | Val Loss: 0.8139 | Val Acc: 62.39%\n",
            "Epoch 6/30 | Train Loss: 0.7764 | Train Acc: 66.02% | Val Loss: 0.7777 | Val Acc: 65.20%\n",
            "Epoch 7/30 | Train Loss: 0.7408 | Train Acc: 67.33% | Val Loss: 0.7810 | Val Acc: 65.65%\n",
            "Epoch 8/30 | Train Loss: 0.7178 | Train Acc: 68.67% | Val Loss: 0.7811 | Val Acc: 65.20%\n",
            "Epoch 9/30 | Train Loss: 0.6702 | Train Acc: 70.72% | Val Loss: 0.7660 | Val Acc: 65.09%\n",
            "Epoch 10/30 | Train Loss: 0.6345 | Train Acc: 72.98% | Val Loss: 0.7798 | Val Acc: 66.78%\n",
            "Epoch 11/30 | Train Loss: 0.5892 | Train Acc: 74.72% | Val Loss: 0.7849 | Val Acc: 67.57%\n",
            "Epoch 12/30 | Train Loss: 0.5365 | Train Acc: 77.56% | Val Loss: 0.8057 | Val Acc: 66.55%\n",
            "Epoch 13/30 | Train Loss: 0.4824 | Train Acc: 80.20% | Val Loss: 0.8447 | Val Acc: 65.99%\n",
            "Epoch 14/30 | Train Loss: 0.4330 | Train Acc: 82.67% | Val Loss: 0.9033 | Val Acc: 65.09%\n",
            "Epoch 15/30 | Train Loss: 0.3624 | Train Acc: 85.64% | Val Loss: 0.9555 | Val Acc: 65.77%\n",
            "Epoch 16/30 | Train Loss: 0.3203 | Train Acc: 87.53% | Val Loss: 1.0137 | Val Acc: 66.22%\n",
            "Early stopping at epoch 16\n"
          ]
        },
        {
          "data": {
            "text/html": [],
            "text/plain": [
              "<IPython.core.display.HTML object>"
            ]
          },
          "metadata": {},
          "output_type": "display_data"
        },
        {
          "data": {
            "text/html": [
              "<br>    <style><br>        .wandb-row {<br>            display: flex;<br>            flex-direction: row;<br>            flex-wrap: wrap;<br>            justify-content: flex-start;<br>            width: 100%;<br>        }<br>        .wandb-col {<br>            display: flex;<br>            flex-direction: column;<br>            flex-basis: 100%;<br>            flex: 1;<br>            padding: 10px;<br>        }<br>    </style><br><div class=\"wandb-row\"><div class=\"wandb-col\"><h3>Run history:</h3><br/><table class=\"wandb\"><tr><td>epoch</td><td>▁▁▂▂▃▃▄▄▅▅▆▆▇▇██</td></tr><tr><td>final_val_acc</td><td>▁</td></tr><tr><td>train_acc</td><td>▁▂▂▂▂▃▃▃▄▄▅▆▆▇██</td></tr><tr><td>train_loss</td><td>█▇▇▇▇▆▆▆▅▅▄▄▃▂▁▁</td></tr><tr><td>val_acc</td><td>▁▁▃▂▁▅▆▅▅▇█▇▆▅▆▆</td></tr><tr><td>val_loss</td><td>▃▃▂▂▂▁▁▁▁▁▂▂▃▅▆█</td></tr></table><br/></div><div class=\"wandb-col\"><h3>Run summary:</h3><br/><table class=\"wandb\"><tr><td>epoch</td><td>16</td></tr><tr><td>final_val_acc</td><td>0.66216</td></tr><tr><td>train_acc</td><td>0.87532</td></tr><tr><td>train_loss</td><td>0.32031</td></tr><tr><td>val_acc</td><td>0.66216</td></tr><tr><td>val_loss</td><td>1.01369</td></tr></table><br/></div></div>"
            ],
            "text/plain": [
              "<IPython.core.display.HTML object>"
            ]
          },
          "metadata": {},
          "output_type": "display_data"
        },
        {
          "data": {
            "text/html": [
              " View run <strong style=\"color:#cdcd00\">HD=100_NL=1_DO=0.3_LR=0.001_BS=64</strong> at: <a href='https://wandb.ai/angelajcnto-the-university-of-western-australia/absa-bilstm-attention/runs/f07hdpav' target=\"_blank\">https://wandb.ai/angelajcnto-the-university-of-western-australia/absa-bilstm-attention/runs/f07hdpav</a><br> View project at: <a href='https://wandb.ai/angelajcnto-the-university-of-western-australia/absa-bilstm-attention' target=\"_blank\">https://wandb.ai/angelajcnto-the-university-of-western-australia/absa-bilstm-attention</a><br>Synced 5 W&B file(s), 0 media file(s), 0 artifact file(s) and 0 other file(s)"
            ],
            "text/plain": [
              "<IPython.core.display.HTML object>"
            ]
          },
          "metadata": {},
          "output_type": "display_data"
        },
        {
          "data": {
            "text/html": [
              "Find logs at: <code>.\\wandb\\run-20250425_212332-f07hdpav\\logs</code>"
            ],
            "text/plain": [
              "<IPython.core.display.HTML object>"
            ]
          },
          "metadata": {},
          "output_type": "display_data"
        },
        {
          "data": {
            "text/html": [
              "Tracking run with wandb version 0.19.10"
            ],
            "text/plain": [
              "<IPython.core.display.HTML object>"
            ]
          },
          "metadata": {},
          "output_type": "display_data"
        },
        {
          "data": {
            "text/html": [
              "Run data is saved locally in <code>c:\\Users\\angel\\OneDrive\\uni_projects\\DATA_SCIENCE_ML\\NLP-Aspect-Based-Sentiment-Analysis\\wandb\\run-20250425_212420-rljax2h0</code>"
            ],
            "text/plain": [
              "<IPython.core.display.HTML object>"
            ]
          },
          "metadata": {},
          "output_type": "display_data"
        },
        {
          "data": {
            "text/html": [
              "Syncing run <strong><a href='https://wandb.ai/angelajcnto-the-university-of-western-australia/absa-bilstm-attention/runs/rljax2h0' target=\"_blank\">HD=100_NL=1_DO=0.3_LR=0.001_BS=128</a></strong> to <a href='https://wandb.ai/angelajcnto-the-university-of-western-australia/absa-bilstm-attention' target=\"_blank\">Weights & Biases</a> (<a href='https://wandb.me/developer-guide' target=\"_blank\">docs</a>)<br>"
            ],
            "text/plain": [
              "<IPython.core.display.HTML object>"
            ]
          },
          "metadata": {},
          "output_type": "display_data"
        },
        {
          "data": {
            "text/html": [
              " View project at <a href='https://wandb.ai/angelajcnto-the-university-of-western-australia/absa-bilstm-attention' target=\"_blank\">https://wandb.ai/angelajcnto-the-university-of-western-australia/absa-bilstm-attention</a>"
            ],
            "text/plain": [
              "<IPython.core.display.HTML object>"
            ]
          },
          "metadata": {},
          "output_type": "display_data"
        },
        {
          "data": {
            "text/html": [
              " View run at <a href='https://wandb.ai/angelajcnto-the-university-of-western-australia/absa-bilstm-attention/runs/rljax2h0' target=\"_blank\">https://wandb.ai/angelajcnto-the-university-of-western-australia/absa-bilstm-attention/runs/rljax2h0</a>"
            ],
            "text/plain": [
              "<IPython.core.display.HTML object>"
            ]
          },
          "metadata": {},
          "output_type": "display_data"
        },
        {
          "name": "stdout",
          "output_type": "stream",
          "text": [
            "\n",
            "Testing: hidden_dim=100, num_layers=1, dropout=0.3, lr=0.001, batch_size=128\n",
            "Epoch 1/30 | Train Loss: 0.9258 | Train Acc: 58.46% | Val Loss: 0.8724 | Val Acc: 60.59%\n",
            "Epoch 2/30 | Train Loss: 0.8627 | Train Acc: 62.09% | Val Loss: 0.8378 | Val Acc: 61.60%\n",
            "Epoch 3/30 | Train Loss: 0.8393 | Train Acc: 63.46% | Val Loss: 0.8146 | Val Acc: 62.61%\n",
            "Epoch 4/30 | Train Loss: 0.8271 | Train Acc: 64.30% | Val Loss: 0.8304 | Val Acc: 60.47%\n",
            "Epoch 5/30 | Train Loss: 0.8134 | Train Acc: 64.64% | Val Loss: 0.8069 | Val Acc: 63.18%\n",
            "Epoch 6/30 | Train Loss: 0.7955 | Train Acc: 65.11% | Val Loss: 0.7974 | Val Acc: 64.53%\n",
            "Epoch 7/30 | Train Loss: 0.7786 | Train Acc: 65.95% | Val Loss: 0.8107 | Val Acc: 63.74%\n",
            "Epoch 8/30 | Train Loss: 0.7616 | Train Acc: 66.77% | Val Loss: 0.7739 | Val Acc: 65.99%\n",
            "Epoch 9/30 | Train Loss: 0.7391 | Train Acc: 67.56% | Val Loss: 0.7807 | Val Acc: 66.10%\n",
            "Epoch 10/30 | Train Loss: 0.7109 | Train Acc: 69.28% | Val Loss: 0.8073 | Val Acc: 65.54%\n",
            "Epoch 11/30 | Train Loss: 0.6737 | Train Acc: 70.96% | Val Loss: 0.8332 | Val Acc: 65.32%\n",
            "Epoch 12/30 | Train Loss: 0.6365 | Train Acc: 72.79% | Val Loss: 0.7906 | Val Acc: 66.55%\n",
            "Epoch 13/30 | Train Loss: 0.5918 | Train Acc: 74.54% | Val Loss: 0.8299 | Val Acc: 65.77%\n",
            "Epoch 14/30 | Train Loss: 0.5456 | Train Acc: 77.14% | Val Loss: 0.8689 | Val Acc: 64.64%\n",
            "Epoch 15/30 | Train Loss: 0.4961 | Train Acc: 79.34% | Val Loss: 0.8617 | Val Acc: 65.99%\n",
            "Epoch 16/30 | Train Loss: 0.4424 | Train Acc: 81.75% | Val Loss: 0.9676 | Val Acc: 64.98%\n",
            "Epoch 17/30 | Train Loss: 0.3930 | Train Acc: 84.22% | Val Loss: 0.9915 | Val Acc: 64.41%\n",
            "Early stopping at epoch 17\n"
          ]
        },
        {
          "data": {
            "text/html": [],
            "text/plain": [
              "<IPython.core.display.HTML object>"
            ]
          },
          "metadata": {},
          "output_type": "display_data"
        },
        {
          "data": {
            "text/html": [
              "<br>    <style><br>        .wandb-row {<br>            display: flex;<br>            flex-direction: row;<br>            flex-wrap: wrap;<br>            justify-content: flex-start;<br>            width: 100%;<br>        }<br>        .wandb-col {<br>            display: flex;<br>            flex-direction: column;<br>            flex-basis: 100%;<br>            flex: 1;<br>            padding: 10px;<br>        }<br>    </style><br><div class=\"wandb-row\"><div class=\"wandb-col\"><h3>Run history:</h3><br/><table class=\"wandb\"><tr><td>epoch</td><td>▁▁▂▂▃▃▄▄▅▅▅▆▆▇▇██</td></tr><tr><td>final_val_acc</td><td>▁</td></tr><tr><td>train_acc</td><td>▁▂▂▃▃▃▃▃▃▄▄▅▅▆▇▇█</td></tr><tr><td>train_loss</td><td>█▇▇▇▇▆▆▆▆▅▅▄▄▃▂▂▁</td></tr><tr><td>val_acc</td><td>▁▂▃▁▄▆▅▇▇▇▇█▇▆▇▆▆</td></tr><tr><td>val_loss</td><td>▄▃▂▃▂▂▂▁▁▂▃▂▃▄▄▇█</td></tr></table><br/></div><div class=\"wandb-col\"><h3>Run summary:</h3><br/><table class=\"wandb\"><tr><td>epoch</td><td>17</td></tr><tr><td>final_val_acc</td><td>0.64414</td></tr><tr><td>train_acc</td><td>0.84217</td></tr><tr><td>train_loss</td><td>0.393</td></tr><tr><td>val_acc</td><td>0.64414</td></tr><tr><td>val_loss</td><td>0.99151</td></tr></table><br/></div></div>"
            ],
            "text/plain": [
              "<IPython.core.display.HTML object>"
            ]
          },
          "metadata": {},
          "output_type": "display_data"
        },
        {
          "data": {
            "text/html": [
              " View run <strong style=\"color:#cdcd00\">HD=100_NL=1_DO=0.3_LR=0.001_BS=128</strong> at: <a href='https://wandb.ai/angelajcnto-the-university-of-western-australia/absa-bilstm-attention/runs/rljax2h0' target=\"_blank\">https://wandb.ai/angelajcnto-the-university-of-western-australia/absa-bilstm-attention/runs/rljax2h0</a><br> View project at: <a href='https://wandb.ai/angelajcnto-the-university-of-western-australia/absa-bilstm-attention' target=\"_blank\">https://wandb.ai/angelajcnto-the-university-of-western-australia/absa-bilstm-attention</a><br>Synced 5 W&B file(s), 0 media file(s), 0 artifact file(s) and 0 other file(s)"
            ],
            "text/plain": [
              "<IPython.core.display.HTML object>"
            ]
          },
          "metadata": {},
          "output_type": "display_data"
        },
        {
          "data": {
            "text/html": [
              "Find logs at: <code>.\\wandb\\run-20250425_212420-rljax2h0\\logs</code>"
            ],
            "text/plain": [
              "<IPython.core.display.HTML object>"
            ]
          },
          "metadata": {},
          "output_type": "display_data"
        },
        {
          "data": {
            "text/html": [
              "creating run (0.5s)"
            ],
            "text/plain": [
              "<IPython.core.display.HTML object>"
            ]
          },
          "metadata": {},
          "output_type": "display_data"
        },
        {
          "data": {
            "text/html": [
              "Tracking run with wandb version 0.19.10"
            ],
            "text/plain": [
              "<IPython.core.display.HTML object>"
            ]
          },
          "metadata": {},
          "output_type": "display_data"
        },
        {
          "data": {
            "text/html": [
              "Run data is saved locally in <code>c:\\Users\\angel\\OneDrive\\uni_projects\\DATA_SCIENCE_ML\\NLP-Aspect-Based-Sentiment-Analysis\\wandb\\run-20250425_212506-e0kcvnvp</code>"
            ],
            "text/plain": [
              "<IPython.core.display.HTML object>"
            ]
          },
          "metadata": {},
          "output_type": "display_data"
        },
        {
          "data": {
            "text/html": [
              "Syncing run <strong><a href='https://wandb.ai/angelajcnto-the-university-of-western-australia/absa-bilstm-attention/runs/e0kcvnvp' target=\"_blank\">HD=100_NL=1_DO=0.5_LR=0.01_BS=32</a></strong> to <a href='https://wandb.ai/angelajcnto-the-university-of-western-australia/absa-bilstm-attention' target=\"_blank\">Weights & Biases</a> (<a href='https://wandb.me/developer-guide' target=\"_blank\">docs</a>)<br>"
            ],
            "text/plain": [
              "<IPython.core.display.HTML object>"
            ]
          },
          "metadata": {},
          "output_type": "display_data"
        },
        {
          "data": {
            "text/html": [
              " View project at <a href='https://wandb.ai/angelajcnto-the-university-of-western-australia/absa-bilstm-attention' target=\"_blank\">https://wandb.ai/angelajcnto-the-university-of-western-australia/absa-bilstm-attention</a>"
            ],
            "text/plain": [
              "<IPython.core.display.HTML object>"
            ]
          },
          "metadata": {},
          "output_type": "display_data"
        },
        {
          "data": {
            "text/html": [
              " View run at <a href='https://wandb.ai/angelajcnto-the-university-of-western-australia/absa-bilstm-attention/runs/e0kcvnvp' target=\"_blank\">https://wandb.ai/angelajcnto-the-university-of-western-australia/absa-bilstm-attention/runs/e0kcvnvp</a>"
            ],
            "text/plain": [
              "<IPython.core.display.HTML object>"
            ]
          },
          "metadata": {},
          "output_type": "display_data"
        },
        {
          "name": "stdout",
          "output_type": "stream",
          "text": [
            "\n",
            "Testing: hidden_dim=100, num_layers=1, dropout=0.5, lr=0.01, batch_size=32\n",
            "Epoch 1/30 | Train Loss: 0.9270 | Train Acc: 58.72% | Val Loss: 0.8478 | Val Acc: 61.71%\n",
            "Epoch 2/30 | Train Loss: 0.8861 | Train Acc: 61.10% | Val Loss: 0.8821 | Val Acc: 58.11%\n",
            "Epoch 3/30 | Train Loss: 0.8729 | Train Acc: 61.99% | Val Loss: 0.8139 | Val Acc: 61.82%\n",
            "Epoch 4/30 | Train Loss: 0.8690 | Train Acc: 61.57% | Val Loss: 0.8296 | Val Acc: 63.40%\n",
            "Epoch 5/30 | Train Loss: 0.8573 | Train Acc: 61.78% | Val Loss: 0.8133 | Val Acc: 63.18%\n",
            "Epoch 6/30 | Train Loss: 0.8488 | Train Acc: 62.37% | Val Loss: 0.8125 | Val Acc: 62.05%\n",
            "Epoch 7/30 | Train Loss: 0.8502 | Train Acc: 62.50% | Val Loss: 0.8260 | Val Acc: 58.90%\n",
            "Epoch 8/30 | Train Loss: 0.8429 | Train Acc: 62.88% | Val Loss: 0.8003 | Val Acc: 61.26%\n",
            "Epoch 9/30 | Train Loss: 0.8317 | Train Acc: 63.10% | Val Loss: 0.7970 | Val Acc: 63.06%\n",
            "Early stopping at epoch 9\n"
          ]
        },
        {
          "data": {
            "text/html": [],
            "text/plain": [
              "<IPython.core.display.HTML object>"
            ]
          },
          "metadata": {},
          "output_type": "display_data"
        },
        {
          "data": {
            "text/html": [
              "<br>    <style><br>        .wandb-row {<br>            display: flex;<br>            flex-direction: row;<br>            flex-wrap: wrap;<br>            justify-content: flex-start;<br>            width: 100%;<br>        }<br>        .wandb-col {<br>            display: flex;<br>            flex-direction: column;<br>            flex-basis: 100%;<br>            flex: 1;<br>            padding: 10px;<br>        }<br>    </style><br><div class=\"wandb-row\"><div class=\"wandb-col\"><h3>Run history:</h3><br/><table class=\"wandb\"><tr><td>epoch</td><td>▁▂▃▄▅▅▆▇█</td></tr><tr><td>final_val_acc</td><td>▁</td></tr><tr><td>train_acc</td><td>▁▅▆▆▆▇▇██</td></tr><tr><td>train_loss</td><td>█▅▄▄▃▂▂▂▁</td></tr><tr><td>val_acc</td><td>▆▁▆██▆▂▅█</td></tr><tr><td>val_loss</td><td>▅█▂▄▂▂▃▁▁</td></tr></table><br/></div><div class=\"wandb-col\"><h3>Run summary:</h3><br/><table class=\"wandb\"><tr><td>epoch</td><td>9</td></tr><tr><td>final_val_acc</td><td>0.63063</td></tr><tr><td>train_acc</td><td>0.63103</td></tr><tr><td>train_loss</td><td>0.83168</td></tr><tr><td>val_acc</td><td>0.63063</td></tr><tr><td>val_loss</td><td>0.79703</td></tr></table><br/></div></div>"
            ],
            "text/plain": [
              "<IPython.core.display.HTML object>"
            ]
          },
          "metadata": {},
          "output_type": "display_data"
        },
        {
          "data": {
            "text/html": [
              " View run <strong style=\"color:#cdcd00\">HD=100_NL=1_DO=0.5_LR=0.01_BS=32</strong> at: <a href='https://wandb.ai/angelajcnto-the-university-of-western-australia/absa-bilstm-attention/runs/e0kcvnvp' target=\"_blank\">https://wandb.ai/angelajcnto-the-university-of-western-australia/absa-bilstm-attention/runs/e0kcvnvp</a><br> View project at: <a href='https://wandb.ai/angelajcnto-the-university-of-western-australia/absa-bilstm-attention' target=\"_blank\">https://wandb.ai/angelajcnto-the-university-of-western-australia/absa-bilstm-attention</a><br>Synced 5 W&B file(s), 0 media file(s), 0 artifact file(s) and 0 other file(s)"
            ],
            "text/plain": [
              "<IPython.core.display.HTML object>"
            ]
          },
          "metadata": {},
          "output_type": "display_data"
        },
        {
          "data": {
            "text/html": [
              "Find logs at: <code>.\\wandb\\run-20250425_212506-e0kcvnvp\\logs</code>"
            ],
            "text/plain": [
              "<IPython.core.display.HTML object>"
            ]
          },
          "metadata": {},
          "output_type": "display_data"
        },
        {
          "data": {
            "text/html": [
              "Tracking run with wandb version 0.19.10"
            ],
            "text/plain": [
              "<IPython.core.display.HTML object>"
            ]
          },
          "metadata": {},
          "output_type": "display_data"
        },
        {
          "data": {
            "text/html": [
              "Run data is saved locally in <code>c:\\Users\\angel\\OneDrive\\uni_projects\\DATA_SCIENCE_ML\\NLP-Aspect-Based-Sentiment-Analysis\\wandb\\run-20250425_212536-a9xyzc3r</code>"
            ],
            "text/plain": [
              "<IPython.core.display.HTML object>"
            ]
          },
          "metadata": {},
          "output_type": "display_data"
        },
        {
          "data": {
            "text/html": [
              "Syncing run <strong><a href='https://wandb.ai/angelajcnto-the-university-of-western-australia/absa-bilstm-attention/runs/a9xyzc3r' target=\"_blank\">HD=100_NL=1_DO=0.5_LR=0.01_BS=64</a></strong> to <a href='https://wandb.ai/angelajcnto-the-university-of-western-australia/absa-bilstm-attention' target=\"_blank\">Weights & Biases</a> (<a href='https://wandb.me/developer-guide' target=\"_blank\">docs</a>)<br>"
            ],
            "text/plain": [
              "<IPython.core.display.HTML object>"
            ]
          },
          "metadata": {},
          "output_type": "display_data"
        },
        {
          "data": {
            "text/html": [
              " View project at <a href='https://wandb.ai/angelajcnto-the-university-of-western-australia/absa-bilstm-attention' target=\"_blank\">https://wandb.ai/angelajcnto-the-university-of-western-australia/absa-bilstm-attention</a>"
            ],
            "text/plain": [
              "<IPython.core.display.HTML object>"
            ]
          },
          "metadata": {},
          "output_type": "display_data"
        },
        {
          "data": {
            "text/html": [
              " View run at <a href='https://wandb.ai/angelajcnto-the-university-of-western-australia/absa-bilstm-attention/runs/a9xyzc3r' target=\"_blank\">https://wandb.ai/angelajcnto-the-university-of-western-australia/absa-bilstm-attention/runs/a9xyzc3r</a>"
            ],
            "text/plain": [
              "<IPython.core.display.HTML object>"
            ]
          },
          "metadata": {},
          "output_type": "display_data"
        },
        {
          "name": "stdout",
          "output_type": "stream",
          "text": [
            "\n",
            "Testing: hidden_dim=100, num_layers=1, dropout=0.5, lr=0.01, batch_size=64\n",
            "Epoch 1/30 | Train Loss: 0.9371 | Train Acc: 57.95% | Val Loss: 0.8687 | Val Acc: 59.23%\n",
            "Epoch 2/30 | Train Loss: 0.8875 | Train Acc: 61.11% | Val Loss: 0.8298 | Val Acc: 61.82%\n",
            "Epoch 3/30 | Train Loss: 0.8626 | Train Acc: 62.45% | Val Loss: 0.8412 | Val Acc: 59.46%\n",
            "Epoch 4/30 | Train Loss: 0.8483 | Train Acc: 62.75% | Val Loss: 0.8239 | Val Acc: 62.16%\n",
            "Epoch 5/30 | Train Loss: 0.8350 | Train Acc: 63.27% | Val Loss: 0.7926 | Val Acc: 62.50%\n",
            "Epoch 6/30 | Train Loss: 0.8293 | Train Acc: 63.09% | Val Loss: 0.7974 | Val Acc: 63.74%\n",
            "Epoch 7/30 | Train Loss: 0.8186 | Train Acc: 64.17% | Val Loss: 0.7972 | Val Acc: 63.85%\n",
            "Epoch 8/30 | Train Loss: 0.8096 | Train Acc: 64.77% | Val Loss: 0.7998 | Val Acc: 64.86%\n",
            "Epoch 9/30 | Train Loss: 0.8022 | Train Acc: 64.64% | Val Loss: 0.7900 | Val Acc: 64.53%\n",
            "Epoch 10/30 | Train Loss: 0.7953 | Train Acc: 65.02% | Val Loss: 0.8050 | Val Acc: 63.29%\n",
            "Epoch 11/30 | Train Loss: 0.7881 | Train Acc: 64.84% | Val Loss: 0.7776 | Val Acc: 64.98%\n",
            "Epoch 12/30 | Train Loss: 0.7876 | Train Acc: 65.09% | Val Loss: 0.7796 | Val Acc: 63.63%\n",
            "Epoch 13/30 | Train Loss: 0.7732 | Train Acc: 65.81% | Val Loss: 0.7815 | Val Acc: 65.32%\n",
            "Epoch 14/30 | Train Loss: 0.7630 | Train Acc: 66.21% | Val Loss: 0.8025 | Val Acc: 64.75%\n",
            "Epoch 15/30 | Train Loss: 0.7694 | Train Acc: 65.98% | Val Loss: 0.7746 | Val Acc: 64.30%\n",
            "Epoch 16/30 | Train Loss: 0.7642 | Train Acc: 66.19% | Val Loss: 0.7791 | Val Acc: 65.32%\n",
            "Epoch 17/30 | Train Loss: 0.7526 | Train Acc: 66.59% | Val Loss: 0.7703 | Val Acc: 64.53%\n",
            "Epoch 18/30 | Train Loss: 0.7605 | Train Acc: 66.93% | Val Loss: 0.7739 | Val Acc: 65.43%\n",
            "Epoch 19/30 | Train Loss: 0.7525 | Train Acc: 66.46% | Val Loss: 0.7836 | Val Acc: 63.63%\n",
            "Epoch 20/30 | Train Loss: 0.7500 | Train Acc: 66.73% | Val Loss: 0.8177 | Val Acc: 63.18%\n",
            "Epoch 21/30 | Train Loss: 0.7533 | Train Acc: 67.08% | Val Loss: 0.7705 | Val Acc: 65.88%\n",
            "Epoch 22/30 | Train Loss: 0.7282 | Train Acc: 68.24% | Val Loss: 0.7703 | Val Acc: 66.44%\n",
            "Epoch 23/30 | Train Loss: 0.7243 | Train Acc: 68.59% | Val Loss: 0.8014 | Val Acc: 64.30%\n",
            "Epoch 24/30 | Train Loss: 0.7222 | Train Acc: 68.74% | Val Loss: 0.7711 | Val Acc: 66.67%\n",
            "Epoch 25/30 | Train Loss: 0.7236 | Train Acc: 67.76% | Val Loss: 0.8026 | Val Acc: 65.65%\n",
            "Epoch 26/30 | Train Loss: 0.7216 | Train Acc: 68.22% | Val Loss: 0.7881 | Val Acc: 66.10%\n",
            "Epoch 27/30 | Train Loss: 0.7063 | Train Acc: 69.07% | Val Loss: 0.7975 | Val Acc: 66.55%\n",
            "Epoch 28/30 | Train Loss: 0.7069 | Train Acc: 68.77% | Val Loss: 0.7928 | Val Acc: 66.78%\n",
            "Epoch 29/30 | Train Loss: 0.7094 | Train Acc: 69.63% | Val Loss: 0.7968 | Val Acc: 65.54%\n",
            "Epoch 30/30 | Train Loss: 0.7059 | Train Acc: 69.72% | Val Loss: 0.7980 | Val Acc: 66.44%\n"
          ]
        },
        {
          "data": {
            "text/html": [],
            "text/plain": [
              "<IPython.core.display.HTML object>"
            ]
          },
          "metadata": {},
          "output_type": "display_data"
        },
        {
          "data": {
            "text/html": [
              "<br>    <style><br>        .wandb-row {<br>            display: flex;<br>            flex-direction: row;<br>            flex-wrap: wrap;<br>            justify-content: flex-start;<br>            width: 100%;<br>        }<br>        .wandb-col {<br>            display: flex;<br>            flex-direction: column;<br>            flex-basis: 100%;<br>            flex: 1;<br>            padding: 10px;<br>        }<br>    </style><br><div class=\"wandb-row\"><div class=\"wandb-col\"><h3>Run history:</h3><br/><table class=\"wandb\"><tr><td>epoch</td><td>▁▁▁▂▂▂▂▃▃▃▃▄▄▄▄▅▅▅▅▆▆▆▆▇▇▇▇███</td></tr><tr><td>final_val_acc</td><td>▁</td></tr><tr><td>train_acc</td><td>▁▃▄▄▄▄▅▅▅▅▅▅▆▆▆▆▆▆▆▆▆▇▇▇▇▇█▇██</td></tr><tr><td>train_loss</td><td>█▆▆▅▅▅▄▄▄▄▃▃▃▃▃▃▂▃▂▂▂▂▂▁▂▁▁▁▁▁</td></tr><tr><td>val_acc</td><td>▁▃▁▄▄▅▅▆▆▅▆▅▇▆▆▇▆▇▅▅▇█▆█▇▇██▇█</td></tr><tr><td>val_loss</td><td>█▅▆▅▃▃▃▃▂▃▂▂▂▃▁▂▁▁▂▄▁▁▃▁▃▂▃▃▃▃</td></tr></table><br/></div><div class=\"wandb-col\"><h3>Run summary:</h3><br/><table class=\"wandb\"><tr><td>epoch</td><td>30</td></tr><tr><td>final_val_acc</td><td>0.66441</td></tr><tr><td>train_acc</td><td>0.69718</td></tr><tr><td>train_loss</td><td>0.70592</td></tr><tr><td>val_acc</td><td>0.66441</td></tr><tr><td>val_loss</td><td>0.79805</td></tr></table><br/></div></div>"
            ],
            "text/plain": [
              "<IPython.core.display.HTML object>"
            ]
          },
          "metadata": {},
          "output_type": "display_data"
        },
        {
          "data": {
            "text/html": [
              " View run <strong style=\"color:#cdcd00\">HD=100_NL=1_DO=0.5_LR=0.01_BS=64</strong> at: <a href='https://wandb.ai/angelajcnto-the-university-of-western-australia/absa-bilstm-attention/runs/a9xyzc3r' target=\"_blank\">https://wandb.ai/angelajcnto-the-university-of-western-australia/absa-bilstm-attention/runs/a9xyzc3r</a><br> View project at: <a href='https://wandb.ai/angelajcnto-the-university-of-western-australia/absa-bilstm-attention' target=\"_blank\">https://wandb.ai/angelajcnto-the-university-of-western-australia/absa-bilstm-attention</a><br>Synced 5 W&B file(s), 0 media file(s), 0 artifact file(s) and 0 other file(s)"
            ],
            "text/plain": [
              "<IPython.core.display.HTML object>"
            ]
          },
          "metadata": {},
          "output_type": "display_data"
        },
        {
          "data": {
            "text/html": [
              "Find logs at: <code>.\\wandb\\run-20250425_212536-a9xyzc3r\\logs</code>"
            ],
            "text/plain": [
              "<IPython.core.display.HTML object>"
            ]
          },
          "metadata": {},
          "output_type": "display_data"
        },
        {
          "data": {
            "text/html": [
              "Tracking run with wandb version 0.19.10"
            ],
            "text/plain": [
              "<IPython.core.display.HTML object>"
            ]
          },
          "metadata": {},
          "output_type": "display_data"
        },
        {
          "data": {
            "text/html": [
              "Run data is saved locally in <code>c:\\Users\\angel\\OneDrive\\uni_projects\\DATA_SCIENCE_ML\\NLP-Aspect-Based-Sentiment-Analysis\\wandb\\run-20250425_212701-si33trlq</code>"
            ],
            "text/plain": [
              "<IPython.core.display.HTML object>"
            ]
          },
          "metadata": {},
          "output_type": "display_data"
        },
        {
          "data": {
            "text/html": [
              "Syncing run <strong><a href='https://wandb.ai/angelajcnto-the-university-of-western-australia/absa-bilstm-attention/runs/si33trlq' target=\"_blank\">HD=100_NL=1_DO=0.5_LR=0.01_BS=128</a></strong> to <a href='https://wandb.ai/angelajcnto-the-university-of-western-australia/absa-bilstm-attention' target=\"_blank\">Weights & Biases</a> (<a href='https://wandb.me/developer-guide' target=\"_blank\">docs</a>)<br>"
            ],
            "text/plain": [
              "<IPython.core.display.HTML object>"
            ]
          },
          "metadata": {},
          "output_type": "display_data"
        },
        {
          "data": {
            "text/html": [
              " View project at <a href='https://wandb.ai/angelajcnto-the-university-of-western-australia/absa-bilstm-attention' target=\"_blank\">https://wandb.ai/angelajcnto-the-university-of-western-australia/absa-bilstm-attention</a>"
            ],
            "text/plain": [
              "<IPython.core.display.HTML object>"
            ]
          },
          "metadata": {},
          "output_type": "display_data"
        },
        {
          "data": {
            "text/html": [
              " View run at <a href='https://wandb.ai/angelajcnto-the-university-of-western-australia/absa-bilstm-attention/runs/si33trlq' target=\"_blank\">https://wandb.ai/angelajcnto-the-university-of-western-australia/absa-bilstm-attention/runs/si33trlq</a>"
            ],
            "text/plain": [
              "<IPython.core.display.HTML object>"
            ]
          },
          "metadata": {},
          "output_type": "display_data"
        },
        {
          "name": "stdout",
          "output_type": "stream",
          "text": [
            "\n",
            "Testing: hidden_dim=100, num_layers=1, dropout=0.5, lr=0.01, batch_size=128\n",
            "Epoch 1/30 | Train Loss: 0.9257 | Train Acc: 58.43% | Val Loss: 0.8535 | Val Acc: 61.49%\n",
            "Epoch 2/30 | Train Loss: 0.8785 | Train Acc: 61.55% | Val Loss: 0.8377 | Val Acc: 62.27%\n",
            "Epoch 3/30 | Train Loss: 0.8569 | Train Acc: 62.60% | Val Loss: 0.8383 | Val Acc: 62.05%\n",
            "Epoch 4/30 | Train Loss: 0.8419 | Train Acc: 63.13% | Val Loss: 0.8095 | Val Acc: 62.73%\n",
            "Epoch 5/30 | Train Loss: 0.8262 | Train Acc: 63.95% | Val Loss: 0.7985 | Val Acc: 63.96%\n",
            "Epoch 6/30 | Train Loss: 0.8107 | Train Acc: 64.22% | Val Loss: 0.7877 | Val Acc: 63.18%\n",
            "Epoch 7/30 | Train Loss: 0.7908 | Train Acc: 65.42% | Val Loss: 0.7892 | Val Acc: 64.64%\n",
            "Epoch 8/30 | Train Loss: 0.7852 | Train Acc: 65.68% | Val Loss: 0.7918 | Val Acc: 65.54%\n",
            "Epoch 9/30 | Train Loss: 0.7801 | Train Acc: 66.02% | Val Loss: 0.7768 | Val Acc: 63.85%\n",
            "Epoch 10/30 | Train Loss: 0.7682 | Train Acc: 65.81% | Val Loss: 0.7719 | Val Acc: 65.88%\n",
            "Epoch 11/30 | Train Loss: 0.7621 | Train Acc: 66.73% | Val Loss: 0.8288 | Val Acc: 61.60%\n",
            "Epoch 12/30 | Train Loss: 0.7517 | Train Acc: 67.39% | Val Loss: 0.7727 | Val Acc: 65.32%\n",
            "Epoch 13/30 | Train Loss: 0.7408 | Train Acc: 67.83% | Val Loss: 0.7763 | Val Acc: 66.55%\n",
            "Epoch 14/30 | Train Loss: 0.7334 | Train Acc: 68.25% | Val Loss: 0.7934 | Val Acc: 65.09%\n",
            "Epoch 15/30 | Train Loss: 0.7307 | Train Acc: 68.28% | Val Loss: 0.8176 | Val Acc: 63.06%\n",
            "Epoch 16/30 | Train Loss: 0.7378 | Train Acc: 67.93% | Val Loss: 0.7942 | Val Acc: 66.33%\n",
            "Epoch 17/30 | Train Loss: 0.7104 | Train Acc: 69.25% | Val Loss: 0.8015 | Val Acc: 65.88%\n",
            "Epoch 18/30 | Train Loss: 0.7109 | Train Acc: 69.08% | Val Loss: 0.7910 | Val Acc: 67.34%\n",
            "Epoch 19/30 | Train Loss: 0.7064 | Train Acc: 69.41% | Val Loss: 0.8017 | Val Acc: 64.30%\n",
            "Epoch 20/30 | Train Loss: 0.6954 | Train Acc: 69.62% | Val Loss: 0.8075 | Val Acc: 64.75%\n",
            "Epoch 21/30 | Train Loss: 0.6997 | Train Acc: 69.10% | Val Loss: 0.7861 | Val Acc: 65.77%\n",
            "Epoch 22/30 | Train Loss: 0.6845 | Train Acc: 70.69% | Val Loss: 0.8017 | Val Acc: 65.32%\n",
            "Epoch 23/30 | Train Loss: 0.6821 | Train Acc: 70.35% | Val Loss: 0.8241 | Val Acc: 66.44%\n",
            "Early stopping at epoch 23\n"
          ]
        },
        {
          "data": {
            "text/html": [],
            "text/plain": [
              "<IPython.core.display.HTML object>"
            ]
          },
          "metadata": {},
          "output_type": "display_data"
        },
        {
          "data": {
            "text/html": [
              "<br>    <style><br>        .wandb-row {<br>            display: flex;<br>            flex-direction: row;<br>            flex-wrap: wrap;<br>            justify-content: flex-start;<br>            width: 100%;<br>        }<br>        .wandb-col {<br>            display: flex;<br>            flex-direction: column;<br>            flex-basis: 100%;<br>            flex: 1;<br>            padding: 10px;<br>        }<br>    </style><br><div class=\"wandb-row\"><div class=\"wandb-col\"><h3>Run history:</h3><br/><table class=\"wandb\"><tr><td>epoch</td><td>▁▁▂▂▂▃▃▃▄▄▄▅▅▅▅▆▆▆▇▇▇██</td></tr><tr><td>final_val_acc</td><td>▁</td></tr><tr><td>train_acc</td><td>▁▃▃▄▄▄▅▅▅▅▆▆▆▇▇▆▇▇▇▇▇██</td></tr><tr><td>train_loss</td><td>█▇▆▆▅▅▄▄▄▃▃▃▃▂▂▃▂▂▂▁▂▁▁</td></tr><tr><td>val_acc</td><td>▁▂▂▂▄▃▅▆▄▆▁▆▇▅▃▇▆█▄▅▆▆▇</td></tr><tr><td>val_loss</td><td>█▇▇▄▃▂▂▃▁▁▆▁▁▃▅▃▄▃▄▄▂▄▅</td></tr></table><br/></div><div class=\"wandb-col\"><h3>Run summary:</h3><br/><table class=\"wandb\"><tr><td>epoch</td><td>23</td></tr><tr><td>final_val_acc</td><td>0.66441</td></tr><tr><td>train_acc</td><td>0.70353</td></tr><tr><td>train_loss</td><td>0.68208</td></tr><tr><td>val_acc</td><td>0.66441</td></tr><tr><td>val_loss</td><td>0.82406</td></tr></table><br/></div></div>"
            ],
            "text/plain": [
              "<IPython.core.display.HTML object>"
            ]
          },
          "metadata": {},
          "output_type": "display_data"
        },
        {
          "data": {
            "text/html": [
              " View run <strong style=\"color:#cdcd00\">HD=100_NL=1_DO=0.5_LR=0.01_BS=128</strong> at: <a href='https://wandb.ai/angelajcnto-the-university-of-western-australia/absa-bilstm-attention/runs/si33trlq' target=\"_blank\">https://wandb.ai/angelajcnto-the-university-of-western-australia/absa-bilstm-attention/runs/si33trlq</a><br> View project at: <a href='https://wandb.ai/angelajcnto-the-university-of-western-australia/absa-bilstm-attention' target=\"_blank\">https://wandb.ai/angelajcnto-the-university-of-western-australia/absa-bilstm-attention</a><br>Synced 5 W&B file(s), 0 media file(s), 0 artifact file(s) and 0 other file(s)"
            ],
            "text/plain": [
              "<IPython.core.display.HTML object>"
            ]
          },
          "metadata": {},
          "output_type": "display_data"
        },
        {
          "data": {
            "text/html": [
              "Find logs at: <code>.\\wandb\\run-20250425_212701-si33trlq\\logs</code>"
            ],
            "text/plain": [
              "<IPython.core.display.HTML object>"
            ]
          },
          "metadata": {},
          "output_type": "display_data"
        },
        {
          "data": {
            "text/html": [
              "Tracking run with wandb version 0.19.10"
            ],
            "text/plain": [
              "<IPython.core.display.HTML object>"
            ]
          },
          "metadata": {},
          "output_type": "display_data"
        },
        {
          "data": {
            "text/html": [
              "Run data is saved locally in <code>c:\\Users\\angel\\OneDrive\\uni_projects\\DATA_SCIENCE_ML\\NLP-Aspect-Based-Sentiment-Analysis\\wandb\\run-20250425_212805-o79pbr1x</code>"
            ],
            "text/plain": [
              "<IPython.core.display.HTML object>"
            ]
          },
          "metadata": {},
          "output_type": "display_data"
        },
        {
          "data": {
            "text/html": [
              "Syncing run <strong><a href='https://wandb.ai/angelajcnto-the-university-of-western-australia/absa-bilstm-attention/runs/o79pbr1x' target=\"_blank\">HD=100_NL=1_DO=0.5_LR=0.005_BS=32</a></strong> to <a href='https://wandb.ai/angelajcnto-the-university-of-western-australia/absa-bilstm-attention' target=\"_blank\">Weights & Biases</a> (<a href='https://wandb.me/developer-guide' target=\"_blank\">docs</a>)<br>"
            ],
            "text/plain": [
              "<IPython.core.display.HTML object>"
            ]
          },
          "metadata": {},
          "output_type": "display_data"
        },
        {
          "data": {
            "text/html": [
              " View project at <a href='https://wandb.ai/angelajcnto-the-university-of-western-australia/absa-bilstm-attention' target=\"_blank\">https://wandb.ai/angelajcnto-the-university-of-western-australia/absa-bilstm-attention</a>"
            ],
            "text/plain": [
              "<IPython.core.display.HTML object>"
            ]
          },
          "metadata": {},
          "output_type": "display_data"
        },
        {
          "data": {
            "text/html": [
              " View run at <a href='https://wandb.ai/angelajcnto-the-university-of-western-australia/absa-bilstm-attention/runs/o79pbr1x' target=\"_blank\">https://wandb.ai/angelajcnto-the-university-of-western-australia/absa-bilstm-attention/runs/o79pbr1x</a>"
            ],
            "text/plain": [
              "<IPython.core.display.HTML object>"
            ]
          },
          "metadata": {},
          "output_type": "display_data"
        },
        {
          "name": "stdout",
          "output_type": "stream",
          "text": [
            "\n",
            "Testing: hidden_dim=100, num_layers=1, dropout=0.5, lr=0.005, batch_size=32\n",
            "Epoch 1/30 | Train Loss: 0.9178 | Train Acc: 59.72% | Val Loss: 0.8447 | Val Acc: 61.49%\n",
            "Epoch 2/30 | Train Loss: 0.8747 | Train Acc: 61.61% | Val Loss: 0.8446 | Val Acc: 61.37%\n",
            "Epoch 3/30 | Train Loss: 0.8534 | Train Acc: 62.71% | Val Loss: 0.8432 | Val Acc: 61.60%\n",
            "Epoch 4/30 | Train Loss: 0.8411 | Train Acc: 62.96% | Val Loss: 0.8077 | Val Acc: 62.73%\n",
            "Epoch 5/30 | Train Loss: 0.8179 | Train Acc: 63.77% | Val Loss: 0.7818 | Val Acc: 63.74%\n",
            "Epoch 6/30 | Train Loss: 0.8026 | Train Acc: 64.91% | Val Loss: 0.7780 | Val Acc: 63.74%\n",
            "Epoch 7/30 | Train Loss: 0.7907 | Train Acc: 65.25% | Val Loss: 0.7864 | Val Acc: 64.19%\n",
            "Epoch 8/30 | Train Loss: 0.7762 | Train Acc: 66.16% | Val Loss: 0.7877 | Val Acc: 64.53%\n",
            "Epoch 9/30 | Train Loss: 0.7697 | Train Acc: 66.18% | Val Loss: 0.7891 | Val Acc: 65.43%\n",
            "Epoch 10/30 | Train Loss: 0.7648 | Train Acc: 66.09% | Val Loss: 0.7956 | Val Acc: 64.08%\n",
            "Epoch 11/30 | Train Loss: 0.7471 | Train Acc: 66.83% | Val Loss: 0.7773 | Val Acc: 65.43%\n",
            "Epoch 12/30 | Train Loss: 0.7426 | Train Acc: 67.52% | Val Loss: 0.7976 | Val Acc: 65.09%\n",
            "Epoch 13/30 | Train Loss: 0.7289 | Train Acc: 68.14% | Val Loss: 0.8117 | Val Acc: 64.41%\n",
            "Epoch 14/30 | Train Loss: 0.7263 | Train Acc: 68.65% | Val Loss: 0.7986 | Val Acc: 64.64%\n",
            "Early stopping at epoch 14\n"
          ]
        },
        {
          "data": {
            "text/html": [],
            "text/plain": [
              "<IPython.core.display.HTML object>"
            ]
          },
          "metadata": {},
          "output_type": "display_data"
        },
        {
          "data": {
            "text/html": [
              "<br>    <style><br>        .wandb-row {<br>            display: flex;<br>            flex-direction: row;<br>            flex-wrap: wrap;<br>            justify-content: flex-start;<br>            width: 100%;<br>        }<br>        .wandb-col {<br>            display: flex;<br>            flex-direction: column;<br>            flex-basis: 100%;<br>            flex: 1;<br>            padding: 10px;<br>        }<br>    </style><br><div class=\"wandb-row\"><div class=\"wandb-col\"><h3>Run history:</h3><br/><table class=\"wandb\"><tr><td>epoch</td><td>▁▂▂▃▃▄▄▅▅▆▆▇▇█</td></tr><tr><td>final_val_acc</td><td>▁</td></tr><tr><td>train_acc</td><td>▁▂▃▄▄▅▅▆▆▆▇▇██</td></tr><tr><td>train_loss</td><td>█▆▆▅▄▄▃▃▃▂▂▂▁▁</td></tr><tr><td>val_acc</td><td>▁▁▁▃▅▅▆▆█▆█▇▆▇</td></tr><tr><td>val_loss</td><td>███▄▁▁▂▂▂▃▁▃▅▃</td></tr></table><br/></div><div class=\"wandb-col\"><h3>Run summary:</h3><br/><table class=\"wandb\"><tr><td>epoch</td><td>14</td></tr><tr><td>final_val_acc</td><td>0.6464</td></tr><tr><td>train_acc</td><td>0.68646</td></tr><tr><td>train_loss</td><td>0.72634</td></tr><tr><td>val_acc</td><td>0.6464</td></tr><tr><td>val_loss</td><td>0.79856</td></tr></table><br/></div></div>"
            ],
            "text/plain": [
              "<IPython.core.display.HTML object>"
            ]
          },
          "metadata": {},
          "output_type": "display_data"
        },
        {
          "data": {
            "text/html": [
              " View run <strong style=\"color:#cdcd00\">HD=100_NL=1_DO=0.5_LR=0.005_BS=32</strong> at: <a href='https://wandb.ai/angelajcnto-the-university-of-western-australia/absa-bilstm-attention/runs/o79pbr1x' target=\"_blank\">https://wandb.ai/angelajcnto-the-university-of-western-australia/absa-bilstm-attention/runs/o79pbr1x</a><br> View project at: <a href='https://wandb.ai/angelajcnto-the-university-of-western-australia/absa-bilstm-attention' target=\"_blank\">https://wandb.ai/angelajcnto-the-university-of-western-australia/absa-bilstm-attention</a><br>Synced 5 W&B file(s), 0 media file(s), 0 artifact file(s) and 0 other file(s)"
            ],
            "text/plain": [
              "<IPython.core.display.HTML object>"
            ]
          },
          "metadata": {},
          "output_type": "display_data"
        },
        {
          "data": {
            "text/html": [
              "Find logs at: <code>.\\wandb\\run-20250425_212805-o79pbr1x\\logs</code>"
            ],
            "text/plain": [
              "<IPython.core.display.HTML object>"
            ]
          },
          "metadata": {},
          "output_type": "display_data"
        },
        {
          "data": {
            "text/html": [
              "Tracking run with wandb version 0.19.10"
            ],
            "text/plain": [
              "<IPython.core.display.HTML object>"
            ]
          },
          "metadata": {},
          "output_type": "display_data"
        },
        {
          "data": {
            "text/html": [
              "Run data is saved locally in <code>c:\\Users\\angel\\OneDrive\\uni_projects\\DATA_SCIENCE_ML\\NLP-Aspect-Based-Sentiment-Analysis\\wandb\\run-20250425_212851-1dvfl7no</code>"
            ],
            "text/plain": [
              "<IPython.core.display.HTML object>"
            ]
          },
          "metadata": {},
          "output_type": "display_data"
        },
        {
          "data": {
            "text/html": [
              "Syncing run <strong><a href='https://wandb.ai/angelajcnto-the-university-of-western-australia/absa-bilstm-attention/runs/1dvfl7no' target=\"_blank\">HD=100_NL=1_DO=0.5_LR=0.005_BS=64</a></strong> to <a href='https://wandb.ai/angelajcnto-the-university-of-western-australia/absa-bilstm-attention' target=\"_blank\">Weights & Biases</a> (<a href='https://wandb.me/developer-guide' target=\"_blank\">docs</a>)<br>"
            ],
            "text/plain": [
              "<IPython.core.display.HTML object>"
            ]
          },
          "metadata": {},
          "output_type": "display_data"
        },
        {
          "data": {
            "text/html": [
              " View project at <a href='https://wandb.ai/angelajcnto-the-university-of-western-australia/absa-bilstm-attention' target=\"_blank\">https://wandb.ai/angelajcnto-the-university-of-western-australia/absa-bilstm-attention</a>"
            ],
            "text/plain": [
              "<IPython.core.display.HTML object>"
            ]
          },
          "metadata": {},
          "output_type": "display_data"
        },
        {
          "data": {
            "text/html": [
              " View run at <a href='https://wandb.ai/angelajcnto-the-university-of-western-australia/absa-bilstm-attention/runs/1dvfl7no' target=\"_blank\">https://wandb.ai/angelajcnto-the-university-of-western-australia/absa-bilstm-attention/runs/1dvfl7no</a>"
            ],
            "text/plain": [
              "<IPython.core.display.HTML object>"
            ]
          },
          "metadata": {},
          "output_type": "display_data"
        },
        {
          "name": "stdout",
          "output_type": "stream",
          "text": [
            "\n",
            "Testing: hidden_dim=100, num_layers=1, dropout=0.5, lr=0.005, batch_size=64\n",
            "Epoch 1/30 | Train Loss: 0.9175 | Train Acc: 58.90% | Val Loss: 0.8495 | Val Acc: 61.49%\n",
            "Epoch 2/30 | Train Loss: 0.8725 | Train Acc: 61.34% | Val Loss: 0.8389 | Val Acc: 60.47%\n",
            "Epoch 3/30 | Train Loss: 0.8473 | Train Acc: 63.15% | Val Loss: 0.8143 | Val Acc: 63.85%\n",
            "Epoch 4/30 | Train Loss: 0.8313 | Train Acc: 63.19% | Val Loss: 0.8238 | Val Acc: 60.92%\n",
            "Epoch 5/30 | Train Loss: 0.8124 | Train Acc: 64.34% | Val Loss: 0.8034 | Val Acc: 61.26%\n",
            "Epoch 6/30 | Train Loss: 0.7959 | Train Acc: 64.98% | Val Loss: 0.7714 | Val Acc: 65.09%\n",
            "Epoch 7/30 | Train Loss: 0.7679 | Train Acc: 66.18% | Val Loss: 0.7785 | Val Acc: 65.77%\n",
            "Epoch 8/30 | Train Loss: 0.7509 | Train Acc: 67.67% | Val Loss: 0.7913 | Val Acc: 62.61%\n",
            "Epoch 9/30 | Train Loss: 0.7359 | Train Acc: 68.00% | Val Loss: 0.7754 | Val Acc: 64.98%\n",
            "Epoch 10/30 | Train Loss: 0.7243 | Train Acc: 68.62% | Val Loss: 0.7879 | Val Acc: 65.20%\n",
            "Epoch 11/30 | Train Loss: 0.7054 | Train Acc: 68.97% | Val Loss: 0.7935 | Val Acc: 65.65%\n",
            "Epoch 12/30 | Train Loss: 0.7025 | Train Acc: 69.14% | Val Loss: 0.7927 | Val Acc: 65.65%\n",
            "Early stopping at epoch 12\n"
          ]
        },
        {
          "data": {
            "text/html": [],
            "text/plain": [
              "<IPython.core.display.HTML object>"
            ]
          },
          "metadata": {},
          "output_type": "display_data"
        },
        {
          "data": {
            "text/html": [
              "<br>    <style><br>        .wandb-row {<br>            display: flex;<br>            flex-direction: row;<br>            flex-wrap: wrap;<br>            justify-content: flex-start;<br>            width: 100%;<br>        }<br>        .wandb-col {<br>            display: flex;<br>            flex-direction: column;<br>            flex-basis: 100%;<br>            flex: 1;<br>            padding: 10px;<br>        }<br>    </style><br><div class=\"wandb-row\"><div class=\"wandb-col\"><h3>Run history:</h3><br/><table class=\"wandb\"><tr><td>epoch</td><td>▁▂▂▃▄▄▅▅▆▇▇█</td></tr><tr><td>final_val_acc</td><td>▁</td></tr><tr><td>train_acc</td><td>▁▃▄▄▅▅▆▇▇███</td></tr><tr><td>train_loss</td><td>█▇▆▅▅▄▃▃▂▂▁▁</td></tr><tr><td>val_acc</td><td>▂▁▅▂▂▇█▄▇▇██</td></tr><tr><td>val_loss</td><td>█▇▅▆▄▁▂▃▁▂▃▃</td></tr></table><br/></div><div class=\"wandb-col\"><h3>Run summary:</h3><br/><table class=\"wandb\"><tr><td>epoch</td><td>12</td></tr><tr><td>final_val_acc</td><td>0.65653</td></tr><tr><td>train_acc</td><td>0.6914</td></tr><tr><td>train_loss</td><td>0.70248</td></tr><tr><td>val_acc</td><td>0.65653</td></tr><tr><td>val_loss</td><td>0.79274</td></tr></table><br/></div></div>"
            ],
            "text/plain": [
              "<IPython.core.display.HTML object>"
            ]
          },
          "metadata": {},
          "output_type": "display_data"
        },
        {
          "data": {
            "text/html": [
              " View run <strong style=\"color:#cdcd00\">HD=100_NL=1_DO=0.5_LR=0.005_BS=64</strong> at: <a href='https://wandb.ai/angelajcnto-the-university-of-western-australia/absa-bilstm-attention/runs/1dvfl7no' target=\"_blank\">https://wandb.ai/angelajcnto-the-university-of-western-australia/absa-bilstm-attention/runs/1dvfl7no</a><br> View project at: <a href='https://wandb.ai/angelajcnto-the-university-of-western-australia/absa-bilstm-attention' target=\"_blank\">https://wandb.ai/angelajcnto-the-university-of-western-australia/absa-bilstm-attention</a><br>Synced 5 W&B file(s), 0 media file(s), 0 artifact file(s) and 0 other file(s)"
            ],
            "text/plain": [
              "<IPython.core.display.HTML object>"
            ]
          },
          "metadata": {},
          "output_type": "display_data"
        },
        {
          "data": {
            "text/html": [
              "Find logs at: <code>.\\wandb\\run-20250425_212851-1dvfl7no\\logs</code>"
            ],
            "text/plain": [
              "<IPython.core.display.HTML object>"
            ]
          },
          "metadata": {},
          "output_type": "display_data"
        },
        {
          "data": {
            "text/html": [
              "Tracking run with wandb version 0.19.10"
            ],
            "text/plain": [
              "<IPython.core.display.HTML object>"
            ]
          },
          "metadata": {},
          "output_type": "display_data"
        },
        {
          "data": {
            "text/html": [
              "Run data is saved locally in <code>c:\\Users\\angel\\OneDrive\\uni_projects\\DATA_SCIENCE_ML\\NLP-Aspect-Based-Sentiment-Analysis\\wandb\\run-20250425_212927-qm64p059</code>"
            ],
            "text/plain": [
              "<IPython.core.display.HTML object>"
            ]
          },
          "metadata": {},
          "output_type": "display_data"
        },
        {
          "data": {
            "text/html": [
              "Syncing run <strong><a href='https://wandb.ai/angelajcnto-the-university-of-western-australia/absa-bilstm-attention/runs/qm64p059' target=\"_blank\">HD=100_NL=1_DO=0.5_LR=0.005_BS=128</a></strong> to <a href='https://wandb.ai/angelajcnto-the-university-of-western-australia/absa-bilstm-attention' target=\"_blank\">Weights & Biases</a> (<a href='https://wandb.me/developer-guide' target=\"_blank\">docs</a>)<br>"
            ],
            "text/plain": [
              "<IPython.core.display.HTML object>"
            ]
          },
          "metadata": {},
          "output_type": "display_data"
        },
        {
          "data": {
            "text/html": [
              " View project at <a href='https://wandb.ai/angelajcnto-the-university-of-western-australia/absa-bilstm-attention' target=\"_blank\">https://wandb.ai/angelajcnto-the-university-of-western-australia/absa-bilstm-attention</a>"
            ],
            "text/plain": [
              "<IPython.core.display.HTML object>"
            ]
          },
          "metadata": {},
          "output_type": "display_data"
        },
        {
          "data": {
            "text/html": [
              " View run at <a href='https://wandb.ai/angelajcnto-the-university-of-western-australia/absa-bilstm-attention/runs/qm64p059' target=\"_blank\">https://wandb.ai/angelajcnto-the-university-of-western-australia/absa-bilstm-attention/runs/qm64p059</a>"
            ],
            "text/plain": [
              "<IPython.core.display.HTML object>"
            ]
          },
          "metadata": {},
          "output_type": "display_data"
        },
        {
          "name": "stdout",
          "output_type": "stream",
          "text": [
            "\n",
            "Testing: hidden_dim=100, num_layers=1, dropout=0.5, lr=0.005, batch_size=128\n",
            "Epoch 1/30 | Train Loss: 0.9165 | Train Acc: 58.56% | Val Loss: 0.8571 | Val Acc: 60.59%\n",
            "Epoch 2/30 | Train Loss: 0.8716 | Train Acc: 61.48% | Val Loss: 0.8451 | Val Acc: 61.94%\n",
            "Epoch 3/30 | Train Loss: 0.8512 | Train Acc: 62.34% | Val Loss: 0.8329 | Val Acc: 61.94%\n",
            "Epoch 4/30 | Train Loss: 0.8332 | Train Acc: 63.30% | Val Loss: 0.8019 | Val Acc: 63.63%\n",
            "Epoch 5/30 | Train Loss: 0.8018 | Train Acc: 64.88% | Val Loss: 0.7851 | Val Acc: 63.40%\n",
            "Epoch 6/30 | Train Loss: 0.7772 | Train Acc: 66.06% | Val Loss: 0.8101 | Val Acc: 64.30%\n",
            "Epoch 7/30 | Train Loss: 0.7544 | Train Acc: 66.78% | Val Loss: 0.7965 | Val Acc: 62.95%\n",
            "Epoch 8/30 | Train Loss: 0.7350 | Train Acc: 67.60% | Val Loss: 0.7787 | Val Acc: 65.77%\n",
            "Epoch 9/30 | Train Loss: 0.7236 | Train Acc: 68.27% | Val Loss: 0.7914 | Val Acc: 63.29%\n",
            "Epoch 10/30 | Train Loss: 0.6852 | Train Acc: 70.80% | Val Loss: 0.7956 | Val Acc: 65.32%\n",
            "Epoch 11/30 | Train Loss: 0.6642 | Train Acc: 71.51% | Val Loss: 0.7857 | Val Acc: 68.02%\n",
            "Epoch 12/30 | Train Loss: 0.6385 | Train Acc: 72.14% | Val Loss: 0.8125 | Val Acc: 65.54%\n",
            "Epoch 13/30 | Train Loss: 0.6111 | Train Acc: 73.95% | Val Loss: 0.8515 | Val Acc: 64.75%\n",
            "Epoch 14/30 | Train Loss: 0.5800 | Train Acc: 75.67% | Val Loss: 0.8272 | Val Acc: 64.98%\n",
            "Epoch 15/30 | Train Loss: 0.5596 | Train Acc: 76.18% | Val Loss: 0.8367 | Val Acc: 67.12%\n",
            "Epoch 16/30 | Train Loss: 0.5385 | Train Acc: 77.39% | Val Loss: 0.8881 | Val Acc: 67.23%\n",
            "Early stopping at epoch 16\n"
          ]
        },
        {
          "data": {
            "text/html": [],
            "text/plain": [
              "<IPython.core.display.HTML object>"
            ]
          },
          "metadata": {},
          "output_type": "display_data"
        },
        {
          "data": {
            "text/html": [
              "<br>    <style><br>        .wandb-row {<br>            display: flex;<br>            flex-direction: row;<br>            flex-wrap: wrap;<br>            justify-content: flex-start;<br>            width: 100%;<br>        }<br>        .wandb-col {<br>            display: flex;<br>            flex-direction: column;<br>            flex-basis: 100%;<br>            flex: 1;<br>            padding: 10px;<br>        }<br>    </style><br><div class=\"wandb-row\"><div class=\"wandb-col\"><h3>Run history:</h3><br/><table class=\"wandb\"><tr><td>epoch</td><td>▁▁▂▂▃▃▄▄▅▅▆▆▇▇██</td></tr><tr><td>final_val_acc</td><td>▁</td></tr><tr><td>train_acc</td><td>▁▂▂▃▃▄▄▄▅▆▆▆▇▇██</td></tr><tr><td>train_loss</td><td>█▇▇▆▆▅▅▅▄▄▃▃▂▂▁▁</td></tr><tr><td>val_acc</td><td>▁▂▂▄▄▄▃▆▄▅█▆▅▅▇▇</td></tr><tr><td>val_loss</td><td>▆▅▄▂▁▃▂▁▂▂▁▃▆▄▅█</td></tr></table><br/></div><div class=\"wandb-col\"><h3>Run summary:</h3><br/><table class=\"wandb\"><tr><td>epoch</td><td>16</td></tr><tr><td>final_val_acc</td><td>0.6723</td></tr><tr><td>train_acc</td><td>0.77391</td></tr><tr><td>train_loss</td><td>0.53845</td></tr><tr><td>val_acc</td><td>0.6723</td></tr><tr><td>val_loss</td><td>0.88809</td></tr></table><br/></div></div>"
            ],
            "text/plain": [
              "<IPython.core.display.HTML object>"
            ]
          },
          "metadata": {},
          "output_type": "display_data"
        },
        {
          "data": {
            "text/html": [
              " View run <strong style=\"color:#cdcd00\">HD=100_NL=1_DO=0.5_LR=0.005_BS=128</strong> at: <a href='https://wandb.ai/angelajcnto-the-university-of-western-australia/absa-bilstm-attention/runs/qm64p059' target=\"_blank\">https://wandb.ai/angelajcnto-the-university-of-western-australia/absa-bilstm-attention/runs/qm64p059</a><br> View project at: <a href='https://wandb.ai/angelajcnto-the-university-of-western-australia/absa-bilstm-attention' target=\"_blank\">https://wandb.ai/angelajcnto-the-university-of-western-australia/absa-bilstm-attention</a><br>Synced 5 W&B file(s), 0 media file(s), 0 artifact file(s) and 0 other file(s)"
            ],
            "text/plain": [
              "<IPython.core.display.HTML object>"
            ]
          },
          "metadata": {},
          "output_type": "display_data"
        },
        {
          "data": {
            "text/html": [
              "Find logs at: <code>.\\wandb\\run-20250425_212927-qm64p059\\logs</code>"
            ],
            "text/plain": [
              "<IPython.core.display.HTML object>"
            ]
          },
          "metadata": {},
          "output_type": "display_data"
        },
        {
          "data": {
            "text/html": [
              "Tracking run with wandb version 0.19.10"
            ],
            "text/plain": [
              "<IPython.core.display.HTML object>"
            ]
          },
          "metadata": {},
          "output_type": "display_data"
        },
        {
          "data": {
            "text/html": [
              "Run data is saved locally in <code>c:\\Users\\angel\\OneDrive\\uni_projects\\DATA_SCIENCE_ML\\NLP-Aspect-Based-Sentiment-Analysis\\wandb\\run-20250425_213012-iromx2n7</code>"
            ],
            "text/plain": [
              "<IPython.core.display.HTML object>"
            ]
          },
          "metadata": {},
          "output_type": "display_data"
        },
        {
          "data": {
            "text/html": [
              "Syncing run <strong><a href='https://wandb.ai/angelajcnto-the-university-of-western-australia/absa-bilstm-attention/runs/iromx2n7' target=\"_blank\">HD=100_NL=1_DO=0.5_LR=0.001_BS=32</a></strong> to <a href='https://wandb.ai/angelajcnto-the-university-of-western-australia/absa-bilstm-attention' target=\"_blank\">Weights & Biases</a> (<a href='https://wandb.me/developer-guide' target=\"_blank\">docs</a>)<br>"
            ],
            "text/plain": [
              "<IPython.core.display.HTML object>"
            ]
          },
          "metadata": {},
          "output_type": "display_data"
        },
        {
          "data": {
            "text/html": [
              " View project at <a href='https://wandb.ai/angelajcnto-the-university-of-western-australia/absa-bilstm-attention' target=\"_blank\">https://wandb.ai/angelajcnto-the-university-of-western-australia/absa-bilstm-attention</a>"
            ],
            "text/plain": [
              "<IPython.core.display.HTML object>"
            ]
          },
          "metadata": {},
          "output_type": "display_data"
        },
        {
          "data": {
            "text/html": [
              " View run at <a href='https://wandb.ai/angelajcnto-the-university-of-western-australia/absa-bilstm-attention/runs/iromx2n7' target=\"_blank\">https://wandb.ai/angelajcnto-the-university-of-western-australia/absa-bilstm-attention/runs/iromx2n7</a>"
            ],
            "text/plain": [
              "<IPython.core.display.HTML object>"
            ]
          },
          "metadata": {},
          "output_type": "display_data"
        },
        {
          "name": "stdout",
          "output_type": "stream",
          "text": [
            "\n",
            "Testing: hidden_dim=100, num_layers=1, dropout=0.5, lr=0.001, batch_size=32\n",
            "Epoch 1/30 | Train Loss: 0.9070 | Train Acc: 59.75% | Val Loss: 0.8438 | Val Acc: 61.71%\n",
            "Epoch 2/30 | Train Loss: 0.8545 | Train Acc: 62.91% | Val Loss: 0.8255 | Val Acc: 62.61%\n",
            "Epoch 3/30 | Train Loss: 0.8389 | Train Acc: 63.60% | Val Loss: 0.8081 | Val Acc: 63.29%\n",
            "Epoch 4/30 | Train Loss: 0.8167 | Train Acc: 64.27% | Val Loss: 0.8053 | Val Acc: 65.09%\n",
            "Epoch 5/30 | Train Loss: 0.7949 | Train Acc: 65.44% | Val Loss: 0.7860 | Val Acc: 64.41%\n",
            "Epoch 6/30 | Train Loss: 0.7701 | Train Acc: 66.50% | Val Loss: 0.7696 | Val Acc: 64.19%\n",
            "Epoch 7/30 | Train Loss: 0.7458 | Train Acc: 67.31% | Val Loss: 0.7564 | Val Acc: 66.10%\n",
            "Epoch 8/30 | Train Loss: 0.7081 | Train Acc: 69.41% | Val Loss: 0.7588 | Val Acc: 66.67%\n",
            "Epoch 9/30 | Train Loss: 0.6727 | Train Acc: 71.00% | Val Loss: 0.7808 | Val Acc: 65.20%\n",
            "Epoch 10/30 | Train Loss: 0.6318 | Train Acc: 73.26% | Val Loss: 0.8246 | Val Acc: 64.98%\n",
            "Epoch 11/30 | Train Loss: 0.5869 | Train Acc: 74.95% | Val Loss: 0.8089 | Val Acc: 64.86%\n",
            "Epoch 12/30 | Train Loss: 0.5494 | Train Acc: 76.77% | Val Loss: 0.8267 | Val Acc: 66.89%\n",
            "Epoch 13/30 | Train Loss: 0.5001 | Train Acc: 79.52% | Val Loss: 0.8774 | Val Acc: 66.89%\n",
            "Epoch 14/30 | Train Loss: 0.4407 | Train Acc: 81.93% | Val Loss: 0.9272 | Val Acc: 67.91%\n",
            "Epoch 15/30 | Train Loss: 0.4034 | Train Acc: 84.16% | Val Loss: 0.9407 | Val Acc: 66.10%\n",
            "Epoch 16/30 | Train Loss: 0.3503 | Train Acc: 86.29% | Val Loss: 1.0479 | Val Acc: 65.77%\n",
            "Epoch 17/30 | Train Loss: 0.3069 | Train Acc: 88.43% | Val Loss: 1.0696 | Val Acc: 67.34%\n",
            "Epoch 18/30 | Train Loss: 0.2719 | Train Acc: 89.75% | Val Loss: 1.2978 | Val Acc: 61.82%\n",
            "Epoch 19/30 | Train Loss: 0.2512 | Train Acc: 90.58% | Val Loss: 1.2665 | Val Acc: 64.30%\n",
            "Early stopping at epoch 19\n"
          ]
        },
        {
          "data": {
            "text/html": [],
            "text/plain": [
              "<IPython.core.display.HTML object>"
            ]
          },
          "metadata": {},
          "output_type": "display_data"
        },
        {
          "data": {
            "text/html": [
              "<br>    <style><br>        .wandb-row {<br>            display: flex;<br>            flex-direction: row;<br>            flex-wrap: wrap;<br>            justify-content: flex-start;<br>            width: 100%;<br>        }<br>        .wandb-col {<br>            display: flex;<br>            flex-direction: column;<br>            flex-basis: 100%;<br>            flex: 1;<br>            padding: 10px;<br>        }<br>    </style><br><div class=\"wandb-row\"><div class=\"wandb-col\"><h3>Run history:</h3><br/><table class=\"wandb\"><tr><td>epoch</td><td>▁▁▂▂▃▃▃▄▄▅▅▅▆▆▆▇▇██</td></tr><tr><td>final_val_acc</td><td>▁</td></tr><tr><td>train_acc</td><td>▁▂▂▂▂▃▃▃▄▄▄▅▅▆▇▇███</td></tr><tr><td>train_loss</td><td>█▇▇▇▇▇▆▆▅▅▅▄▄▃▃▂▂▁▁</td></tr><tr><td>val_acc</td><td>▁▂▃▅▄▄▆▇▅▅▅▇▇█▆▆▇▁▄</td></tr><tr><td>val_loss</td><td>▂▂▂▂▁▁▁▁▁▂▂▂▃▃▃▅▅██</td></tr></table><br/></div><div class=\"wandb-col\"><h3>Run summary:</h3><br/><table class=\"wandb\"><tr><td>epoch</td><td>19</td></tr><tr><td>final_val_acc</td><td>0.64302</td></tr><tr><td>train_acc</td><td>0.90578</td></tr><tr><td>train_loss</td><td>0.25119</td></tr><tr><td>val_acc</td><td>0.64302</td></tr><tr><td>val_loss</td><td>1.26652</td></tr></table><br/></div></div>"
            ],
            "text/plain": [
              "<IPython.core.display.HTML object>"
            ]
          },
          "metadata": {},
          "output_type": "display_data"
        },
        {
          "data": {
            "text/html": [
              " View run <strong style=\"color:#cdcd00\">HD=100_NL=1_DO=0.5_LR=0.001_BS=32</strong> at: <a href='https://wandb.ai/angelajcnto-the-university-of-western-australia/absa-bilstm-attention/runs/iromx2n7' target=\"_blank\">https://wandb.ai/angelajcnto-the-university-of-western-australia/absa-bilstm-attention/runs/iromx2n7</a><br> View project at: <a href='https://wandb.ai/angelajcnto-the-university-of-western-australia/absa-bilstm-attention' target=\"_blank\">https://wandb.ai/angelajcnto-the-university-of-western-australia/absa-bilstm-attention</a><br>Synced 5 W&B file(s), 0 media file(s), 0 artifact file(s) and 0 other file(s)"
            ],
            "text/plain": [
              "<IPython.core.display.HTML object>"
            ]
          },
          "metadata": {},
          "output_type": "display_data"
        },
        {
          "data": {
            "text/html": [
              "Find logs at: <code>.\\wandb\\run-20250425_213012-iromx2n7\\logs</code>"
            ],
            "text/plain": [
              "<IPython.core.display.HTML object>"
            ]
          },
          "metadata": {},
          "output_type": "display_data"
        },
        {
          "data": {
            "text/html": [
              "Tracking run with wandb version 0.19.10"
            ],
            "text/plain": [
              "<IPython.core.display.HTML object>"
            ]
          },
          "metadata": {},
          "output_type": "display_data"
        },
        {
          "data": {
            "text/html": [
              "Run data is saved locally in <code>c:\\Users\\angel\\OneDrive\\uni_projects\\DATA_SCIENCE_ML\\NLP-Aspect-Based-Sentiment-Analysis\\wandb\\run-20250425_213113-5wjxsvdp</code>"
            ],
            "text/plain": [
              "<IPython.core.display.HTML object>"
            ]
          },
          "metadata": {},
          "output_type": "display_data"
        },
        {
          "data": {
            "text/html": [
              "Syncing run <strong><a href='https://wandb.ai/angelajcnto-the-university-of-western-australia/absa-bilstm-attention/runs/5wjxsvdp' target=\"_blank\">HD=100_NL=1_DO=0.5_LR=0.001_BS=64</a></strong> to <a href='https://wandb.ai/angelajcnto-the-university-of-western-australia/absa-bilstm-attention' target=\"_blank\">Weights & Biases</a> (<a href='https://wandb.me/developer-guide' target=\"_blank\">docs</a>)<br>"
            ],
            "text/plain": [
              "<IPython.core.display.HTML object>"
            ]
          },
          "metadata": {},
          "output_type": "display_data"
        },
        {
          "data": {
            "text/html": [
              " View project at <a href='https://wandb.ai/angelajcnto-the-university-of-western-australia/absa-bilstm-attention' target=\"_blank\">https://wandb.ai/angelajcnto-the-university-of-western-australia/absa-bilstm-attention</a>"
            ],
            "text/plain": [
              "<IPython.core.display.HTML object>"
            ]
          },
          "metadata": {},
          "output_type": "display_data"
        },
        {
          "data": {
            "text/html": [
              " View run at <a href='https://wandb.ai/angelajcnto-the-university-of-western-australia/absa-bilstm-attention/runs/5wjxsvdp' target=\"_blank\">https://wandb.ai/angelajcnto-the-university-of-western-australia/absa-bilstm-attention/runs/5wjxsvdp</a>"
            ],
            "text/plain": [
              "<IPython.core.display.HTML object>"
            ]
          },
          "metadata": {},
          "output_type": "display_data"
        },
        {
          "name": "stdout",
          "output_type": "stream",
          "text": [
            "\n",
            "Testing: hidden_dim=100, num_layers=1, dropout=0.5, lr=0.001, batch_size=64\n",
            "Epoch 1/30 | Train Loss: 0.9177 | Train Acc: 59.34% | Val Loss: 0.8618 | Val Acc: 59.91%\n",
            "Epoch 2/30 | Train Loss: 0.8614 | Train Acc: 62.38% | Val Loss: 0.8300 | Val Acc: 61.60%\n",
            "Epoch 3/30 | Train Loss: 0.8406 | Train Acc: 63.55% | Val Loss: 0.8116 | Val Acc: 62.84%\n",
            "Epoch 4/30 | Train Loss: 0.8308 | Train Acc: 63.55% | Val Loss: 0.8178 | Val Acc: 63.06%\n",
            "Epoch 5/30 | Train Loss: 0.8138 | Train Acc: 64.51% | Val Loss: 0.7919 | Val Acc: 63.96%\n",
            "Epoch 6/30 | Train Loss: 0.7971 | Train Acc: 65.08% | Val Loss: 0.7792 | Val Acc: 64.64%\n",
            "Epoch 7/30 | Train Loss: 0.7736 | Train Acc: 66.71% | Val Loss: 0.8025 | Val Acc: 63.29%\n",
            "Epoch 8/30 | Train Loss: 0.7493 | Train Acc: 67.49% | Val Loss: 0.7750 | Val Acc: 64.41%\n",
            "Epoch 9/30 | Train Loss: 0.7231 | Train Acc: 67.98% | Val Loss: 0.7550 | Val Acc: 66.89%\n",
            "Epoch 10/30 | Train Loss: 0.6924 | Train Acc: 69.80% | Val Loss: 0.7743 | Val Acc: 64.19%\n",
            "Epoch 11/30 | Train Loss: 0.6579 | Train Acc: 71.23% | Val Loss: 0.7799 | Val Acc: 64.41%\n",
            "Epoch 12/30 | Train Loss: 0.6215 | Train Acc: 73.27% | Val Loss: 0.7781 | Val Acc: 67.68%\n",
            "Epoch 13/30 | Train Loss: 0.5771 | Train Acc: 75.43% | Val Loss: 0.8301 | Val Acc: 64.86%\n",
            "Epoch 14/30 | Train Loss: 0.5353 | Train Acc: 77.38% | Val Loss: 0.8465 | Val Acc: 65.65%\n",
            "Epoch 15/30 | Train Loss: 0.4848 | Train Acc: 80.06% | Val Loss: 0.9220 | Val Acc: 64.86%\n",
            "Epoch 16/30 | Train Loss: 0.4417 | Train Acc: 82.40% | Val Loss: 0.9718 | Val Acc: 63.96%\n",
            "Epoch 17/30 | Train Loss: 0.3956 | Train Acc: 84.26% | Val Loss: 0.9806 | Val Acc: 64.75%\n",
            "Early stopping at epoch 17\n"
          ]
        },
        {
          "data": {
            "text/html": [],
            "text/plain": [
              "<IPython.core.display.HTML object>"
            ]
          },
          "metadata": {},
          "output_type": "display_data"
        },
        {
          "data": {
            "text/html": [
              "<br>    <style><br>        .wandb-row {<br>            display: flex;<br>            flex-direction: row;<br>            flex-wrap: wrap;<br>            justify-content: flex-start;<br>            width: 100%;<br>        }<br>        .wandb-col {<br>            display: flex;<br>            flex-direction: column;<br>            flex-basis: 100%;<br>            flex: 1;<br>            padding: 10px;<br>        }<br>    </style><br><div class=\"wandb-row\"><div class=\"wandb-col\"><h3>Run history:</h3><br/><table class=\"wandb\"><tr><td>epoch</td><td>▁▁▂▂▃▃▄▄▅▅▅▆▆▇▇██</td></tr><tr><td>final_val_acc</td><td>▁</td></tr><tr><td>train_acc</td><td>▁▂▂▂▂▃▃▃▃▄▄▅▆▆▇▇█</td></tr><tr><td>train_loss</td><td>█▇▇▇▇▆▆▆▅▅▅▄▃▃▂▂▁</td></tr><tr><td>val_acc</td><td>▁▃▄▄▅▅▄▅▇▅▅█▅▆▅▅▅</td></tr><tr><td>val_loss</td><td>▄▃▃▃▂▂▂▂▁▂▂▂▃▄▆██</td></tr></table><br/></div><div class=\"wandb-col\"><h3>Run summary:</h3><br/><table class=\"wandb\"><tr><td>epoch</td><td>17</td></tr><tr><td>final_val_acc</td><td>0.64752</td></tr><tr><td>train_acc</td><td>0.8426</td></tr><tr><td>train_loss</td><td>0.39564</td></tr><tr><td>val_acc</td><td>0.64752</td></tr><tr><td>val_loss</td><td>0.98059</td></tr></table><br/></div></div>"
            ],
            "text/plain": [
              "<IPython.core.display.HTML object>"
            ]
          },
          "metadata": {},
          "output_type": "display_data"
        },
        {
          "data": {
            "text/html": [
              " View run <strong style=\"color:#cdcd00\">HD=100_NL=1_DO=0.5_LR=0.001_BS=64</strong> at: <a href='https://wandb.ai/angelajcnto-the-university-of-western-australia/absa-bilstm-attention/runs/5wjxsvdp' target=\"_blank\">https://wandb.ai/angelajcnto-the-university-of-western-australia/absa-bilstm-attention/runs/5wjxsvdp</a><br> View project at: <a href='https://wandb.ai/angelajcnto-the-university-of-western-australia/absa-bilstm-attention' target=\"_blank\">https://wandb.ai/angelajcnto-the-university-of-western-australia/absa-bilstm-attention</a><br>Synced 5 W&B file(s), 0 media file(s), 0 artifact file(s) and 0 other file(s)"
            ],
            "text/plain": [
              "<IPython.core.display.HTML object>"
            ]
          },
          "metadata": {},
          "output_type": "display_data"
        },
        {
          "data": {
            "text/html": [
              "Find logs at: <code>.\\wandb\\run-20250425_213113-5wjxsvdp\\logs</code>"
            ],
            "text/plain": [
              "<IPython.core.display.HTML object>"
            ]
          },
          "metadata": {},
          "output_type": "display_data"
        },
        {
          "data": {
            "text/html": [
              "Tracking run with wandb version 0.19.10"
            ],
            "text/plain": [
              "<IPython.core.display.HTML object>"
            ]
          },
          "metadata": {},
          "output_type": "display_data"
        },
        {
          "data": {
            "text/html": [
              "Run data is saved locally in <code>c:\\Users\\angel\\OneDrive\\uni_projects\\DATA_SCIENCE_ML\\NLP-Aspect-Based-Sentiment-Analysis\\wandb\\run-20250425_213203-mmc7ic58</code>"
            ],
            "text/plain": [
              "<IPython.core.display.HTML object>"
            ]
          },
          "metadata": {},
          "output_type": "display_data"
        },
        {
          "data": {
            "text/html": [
              "Syncing run <strong><a href='https://wandb.ai/angelajcnto-the-university-of-western-australia/absa-bilstm-attention/runs/mmc7ic58' target=\"_blank\">HD=100_NL=1_DO=0.5_LR=0.001_BS=128</a></strong> to <a href='https://wandb.ai/angelajcnto-the-university-of-western-australia/absa-bilstm-attention' target=\"_blank\">Weights & Biases</a> (<a href='https://wandb.me/developer-guide' target=\"_blank\">docs</a>)<br>"
            ],
            "text/plain": [
              "<IPython.core.display.HTML object>"
            ]
          },
          "metadata": {},
          "output_type": "display_data"
        },
        {
          "data": {
            "text/html": [
              " View project at <a href='https://wandb.ai/angelajcnto-the-university-of-western-australia/absa-bilstm-attention' target=\"_blank\">https://wandb.ai/angelajcnto-the-university-of-western-australia/absa-bilstm-attention</a>"
            ],
            "text/plain": [
              "<IPython.core.display.HTML object>"
            ]
          },
          "metadata": {},
          "output_type": "display_data"
        },
        {
          "data": {
            "text/html": [
              " View run at <a href='https://wandb.ai/angelajcnto-the-university-of-western-australia/absa-bilstm-attention/runs/mmc7ic58' target=\"_blank\">https://wandb.ai/angelajcnto-the-university-of-western-australia/absa-bilstm-attention/runs/mmc7ic58</a>"
            ],
            "text/plain": [
              "<IPython.core.display.HTML object>"
            ]
          },
          "metadata": {},
          "output_type": "display_data"
        },
        {
          "name": "stdout",
          "output_type": "stream",
          "text": [
            "\n",
            "Testing: hidden_dim=100, num_layers=1, dropout=0.5, lr=0.001, batch_size=128\n",
            "Epoch 1/30 | Train Loss: 0.9254 | Train Acc: 58.60% | Val Loss: 0.8669 | Val Acc: 60.59%\n",
            "Epoch 2/30 | Train Loss: 0.8745 | Train Acc: 61.10% | Val Loss: 0.8359 | Val Acc: 61.26%\n",
            "Epoch 3/30 | Train Loss: 0.8523 | Train Acc: 63.20% | Val Loss: 0.8216 | Val Acc: 61.82%\n",
            "Epoch 4/30 | Train Loss: 0.8315 | Train Acc: 63.71% | Val Loss: 0.8053 | Val Acc: 62.84%\n",
            "Epoch 5/30 | Train Loss: 0.8237 | Train Acc: 64.22% | Val Loss: 0.8020 | Val Acc: 63.29%\n",
            "Epoch 6/30 | Train Loss: 0.8097 | Train Acc: 64.63% | Val Loss: 0.8017 | Val Acc: 62.95%\n",
            "Epoch 7/30 | Train Loss: 0.7976 | Train Acc: 65.42% | Val Loss: 0.7996 | Val Acc: 63.74%\n",
            "Epoch 8/30 | Train Loss: 0.7837 | Train Acc: 65.84% | Val Loss: 0.7886 | Val Acc: 63.96%\n",
            "Epoch 9/30 | Train Loss: 0.7615 | Train Acc: 66.56% | Val Loss: 0.7987 | Val Acc: 64.19%\n",
            "Epoch 10/30 | Train Loss: 0.7420 | Train Acc: 67.67% | Val Loss: 0.7892 | Val Acc: 65.20%\n",
            "Epoch 11/30 | Train Loss: 0.7165 | Train Acc: 68.94% | Val Loss: 0.7693 | Val Acc: 67.34%\n",
            "Epoch 12/30 | Train Loss: 0.6897 | Train Acc: 70.44% | Val Loss: 0.7879 | Val Acc: 66.55%\n",
            "Epoch 13/30 | Train Loss: 0.6667 | Train Acc: 71.17% | Val Loss: 0.7939 | Val Acc: 65.54%\n",
            "Epoch 14/30 | Train Loss: 0.6274 | Train Acc: 72.99% | Val Loss: 0.8172 | Val Acc: 65.88%\n",
            "Epoch 15/30 | Train Loss: 0.5814 | Train Acc: 75.32% | Val Loss: 0.8247 | Val Acc: 65.99%\n",
            "Epoch 16/30 | Train Loss: 0.5437 | Train Acc: 77.08% | Val Loss: 0.8320 | Val Acc: 63.74%\n",
            "Early stopping at epoch 16\n"
          ]
        },
        {
          "data": {
            "text/html": [],
            "text/plain": [
              "<IPython.core.display.HTML object>"
            ]
          },
          "metadata": {},
          "output_type": "display_data"
        },
        {
          "data": {
            "text/html": [
              "<br>    <style><br>        .wandb-row {<br>            display: flex;<br>            flex-direction: row;<br>            flex-wrap: wrap;<br>            justify-content: flex-start;<br>            width: 100%;<br>        }<br>        .wandb-col {<br>            display: flex;<br>            flex-direction: column;<br>            flex-basis: 100%;<br>            flex: 1;<br>            padding: 10px;<br>        }<br>    </style><br><div class=\"wandb-row\"><div class=\"wandb-col\"><h3>Run history:</h3><br/><table class=\"wandb\"><tr><td>epoch</td><td>▁▁▂▂▃▃▄▄▅▅▆▆▇▇██</td></tr><tr><td>final_val_acc</td><td>▁</td></tr><tr><td>train_acc</td><td>▁▂▃▃▃▃▄▄▄▄▅▅▆▆▇█</td></tr><tr><td>train_loss</td><td>█▇▇▆▆▆▆▅▅▅▄▄▃▃▂▁</td></tr><tr><td>val_acc</td><td>▁▂▂▃▄▃▄▄▅▆█▇▆▆▇▄</td></tr><tr><td>val_loss</td><td>█▆▅▄▃▃▃▂▃▂▁▂▃▄▅▅</td></tr></table><br/></div><div class=\"wandb-col\"><h3>Run summary:</h3><br/><table class=\"wandb\"><tr><td>epoch</td><td>16</td></tr><tr><td>final_val_acc</td><td>0.63739</td></tr><tr><td>train_acc</td><td>0.7708</td></tr><tr><td>train_loss</td><td>0.54367</td></tr><tr><td>val_acc</td><td>0.63739</td></tr><tr><td>val_loss</td><td>0.83204</td></tr></table><br/></div></div>"
            ],
            "text/plain": [
              "<IPython.core.display.HTML object>"
            ]
          },
          "metadata": {},
          "output_type": "display_data"
        },
        {
          "data": {
            "text/html": [
              " View run <strong style=\"color:#cdcd00\">HD=100_NL=1_DO=0.5_LR=0.001_BS=128</strong> at: <a href='https://wandb.ai/angelajcnto-the-university-of-western-australia/absa-bilstm-attention/runs/mmc7ic58' target=\"_blank\">https://wandb.ai/angelajcnto-the-university-of-western-australia/absa-bilstm-attention/runs/mmc7ic58</a><br> View project at: <a href='https://wandb.ai/angelajcnto-the-university-of-western-australia/absa-bilstm-attention' target=\"_blank\">https://wandb.ai/angelajcnto-the-university-of-western-australia/absa-bilstm-attention</a><br>Synced 5 W&B file(s), 0 media file(s), 0 artifact file(s) and 0 other file(s)"
            ],
            "text/plain": [
              "<IPython.core.display.HTML object>"
            ]
          },
          "metadata": {},
          "output_type": "display_data"
        },
        {
          "data": {
            "text/html": [
              "Find logs at: <code>.\\wandb\\run-20250425_213203-mmc7ic58\\logs</code>"
            ],
            "text/plain": [
              "<IPython.core.display.HTML object>"
            ]
          },
          "metadata": {},
          "output_type": "display_data"
        },
        {
          "data": {
            "text/html": [],
            "text/plain": [
              "<IPython.core.display.HTML object>"
            ]
          },
          "metadata": {},
          "output_type": "display_data"
        },
        {
          "data": {
            "text/html": [
              "Tracking run with wandb version 0.19.10"
            ],
            "text/plain": [
              "<IPython.core.display.HTML object>"
            ]
          },
          "metadata": {},
          "output_type": "display_data"
        },
        {
          "data": {
            "text/html": [
              "Run data is saved locally in <code>c:\\Users\\angel\\OneDrive\\uni_projects\\DATA_SCIENCE_ML\\NLP-Aspect-Based-Sentiment-Analysis\\wandb\\run-20250425_213248-ushc0w9c</code>"
            ],
            "text/plain": [
              "<IPython.core.display.HTML object>"
            ]
          },
          "metadata": {},
          "output_type": "display_data"
        },
        {
          "data": {
            "text/html": [
              "Syncing run <strong><a href='https://wandb.ai/angelajcnto-the-university-of-western-australia/absa-bilstm-attention/runs/ushc0w9c' target=\"_blank\">HD=100_NL=2_DO=0.3_LR=0.01_BS=32</a></strong> to <a href='https://wandb.ai/angelajcnto-the-university-of-western-australia/absa-bilstm-attention' target=\"_blank\">Weights & Biases</a> (<a href='https://wandb.me/developer-guide' target=\"_blank\">docs</a>)<br>"
            ],
            "text/plain": [
              "<IPython.core.display.HTML object>"
            ]
          },
          "metadata": {},
          "output_type": "display_data"
        },
        {
          "data": {
            "text/html": [
              " View project at <a href='https://wandb.ai/angelajcnto-the-university-of-western-australia/absa-bilstm-attention' target=\"_blank\">https://wandb.ai/angelajcnto-the-university-of-western-australia/absa-bilstm-attention</a>"
            ],
            "text/plain": [
              "<IPython.core.display.HTML object>"
            ]
          },
          "metadata": {},
          "output_type": "display_data"
        },
        {
          "data": {
            "text/html": [
              " View run at <a href='https://wandb.ai/angelajcnto-the-university-of-western-australia/absa-bilstm-attention/runs/ushc0w9c' target=\"_blank\">https://wandb.ai/angelajcnto-the-university-of-western-australia/absa-bilstm-attention/runs/ushc0w9c</a>"
            ],
            "text/plain": [
              "<IPython.core.display.HTML object>"
            ]
          },
          "metadata": {},
          "output_type": "display_data"
        },
        {
          "name": "stdout",
          "output_type": "stream",
          "text": [
            "\n",
            "Testing: hidden_dim=100, num_layers=2, dropout=0.3, lr=0.01, batch_size=32\n",
            "Epoch 1/30 | Train Loss: 0.9381 | Train Acc: 58.45% | Val Loss: 0.8763 | Val Acc: 61.60%\n",
            "Epoch 2/30 | Train Loss: 0.8917 | Train Acc: 61.09% | Val Loss: 0.8521 | Val Acc: 62.05%\n",
            "Epoch 3/30 | Train Loss: 0.8809 | Train Acc: 60.96% | Val Loss: 0.8628 | Val Acc: 61.82%\n",
            "Epoch 4/30 | Train Loss: 0.8564 | Train Acc: 62.52% | Val Loss: 0.8404 | Val Acc: 62.73%\n",
            "Epoch 5/30 | Train Loss: 0.8514 | Train Acc: 62.78% | Val Loss: 0.8184 | Val Acc: 62.05%\n",
            "Epoch 6/30 | Train Loss: 0.8374 | Train Acc: 63.16% | Val Loss: 0.8403 | Val Acc: 63.18%\n",
            "Epoch 7/30 | Train Loss: 0.8298 | Train Acc: 63.31% | Val Loss: 0.8020 | Val Acc: 62.61%\n",
            "Epoch 8/30 | Train Loss: 0.8288 | Train Acc: 63.72% | Val Loss: 0.8163 | Val Acc: 62.73%\n",
            "Epoch 9/30 | Train Loss: 0.8206 | Train Acc: 64.06% | Val Loss: 0.8043 | Val Acc: 63.40%\n",
            "Epoch 10/30 | Train Loss: 0.8141 | Train Acc: 64.67% | Val Loss: 0.8030 | Val Acc: 63.40%\n",
            "Epoch 11/30 | Train Loss: 0.8125 | Train Acc: 64.19% | Val Loss: 0.7903 | Val Acc: 63.51%\n",
            "Epoch 12/30 | Train Loss: 0.8044 | Train Acc: 64.68% | Val Loss: 0.8236 | Val Acc: 64.53%\n",
            "Epoch 13/30 | Train Loss: 0.8039 | Train Acc: 64.94% | Val Loss: 0.7901 | Val Acc: 63.63%\n",
            "Epoch 14/30 | Train Loss: 0.7931 | Train Acc: 65.30% | Val Loss: 0.8214 | Val Acc: 61.82%\n",
            "Epoch 15/30 | Train Loss: 0.7955 | Train Acc: 64.99% | Val Loss: 0.7749 | Val Acc: 64.19%\n",
            "Epoch 16/30 | Train Loss: 0.7863 | Train Acc: 65.53% | Val Loss: 0.7890 | Val Acc: 65.77%\n",
            "Epoch 17/30 | Train Loss: 0.7838 | Train Acc: 65.67% | Val Loss: 0.8108 | Val Acc: 61.71%\n",
            "Epoch 18/30 | Train Loss: 0.7843 | Train Acc: 65.53% | Val Loss: 0.8055 | Val Acc: 64.64%\n",
            "Epoch 19/30 | Train Loss: 0.7843 | Train Acc: 65.50% | Val Loss: 0.7931 | Val Acc: 64.41%\n",
            "Epoch 20/30 | Train Loss: 0.7826 | Train Acc: 65.60% | Val Loss: 0.8254 | Val Acc: 62.16%\n",
            "Epoch 21/30 | Train Loss: 0.7786 | Train Acc: 65.68% | Val Loss: 0.8117 | Val Acc: 62.05%\n",
            "Early stopping at epoch 21\n"
          ]
        },
        {
          "data": {
            "text/html": [],
            "text/plain": [
              "<IPython.core.display.HTML object>"
            ]
          },
          "metadata": {},
          "output_type": "display_data"
        },
        {
          "data": {
            "text/html": [
              "<br>    <style><br>        .wandb-row {<br>            display: flex;<br>            flex-direction: row;<br>            flex-wrap: wrap;<br>            justify-content: flex-start;<br>            width: 100%;<br>        }<br>        .wandb-col {<br>            display: flex;<br>            flex-direction: column;<br>            flex-basis: 100%;<br>            flex: 1;<br>            padding: 10px;<br>        }<br>    </style><br><div class=\"wandb-row\"><div class=\"wandb-col\"><h3>Run history:</h3><br/><table class=\"wandb\"><tr><td>epoch</td><td>▁▁▂▂▂▃▃▃▄▄▅▅▅▆▆▆▇▇▇██</td></tr><tr><td>final_val_acc</td><td>▁</td></tr><tr><td>train_acc</td><td>▁▄▃▅▅▆▆▆▆▇▇▇▇█▇██████</td></tr><tr><td>train_loss</td><td>█▆▅▄▄▄▃▃▃▃▂▂▂▂▂▁▁▁▁▁▁</td></tr><tr><td>val_acc</td><td>▁▂▁▃▂▄▃▃▄▄▄▆▄▁▅█▁▆▆▂▂</td></tr><tr><td>val_loss</td><td>█▆▇▆▄▆▃▄▃▃▂▄▂▄▁▂▃▃▂▄▄</td></tr></table><br/></div><div class=\"wandb-col\"><h3>Run summary:</h3><br/><table class=\"wandb\"><tr><td>epoch</td><td>21</td></tr><tr><td>final_val_acc</td><td>0.6205</td></tr><tr><td>train_acc</td><td>0.65684</td></tr><tr><td>train_loss</td><td>0.77864</td></tr><tr><td>val_acc</td><td>0.6205</td></tr><tr><td>val_loss</td><td>0.81166</td></tr></table><br/></div></div>"
            ],
            "text/plain": [
              "<IPython.core.display.HTML object>"
            ]
          },
          "metadata": {},
          "output_type": "display_data"
        },
        {
          "data": {
            "text/html": [
              " View run <strong style=\"color:#cdcd00\">HD=100_NL=2_DO=0.3_LR=0.01_BS=32</strong> at: <a href='https://wandb.ai/angelajcnto-the-university-of-western-australia/absa-bilstm-attention/runs/ushc0w9c' target=\"_blank\">https://wandb.ai/angelajcnto-the-university-of-western-australia/absa-bilstm-attention/runs/ushc0w9c</a><br> View project at: <a href='https://wandb.ai/angelajcnto-the-university-of-western-australia/absa-bilstm-attention' target=\"_blank\">https://wandb.ai/angelajcnto-the-university-of-western-australia/absa-bilstm-attention</a><br>Synced 5 W&B file(s), 0 media file(s), 0 artifact file(s) and 0 other file(s)"
            ],
            "text/plain": [
              "<IPython.core.display.HTML object>"
            ]
          },
          "metadata": {},
          "output_type": "display_data"
        },
        {
          "data": {
            "text/html": [
              "Find logs at: <code>.\\wandb\\run-20250425_213248-ushc0w9c\\logs</code>"
            ],
            "text/plain": [
              "<IPython.core.display.HTML object>"
            ]
          },
          "metadata": {},
          "output_type": "display_data"
        },
        {
          "data": {
            "text/html": [],
            "text/plain": [
              "<IPython.core.display.HTML object>"
            ]
          },
          "metadata": {},
          "output_type": "display_data"
        },
        {
          "data": {
            "text/html": [
              "Tracking run with wandb version 0.19.10"
            ],
            "text/plain": [
              "<IPython.core.display.HTML object>"
            ]
          },
          "metadata": {},
          "output_type": "display_data"
        },
        {
          "data": {
            "text/html": [
              "Run data is saved locally in <code>c:\\Users\\angel\\OneDrive\\uni_projects\\DATA_SCIENCE_ML\\NLP-Aspect-Based-Sentiment-Analysis\\wandb\\run-20250425_213408-hz6vookm</code>"
            ],
            "text/plain": [
              "<IPython.core.display.HTML object>"
            ]
          },
          "metadata": {},
          "output_type": "display_data"
        },
        {
          "data": {
            "text/html": [
              "Syncing run <strong><a href='https://wandb.ai/angelajcnto-the-university-of-western-australia/absa-bilstm-attention/runs/hz6vookm' target=\"_blank\">HD=100_NL=2_DO=0.3_LR=0.01_BS=64</a></strong> to <a href='https://wandb.ai/angelajcnto-the-university-of-western-australia/absa-bilstm-attention' target=\"_blank\">Weights & Biases</a> (<a href='https://wandb.me/developer-guide' target=\"_blank\">docs</a>)<br>"
            ],
            "text/plain": [
              "<IPython.core.display.HTML object>"
            ]
          },
          "metadata": {},
          "output_type": "display_data"
        },
        {
          "data": {
            "text/html": [
              " View project at <a href='https://wandb.ai/angelajcnto-the-university-of-western-australia/absa-bilstm-attention' target=\"_blank\">https://wandb.ai/angelajcnto-the-university-of-western-australia/absa-bilstm-attention</a>"
            ],
            "text/plain": [
              "<IPython.core.display.HTML object>"
            ]
          },
          "metadata": {},
          "output_type": "display_data"
        },
        {
          "data": {
            "text/html": [
              " View run at <a href='https://wandb.ai/angelajcnto-the-university-of-western-australia/absa-bilstm-attention/runs/hz6vookm' target=\"_blank\">https://wandb.ai/angelajcnto-the-university-of-western-australia/absa-bilstm-attention/runs/hz6vookm</a>"
            ],
            "text/plain": [
              "<IPython.core.display.HTML object>"
            ]
          },
          "metadata": {},
          "output_type": "display_data"
        },
        {
          "name": "stdout",
          "output_type": "stream",
          "text": [
            "\n",
            "Testing: hidden_dim=100, num_layers=2, dropout=0.3, lr=0.01, batch_size=64\n",
            "Epoch 1/30 | Train Loss: 0.9409 | Train Acc: 58.07% | Val Loss: 0.8724 | Val Acc: 60.92%\n",
            "Epoch 2/30 | Train Loss: 0.8842 | Train Acc: 61.30% | Val Loss: 0.8725 | Val Acc: 59.35%\n",
            "Epoch 3/30 | Train Loss: 0.8700 | Train Acc: 61.06% | Val Loss: 0.8334 | Val Acc: 62.73%\n",
            "Epoch 4/30 | Train Loss: 0.8478 | Train Acc: 62.89% | Val Loss: 0.8300 | Val Acc: 61.60%\n",
            "Epoch 5/30 | Train Loss: 0.8433 | Train Acc: 62.44% | Val Loss: 0.8287 | Val Acc: 63.18%\n",
            "Epoch 6/30 | Train Loss: 0.8270 | Train Acc: 64.12% | Val Loss: 0.8050 | Val Acc: 63.85%\n",
            "Epoch 7/30 | Train Loss: 0.8244 | Train Acc: 64.20% | Val Loss: 0.7910 | Val Acc: 65.20%\n",
            "Epoch 8/30 | Train Loss: 0.8110 | Train Acc: 64.61% | Val Loss: 0.7907 | Val Acc: 64.86%\n",
            "Epoch 9/30 | Train Loss: 0.8055 | Train Acc: 64.41% | Val Loss: 0.7873 | Val Acc: 63.06%\n",
            "Epoch 10/30 | Train Loss: 0.7979 | Train Acc: 64.61% | Val Loss: 0.7911 | Val Acc: 64.19%\n",
            "Epoch 11/30 | Train Loss: 0.7896 | Train Acc: 65.49% | Val Loss: 0.7996 | Val Acc: 63.96%\n",
            "Epoch 12/30 | Train Loss: 0.7831 | Train Acc: 65.43% | Val Loss: 0.7861 | Val Acc: 65.09%\n",
            "Early stopping at epoch 12\n"
          ]
        },
        {
          "data": {
            "text/html": [],
            "text/plain": [
              "<IPython.core.display.HTML object>"
            ]
          },
          "metadata": {},
          "output_type": "display_data"
        },
        {
          "data": {
            "text/html": [
              "<br>    <style><br>        .wandb-row {<br>            display: flex;<br>            flex-direction: row;<br>            flex-wrap: wrap;<br>            justify-content: flex-start;<br>            width: 100%;<br>        }<br>        .wandb-col {<br>            display: flex;<br>            flex-direction: column;<br>            flex-basis: 100%;<br>            flex: 1;<br>            padding: 10px;<br>        }<br>    </style><br><div class=\"wandb-row\"><div class=\"wandb-col\"><h3>Run history:</h3><br/><table class=\"wandb\"><tr><td>epoch</td><td>▁▂▂▃▄▄▅▅▆▇▇█</td></tr><tr><td>final_val_acc</td><td>▁</td></tr><tr><td>train_acc</td><td>▁▄▄▆▅▇▇▇▇▇██</td></tr><tr><td>train_loss</td><td>█▅▅▄▄▃▃▂▂▂▁▁</td></tr><tr><td>val_acc</td><td>▃▁▅▄▆▆██▅▇▇█</td></tr><tr><td>val_loss</td><td>██▅▅▄▃▁▁▁▁▂▁</td></tr></table><br/></div><div class=\"wandb-col\"><h3>Run summary:</h3><br/><table class=\"wandb\"><tr><td>epoch</td><td>12</td></tr><tr><td>final_val_acc</td><td>0.6509</td></tr><tr><td>train_acc</td><td>0.6543</td></tr><tr><td>train_loss</td><td>0.78311</td></tr><tr><td>val_acc</td><td>0.6509</td></tr><tr><td>val_loss</td><td>0.78609</td></tr></table><br/></div></div>"
            ],
            "text/plain": [
              "<IPython.core.display.HTML object>"
            ]
          },
          "metadata": {},
          "output_type": "display_data"
        },
        {
          "data": {
            "text/html": [
              " View run <strong style=\"color:#cdcd00\">HD=100_NL=2_DO=0.3_LR=0.01_BS=64</strong> at: <a href='https://wandb.ai/angelajcnto-the-university-of-western-australia/absa-bilstm-attention/runs/hz6vookm' target=\"_blank\">https://wandb.ai/angelajcnto-the-university-of-western-australia/absa-bilstm-attention/runs/hz6vookm</a><br> View project at: <a href='https://wandb.ai/angelajcnto-the-university-of-western-australia/absa-bilstm-attention' target=\"_blank\">https://wandb.ai/angelajcnto-the-university-of-western-australia/absa-bilstm-attention</a><br>Synced 5 W&B file(s), 0 media file(s), 0 artifact file(s) and 0 other file(s)"
            ],
            "text/plain": [
              "<IPython.core.display.HTML object>"
            ]
          },
          "metadata": {},
          "output_type": "display_data"
        },
        {
          "data": {
            "text/html": [
              "Find logs at: <code>.\\wandb\\run-20250425_213408-hz6vookm\\logs</code>"
            ],
            "text/plain": [
              "<IPython.core.display.HTML object>"
            ]
          },
          "metadata": {},
          "output_type": "display_data"
        },
        {
          "data": {
            "text/html": [
              "Tracking run with wandb version 0.19.10"
            ],
            "text/plain": [
              "<IPython.core.display.HTML object>"
            ]
          },
          "metadata": {},
          "output_type": "display_data"
        },
        {
          "data": {
            "text/html": [
              "Run data is saved locally in <code>c:\\Users\\angel\\OneDrive\\uni_projects\\DATA_SCIENCE_ML\\NLP-Aspect-Based-Sentiment-Analysis\\wandb\\run-20250425_213445-3douyt58</code>"
            ],
            "text/plain": [
              "<IPython.core.display.HTML object>"
            ]
          },
          "metadata": {},
          "output_type": "display_data"
        },
        {
          "data": {
            "text/html": [
              "Syncing run <strong><a href='https://wandb.ai/angelajcnto-the-university-of-western-australia/absa-bilstm-attention/runs/3douyt58' target=\"_blank\">HD=100_NL=2_DO=0.3_LR=0.01_BS=128</a></strong> to <a href='https://wandb.ai/angelajcnto-the-university-of-western-australia/absa-bilstm-attention' target=\"_blank\">Weights & Biases</a> (<a href='https://wandb.me/developer-guide' target=\"_blank\">docs</a>)<br>"
            ],
            "text/plain": [
              "<IPython.core.display.HTML object>"
            ]
          },
          "metadata": {},
          "output_type": "display_data"
        },
        {
          "data": {
            "text/html": [
              " View project at <a href='https://wandb.ai/angelajcnto-the-university-of-western-australia/absa-bilstm-attention' target=\"_blank\">https://wandb.ai/angelajcnto-the-university-of-western-australia/absa-bilstm-attention</a>"
            ],
            "text/plain": [
              "<IPython.core.display.HTML object>"
            ]
          },
          "metadata": {},
          "output_type": "display_data"
        },
        {
          "data": {
            "text/html": [
              " View run at <a href='https://wandb.ai/angelajcnto-the-university-of-western-australia/absa-bilstm-attention/runs/3douyt58' target=\"_blank\">https://wandb.ai/angelajcnto-the-university-of-western-australia/absa-bilstm-attention/runs/3douyt58</a>"
            ],
            "text/plain": [
              "<IPython.core.display.HTML object>"
            ]
          },
          "metadata": {},
          "output_type": "display_data"
        },
        {
          "name": "stdout",
          "output_type": "stream",
          "text": [
            "\n",
            "Testing: hidden_dim=100, num_layers=2, dropout=0.3, lr=0.01, batch_size=128\n",
            "Epoch 1/30 | Train Loss: 0.9459 | Train Acc: 57.64% | Val Loss: 0.8908 | Val Acc: 59.91%\n",
            "Epoch 2/30 | Train Loss: 0.8896 | Train Acc: 60.54% | Val Loss: 0.8354 | Val Acc: 61.60%\n",
            "Epoch 3/30 | Train Loss: 0.8685 | Train Acc: 61.75% | Val Loss: 0.8345 | Val Acc: 61.49%\n",
            "Epoch 4/30 | Train Loss: 0.8490 | Train Acc: 62.69% | Val Loss: 0.8364 | Val Acc: 61.71%\n",
            "Epoch 5/30 | Train Loss: 0.8448 | Train Acc: 63.00% | Val Loss: 0.8139 | Val Acc: 64.30%\n",
            "Epoch 6/30 | Train Loss: 0.8195 | Train Acc: 63.99% | Val Loss: 0.8206 | Val Acc: 63.40%\n",
            "Epoch 7/30 | Train Loss: 0.8056 | Train Acc: 64.71% | Val Loss: 0.7980 | Val Acc: 63.29%\n",
            "Epoch 8/30 | Train Loss: 0.7949 | Train Acc: 65.09% | Val Loss: 0.7948 | Val Acc: 63.63%\n",
            "Epoch 9/30 | Train Loss: 0.7883 | Train Acc: 65.22% | Val Loss: 0.8094 | Val Acc: 63.51%\n",
            "Epoch 10/30 | Train Loss: 0.7769 | Train Acc: 65.56% | Val Loss: 0.7848 | Val Acc: 64.86%\n",
            "Epoch 11/30 | Train Loss: 0.7670 | Train Acc: 66.74% | Val Loss: 0.7875 | Val Acc: 64.19%\n",
            "Epoch 12/30 | Train Loss: 0.7572 | Train Acc: 66.91% | Val Loss: 0.7923 | Val Acc: 62.73%\n",
            "Epoch 13/30 | Train Loss: 0.7515 | Train Acc: 67.05% | Val Loss: 0.8019 | Val Acc: 64.08%\n",
            "Epoch 14/30 | Train Loss: 0.7412 | Train Acc: 67.57% | Val Loss: 0.8111 | Val Acc: 62.84%\n",
            "Epoch 15/30 | Train Loss: 0.7387 | Train Acc: 67.04% | Val Loss: 0.8022 | Val Acc: 63.96%\n",
            "Early stopping at epoch 15\n"
          ]
        },
        {
          "data": {
            "text/html": [],
            "text/plain": [
              "<IPython.core.display.HTML object>"
            ]
          },
          "metadata": {},
          "output_type": "display_data"
        },
        {
          "data": {
            "text/html": [
              "<br>    <style><br>        .wandb-row {<br>            display: flex;<br>            flex-direction: row;<br>            flex-wrap: wrap;<br>            justify-content: flex-start;<br>            width: 100%;<br>        }<br>        .wandb-col {<br>            display: flex;<br>            flex-direction: column;<br>            flex-basis: 100%;<br>            flex: 1;<br>            padding: 10px;<br>        }<br>    </style><br><div class=\"wandb-row\"><div class=\"wandb-col\"><h3>Run history:</h3><br/><table class=\"wandb\"><tr><td>epoch</td><td>▁▁▂▃▃▃▄▅▅▅▆▇▇▇█</td></tr><tr><td>final_val_acc</td><td>▁</td></tr><tr><td>train_acc</td><td>▁▃▄▅▅▅▆▆▆▇▇████</td></tr><tr><td>train_loss</td><td>█▆▅▅▅▄▃▃▃▂▂▂▁▁▁</td></tr><tr><td>val_acc</td><td>▁▃▃▄▇▆▆▆▆█▇▅▇▅▇</td></tr><tr><td>val_loss</td><td>█▄▄▄▃▃▂▂▃▁▁▁▂▃▂</td></tr></table><br/></div><div class=\"wandb-col\"><h3>Run summary:</h3><br/><table class=\"wandb\"><tr><td>epoch</td><td>15</td></tr><tr><td>final_val_acc</td><td>0.63964</td></tr><tr><td>train_acc</td><td>0.67038</td></tr><tr><td>train_loss</td><td>0.73867</td></tr><tr><td>val_acc</td><td>0.63964</td></tr><tr><td>val_loss</td><td>0.80217</td></tr></table><br/></div></div>"
            ],
            "text/plain": [
              "<IPython.core.display.HTML object>"
            ]
          },
          "metadata": {},
          "output_type": "display_data"
        },
        {
          "data": {
            "text/html": [
              " View run <strong style=\"color:#cdcd00\">HD=100_NL=2_DO=0.3_LR=0.01_BS=128</strong> at: <a href='https://wandb.ai/angelajcnto-the-university-of-western-australia/absa-bilstm-attention/runs/3douyt58' target=\"_blank\">https://wandb.ai/angelajcnto-the-university-of-western-australia/absa-bilstm-attention/runs/3douyt58</a><br> View project at: <a href='https://wandb.ai/angelajcnto-the-university-of-western-australia/absa-bilstm-attention' target=\"_blank\">https://wandb.ai/angelajcnto-the-university-of-western-australia/absa-bilstm-attention</a><br>Synced 5 W&B file(s), 0 media file(s), 0 artifact file(s) and 0 other file(s)"
            ],
            "text/plain": [
              "<IPython.core.display.HTML object>"
            ]
          },
          "metadata": {},
          "output_type": "display_data"
        },
        {
          "data": {
            "text/html": [
              "Find logs at: <code>.\\wandb\\run-20250425_213445-3douyt58\\logs</code>"
            ],
            "text/plain": [
              "<IPython.core.display.HTML object>"
            ]
          },
          "metadata": {},
          "output_type": "display_data"
        },
        {
          "data": {
            "text/html": [
              "Tracking run with wandb version 0.19.10"
            ],
            "text/plain": [
              "<IPython.core.display.HTML object>"
            ]
          },
          "metadata": {},
          "output_type": "display_data"
        },
        {
          "data": {
            "text/html": [
              "Run data is saved locally in <code>c:\\Users\\angel\\OneDrive\\uni_projects\\DATA_SCIENCE_ML\\NLP-Aspect-Based-Sentiment-Analysis\\wandb\\run-20250425_213533-2l6je7di</code>"
            ],
            "text/plain": [
              "<IPython.core.display.HTML object>"
            ]
          },
          "metadata": {},
          "output_type": "display_data"
        },
        {
          "data": {
            "text/html": [
              "Syncing run <strong><a href='https://wandb.ai/angelajcnto-the-university-of-western-australia/absa-bilstm-attention/runs/2l6je7di' target=\"_blank\">HD=100_NL=2_DO=0.3_LR=0.005_BS=32</a></strong> to <a href='https://wandb.ai/angelajcnto-the-university-of-western-australia/absa-bilstm-attention' target=\"_blank\">Weights & Biases</a> (<a href='https://wandb.me/developer-guide' target=\"_blank\">docs</a>)<br>"
            ],
            "text/plain": [
              "<IPython.core.display.HTML object>"
            ]
          },
          "metadata": {},
          "output_type": "display_data"
        },
        {
          "data": {
            "text/html": [
              " View project at <a href='https://wandb.ai/angelajcnto-the-university-of-western-australia/absa-bilstm-attention' target=\"_blank\">https://wandb.ai/angelajcnto-the-university-of-western-australia/absa-bilstm-attention</a>"
            ],
            "text/plain": [
              "<IPython.core.display.HTML object>"
            ]
          },
          "metadata": {},
          "output_type": "display_data"
        },
        {
          "data": {
            "text/html": [
              " View run at <a href='https://wandb.ai/angelajcnto-the-university-of-western-australia/absa-bilstm-attention/runs/2l6je7di' target=\"_blank\">https://wandb.ai/angelajcnto-the-university-of-western-australia/absa-bilstm-attention/runs/2l6je7di</a>"
            ],
            "text/plain": [
              "<IPython.core.display.HTML object>"
            ]
          },
          "metadata": {},
          "output_type": "display_data"
        },
        {
          "name": "stdout",
          "output_type": "stream",
          "text": [
            "\n",
            "Testing: hidden_dim=100, num_layers=2, dropout=0.3, lr=0.005, batch_size=32\n",
            "Epoch 1/30 | Train Loss: 0.9236 | Train Acc: 59.14% | Val Loss: 0.8821 | Val Acc: 60.14%\n",
            "Epoch 2/30 | Train Loss: 0.8728 | Train Acc: 61.99% | Val Loss: 0.8540 | Val Acc: 58.67%\n",
            "Epoch 3/30 | Train Loss: 0.8513 | Train Acc: 62.75% | Val Loss: 0.8338 | Val Acc: 62.50%\n",
            "Epoch 4/30 | Train Loss: 0.8343 | Train Acc: 63.41% | Val Loss: 0.8200 | Val Acc: 62.39%\n",
            "Epoch 5/30 | Train Loss: 0.8171 | Train Acc: 64.26% | Val Loss: 0.8076 | Val Acc: 62.50%\n",
            "Epoch 6/30 | Train Loss: 0.8058 | Train Acc: 65.28% | Val Loss: 0.7909 | Val Acc: 63.51%\n",
            "Epoch 7/30 | Train Loss: 0.7952 | Train Acc: 65.06% | Val Loss: 0.8085 | Val Acc: 63.06%\n",
            "Epoch 8/30 | Train Loss: 0.7841 | Train Acc: 65.51% | Val Loss: 0.7617 | Val Acc: 65.43%\n",
            "Epoch 9/30 | Train Loss: 0.7685 | Train Acc: 66.64% | Val Loss: 0.8007 | Val Acc: 65.43%\n",
            "Epoch 10/30 | Train Loss: 0.7578 | Train Acc: 66.71% | Val Loss: 0.7762 | Val Acc: 65.99%\n",
            "Epoch 11/30 | Train Loss: 0.7468 | Train Acc: 67.42% | Val Loss: 0.7941 | Val Acc: 64.53%\n",
            "Epoch 12/30 | Train Loss: 0.7336 | Train Acc: 67.60% | Val Loss: 0.7792 | Val Acc: 64.19%\n",
            "Epoch 13/30 | Train Loss: 0.7267 | Train Acc: 68.31% | Val Loss: 0.7957 | Val Acc: 65.20%\n",
            "Epoch 14/30 | Train Loss: 0.7133 | Train Acc: 68.46% | Val Loss: 0.7773 | Val Acc: 66.33%\n",
            "Epoch 15/30 | Train Loss: 0.7058 | Train Acc: 69.32% | Val Loss: 0.8034 | Val Acc: 63.40%\n",
            "Epoch 16/30 | Train Loss: 0.6975 | Train Acc: 69.61% | Val Loss: 0.8020 | Val Acc: 62.84%\n",
            "Epoch 17/30 | Train Loss: 0.6882 | Train Acc: 69.68% | Val Loss: 0.8082 | Val Acc: 64.41%\n",
            "Epoch 18/30 | Train Loss: 0.6749 | Train Acc: 70.82% | Val Loss: 0.8230 | Val Acc: 65.54%\n",
            "Epoch 19/30 | Train Loss: 0.6623 | Train Acc: 71.44% | Val Loss: 0.7747 | Val Acc: 67.57%\n",
            "Epoch 20/30 | Train Loss: 0.6499 | Train Acc: 72.02% | Val Loss: 0.8130 | Val Acc: 64.19%\n",
            "Epoch 21/30 | Train Loss: 0.6459 | Train Acc: 71.52% | Val Loss: 0.7921 | Val Acc: 64.64%\n",
            "Epoch 22/30 | Train Loss: 0.6285 | Train Acc: 72.92% | Val Loss: 0.8288 | Val Acc: 64.30%\n",
            "Epoch 23/30 | Train Loss: 0.6421 | Train Acc: 72.83% | Val Loss: 0.8162 | Val Acc: 63.63%\n",
            "Epoch 24/30 | Train Loss: 0.6173 | Train Acc: 73.89% | Val Loss: 0.8526 | Val Acc: 65.77%\n",
            "Early stopping at epoch 24\n"
          ]
        },
        {
          "data": {
            "text/html": [],
            "text/plain": [
              "<IPython.core.display.HTML object>"
            ]
          },
          "metadata": {},
          "output_type": "display_data"
        },
        {
          "data": {
            "text/html": [
              "<br>    <style><br>        .wandb-row {<br>            display: flex;<br>            flex-direction: row;<br>            flex-wrap: wrap;<br>            justify-content: flex-start;<br>            width: 100%;<br>        }<br>        .wandb-col {<br>            display: flex;<br>            flex-direction: column;<br>            flex-basis: 100%;<br>            flex: 1;<br>            padding: 10px;<br>        }<br>    </style><br><div class=\"wandb-row\"><div class=\"wandb-col\"><h3>Run history:</h3><br/><table class=\"wandb\"><tr><td>epoch</td><td>▁▁▂▂▂▃▃▃▃▄▄▄▅▅▅▆▆▆▆▇▇▇██</td></tr><tr><td>final_val_acc</td><td>▁</td></tr><tr><td>train_acc</td><td>▁▂▃▃▃▄▄▄▅▅▅▅▅▅▆▆▆▇▇▇▇█▇█</td></tr><tr><td>train_loss</td><td>█▇▆▆▆▅▅▅▄▄▄▄▄▃▃▃▃▂▂▂▂▁▂▁</td></tr><tr><td>val_acc</td><td>▂▁▄▄▄▅▄▆▆▇▆▅▆▇▅▄▆▆█▅▆▅▅▇</td></tr><tr><td>val_loss</td><td>█▆▅▄▄▃▄▁▃▂▃▂▃▂▃▃▄▅▂▄▃▅▄▆</td></tr></table><br/></div><div class=\"wandb-col\"><h3>Run summary:</h3><br/><table class=\"wandb\"><tr><td>epoch</td><td>24</td></tr><tr><td>final_val_acc</td><td>0.65766</td></tr><tr><td>train_acc</td><td>0.73893</td></tr><tr><td>train_loss</td><td>0.61727</td></tr><tr><td>val_acc</td><td>0.65766</td></tr><tr><td>val_loss</td><td>0.85257</td></tr></table><br/></div></div>"
            ],
            "text/plain": [
              "<IPython.core.display.HTML object>"
            ]
          },
          "metadata": {},
          "output_type": "display_data"
        },
        {
          "data": {
            "text/html": [
              " View run <strong style=\"color:#cdcd00\">HD=100_NL=2_DO=0.3_LR=0.005_BS=32</strong> at: <a href='https://wandb.ai/angelajcnto-the-university-of-western-australia/absa-bilstm-attention/runs/2l6je7di' target=\"_blank\">https://wandb.ai/angelajcnto-the-university-of-western-australia/absa-bilstm-attention/runs/2l6je7di</a><br> View project at: <a href='https://wandb.ai/angelajcnto-the-university-of-western-australia/absa-bilstm-attention' target=\"_blank\">https://wandb.ai/angelajcnto-the-university-of-western-australia/absa-bilstm-attention</a><br>Synced 5 W&B file(s), 0 media file(s), 0 artifact file(s) and 0 other file(s)"
            ],
            "text/plain": [
              "<IPython.core.display.HTML object>"
            ]
          },
          "metadata": {},
          "output_type": "display_data"
        },
        {
          "data": {
            "text/html": [
              "Find logs at: <code>.\\wandb\\run-20250425_213533-2l6je7di\\logs</code>"
            ],
            "text/plain": [
              "<IPython.core.display.HTML object>"
            ]
          },
          "metadata": {},
          "output_type": "display_data"
        },
        {
          "data": {
            "text/html": [
              "creating run (0.4s)"
            ],
            "text/plain": [
              "<IPython.core.display.HTML object>"
            ]
          },
          "metadata": {},
          "output_type": "display_data"
        },
        {
          "data": {
            "text/html": [
              "Tracking run with wandb version 0.19.10"
            ],
            "text/plain": [
              "<IPython.core.display.HTML object>"
            ]
          },
          "metadata": {},
          "output_type": "display_data"
        },
        {
          "data": {
            "text/html": [
              "Run data is saved locally in <code>c:\\Users\\angel\\OneDrive\\uni_projects\\DATA_SCIENCE_ML\\NLP-Aspect-Based-Sentiment-Analysis\\wandb\\run-20250425_213651-dsx1x9ve</code>"
            ],
            "text/plain": [
              "<IPython.core.display.HTML object>"
            ]
          },
          "metadata": {},
          "output_type": "display_data"
        },
        {
          "data": {
            "text/html": [
              "Syncing run <strong><a href='https://wandb.ai/angelajcnto-the-university-of-western-australia/absa-bilstm-attention/runs/dsx1x9ve' target=\"_blank\">HD=100_NL=2_DO=0.3_LR=0.005_BS=64</a></strong> to <a href='https://wandb.ai/angelajcnto-the-university-of-western-australia/absa-bilstm-attention' target=\"_blank\">Weights & Biases</a> (<a href='https://wandb.me/developer-guide' target=\"_blank\">docs</a>)<br>"
            ],
            "text/plain": [
              "<IPython.core.display.HTML object>"
            ]
          },
          "metadata": {},
          "output_type": "display_data"
        },
        {
          "data": {
            "text/html": [
              " View project at <a href='https://wandb.ai/angelajcnto-the-university-of-western-australia/absa-bilstm-attention' target=\"_blank\">https://wandb.ai/angelajcnto-the-university-of-western-australia/absa-bilstm-attention</a>"
            ],
            "text/plain": [
              "<IPython.core.display.HTML object>"
            ]
          },
          "metadata": {},
          "output_type": "display_data"
        },
        {
          "data": {
            "text/html": [
              " View run at <a href='https://wandb.ai/angelajcnto-the-university-of-western-australia/absa-bilstm-attention/runs/dsx1x9ve' target=\"_blank\">https://wandb.ai/angelajcnto-the-university-of-western-australia/absa-bilstm-attention/runs/dsx1x9ve</a>"
            ],
            "text/plain": [
              "<IPython.core.display.HTML object>"
            ]
          },
          "metadata": {},
          "output_type": "display_data"
        },
        {
          "name": "stdout",
          "output_type": "stream",
          "text": [
            "\n",
            "Testing: hidden_dim=100, num_layers=2, dropout=0.3, lr=0.005, batch_size=64\n",
            "Epoch 1/30 | Train Loss: 0.9188 | Train Acc: 59.22% | Val Loss: 0.8759 | Val Acc: 61.37%\n",
            "Epoch 2/30 | Train Loss: 0.8688 | Train Acc: 62.06% | Val Loss: 0.8668 | Val Acc: 60.70%\n",
            "Epoch 3/30 | Train Loss: 0.8429 | Train Acc: 62.89% | Val Loss: 0.8202 | Val Acc: 62.95%\n",
            "Epoch 4/30 | Train Loss: 0.8246 | Train Acc: 63.88% | Val Loss: 0.8032 | Val Acc: 62.84%\n",
            "Epoch 5/30 | Train Loss: 0.8090 | Train Acc: 64.60% | Val Loss: 0.7909 | Val Acc: 63.18%\n",
            "Epoch 6/30 | Train Loss: 0.7838 | Train Acc: 65.75% | Val Loss: 0.7951 | Val Acc: 62.39%\n",
            "Epoch 7/30 | Train Loss: 0.7728 | Train Acc: 65.85% | Val Loss: 0.7892 | Val Acc: 63.51%\n",
            "Epoch 8/30 | Train Loss: 0.7608 | Train Acc: 66.80% | Val Loss: 0.8103 | Val Acc: 63.51%\n",
            "Epoch 9/30 | Train Loss: 0.7396 | Train Acc: 67.50% | Val Loss: 0.7991 | Val Acc: 62.73%\n",
            "Epoch 10/30 | Train Loss: 0.7228 | Train Acc: 68.60% | Val Loss: 0.7989 | Val Acc: 65.32%\n",
            "Epoch 11/30 | Train Loss: 0.7015 | Train Acc: 69.14% | Val Loss: 0.8166 | Val Acc: 62.27%\n",
            "Epoch 12/30 | Train Loss: 0.6948 | Train Acc: 69.18% | Val Loss: 0.8117 | Val Acc: 64.19%\n",
            "Epoch 13/30 | Train Loss: 0.6676 | Train Acc: 70.62% | Val Loss: 0.7892 | Val Acc: 64.98%\n",
            "Epoch 14/30 | Train Loss: 0.6567 | Train Acc: 70.75% | Val Loss: 0.8166 | Val Acc: 62.73%\n",
            "Epoch 15/30 | Train Loss: 0.6283 | Train Acc: 72.82% | Val Loss: 0.8275 | Val Acc: 65.32%\n",
            "Early stopping at epoch 15\n"
          ]
        },
        {
          "data": {
            "text/html": [],
            "text/plain": [
              "<IPython.core.display.HTML object>"
            ]
          },
          "metadata": {},
          "output_type": "display_data"
        },
        {
          "data": {
            "text/html": [
              "<br>    <style><br>        .wandb-row {<br>            display: flex;<br>            flex-direction: row;<br>            flex-wrap: wrap;<br>            justify-content: flex-start;<br>            width: 100%;<br>        }<br>        .wandb-col {<br>            display: flex;<br>            flex-direction: column;<br>            flex-basis: 100%;<br>            flex: 1;<br>            padding: 10px;<br>        }<br>    </style><br><div class=\"wandb-row\"><div class=\"wandb-col\"><h3>Run history:</h3><br/><table class=\"wandb\"><tr><td>epoch</td><td>▁▁▂▃▃▃▄▅▅▅▆▇▇▇█</td></tr><tr><td>final_val_acc</td><td>▁</td></tr><tr><td>train_acc</td><td>▁▂▃▃▄▄▄▅▅▆▆▆▇▇█</td></tr><tr><td>train_loss</td><td>█▇▆▆▅▅▄▄▄▃▃▃▂▂▁</td></tr><tr><td>val_acc</td><td>▂▁▄▄▅▄▅▅▄█▃▆▇▄█</td></tr><tr><td>val_loss</td><td>█▇▄▂▁▁▁▃▂▂▃▃▁▃▄</td></tr></table><br/></div><div class=\"wandb-col\"><h3>Run summary:</h3><br/><table class=\"wandb\"><tr><td>epoch</td><td>15</td></tr><tr><td>final_val_acc</td><td>0.65315</td></tr><tr><td>train_acc</td><td>0.72821</td></tr><tr><td>train_loss</td><td>0.62827</td></tr><tr><td>val_acc</td><td>0.65315</td></tr><tr><td>val_loss</td><td>0.8275</td></tr></table><br/></div></div>"
            ],
            "text/plain": [
              "<IPython.core.display.HTML object>"
            ]
          },
          "metadata": {},
          "output_type": "display_data"
        },
        {
          "data": {
            "text/html": [
              " View run <strong style=\"color:#cdcd00\">HD=100_NL=2_DO=0.3_LR=0.005_BS=64</strong> at: <a href='https://wandb.ai/angelajcnto-the-university-of-western-australia/absa-bilstm-attention/runs/dsx1x9ve' target=\"_blank\">https://wandb.ai/angelajcnto-the-university-of-western-australia/absa-bilstm-attention/runs/dsx1x9ve</a><br> View project at: <a href='https://wandb.ai/angelajcnto-the-university-of-western-australia/absa-bilstm-attention' target=\"_blank\">https://wandb.ai/angelajcnto-the-university-of-western-australia/absa-bilstm-attention</a><br>Synced 5 W&B file(s), 0 media file(s), 0 artifact file(s) and 0 other file(s)"
            ],
            "text/plain": [
              "<IPython.core.display.HTML object>"
            ]
          },
          "metadata": {},
          "output_type": "display_data"
        },
        {
          "data": {
            "text/html": [
              "Find logs at: <code>.\\wandb\\run-20250425_213651-dsx1x9ve\\logs</code>"
            ],
            "text/plain": [
              "<IPython.core.display.HTML object>"
            ]
          },
          "metadata": {},
          "output_type": "display_data"
        },
        {
          "data": {
            "text/html": [
              "Tracking run with wandb version 0.19.10"
            ],
            "text/plain": [
              "<IPython.core.display.HTML object>"
            ]
          },
          "metadata": {},
          "output_type": "display_data"
        },
        {
          "data": {
            "text/html": [
              "Run data is saved locally in <code>c:\\Users\\angel\\OneDrive\\uni_projects\\DATA_SCIENCE_ML\\NLP-Aspect-Based-Sentiment-Analysis\\wandb\\run-20250425_213738-tsstllh7</code>"
            ],
            "text/plain": [
              "<IPython.core.display.HTML object>"
            ]
          },
          "metadata": {},
          "output_type": "display_data"
        },
        {
          "data": {
            "text/html": [
              "Syncing run <strong><a href='https://wandb.ai/angelajcnto-the-university-of-western-australia/absa-bilstm-attention/runs/tsstllh7' target=\"_blank\">HD=100_NL=2_DO=0.3_LR=0.005_BS=128</a></strong> to <a href='https://wandb.ai/angelajcnto-the-university-of-western-australia/absa-bilstm-attention' target=\"_blank\">Weights & Biases</a> (<a href='https://wandb.me/developer-guide' target=\"_blank\">docs</a>)<br>"
            ],
            "text/plain": [
              "<IPython.core.display.HTML object>"
            ]
          },
          "metadata": {},
          "output_type": "display_data"
        },
        {
          "data": {
            "text/html": [
              " View project at <a href='https://wandb.ai/angelajcnto-the-university-of-western-australia/absa-bilstm-attention' target=\"_blank\">https://wandb.ai/angelajcnto-the-university-of-western-australia/absa-bilstm-attention</a>"
            ],
            "text/plain": [
              "<IPython.core.display.HTML object>"
            ]
          },
          "metadata": {},
          "output_type": "display_data"
        },
        {
          "data": {
            "text/html": [
              " View run at <a href='https://wandb.ai/angelajcnto-the-university-of-western-australia/absa-bilstm-attention/runs/tsstllh7' target=\"_blank\">https://wandb.ai/angelajcnto-the-university-of-western-australia/absa-bilstm-attention/runs/tsstllh7</a>"
            ],
            "text/plain": [
              "<IPython.core.display.HTML object>"
            ]
          },
          "metadata": {},
          "output_type": "display_data"
        },
        {
          "name": "stdout",
          "output_type": "stream",
          "text": [
            "\n",
            "Testing: hidden_dim=100, num_layers=2, dropout=0.3, lr=0.005, batch_size=128\n",
            "Epoch 1/30 | Train Loss: 0.9131 | Train Acc: 59.42% | Val Loss: 0.8569 | Val Acc: 60.70%\n",
            "Epoch 2/30 | Train Loss: 0.8624 | Train Acc: 62.38% | Val Loss: 0.8208 | Val Acc: 62.73%\n",
            "Epoch 3/30 | Train Loss: 0.8447 | Train Acc: 63.16% | Val Loss: 0.8223 | Val Acc: 63.06%\n",
            "Epoch 4/30 | Train Loss: 0.8166 | Train Acc: 64.08% | Val Loss: 0.8220 | Val Acc: 65.65%\n",
            "Epoch 5/30 | Train Loss: 0.7949 | Train Acc: 65.29% | Val Loss: 0.7845 | Val Acc: 64.86%\n",
            "Epoch 6/30 | Train Loss: 0.7699 | Train Acc: 66.38% | Val Loss: 0.7818 | Val Acc: 66.44%\n",
            "Epoch 7/30 | Train Loss: 0.7401 | Train Acc: 67.83% | Val Loss: 0.7702 | Val Acc: 65.43%\n",
            "Epoch 8/30 | Train Loss: 0.7148 | Train Acc: 69.45% | Val Loss: 0.7873 | Val Acc: 65.54%\n",
            "Epoch 9/30 | Train Loss: 0.6955 | Train Acc: 69.90% | Val Loss: 0.8194 | Val Acc: 62.16%\n",
            "Epoch 10/30 | Train Loss: 0.6733 | Train Acc: 70.94% | Val Loss: 0.7913 | Val Acc: 66.78%\n",
            "Epoch 11/30 | Train Loss: 0.6496 | Train Acc: 71.50% | Val Loss: 0.8310 | Val Acc: 63.63%\n",
            "Epoch 12/30 | Train Loss: 0.6163 | Train Acc: 72.86% | Val Loss: 0.8951 | Val Acc: 61.60%\n",
            "Epoch 13/30 | Train Loss: 0.5872 | Train Acc: 75.13% | Val Loss: 0.8875 | Val Acc: 66.44%\n",
            "Epoch 14/30 | Train Loss: 0.5749 | Train Acc: 75.56% | Val Loss: 0.8273 | Val Acc: 64.53%\n",
            "Epoch 15/30 | Train Loss: 0.5478 | Train Acc: 76.40% | Val Loss: 0.9083 | Val Acc: 63.40%\n",
            "Early stopping at epoch 15\n"
          ]
        },
        {
          "data": {
            "text/html": [],
            "text/plain": [
              "<IPython.core.display.HTML object>"
            ]
          },
          "metadata": {},
          "output_type": "display_data"
        },
        {
          "data": {
            "text/html": [
              "<br>    <style><br>        .wandb-row {<br>            display: flex;<br>            flex-direction: row;<br>            flex-wrap: wrap;<br>            justify-content: flex-start;<br>            width: 100%;<br>        }<br>        .wandb-col {<br>            display: flex;<br>            flex-direction: column;<br>            flex-basis: 100%;<br>            flex: 1;<br>            padding: 10px;<br>        }<br>    </style><br><div class=\"wandb-row\"><div class=\"wandb-col\"><h3>Run history:</h3><br/><table class=\"wandb\"><tr><td>epoch</td><td>▁▁▂▃▃▃▄▅▅▅▆▇▇▇█</td></tr><tr><td>final_val_acc</td><td>▁</td></tr><tr><td>train_acc</td><td>▁▂▃▃▃▄▄▅▅▆▆▇▇██</td></tr><tr><td>train_loss</td><td>█▇▇▆▆▅▅▄▄▃▃▂▂▂▁</td></tr><tr><td>val_acc</td><td>▁▃▄▇▆█▆▇▃█▄▂█▅▄</td></tr><tr><td>val_loss</td><td>▅▄▄▄▂▂▁▂▃▂▄▇▇▄█</td></tr></table><br/></div><div class=\"wandb-col\"><h3>Run summary:</h3><br/><table class=\"wandb\"><tr><td>epoch</td><td>15</td></tr><tr><td>final_val_acc</td><td>0.63401</td></tr><tr><td>train_acc</td><td>0.76403</td></tr><tr><td>train_loss</td><td>0.54778</td></tr><tr><td>val_acc</td><td>0.63401</td></tr><tr><td>val_loss</td><td>0.90831</td></tr></table><br/></div></div>"
            ],
            "text/plain": [
              "<IPython.core.display.HTML object>"
            ]
          },
          "metadata": {},
          "output_type": "display_data"
        },
        {
          "data": {
            "text/html": [
              " View run <strong style=\"color:#cdcd00\">HD=100_NL=2_DO=0.3_LR=0.005_BS=128</strong> at: <a href='https://wandb.ai/angelajcnto-the-university-of-western-australia/absa-bilstm-attention/runs/tsstllh7' target=\"_blank\">https://wandb.ai/angelajcnto-the-university-of-western-australia/absa-bilstm-attention/runs/tsstllh7</a><br> View project at: <a href='https://wandb.ai/angelajcnto-the-university-of-western-australia/absa-bilstm-attention' target=\"_blank\">https://wandb.ai/angelajcnto-the-university-of-western-australia/absa-bilstm-attention</a><br>Synced 5 W&B file(s), 0 media file(s), 0 artifact file(s) and 0 other file(s)"
            ],
            "text/plain": [
              "<IPython.core.display.HTML object>"
            ]
          },
          "metadata": {},
          "output_type": "display_data"
        },
        {
          "data": {
            "text/html": [
              "Find logs at: <code>.\\wandb\\run-20250425_213738-tsstllh7\\logs</code>"
            ],
            "text/plain": [
              "<IPython.core.display.HTML object>"
            ]
          },
          "metadata": {},
          "output_type": "display_data"
        },
        {
          "data": {
            "text/html": [
              "Tracking run with wandb version 0.19.10"
            ],
            "text/plain": [
              "<IPython.core.display.HTML object>"
            ]
          },
          "metadata": {},
          "output_type": "display_data"
        },
        {
          "data": {
            "text/html": [
              "Run data is saved locally in <code>c:\\Users\\angel\\OneDrive\\uni_projects\\DATA_SCIENCE_ML\\NLP-Aspect-Based-Sentiment-Analysis\\wandb\\run-20250425_213822-yt8o4esr</code>"
            ],
            "text/plain": [
              "<IPython.core.display.HTML object>"
            ]
          },
          "metadata": {},
          "output_type": "display_data"
        },
        {
          "data": {
            "text/html": [
              "Syncing run <strong><a href='https://wandb.ai/angelajcnto-the-university-of-western-australia/absa-bilstm-attention/runs/yt8o4esr' target=\"_blank\">HD=100_NL=2_DO=0.3_LR=0.001_BS=32</a></strong> to <a href='https://wandb.ai/angelajcnto-the-university-of-western-australia/absa-bilstm-attention' target=\"_blank\">Weights & Biases</a> (<a href='https://wandb.me/developer-guide' target=\"_blank\">docs</a>)<br>"
            ],
            "text/plain": [
              "<IPython.core.display.HTML object>"
            ]
          },
          "metadata": {},
          "output_type": "display_data"
        },
        {
          "data": {
            "text/html": [
              " View project at <a href='https://wandb.ai/angelajcnto-the-university-of-western-australia/absa-bilstm-attention' target=\"_blank\">https://wandb.ai/angelajcnto-the-university-of-western-australia/absa-bilstm-attention</a>"
            ],
            "text/plain": [
              "<IPython.core.display.HTML object>"
            ]
          },
          "metadata": {},
          "output_type": "display_data"
        },
        {
          "data": {
            "text/html": [
              " View run at <a href='https://wandb.ai/angelajcnto-the-university-of-western-australia/absa-bilstm-attention/runs/yt8o4esr' target=\"_blank\">https://wandb.ai/angelajcnto-the-university-of-western-australia/absa-bilstm-attention/runs/yt8o4esr</a>"
            ],
            "text/plain": [
              "<IPython.core.display.HTML object>"
            ]
          },
          "metadata": {},
          "output_type": "display_data"
        },
        {
          "name": "stdout",
          "output_type": "stream",
          "text": [
            "\n",
            "Testing: hidden_dim=100, num_layers=2, dropout=0.3, lr=0.001, batch_size=32\n",
            "Epoch 1/30 | Train Loss: 0.9059 | Train Acc: 60.44% | Val Loss: 0.8555 | Val Acc: 61.37%\n",
            "Epoch 2/30 | Train Loss: 0.8490 | Train Acc: 62.74% | Val Loss: 0.8224 | Val Acc: 62.50%\n",
            "Epoch 3/30 | Train Loss: 0.8325 | Train Acc: 63.34% | Val Loss: 0.8203 | Val Acc: 62.61%\n",
            "Epoch 4/30 | Train Loss: 0.8135 | Train Acc: 64.99% | Val Loss: 0.8006 | Val Acc: 63.18%\n",
            "Epoch 5/30 | Train Loss: 0.7888 | Train Acc: 65.59% | Val Loss: 0.8022 | Val Acc: 63.96%\n",
            "Epoch 6/30 | Train Loss: 0.7649 | Train Acc: 67.05% | Val Loss: 0.8139 | Val Acc: 63.29%\n",
            "Epoch 7/30 | Train Loss: 0.7370 | Train Acc: 68.00% | Val Loss: 0.7939 | Val Acc: 65.43%\n",
            "Epoch 8/30 | Train Loss: 0.6967 | Train Acc: 70.37% | Val Loss: 0.8545 | Val Acc: 63.29%\n",
            "Epoch 9/30 | Train Loss: 0.6528 | Train Acc: 71.72% | Val Loss: 0.8515 | Val Acc: 63.74%\n",
            "Epoch 10/30 | Train Loss: 0.5905 | Train Acc: 74.57% | Val Loss: 0.8529 | Val Acc: 64.41%\n",
            "Epoch 11/30 | Train Loss: 0.5282 | Train Acc: 77.49% | Val Loss: 0.9967 | Val Acc: 63.40%\n",
            "Epoch 12/30 | Train Loss: 0.4568 | Train Acc: 80.51% | Val Loss: 1.0101 | Val Acc: 63.96%\n",
            "Early stopping at epoch 12\n"
          ]
        },
        {
          "data": {
            "text/html": [],
            "text/plain": [
              "<IPython.core.display.HTML object>"
            ]
          },
          "metadata": {},
          "output_type": "display_data"
        },
        {
          "data": {
            "text/html": [
              "<br>    <style><br>        .wandb-row {<br>            display: flex;<br>            flex-direction: row;<br>            flex-wrap: wrap;<br>            justify-content: flex-start;<br>            width: 100%;<br>        }<br>        .wandb-col {<br>            display: flex;<br>            flex-direction: column;<br>            flex-basis: 100%;<br>            flex: 1;<br>            padding: 10px;<br>        }<br>    </style><br><div class=\"wandb-row\"><div class=\"wandb-col\"><h3>Run history:</h3><br/><table class=\"wandb\"><tr><td>epoch</td><td>▁▂▂▃▄▄▅▅▆▇▇█</td></tr><tr><td>final_val_acc</td><td>▁</td></tr><tr><td>train_acc</td><td>▁▂▂▃▃▃▄▄▅▆▇█</td></tr><tr><td>train_loss</td><td>█▇▇▇▆▆▅▅▄▃▂▁</td></tr><tr><td>val_acc</td><td>▁▃▃▄▅▄█▄▅▆▅▅</td></tr><tr><td>val_loss</td><td>▃▂▂▁▁▂▁▃▃▃██</td></tr></table><br/></div><div class=\"wandb-col\"><h3>Run summary:</h3><br/><table class=\"wandb\"><tr><td>epoch</td><td>12</td></tr><tr><td>final_val_acc</td><td>0.63964</td></tr><tr><td>train_acc</td><td>0.80508</td></tr><tr><td>train_loss</td><td>0.45679</td></tr><tr><td>val_acc</td><td>0.63964</td></tr><tr><td>val_loss</td><td>1.01012</td></tr></table><br/></div></div>"
            ],
            "text/plain": [
              "<IPython.core.display.HTML object>"
            ]
          },
          "metadata": {},
          "output_type": "display_data"
        },
        {
          "data": {
            "text/html": [
              " View run <strong style=\"color:#cdcd00\">HD=100_NL=2_DO=0.3_LR=0.001_BS=32</strong> at: <a href='https://wandb.ai/angelajcnto-the-university-of-western-australia/absa-bilstm-attention/runs/yt8o4esr' target=\"_blank\">https://wandb.ai/angelajcnto-the-university-of-western-australia/absa-bilstm-attention/runs/yt8o4esr</a><br> View project at: <a href='https://wandb.ai/angelajcnto-the-university-of-western-australia/absa-bilstm-attention' target=\"_blank\">https://wandb.ai/angelajcnto-the-university-of-western-australia/absa-bilstm-attention</a><br>Synced 5 W&B file(s), 0 media file(s), 0 artifact file(s) and 0 other file(s)"
            ],
            "text/plain": [
              "<IPython.core.display.HTML object>"
            ]
          },
          "metadata": {},
          "output_type": "display_data"
        },
        {
          "data": {
            "text/html": [
              "Find logs at: <code>.\\wandb\\run-20250425_213822-yt8o4esr\\logs</code>"
            ],
            "text/plain": [
              "<IPython.core.display.HTML object>"
            ]
          },
          "metadata": {},
          "output_type": "display_data"
        },
        {
          "data": {
            "text/html": [
              "Tracking run with wandb version 0.19.10"
            ],
            "text/plain": [
              "<IPython.core.display.HTML object>"
            ]
          },
          "metadata": {},
          "output_type": "display_data"
        },
        {
          "data": {
            "text/html": [
              "Run data is saved locally in <code>c:\\Users\\angel\\OneDrive\\uni_projects\\DATA_SCIENCE_ML\\NLP-Aspect-Based-Sentiment-Analysis\\wandb\\run-20250425_213903-ghfp51ur</code>"
            ],
            "text/plain": [
              "<IPython.core.display.HTML object>"
            ]
          },
          "metadata": {},
          "output_type": "display_data"
        },
        {
          "data": {
            "text/html": [
              "Syncing run <strong><a href='https://wandb.ai/angelajcnto-the-university-of-western-australia/absa-bilstm-attention/runs/ghfp51ur' target=\"_blank\">HD=100_NL=2_DO=0.3_LR=0.001_BS=64</a></strong> to <a href='https://wandb.ai/angelajcnto-the-university-of-western-australia/absa-bilstm-attention' target=\"_blank\">Weights & Biases</a> (<a href='https://wandb.me/developer-guide' target=\"_blank\">docs</a>)<br>"
            ],
            "text/plain": [
              "<IPython.core.display.HTML object>"
            ]
          },
          "metadata": {},
          "output_type": "display_data"
        },
        {
          "data": {
            "text/html": [
              " View project at <a href='https://wandb.ai/angelajcnto-the-university-of-western-australia/absa-bilstm-attention' target=\"_blank\">https://wandb.ai/angelajcnto-the-university-of-western-australia/absa-bilstm-attention</a>"
            ],
            "text/plain": [
              "<IPython.core.display.HTML object>"
            ]
          },
          "metadata": {},
          "output_type": "display_data"
        },
        {
          "data": {
            "text/html": [
              " View run at <a href='https://wandb.ai/angelajcnto-the-university-of-western-australia/absa-bilstm-attention/runs/ghfp51ur' target=\"_blank\">https://wandb.ai/angelajcnto-the-university-of-western-australia/absa-bilstm-attention/runs/ghfp51ur</a>"
            ],
            "text/plain": [
              "<IPython.core.display.HTML object>"
            ]
          },
          "metadata": {},
          "output_type": "display_data"
        },
        {
          "name": "stdout",
          "output_type": "stream",
          "text": [
            "\n",
            "Testing: hidden_dim=100, num_layers=2, dropout=0.3, lr=0.001, batch_size=64\n",
            "Epoch 1/30 | Train Loss: 0.9145 | Train Acc: 58.98% | Val Loss: 0.8581 | Val Acc: 61.26%\n",
            "Epoch 2/30 | Train Loss: 0.8610 | Train Acc: 61.83% | Val Loss: 0.8295 | Val Acc: 63.63%\n",
            "Epoch 3/30 | Train Loss: 0.8364 | Train Acc: 63.53% | Val Loss: 0.8159 | Val Acc: 63.06%\n",
            "Epoch 4/30 | Train Loss: 0.8201 | Train Acc: 64.68% | Val Loss: 0.7973 | Val Acc: 64.19%\n",
            "Epoch 5/30 | Train Loss: 0.7993 | Train Acc: 65.02% | Val Loss: 0.8020 | Val Acc: 63.63%\n",
            "Epoch 6/30 | Train Loss: 0.7765 | Train Acc: 66.08% | Val Loss: 0.7883 | Val Acc: 65.65%\n",
            "Epoch 7/30 | Train Loss: 0.7545 | Train Acc: 66.81% | Val Loss: 0.7887 | Val Acc: 63.74%\n",
            "Epoch 8/30 | Train Loss: 0.7211 | Train Acc: 68.31% | Val Loss: 0.8396 | Val Acc: 62.73%\n",
            "Epoch 9/30 | Train Loss: 0.6868 | Train Acc: 69.86% | Val Loss: 0.8054 | Val Acc: 65.32%\n",
            "Epoch 10/30 | Train Loss: 0.6416 | Train Acc: 72.26% | Val Loss: 0.8179 | Val Acc: 65.65%\n",
            "Epoch 11/30 | Train Loss: 0.5877 | Train Acc: 74.70% | Val Loss: 0.8152 | Val Acc: 67.12%\n",
            "Epoch 12/30 | Train Loss: 0.5301 | Train Acc: 77.40% | Val Loss: 0.9298 | Val Acc: 64.64%\n",
            "Epoch 13/30 | Train Loss: 0.4648 | Train Acc: 80.51% | Val Loss: 0.9467 | Val Acc: 64.98%\n",
            "Epoch 14/30 | Train Loss: 0.3994 | Train Acc: 83.43% | Val Loss: 1.0756 | Val Acc: 64.19%\n",
            "Epoch 15/30 | Train Loss: 0.3490 | Train Acc: 85.68% | Val Loss: 1.1974 | Val Acc: 65.43%\n",
            "Epoch 16/30 | Train Loss: 0.2987 | Train Acc: 87.97% | Val Loss: 1.2606 | Val Acc: 64.41%\n",
            "Early stopping at epoch 16\n"
          ]
        },
        {
          "data": {
            "text/html": [],
            "text/plain": [
              "<IPython.core.display.HTML object>"
            ]
          },
          "metadata": {},
          "output_type": "display_data"
        },
        {
          "data": {
            "text/html": [
              "<br>    <style><br>        .wandb-row {<br>            display: flex;<br>            flex-direction: row;<br>            flex-wrap: wrap;<br>            justify-content: flex-start;<br>            width: 100%;<br>        }<br>        .wandb-col {<br>            display: flex;<br>            flex-direction: column;<br>            flex-basis: 100%;<br>            flex: 1;<br>            padding: 10px;<br>        }<br>    </style><br><div class=\"wandb-row\"><div class=\"wandb-col\"><h3>Run history:</h3><br/><table class=\"wandb\"><tr><td>epoch</td><td>▁▁▂▂▃▃▄▄▅▅▆▆▇▇██</td></tr><tr><td>final_val_acc</td><td>▁</td></tr><tr><td>train_acc</td><td>▁▂▂▂▂▃▃▃▄▄▅▅▆▇▇█</td></tr><tr><td>train_loss</td><td>█▇▇▇▇▆▆▆▅▅▄▄▃▂▂▁</td></tr><tr><td>val_acc</td><td>▁▄▃▅▄▆▄▃▆▆█▅▅▅▆▅</td></tr><tr><td>val_loss</td><td>▂▂▁▁▁▁▁▂▁▁▁▃▃▅▇█</td></tr></table><br/></div><div class=\"wandb-col\"><h3>Run summary:</h3><br/><table class=\"wandb\"><tr><td>epoch</td><td>16</td></tr><tr><td>final_val_acc</td><td>0.64414</td></tr><tr><td>train_acc</td><td>0.87969</td></tr><tr><td>train_loss</td><td>0.29874</td></tr><tr><td>val_acc</td><td>0.64414</td></tr><tr><td>val_loss</td><td>1.26059</td></tr></table><br/></div></div>"
            ],
            "text/plain": [
              "<IPython.core.display.HTML object>"
            ]
          },
          "metadata": {},
          "output_type": "display_data"
        },
        {
          "data": {
            "text/html": [
              " View run <strong style=\"color:#cdcd00\">HD=100_NL=2_DO=0.3_LR=0.001_BS=64</strong> at: <a href='https://wandb.ai/angelajcnto-the-university-of-western-australia/absa-bilstm-attention/runs/ghfp51ur' target=\"_blank\">https://wandb.ai/angelajcnto-the-university-of-western-australia/absa-bilstm-attention/runs/ghfp51ur</a><br> View project at: <a href='https://wandb.ai/angelajcnto-the-university-of-western-australia/absa-bilstm-attention' target=\"_blank\">https://wandb.ai/angelajcnto-the-university-of-western-australia/absa-bilstm-attention</a><br>Synced 5 W&B file(s), 0 media file(s), 0 artifact file(s) and 0 other file(s)"
            ],
            "text/plain": [
              "<IPython.core.display.HTML object>"
            ]
          },
          "metadata": {},
          "output_type": "display_data"
        },
        {
          "data": {
            "text/html": [
              "Find logs at: <code>.\\wandb\\run-20250425_213903-ghfp51ur\\logs</code>"
            ],
            "text/plain": [
              "<IPython.core.display.HTML object>"
            ]
          },
          "metadata": {},
          "output_type": "display_data"
        },
        {
          "data": {
            "text/html": [
              "Tracking run with wandb version 0.19.10"
            ],
            "text/plain": [
              "<IPython.core.display.HTML object>"
            ]
          },
          "metadata": {},
          "output_type": "display_data"
        },
        {
          "data": {
            "text/html": [
              "Run data is saved locally in <code>c:\\Users\\angel\\OneDrive\\uni_projects\\DATA_SCIENCE_ML\\NLP-Aspect-Based-Sentiment-Analysis\\wandb\\run-20250425_213953-4vfewgek</code>"
            ],
            "text/plain": [
              "<IPython.core.display.HTML object>"
            ]
          },
          "metadata": {},
          "output_type": "display_data"
        },
        {
          "data": {
            "text/html": [
              "Syncing run <strong><a href='https://wandb.ai/angelajcnto-the-university-of-western-australia/absa-bilstm-attention/runs/4vfewgek' target=\"_blank\">HD=100_NL=2_DO=0.3_LR=0.001_BS=128</a></strong> to <a href='https://wandb.ai/angelajcnto-the-university-of-western-australia/absa-bilstm-attention' target=\"_blank\">Weights & Biases</a> (<a href='https://wandb.me/developer-guide' target=\"_blank\">docs</a>)<br>"
            ],
            "text/plain": [
              "<IPython.core.display.HTML object>"
            ]
          },
          "metadata": {},
          "output_type": "display_data"
        },
        {
          "data": {
            "text/html": [
              " View project at <a href='https://wandb.ai/angelajcnto-the-university-of-western-australia/absa-bilstm-attention' target=\"_blank\">https://wandb.ai/angelajcnto-the-university-of-western-australia/absa-bilstm-attention</a>"
            ],
            "text/plain": [
              "<IPython.core.display.HTML object>"
            ]
          },
          "metadata": {},
          "output_type": "display_data"
        },
        {
          "data": {
            "text/html": [
              " View run at <a href='https://wandb.ai/angelajcnto-the-university-of-western-australia/absa-bilstm-attention/runs/4vfewgek' target=\"_blank\">https://wandb.ai/angelajcnto-the-university-of-western-australia/absa-bilstm-attention/runs/4vfewgek</a>"
            ],
            "text/plain": [
              "<IPython.core.display.HTML object>"
            ]
          },
          "metadata": {},
          "output_type": "display_data"
        },
        {
          "name": "stdout",
          "output_type": "stream",
          "text": [
            "\n",
            "Testing: hidden_dim=100, num_layers=2, dropout=0.3, lr=0.001, batch_size=128\n",
            "Epoch 1/30 | Train Loss: 0.9298 | Train Acc: 58.80% | Val Loss: 0.8694 | Val Acc: 60.92%\n",
            "Epoch 2/30 | Train Loss: 0.8690 | Train Acc: 61.99% | Val Loss: 0.8352 | Val Acc: 60.92%\n",
            "Epoch 3/30 | Train Loss: 0.8503 | Train Acc: 62.67% | Val Loss: 0.8257 | Val Acc: 63.06%\n",
            "Epoch 4/30 | Train Loss: 0.8286 | Train Acc: 63.44% | Val Loss: 0.8073 | Val Acc: 63.96%\n",
            "Epoch 5/30 | Train Loss: 0.8140 | Train Acc: 64.15% | Val Loss: 0.8038 | Val Acc: 63.85%\n",
            "Epoch 6/30 | Train Loss: 0.7971 | Train Acc: 65.18% | Val Loss: 0.8293 | Val Acc: 63.96%\n",
            "Epoch 7/30 | Train Loss: 0.7849 | Train Acc: 65.97% | Val Loss: 0.7986 | Val Acc: 63.40%\n",
            "Epoch 8/30 | Train Loss: 0.7612 | Train Acc: 67.32% | Val Loss: 0.8066 | Val Acc: 63.40%\n",
            "Epoch 9/30 | Train Loss: 0.7425 | Train Acc: 68.04% | Val Loss: 0.7905 | Val Acc: 66.10%\n",
            "Epoch 10/30 | Train Loss: 0.7203 | Train Acc: 68.72% | Val Loss: 0.8016 | Val Acc: 64.86%\n",
            "Epoch 11/30 | Train Loss: 0.6836 | Train Acc: 70.93% | Val Loss: 0.8459 | Val Acc: 62.50%\n",
            "Epoch 12/30 | Train Loss: 0.6455 | Train Acc: 71.69% | Val Loss: 0.8451 | Val Acc: 64.41%\n",
            "Epoch 13/30 | Train Loss: 0.5956 | Train Acc: 74.57% | Val Loss: 0.8769 | Val Acc: 63.85%\n",
            "Epoch 14/30 | Train Loss: 0.5514 | Train Acc: 76.76% | Val Loss: 0.9161 | Val Acc: 66.55%\n",
            "Epoch 15/30 | Train Loss: 0.4906 | Train Acc: 80.04% | Val Loss: 0.9471 | Val Acc: 62.61%\n",
            "Epoch 16/30 | Train Loss: 0.4341 | Train Acc: 82.20% | Val Loss: 1.0032 | Val Acc: 62.95%\n",
            "Epoch 17/30 | Train Loss: 0.3887 | Train Acc: 84.75% | Val Loss: 1.1031 | Val Acc: 64.41%\n",
            "Epoch 18/30 | Train Loss: 0.3303 | Train Acc: 86.84% | Val Loss: 1.2366 | Val Acc: 63.40%\n",
            "Epoch 19/30 | Train Loss: 0.2900 | Train Acc: 88.86% | Val Loss: 1.3714 | Val Acc: 58.33%\n",
            "Early stopping at epoch 19\n"
          ]
        },
        {
          "data": {
            "text/html": [],
            "text/plain": [
              "<IPython.core.display.HTML object>"
            ]
          },
          "metadata": {},
          "output_type": "display_data"
        },
        {
          "data": {
            "text/html": [
              "<br>    <style><br>        .wandb-row {<br>            display: flex;<br>            flex-direction: row;<br>            flex-wrap: wrap;<br>            justify-content: flex-start;<br>            width: 100%;<br>        }<br>        .wandb-col {<br>            display: flex;<br>            flex-direction: column;<br>            flex-basis: 100%;<br>            flex: 1;<br>            padding: 10px;<br>        }<br>    </style><br><div class=\"wandb-row\"><div class=\"wandb-col\"><h3>Run history:</h3><br/><table class=\"wandb\"><tr><td>epoch</td><td>▁▁▂▂▃▃▃▄▄▅▅▅▆▆▆▇▇██</td></tr><tr><td>final_val_acc</td><td>▁</td></tr><tr><td>train_acc</td><td>▁▂▂▂▂▂▃▃▃▃▄▄▅▅▆▆▇██</td></tr><tr><td>train_loss</td><td>█▇▇▇▇▇▆▆▆▆▅▅▄▄▃▃▂▁▁</td></tr><tr><td>val_acc</td><td>▃▃▅▆▆▆▅▅█▇▅▆▆█▅▅▆▅▁</td></tr><tr><td>val_loss</td><td>▂▂▁▁▁▁▁▁▁▁▂▂▂▃▃▄▅▆█</td></tr></table><br/></div><div class=\"wandb-col\"><h3>Run summary:</h3><br/><table class=\"wandb\"><tr><td>epoch</td><td>19</td></tr><tr><td>final_val_acc</td><td>0.58333</td></tr><tr><td>train_acc</td><td>0.88858</td></tr><tr><td>train_loss</td><td>0.29002</td></tr><tr><td>val_acc</td><td>0.58333</td></tr><tr><td>val_loss</td><td>1.37136</td></tr></table><br/></div></div>"
            ],
            "text/plain": [
              "<IPython.core.display.HTML object>"
            ]
          },
          "metadata": {},
          "output_type": "display_data"
        },
        {
          "data": {
            "text/html": [
              " View run <strong style=\"color:#cdcd00\">HD=100_NL=2_DO=0.3_LR=0.001_BS=128</strong> at: <a href='https://wandb.ai/angelajcnto-the-university-of-western-australia/absa-bilstm-attention/runs/4vfewgek' target=\"_blank\">https://wandb.ai/angelajcnto-the-university-of-western-australia/absa-bilstm-attention/runs/4vfewgek</a><br> View project at: <a href='https://wandb.ai/angelajcnto-the-university-of-western-australia/absa-bilstm-attention' target=\"_blank\">https://wandb.ai/angelajcnto-the-university-of-western-australia/absa-bilstm-attention</a><br>Synced 5 W&B file(s), 0 media file(s), 0 artifact file(s) and 0 other file(s)"
            ],
            "text/plain": [
              "<IPython.core.display.HTML object>"
            ]
          },
          "metadata": {},
          "output_type": "display_data"
        },
        {
          "data": {
            "text/html": [
              "Find logs at: <code>.\\wandb\\run-20250425_213953-4vfewgek\\logs</code>"
            ],
            "text/plain": [
              "<IPython.core.display.HTML object>"
            ]
          },
          "metadata": {},
          "output_type": "display_data"
        },
        {
          "data": {
            "text/html": [
              "Waiting for wandb.init()..."
            ],
            "text/plain": [
              "<IPython.core.display.HTML object>"
            ]
          },
          "metadata": {},
          "output_type": "display_data"
        },
        {
          "data": {
            "text/html": [
              "Tracking run with wandb version 0.19.10"
            ],
            "text/plain": [
              "<IPython.core.display.HTML object>"
            ]
          },
          "metadata": {},
          "output_type": "display_data"
        },
        {
          "data": {
            "text/html": [
              "Run data is saved locally in <code>c:\\Users\\angel\\OneDrive\\uni_projects\\DATA_SCIENCE_ML\\NLP-Aspect-Based-Sentiment-Analysis\\wandb\\run-20250425_214051-u3646ji1</code>"
            ],
            "text/plain": [
              "<IPython.core.display.HTML object>"
            ]
          },
          "metadata": {},
          "output_type": "display_data"
        },
        {
          "data": {
            "text/html": [
              "Syncing run <strong><a href='https://wandb.ai/angelajcnto-the-university-of-western-australia/absa-bilstm-attention/runs/u3646ji1' target=\"_blank\">HD=100_NL=2_DO=0.5_LR=0.01_BS=32</a></strong> to <a href='https://wandb.ai/angelajcnto-the-university-of-western-australia/absa-bilstm-attention' target=\"_blank\">Weights & Biases</a> (<a href='https://wandb.me/developer-guide' target=\"_blank\">docs</a>)<br>"
            ],
            "text/plain": [
              "<IPython.core.display.HTML object>"
            ]
          },
          "metadata": {},
          "output_type": "display_data"
        },
        {
          "data": {
            "text/html": [
              " View project at <a href='https://wandb.ai/angelajcnto-the-university-of-western-australia/absa-bilstm-attention' target=\"_blank\">https://wandb.ai/angelajcnto-the-university-of-western-australia/absa-bilstm-attention</a>"
            ],
            "text/plain": [
              "<IPython.core.display.HTML object>"
            ]
          },
          "metadata": {},
          "output_type": "display_data"
        },
        {
          "data": {
            "text/html": [
              " View run at <a href='https://wandb.ai/angelajcnto-the-university-of-western-australia/absa-bilstm-attention/runs/u3646ji1' target=\"_blank\">https://wandb.ai/angelajcnto-the-university-of-western-australia/absa-bilstm-attention/runs/u3646ji1</a>"
            ],
            "text/plain": [
              "<IPython.core.display.HTML object>"
            ]
          },
          "metadata": {},
          "output_type": "display_data"
        },
        {
          "name": "stdout",
          "output_type": "stream",
          "text": [
            "\n",
            "Testing: hidden_dim=100, num_layers=2, dropout=0.5, lr=0.01, batch_size=32\n",
            "Epoch 1/30 | Train Loss: 0.9453 | Train Acc: 57.57% | Val Loss: 0.9167 | Val Acc: 61.26%\n",
            "Epoch 2/30 | Train Loss: 0.8977 | Train Acc: 60.20% | Val Loss: 0.8510 | Val Acc: 59.80%\n",
            "Epoch 3/30 | Train Loss: 0.8701 | Train Acc: 61.69% | Val Loss: 0.8455 | Val Acc: 61.94%\n",
            "Epoch 4/30 | Train Loss: 0.8703 | Train Acc: 61.72% | Val Loss: 0.8411 | Val Acc: 60.47%\n",
            "Epoch 5/30 | Train Loss: 0.8627 | Train Acc: 61.73% | Val Loss: 0.9664 | Val Acc: 61.82%\n",
            "Epoch 6/30 | Train Loss: 0.8625 | Train Acc: 62.79% | Val Loss: 0.8170 | Val Acc: 61.82%\n",
            "Epoch 7/30 | Train Loss: 0.8583 | Train Acc: 62.76% | Val Loss: 0.8290 | Val Acc: 62.16%\n",
            "Epoch 8/30 | Train Loss: 0.8515 | Train Acc: 62.54% | Val Loss: 0.8433 | Val Acc: 62.50%\n",
            "Epoch 9/30 | Train Loss: 0.8474 | Train Acc: 62.69% | Val Loss: 0.8336 | Val Acc: 62.95%\n",
            "Epoch 10/30 | Train Loss: 0.8457 | Train Acc: 62.86% | Val Loss: 0.7991 | Val Acc: 63.51%\n",
            "Epoch 11/30 | Train Loss: 0.8417 | Train Acc: 63.31% | Val Loss: 0.8199 | Val Acc: 62.73%\n",
            "Epoch 12/30 | Train Loss: 0.8319 | Train Acc: 63.15% | Val Loss: 0.8501 | Val Acc: 61.49%\n",
            "Epoch 13/30 | Train Loss: 0.8268 | Train Acc: 64.01% | Val Loss: 0.8056 | Val Acc: 63.40%\n",
            "Epoch 14/30 | Train Loss: 0.8297 | Train Acc: 64.17% | Val Loss: 0.8262 | Val Acc: 63.96%\n",
            "Epoch 15/30 | Train Loss: 0.8296 | Train Acc: 63.70% | Val Loss: 0.8197 | Val Acc: 64.53%\n",
            "Epoch 16/30 | Train Loss: 0.8216 | Train Acc: 64.05% | Val Loss: 0.8296 | Val Acc: 62.05%\n",
            "Epoch 17/30 | Train Loss: 0.8271 | Train Acc: 63.84% | Val Loss: 0.8219 | Val Acc: 61.49%\n",
            "Epoch 18/30 | Train Loss: 0.8249 | Train Acc: 63.72% | Val Loss: 0.7978 | Val Acc: 63.96%\n",
            "Epoch 19/30 | Train Loss: 0.8182 | Train Acc: 64.39% | Val Loss: 0.8236 | Val Acc: 62.16%\n",
            "Epoch 20/30 | Train Loss: 0.8129 | Train Acc: 64.47% | Val Loss: 0.8091 | Val Acc: 61.82%\n",
            "Early stopping at epoch 20\n"
          ]
        },
        {
          "data": {
            "text/html": [],
            "text/plain": [
              "<IPython.core.display.HTML object>"
            ]
          },
          "metadata": {},
          "output_type": "display_data"
        },
        {
          "data": {
            "text/html": [
              "<br>    <style><br>        .wandb-row {<br>            display: flex;<br>            flex-direction: row;<br>            flex-wrap: wrap;<br>            justify-content: flex-start;<br>            width: 100%;<br>        }<br>        .wandb-col {<br>            display: flex;<br>            flex-direction: column;<br>            flex-basis: 100%;<br>            flex: 1;<br>            padding: 10px;<br>        }<br>    </style><br><div class=\"wandb-row\"><div class=\"wandb-col\"><h3>Run history:</h3><br/><table class=\"wandb\"><tr><td>epoch</td><td>▁▁▂▂▂▃▃▄▄▄▅▅▅▆▆▇▇▇██</td></tr><tr><td>final_val_acc</td><td>▁</td></tr><tr><td>train_acc</td><td>▁▄▅▅▅▆▆▆▆▆▇▇██▇█▇▇██</td></tr><tr><td>train_loss</td><td>█▅▄▄▄▄▃▃▃▃▃▂▂▂▂▁▂▂▁▁</td></tr><tr><td>val_acc</td><td>▃▁▄▂▄▄▄▅▆▆▅▄▆▇█▄▄▇▄▄</td></tr><tr><td>val_loss</td><td>▆▃▃▃█▂▂▃▂▁▂▃▁▂▂▂▂▁▂▁</td></tr></table><br/></div><div class=\"wandb-col\"><h3>Run summary:</h3><br/><table class=\"wandb\"><tr><td>epoch</td><td>20</td></tr><tr><td>final_val_acc</td><td>0.61824</td></tr><tr><td>train_acc</td><td>0.64471</td></tr><tr><td>train_loss</td><td>0.81287</td></tr><tr><td>val_acc</td><td>0.61824</td></tr><tr><td>val_loss</td><td>0.80907</td></tr></table><br/></div></div>"
            ],
            "text/plain": [
              "<IPython.core.display.HTML object>"
            ]
          },
          "metadata": {},
          "output_type": "display_data"
        },
        {
          "data": {
            "text/html": [
              " View run <strong style=\"color:#cdcd00\">HD=100_NL=2_DO=0.5_LR=0.01_BS=32</strong> at: <a href='https://wandb.ai/angelajcnto-the-university-of-western-australia/absa-bilstm-attention/runs/u3646ji1' target=\"_blank\">https://wandb.ai/angelajcnto-the-university-of-western-australia/absa-bilstm-attention/runs/u3646ji1</a><br> View project at: <a href='https://wandb.ai/angelajcnto-the-university-of-western-australia/absa-bilstm-attention' target=\"_blank\">https://wandb.ai/angelajcnto-the-university-of-western-australia/absa-bilstm-attention</a><br>Synced 5 W&B file(s), 0 media file(s), 0 artifact file(s) and 0 other file(s)"
            ],
            "text/plain": [
              "<IPython.core.display.HTML object>"
            ]
          },
          "metadata": {},
          "output_type": "display_data"
        },
        {
          "data": {
            "text/html": [
              "Find logs at: <code>.\\wandb\\run-20250425_214051-u3646ji1\\logs</code>"
            ],
            "text/plain": [
              "<IPython.core.display.HTML object>"
            ]
          },
          "metadata": {},
          "output_type": "display_data"
        },
        {
          "data": {
            "text/html": [
              "Tracking run with wandb version 0.19.10"
            ],
            "text/plain": [
              "<IPython.core.display.HTML object>"
            ]
          },
          "metadata": {},
          "output_type": "display_data"
        },
        {
          "data": {
            "text/html": [
              "Run data is saved locally in <code>c:\\Users\\angel\\OneDrive\\uni_projects\\DATA_SCIENCE_ML\\NLP-Aspect-Based-Sentiment-Analysis\\wandb\\run-20250425_214157-zeneh7k1</code>"
            ],
            "text/plain": [
              "<IPython.core.display.HTML object>"
            ]
          },
          "metadata": {},
          "output_type": "display_data"
        },
        {
          "data": {
            "text/html": [
              "Syncing run <strong><a href='https://wandb.ai/angelajcnto-the-university-of-western-australia/absa-bilstm-attention/runs/zeneh7k1' target=\"_blank\">HD=100_NL=2_DO=0.5_LR=0.01_BS=64</a></strong> to <a href='https://wandb.ai/angelajcnto-the-university-of-western-australia/absa-bilstm-attention' target=\"_blank\">Weights & Biases</a> (<a href='https://wandb.me/developer-guide' target=\"_blank\">docs</a>)<br>"
            ],
            "text/plain": [
              "<IPython.core.display.HTML object>"
            ]
          },
          "metadata": {},
          "output_type": "display_data"
        },
        {
          "data": {
            "text/html": [
              " View project at <a href='https://wandb.ai/angelajcnto-the-university-of-western-australia/absa-bilstm-attention' target=\"_blank\">https://wandb.ai/angelajcnto-the-university-of-western-australia/absa-bilstm-attention</a>"
            ],
            "text/plain": [
              "<IPython.core.display.HTML object>"
            ]
          },
          "metadata": {},
          "output_type": "display_data"
        },
        {
          "data": {
            "text/html": [
              " View run at <a href='https://wandb.ai/angelajcnto-the-university-of-western-australia/absa-bilstm-attention/runs/zeneh7k1' target=\"_blank\">https://wandb.ai/angelajcnto-the-university-of-western-australia/absa-bilstm-attention/runs/zeneh7k1</a>"
            ],
            "text/plain": [
              "<IPython.core.display.HTML object>"
            ]
          },
          "metadata": {},
          "output_type": "display_data"
        },
        {
          "name": "stdout",
          "output_type": "stream",
          "text": [
            "\n",
            "Testing: hidden_dim=100, num_layers=2, dropout=0.5, lr=0.01, batch_size=64\n",
            "Epoch 1/30 | Train Loss: 0.9408 | Train Acc: 58.27% | Val Loss: 0.8857 | Val Acc: 60.02%\n",
            "Epoch 2/30 | Train Loss: 0.8955 | Train Acc: 60.41% | Val Loss: 0.8510 | Val Acc: 61.49%\n",
            "Epoch 3/30 | Train Loss: 0.8814 | Train Acc: 61.83% | Val Loss: 0.8393 | Val Acc: 63.06%\n",
            "Epoch 4/30 | Train Loss: 0.8692 | Train Acc: 61.92% | Val Loss: 0.8404 | Val Acc: 63.29%\n",
            "Epoch 5/30 | Train Loss: 0.8613 | Train Acc: 62.41% | Val Loss: 0.8245 | Val Acc: 62.50%\n",
            "Epoch 6/30 | Train Loss: 0.8481 | Train Acc: 62.95% | Val Loss: 0.8372 | Val Acc: 60.47%\n",
            "Epoch 7/30 | Train Loss: 0.8372 | Train Acc: 63.17% | Val Loss: 0.8612 | Val Acc: 59.57%\n",
            "Epoch 8/30 | Train Loss: 0.8347 | Train Acc: 63.67% | Val Loss: 0.8342 | Val Acc: 61.94%\n",
            "Epoch 9/30 | Train Loss: 0.8275 | Train Acc: 64.17% | Val Loss: 0.8141 | Val Acc: 62.84%\n",
            "Early stopping at epoch 9\n"
          ]
        },
        {
          "data": {
            "text/html": [],
            "text/plain": [
              "<IPython.core.display.HTML object>"
            ]
          },
          "metadata": {},
          "output_type": "display_data"
        },
        {
          "data": {
            "text/html": [
              "<br>    <style><br>        .wandb-row {<br>            display: flex;<br>            flex-direction: row;<br>            flex-wrap: wrap;<br>            justify-content: flex-start;<br>            width: 100%;<br>        }<br>        .wandb-col {<br>            display: flex;<br>            flex-direction: column;<br>            flex-basis: 100%;<br>            flex: 1;<br>            padding: 10px;<br>        }<br>    </style><br><div class=\"wandb-row\"><div class=\"wandb-col\"><h3>Run history:</h3><br/><table class=\"wandb\"><tr><td>epoch</td><td>▁▂▃▄▅▅▆▇█</td></tr><tr><td>final_val_acc</td><td>▁</td></tr><tr><td>train_acc</td><td>▁▄▅▅▆▇▇▇█</td></tr><tr><td>train_loss</td><td>█▅▄▄▃▂▂▁▁</td></tr><tr><td>val_acc</td><td>▂▅██▇▃▁▅▇</td></tr><tr><td>val_loss</td><td>█▅▃▄▂▃▆▃▁</td></tr></table><br/></div><div class=\"wandb-col\"><h3>Run summary:</h3><br/><table class=\"wandb\"><tr><td>epoch</td><td>9</td></tr><tr><td>final_val_acc</td><td>0.62838</td></tr><tr><td>train_acc</td><td>0.64175</td></tr><tr><td>train_loss</td><td>0.82753</td></tr><tr><td>val_acc</td><td>0.62838</td></tr><tr><td>val_loss</td><td>0.81407</td></tr></table><br/></div></div>"
            ],
            "text/plain": [
              "<IPython.core.display.HTML object>"
            ]
          },
          "metadata": {},
          "output_type": "display_data"
        },
        {
          "data": {
            "text/html": [
              " View run <strong style=\"color:#cdcd00\">HD=100_NL=2_DO=0.5_LR=0.01_BS=64</strong> at: <a href='https://wandb.ai/angelajcnto-the-university-of-western-australia/absa-bilstm-attention/runs/zeneh7k1' target=\"_blank\">https://wandb.ai/angelajcnto-the-university-of-western-australia/absa-bilstm-attention/runs/zeneh7k1</a><br> View project at: <a href='https://wandb.ai/angelajcnto-the-university-of-western-australia/absa-bilstm-attention' target=\"_blank\">https://wandb.ai/angelajcnto-the-university-of-western-australia/absa-bilstm-attention</a><br>Synced 5 W&B file(s), 0 media file(s), 0 artifact file(s) and 0 other file(s)"
            ],
            "text/plain": [
              "<IPython.core.display.HTML object>"
            ]
          },
          "metadata": {},
          "output_type": "display_data"
        },
        {
          "data": {
            "text/html": [
              "Find logs at: <code>.\\wandb\\run-20250425_214157-zeneh7k1\\logs</code>"
            ],
            "text/plain": [
              "<IPython.core.display.HTML object>"
            ]
          },
          "metadata": {},
          "output_type": "display_data"
        },
        {
          "data": {
            "text/html": [
              "Tracking run with wandb version 0.19.10"
            ],
            "text/plain": [
              "<IPython.core.display.HTML object>"
            ]
          },
          "metadata": {},
          "output_type": "display_data"
        },
        {
          "data": {
            "text/html": [
              "Run data is saved locally in <code>c:\\Users\\angel\\OneDrive\\uni_projects\\DATA_SCIENCE_ML\\NLP-Aspect-Based-Sentiment-Analysis\\wandb\\run-20250425_214226-2e87itxq</code>"
            ],
            "text/plain": [
              "<IPython.core.display.HTML object>"
            ]
          },
          "metadata": {},
          "output_type": "display_data"
        },
        {
          "data": {
            "text/html": [
              "Syncing run <strong><a href='https://wandb.ai/angelajcnto-the-university-of-western-australia/absa-bilstm-attention/runs/2e87itxq' target=\"_blank\">HD=100_NL=2_DO=0.5_LR=0.01_BS=128</a></strong> to <a href='https://wandb.ai/angelajcnto-the-university-of-western-australia/absa-bilstm-attention' target=\"_blank\">Weights & Biases</a> (<a href='https://wandb.me/developer-guide' target=\"_blank\">docs</a>)<br>"
            ],
            "text/plain": [
              "<IPython.core.display.HTML object>"
            ]
          },
          "metadata": {},
          "output_type": "display_data"
        },
        {
          "data": {
            "text/html": [
              " View project at <a href='https://wandb.ai/angelajcnto-the-university-of-western-australia/absa-bilstm-attention' target=\"_blank\">https://wandb.ai/angelajcnto-the-university-of-western-australia/absa-bilstm-attention</a>"
            ],
            "text/plain": [
              "<IPython.core.display.HTML object>"
            ]
          },
          "metadata": {},
          "output_type": "display_data"
        },
        {
          "data": {
            "text/html": [
              " View run at <a href='https://wandb.ai/angelajcnto-the-university-of-western-australia/absa-bilstm-attention/runs/2e87itxq' target=\"_blank\">https://wandb.ai/angelajcnto-the-university-of-western-australia/absa-bilstm-attention/runs/2e87itxq</a>"
            ],
            "text/plain": [
              "<IPython.core.display.HTML object>"
            ]
          },
          "metadata": {},
          "output_type": "display_data"
        },
        {
          "name": "stdout",
          "output_type": "stream",
          "text": [
            "\n",
            "Testing: hidden_dim=100, num_layers=2, dropout=0.5, lr=0.01, batch_size=128\n",
            "Epoch 1/30 | Train Loss: 0.9476 | Train Acc: 57.72% | Val Loss: 0.8819 | Val Acc: 60.59%\n",
            "Epoch 2/30 | Train Loss: 0.8907 | Train Acc: 61.13% | Val Loss: 0.8450 | Val Acc: 61.04%\n",
            "Epoch 3/30 | Train Loss: 0.8779 | Train Acc: 61.50% | Val Loss: 0.8429 | Val Acc: 62.05%\n",
            "Epoch 4/30 | Train Loss: 0.8586 | Train Acc: 62.31% | Val Loss: 0.8283 | Val Acc: 62.61%\n",
            "Epoch 5/30 | Train Loss: 0.8482 | Train Acc: 63.17% | Val Loss: 0.8182 | Val Acc: 63.74%\n",
            "Epoch 6/30 | Train Loss: 0.8333 | Train Acc: 63.84% | Val Loss: 0.8076 | Val Acc: 62.95%\n",
            "Epoch 7/30 | Train Loss: 0.8222 | Train Acc: 64.06% | Val Loss: 0.8215 | Val Acc: 63.40%\n",
            "Epoch 8/30 | Train Loss: 0.8243 | Train Acc: 64.09% | Val Loss: 0.8137 | Val Acc: 62.05%\n",
            "Epoch 9/30 | Train Loss: 0.8015 | Train Acc: 64.96% | Val Loss: 0.7915 | Val Acc: 64.19%\n",
            "Epoch 10/30 | Train Loss: 0.7948 | Train Acc: 64.88% | Val Loss: 0.8188 | Val Acc: 63.29%\n",
            "Epoch 11/30 | Train Loss: 0.7917 | Train Acc: 65.50% | Val Loss: 0.7724 | Val Acc: 64.53%\n",
            "Epoch 12/30 | Train Loss: 0.7729 | Train Acc: 66.11% | Val Loss: 0.7834 | Val Acc: 65.32%\n",
            "Epoch 13/30 | Train Loss: 0.7766 | Train Acc: 65.36% | Val Loss: 0.7928 | Val Acc: 65.09%\n",
            "Epoch 14/30 | Train Loss: 0.7647 | Train Acc: 66.53% | Val Loss: 0.7878 | Val Acc: 64.86%\n",
            "Epoch 15/30 | Train Loss: 0.7636 | Train Acc: 66.52% | Val Loss: 0.7894 | Val Acc: 64.19%\n",
            "Epoch 16/30 | Train Loss: 0.7493 | Train Acc: 66.91% | Val Loss: 0.7744 | Val Acc: 66.55%\n",
            "Epoch 17/30 | Train Loss: 0.7569 | Train Acc: 66.59% | Val Loss: 0.7941 | Val Acc: 65.20%\n",
            "Epoch 18/30 | Train Loss: 0.7668 | Train Acc: 66.30% | Val Loss: 0.7989 | Val Acc: 64.75%\n",
            "Epoch 19/30 | Train Loss: 0.7489 | Train Acc: 67.32% | Val Loss: 0.7868 | Val Acc: 65.09%\n",
            "Epoch 20/30 | Train Loss: 0.7372 | Train Acc: 67.14% | Val Loss: 0.7806 | Val Acc: 64.75%\n",
            "Epoch 21/30 | Train Loss: 0.7320 | Train Acc: 67.95% | Val Loss: 0.7810 | Val Acc: 64.98%\n",
            "Early stopping at epoch 21\n"
          ]
        },
        {
          "data": {
            "text/html": [],
            "text/plain": [
              "<IPython.core.display.HTML object>"
            ]
          },
          "metadata": {},
          "output_type": "display_data"
        },
        {
          "data": {
            "text/html": [
              "<br>    <style><br>        .wandb-row {<br>            display: flex;<br>            flex-direction: row;<br>            flex-wrap: wrap;<br>            justify-content: flex-start;<br>            width: 100%;<br>        }<br>        .wandb-col {<br>            display: flex;<br>            flex-direction: column;<br>            flex-basis: 100%;<br>            flex: 1;<br>            padding: 10px;<br>        }<br>    </style><br><div class=\"wandb-row\"><div class=\"wandb-col\"><h3>Run history:</h3><br/><table class=\"wandb\"><tr><td>epoch</td><td>▁▁▂▂▂▃▃▃▄▄▅▅▅▆▆▆▇▇▇██</td></tr><tr><td>final_val_acc</td><td>▁</td></tr><tr><td>train_acc</td><td>▁▃▄▄▅▅▅▅▆▆▆▇▆▇▇▇▇▇█▇█</td></tr><tr><td>train_loss</td><td>█▆▆▅▅▄▄▄▃▃▃▂▂▂▂▂▂▂▂▁▁</td></tr><tr><td>val_acc</td><td>▁▂▃▃▅▄▄▃▅▄▆▇▆▆▅█▆▆▆▆▆</td></tr><tr><td>val_loss</td><td>█▆▆▅▄▃▄▄▂▄▁▂▂▂▂▁▂▃▂▂▂</td></tr></table><br/></div><div class=\"wandb-col\"><h3>Run summary:</h3><br/><table class=\"wandb\"><tr><td>epoch</td><td>21</td></tr><tr><td>final_val_acc</td><td>0.64977</td></tr><tr><td>train_acc</td><td>0.67955</td></tr><tr><td>train_loss</td><td>0.73197</td></tr><tr><td>val_acc</td><td>0.64977</td></tr><tr><td>val_loss</td><td>0.78102</td></tr></table><br/></div></div>"
            ],
            "text/plain": [
              "<IPython.core.display.HTML object>"
            ]
          },
          "metadata": {},
          "output_type": "display_data"
        },
        {
          "data": {
            "text/html": [
              " View run <strong style=\"color:#cdcd00\">HD=100_NL=2_DO=0.5_LR=0.01_BS=128</strong> at: <a href='https://wandb.ai/angelajcnto-the-university-of-western-australia/absa-bilstm-attention/runs/2e87itxq' target=\"_blank\">https://wandb.ai/angelajcnto-the-university-of-western-australia/absa-bilstm-attention/runs/2e87itxq</a><br> View project at: <a href='https://wandb.ai/angelajcnto-the-university-of-western-australia/absa-bilstm-attention' target=\"_blank\">https://wandb.ai/angelajcnto-the-university-of-western-australia/absa-bilstm-attention</a><br>Synced 5 W&B file(s), 0 media file(s), 0 artifact file(s) and 0 other file(s)"
            ],
            "text/plain": [
              "<IPython.core.display.HTML object>"
            ]
          },
          "metadata": {},
          "output_type": "display_data"
        },
        {
          "data": {
            "text/html": [
              "Find logs at: <code>.\\wandb\\run-20250425_214226-2e87itxq\\logs</code>"
            ],
            "text/plain": [
              "<IPython.core.display.HTML object>"
            ]
          },
          "metadata": {},
          "output_type": "display_data"
        },
        {
          "data": {
            "text/html": [
              "Tracking run with wandb version 0.19.10"
            ],
            "text/plain": [
              "<IPython.core.display.HTML object>"
            ]
          },
          "metadata": {},
          "output_type": "display_data"
        },
        {
          "data": {
            "text/html": [
              "Run data is saved locally in <code>c:\\Users\\angel\\OneDrive\\uni_projects\\DATA_SCIENCE_ML\\NLP-Aspect-Based-Sentiment-Analysis\\wandb\\run-20250425_214328-50uldjib</code>"
            ],
            "text/plain": [
              "<IPython.core.display.HTML object>"
            ]
          },
          "metadata": {},
          "output_type": "display_data"
        },
        {
          "data": {
            "text/html": [
              "Syncing run <strong><a href='https://wandb.ai/angelajcnto-the-university-of-western-australia/absa-bilstm-attention/runs/50uldjib' target=\"_blank\">HD=100_NL=2_DO=0.5_LR=0.005_BS=32</a></strong> to <a href='https://wandb.ai/angelajcnto-the-university-of-western-australia/absa-bilstm-attention' target=\"_blank\">Weights & Biases</a> (<a href='https://wandb.me/developer-guide' target=\"_blank\">docs</a>)<br>"
            ],
            "text/plain": [
              "<IPython.core.display.HTML object>"
            ]
          },
          "metadata": {},
          "output_type": "display_data"
        },
        {
          "data": {
            "text/html": [
              " View project at <a href='https://wandb.ai/angelajcnto-the-university-of-western-australia/absa-bilstm-attention' target=\"_blank\">https://wandb.ai/angelajcnto-the-university-of-western-australia/absa-bilstm-attention</a>"
            ],
            "text/plain": [
              "<IPython.core.display.HTML object>"
            ]
          },
          "metadata": {},
          "output_type": "display_data"
        },
        {
          "data": {
            "text/html": [
              " View run at <a href='https://wandb.ai/angelajcnto-the-university-of-western-australia/absa-bilstm-attention/runs/50uldjib' target=\"_blank\">https://wandb.ai/angelajcnto-the-university-of-western-australia/absa-bilstm-attention/runs/50uldjib</a>"
            ],
            "text/plain": [
              "<IPython.core.display.HTML object>"
            ]
          },
          "metadata": {},
          "output_type": "display_data"
        },
        {
          "name": "stdout",
          "output_type": "stream",
          "text": [
            "\n",
            "Testing: hidden_dim=100, num_layers=2, dropout=0.5, lr=0.005, batch_size=32\n",
            "Epoch 1/30 | Train Loss: 0.9202 | Train Acc: 59.66% | Val Loss: 0.8394 | Val Acc: 62.16%\n",
            "Epoch 2/30 | Train Loss: 0.8772 | Train Acc: 61.99% | Val Loss: 0.8290 | Val Acc: 62.05%\n",
            "Epoch 3/30 | Train Loss: 0.8578 | Train Acc: 62.71% | Val Loss: 0.8568 | Val Acc: 60.14%\n",
            "Epoch 4/30 | Train Loss: 0.8476 | Train Acc: 63.09% | Val Loss: 0.8224 | Val Acc: 63.18%\n",
            "Epoch 5/30 | Train Loss: 0.8274 | Train Acc: 63.60% | Val Loss: 0.8116 | Val Acc: 62.39%\n",
            "Epoch 6/30 | Train Loss: 0.8184 | Train Acc: 64.43% | Val Loss: 0.8086 | Val Acc: 63.40%\n",
            "Epoch 7/30 | Train Loss: 0.8037 | Train Acc: 64.87% | Val Loss: 0.8027 | Val Acc: 63.51%\n",
            "Epoch 8/30 | Train Loss: 0.8029 | Train Acc: 65.56% | Val Loss: 0.7841 | Val Acc: 62.73%\n",
            "Epoch 9/30 | Train Loss: 0.7896 | Train Acc: 65.54% | Val Loss: 0.7896 | Val Acc: 63.63%\n",
            "Epoch 10/30 | Train Loss: 0.7816 | Train Acc: 65.57% | Val Loss: 0.7717 | Val Acc: 64.64%\n",
            "Epoch 11/30 | Train Loss: 0.7738 | Train Acc: 65.91% | Val Loss: 0.7874 | Val Acc: 64.75%\n",
            "Epoch 12/30 | Train Loss: 0.7674 | Train Acc: 66.50% | Val Loss: 0.7814 | Val Acc: 63.74%\n",
            "Epoch 13/30 | Train Loss: 0.7602 | Train Acc: 66.76% | Val Loss: 0.7878 | Val Acc: 64.19%\n",
            "Epoch 14/30 | Train Loss: 0.7511 | Train Acc: 67.17% | Val Loss: 0.8142 | Val Acc: 63.51%\n",
            "Epoch 15/30 | Train Loss: 0.7405 | Train Acc: 67.60% | Val Loss: 0.7760 | Val Acc: 65.32%\n",
            "Epoch 16/30 | Train Loss: 0.7325 | Train Acc: 67.90% | Val Loss: 0.7794 | Val Acc: 65.65%\n",
            "Epoch 17/30 | Train Loss: 0.7266 | Train Acc: 67.50% | Val Loss: 0.7747 | Val Acc: 66.44%\n",
            "Epoch 18/30 | Train Loss: 0.7193 | Train Acc: 68.10% | Val Loss: 0.7782 | Val Acc: 65.43%\n",
            "Epoch 19/30 | Train Loss: 0.7079 | Train Acc: 69.39% | Val Loss: 0.8334 | Val Acc: 62.50%\n",
            "Epoch 20/30 | Train Loss: 0.6971 | Train Acc: 69.62% | Val Loss: 0.7851 | Val Acc: 64.86%\n",
            "Epoch 21/30 | Train Loss: 0.6968 | Train Acc: 69.58% | Val Loss: 0.8368 | Val Acc: 64.08%\n",
            "Epoch 22/30 | Train Loss: 0.6918 | Train Acc: 69.51% | Val Loss: 0.8397 | Val Acc: 65.09%\n",
            "Early stopping at epoch 22\n"
          ]
        },
        {
          "data": {
            "text/html": [],
            "text/plain": [
              "<IPython.core.display.HTML object>"
            ]
          },
          "metadata": {},
          "output_type": "display_data"
        },
        {
          "data": {
            "text/html": [
              "<br>    <style><br>        .wandb-row {<br>            display: flex;<br>            flex-direction: row;<br>            flex-wrap: wrap;<br>            justify-content: flex-start;<br>            width: 100%;<br>        }<br>        .wandb-col {<br>            display: flex;<br>            flex-direction: column;<br>            flex-basis: 100%;<br>            flex: 1;<br>            padding: 10px;<br>        }<br>    </style><br><div class=\"wandb-row\"><div class=\"wandb-col\"><h3>Run history:</h3><br/><table class=\"wandb\"><tr><td>epoch</td><td>▁▁▂▂▂▃▃▃▄▄▄▅▅▅▆▆▆▇▇▇██</td></tr><tr><td>final_val_acc</td><td>▁</td></tr><tr><td>train_acc</td><td>▁▃▃▃▄▄▅▅▅▅▅▆▆▆▇▇▇▇████</td></tr><tr><td>train_loss</td><td>█▇▆▆▅▅▄▄▄▄▄▃▃▃▂▂▂▂▁▁▁▁</td></tr><tr><td>val_acc</td><td>▃▃▁▄▃▅▅▄▅▆▆▅▅▅▇▇█▇▄▆▅▇</td></tr><tr><td>val_loss</td><td>▇▆█▅▄▄▄▂▂▁▂▂▂▄▁▂▁▂▆▂▆▇</td></tr></table><br/></div><div class=\"wandb-col\"><h3>Run summary:</h3><br/><table class=\"wandb\"><tr><td>epoch</td><td>22</td></tr><tr><td>final_val_acc</td><td>0.6509</td></tr><tr><td>train_acc</td><td>0.69506</td></tr><tr><td>train_loss</td><td>0.69176</td></tr><tr><td>val_acc</td><td>0.6509</td></tr><tr><td>val_loss</td><td>0.83968</td></tr></table><br/></div></div>"
            ],
            "text/plain": [
              "<IPython.core.display.HTML object>"
            ]
          },
          "metadata": {},
          "output_type": "display_data"
        },
        {
          "data": {
            "text/html": [
              " View run <strong style=\"color:#cdcd00\">HD=100_NL=2_DO=0.5_LR=0.005_BS=32</strong> at: <a href='https://wandb.ai/angelajcnto-the-university-of-western-australia/absa-bilstm-attention/runs/50uldjib' target=\"_blank\">https://wandb.ai/angelajcnto-the-university-of-western-australia/absa-bilstm-attention/runs/50uldjib</a><br> View project at: <a href='https://wandb.ai/angelajcnto-the-university-of-western-australia/absa-bilstm-attention' target=\"_blank\">https://wandb.ai/angelajcnto-the-university-of-western-australia/absa-bilstm-attention</a><br>Synced 5 W&B file(s), 0 media file(s), 0 artifact file(s) and 0 other file(s)"
            ],
            "text/plain": [
              "<IPython.core.display.HTML object>"
            ]
          },
          "metadata": {},
          "output_type": "display_data"
        },
        {
          "data": {
            "text/html": [
              "Find logs at: <code>.\\wandb\\run-20250425_214328-50uldjib\\logs</code>"
            ],
            "text/plain": [
              "<IPython.core.display.HTML object>"
            ]
          },
          "metadata": {},
          "output_type": "display_data"
        },
        {
          "data": {
            "text/html": [
              "Tracking run with wandb version 0.19.10"
            ],
            "text/plain": [
              "<IPython.core.display.HTML object>"
            ]
          },
          "metadata": {},
          "output_type": "display_data"
        },
        {
          "data": {
            "text/html": [
              "Run data is saved locally in <code>c:\\Users\\angel\\OneDrive\\uni_projects\\DATA_SCIENCE_ML\\NLP-Aspect-Based-Sentiment-Analysis\\wandb\\run-20250425_214439-w8dg6i3b</code>"
            ],
            "text/plain": [
              "<IPython.core.display.HTML object>"
            ]
          },
          "metadata": {},
          "output_type": "display_data"
        },
        {
          "data": {
            "text/html": [
              "Syncing run <strong><a href='https://wandb.ai/angelajcnto-the-university-of-western-australia/absa-bilstm-attention/runs/w8dg6i3b' target=\"_blank\">HD=100_NL=2_DO=0.5_LR=0.005_BS=64</a></strong> to <a href='https://wandb.ai/angelajcnto-the-university-of-western-australia/absa-bilstm-attention' target=\"_blank\">Weights & Biases</a> (<a href='https://wandb.me/developer-guide' target=\"_blank\">docs</a>)<br>"
            ],
            "text/plain": [
              "<IPython.core.display.HTML object>"
            ]
          },
          "metadata": {},
          "output_type": "display_data"
        },
        {
          "data": {
            "text/html": [
              " View project at <a href='https://wandb.ai/angelajcnto-the-university-of-western-australia/absa-bilstm-attention' target=\"_blank\">https://wandb.ai/angelajcnto-the-university-of-western-australia/absa-bilstm-attention</a>"
            ],
            "text/plain": [
              "<IPython.core.display.HTML object>"
            ]
          },
          "metadata": {},
          "output_type": "display_data"
        },
        {
          "data": {
            "text/html": [
              " View run at <a href='https://wandb.ai/angelajcnto-the-university-of-western-australia/absa-bilstm-attention/runs/w8dg6i3b' target=\"_blank\">https://wandb.ai/angelajcnto-the-university-of-western-australia/absa-bilstm-attention/runs/w8dg6i3b</a>"
            ],
            "text/plain": [
              "<IPython.core.display.HTML object>"
            ]
          },
          "metadata": {},
          "output_type": "display_data"
        },
        {
          "name": "stdout",
          "output_type": "stream",
          "text": [
            "\n",
            "Testing: hidden_dim=100, num_layers=2, dropout=0.5, lr=0.005, batch_size=64\n",
            "Epoch 1/30 | Train Loss: 0.9242 | Train Acc: 58.79% | Val Loss: 0.8609 | Val Acc: 62.61%\n",
            "Epoch 2/30 | Train Loss: 0.8666 | Train Acc: 62.45% | Val Loss: 0.8518 | Val Acc: 62.16%\n",
            "Epoch 3/30 | Train Loss: 0.8547 | Train Acc: 62.99% | Val Loss: 0.8503 | Val Acc: 60.59%\n",
            "Epoch 4/30 | Train Loss: 0.8351 | Train Acc: 63.34% | Val Loss: 0.8301 | Val Acc: 62.16%\n",
            "Epoch 5/30 | Train Loss: 0.8211 | Train Acc: 64.33% | Val Loss: 0.8054 | Val Acc: 62.95%\n",
            "Epoch 6/30 | Train Loss: 0.8062 | Train Acc: 65.39% | Val Loss: 0.8434 | Val Acc: 62.50%\n",
            "Epoch 7/30 | Train Loss: 0.7954 | Train Acc: 65.25% | Val Loss: 0.8086 | Val Acc: 64.30%\n",
            "Epoch 8/30 | Train Loss: 0.7811 | Train Acc: 65.59% | Val Loss: 0.8205 | Val Acc: 60.36%\n",
            "Epoch 9/30 | Train Loss: 0.7712 | Train Acc: 66.74% | Val Loss: 0.8232 | Val Acc: 63.51%\n",
            "Epoch 10/30 | Train Loss: 0.7533 | Train Acc: 67.74% | Val Loss: 0.8093 | Val Acc: 65.54%\n",
            "Epoch 11/30 | Train Loss: 0.7406 | Train Acc: 67.83% | Val Loss: 0.7884 | Val Acc: 65.65%\n",
            "Epoch 12/30 | Train Loss: 0.7304 | Train Acc: 67.93% | Val Loss: 0.8066 | Val Acc: 65.20%\n",
            "Epoch 13/30 | Train Loss: 0.7270 | Train Acc: 68.93% | Val Loss: 0.8106 | Val Acc: 64.41%\n",
            "Epoch 14/30 | Train Loss: 0.7199 | Train Acc: 69.13% | Val Loss: 0.7751 | Val Acc: 65.99%\n",
            "Epoch 15/30 | Train Loss: 0.7015 | Train Acc: 69.79% | Val Loss: 0.7857 | Val Acc: 65.54%\n",
            "Epoch 16/30 | Train Loss: 0.6929 | Train Acc: 69.92% | Val Loss: 0.8152 | Val Acc: 65.32%\n",
            "Epoch 17/30 | Train Loss: 0.6745 | Train Acc: 71.17% | Val Loss: 0.8292 | Val Acc: 65.32%\n",
            "Epoch 18/30 | Train Loss: 0.6668 | Train Acc: 72.05% | Val Loss: 0.8567 | Val Acc: 64.86%\n",
            "Epoch 19/30 | Train Loss: 0.6450 | Train Acc: 72.68% | Val Loss: 0.8456 | Val Acc: 63.74%\n",
            "Early stopping at epoch 19\n"
          ]
        },
        {
          "data": {
            "text/html": [],
            "text/plain": [
              "<IPython.core.display.HTML object>"
            ]
          },
          "metadata": {},
          "output_type": "display_data"
        },
        {
          "data": {
            "text/html": [
              "<br>    <style><br>        .wandb-row {<br>            display: flex;<br>            flex-direction: row;<br>            flex-wrap: wrap;<br>            justify-content: flex-start;<br>            width: 100%;<br>        }<br>        .wandb-col {<br>            display: flex;<br>            flex-direction: column;<br>            flex-basis: 100%;<br>            flex: 1;<br>            padding: 10px;<br>        }<br>    </style><br><div class=\"wandb-row\"><div class=\"wandb-col\"><h3>Run history:</h3><br/><table class=\"wandb\"><tr><td>epoch</td><td>▁▁▂▂▃▃▃▄▄▅▅▅▆▆▆▇▇██</td></tr><tr><td>final_val_acc</td><td>▁</td></tr><tr><td>train_acc</td><td>▁▃▃▃▄▄▄▄▅▆▆▆▆▆▇▇▇██</td></tr><tr><td>train_loss</td><td>█▇▆▆▅▅▅▄▄▄▃▃▃▃▂▂▂▂▁</td></tr><tr><td>val_acc</td><td>▄▃▁▃▄▄▆▁▅▇█▇▆█▇▇▇▇▅</td></tr><tr><td>val_loss</td><td>█▇▇▅▃▇▄▅▅▄▂▄▄▁▂▄▅█▇</td></tr></table><br/></div><div class=\"wandb-col\"><h3>Run summary:</h3><br/><table class=\"wandb\"><tr><td>epoch</td><td>19</td></tr><tr><td>final_val_acc</td><td>0.63739</td></tr><tr><td>train_acc</td><td>0.7268</td></tr><tr><td>train_loss</td><td>0.64504</td></tr><tr><td>val_acc</td><td>0.63739</td></tr><tr><td>val_loss</td><td>0.84565</td></tr></table><br/></div></div>"
            ],
            "text/plain": [
              "<IPython.core.display.HTML object>"
            ]
          },
          "metadata": {},
          "output_type": "display_data"
        },
        {
          "data": {
            "text/html": [
              " View run <strong style=\"color:#cdcd00\">HD=100_NL=2_DO=0.5_LR=0.005_BS=64</strong> at: <a href='https://wandb.ai/angelajcnto-the-university-of-western-australia/absa-bilstm-attention/runs/w8dg6i3b' target=\"_blank\">https://wandb.ai/angelajcnto-the-university-of-western-australia/absa-bilstm-attention/runs/w8dg6i3b</a><br> View project at: <a href='https://wandb.ai/angelajcnto-the-university-of-western-australia/absa-bilstm-attention' target=\"_blank\">https://wandb.ai/angelajcnto-the-university-of-western-australia/absa-bilstm-attention</a><br>Synced 5 W&B file(s), 0 media file(s), 0 artifact file(s) and 0 other file(s)"
            ],
            "text/plain": [
              "<IPython.core.display.HTML object>"
            ]
          },
          "metadata": {},
          "output_type": "display_data"
        },
        {
          "data": {
            "text/html": [
              "Find logs at: <code>.\\wandb\\run-20250425_214439-w8dg6i3b\\logs</code>"
            ],
            "text/plain": [
              "<IPython.core.display.HTML object>"
            ]
          },
          "metadata": {},
          "output_type": "display_data"
        },
        {
          "data": {
            "text/html": [],
            "text/plain": [
              "<IPython.core.display.HTML object>"
            ]
          },
          "metadata": {},
          "output_type": "display_data"
        },
        {
          "data": {
            "text/html": [
              "Tracking run with wandb version 0.19.10"
            ],
            "text/plain": [
              "<IPython.core.display.HTML object>"
            ]
          },
          "metadata": {},
          "output_type": "display_data"
        },
        {
          "data": {
            "text/html": [
              "Run data is saved locally in <code>c:\\Users\\angel\\OneDrive\\uni_projects\\DATA_SCIENCE_ML\\NLP-Aspect-Based-Sentiment-Analysis\\wandb\\run-20250425_214537-yswt2wvo</code>"
            ],
            "text/plain": [
              "<IPython.core.display.HTML object>"
            ]
          },
          "metadata": {},
          "output_type": "display_data"
        },
        {
          "data": {
            "text/html": [
              "Syncing run <strong><a href='https://wandb.ai/angelajcnto-the-university-of-western-australia/absa-bilstm-attention/runs/yswt2wvo' target=\"_blank\">HD=100_NL=2_DO=0.5_LR=0.005_BS=128</a></strong> to <a href='https://wandb.ai/angelajcnto-the-university-of-western-australia/absa-bilstm-attention' target=\"_blank\">Weights & Biases</a> (<a href='https://wandb.me/developer-guide' target=\"_blank\">docs</a>)<br>"
            ],
            "text/plain": [
              "<IPython.core.display.HTML object>"
            ]
          },
          "metadata": {},
          "output_type": "display_data"
        },
        {
          "data": {
            "text/html": [
              " View project at <a href='https://wandb.ai/angelajcnto-the-university-of-western-australia/absa-bilstm-attention' target=\"_blank\">https://wandb.ai/angelajcnto-the-university-of-western-australia/absa-bilstm-attention</a>"
            ],
            "text/plain": [
              "<IPython.core.display.HTML object>"
            ]
          },
          "metadata": {},
          "output_type": "display_data"
        },
        {
          "data": {
            "text/html": [
              " View run at <a href='https://wandb.ai/angelajcnto-the-university-of-western-australia/absa-bilstm-attention/runs/yswt2wvo' target=\"_blank\">https://wandb.ai/angelajcnto-the-university-of-western-australia/absa-bilstm-attention/runs/yswt2wvo</a>"
            ],
            "text/plain": [
              "<IPython.core.display.HTML object>"
            ]
          },
          "metadata": {},
          "output_type": "display_data"
        },
        {
          "name": "stdout",
          "output_type": "stream",
          "text": [
            "\n",
            "Testing: hidden_dim=100, num_layers=2, dropout=0.5, lr=0.005, batch_size=128\n",
            "Epoch 1/30 | Train Loss: 0.9218 | Train Acc: 58.98% | Val Loss: 0.8580 | Val Acc: 61.82%\n",
            "Epoch 2/30 | Train Loss: 0.8772 | Train Acc: 61.72% | Val Loss: 0.8424 | Val Acc: 60.70%\n",
            "Epoch 3/30 | Train Loss: 0.8629 | Train Acc: 62.27% | Val Loss: 0.8291 | Val Acc: 61.71%\n",
            "Epoch 4/30 | Train Loss: 0.8306 | Train Acc: 63.91% | Val Loss: 0.8274 | Val Acc: 62.73%\n",
            "Epoch 5/30 | Train Loss: 0.8186 | Train Acc: 64.15% | Val Loss: 0.8113 | Val Acc: 62.61%\n",
            "Epoch 6/30 | Train Loss: 0.8039 | Train Acc: 64.64% | Val Loss: 0.8133 | Val Acc: 63.18%\n",
            "Epoch 7/30 | Train Loss: 0.7813 | Train Acc: 65.81% | Val Loss: 0.8090 | Val Acc: 62.73%\n",
            "Epoch 8/30 | Train Loss: 0.7711 | Train Acc: 66.23% | Val Loss: 0.8267 | Val Acc: 63.29%\n",
            "Epoch 9/30 | Train Loss: 0.7456 | Train Acc: 67.49% | Val Loss: 0.8065 | Val Acc: 63.96%\n",
            "Epoch 10/30 | Train Loss: 0.7360 | Train Acc: 68.21% | Val Loss: 0.8023 | Val Acc: 63.29%\n",
            "Epoch 11/30 | Train Loss: 0.7220 | Train Acc: 68.65% | Val Loss: 0.8185 | Val Acc: 64.41%\n",
            "Epoch 12/30 | Train Loss: 0.6911 | Train Acc: 69.76% | Val Loss: 0.8532 | Val Acc: 61.26%\n",
            "Epoch 13/30 | Train Loss: 0.6728 | Train Acc: 70.42% | Val Loss: 0.8605 | Val Acc: 61.60%\n",
            "Epoch 14/30 | Train Loss: 0.6502 | Train Acc: 71.82% | Val Loss: 0.8225 | Val Acc: 65.20%\n",
            "Epoch 15/30 | Train Loss: 0.6380 | Train Acc: 72.24% | Val Loss: 0.8647 | Val Acc: 64.64%\n",
            "Epoch 16/30 | Train Loss: 0.6185 | Train Acc: 73.84% | Val Loss: 0.8749 | Val Acc: 63.18%\n",
            "Epoch 17/30 | Train Loss: 0.5891 | Train Acc: 74.72% | Val Loss: 0.9128 | Val Acc: 63.85%\n",
            "Epoch 18/30 | Train Loss: 0.5769 | Train Acc: 75.74% | Val Loss: 0.9666 | Val Acc: 62.39%\n",
            "Epoch 19/30 | Train Loss: 0.5748 | Train Acc: 75.28% | Val Loss: 0.9216 | Val Acc: 63.29%\n",
            "Early stopping at epoch 19\n"
          ]
        },
        {
          "data": {
            "text/html": [],
            "text/plain": [
              "<IPython.core.display.HTML object>"
            ]
          },
          "metadata": {},
          "output_type": "display_data"
        },
        {
          "data": {
            "text/html": [
              "<br>    <style><br>        .wandb-row {<br>            display: flex;<br>            flex-direction: row;<br>            flex-wrap: wrap;<br>            justify-content: flex-start;<br>            width: 100%;<br>        }<br>        .wandb-col {<br>            display: flex;<br>            flex-direction: column;<br>            flex-basis: 100%;<br>            flex: 1;<br>            padding: 10px;<br>        }<br>    </style><br><div class=\"wandb-row\"><div class=\"wandb-col\"><h3>Run history:</h3><br/><table class=\"wandb\"><tr><td>epoch</td><td>▁▁▂▂▃▃▃▄▄▅▅▅▆▆▆▇▇██</td></tr><tr><td>final_val_acc</td><td>▁</td></tr><tr><td>train_acc</td><td>▁▂▂▃▃▃▄▄▅▅▅▆▆▆▇▇███</td></tr><tr><td>train_loss</td><td>█▇▇▆▆▆▅▅▄▄▄▃▃▃▂▂▁▁▁</td></tr><tr><td>val_acc</td><td>▃▁▃▄▄▅▄▅▆▅▇▂▂█▇▅▆▄▅</td></tr><tr><td>val_loss</td><td>▃▃▂▂▁▁▁▂▁▁▂▃▃▂▄▄▆█▆</td></tr></table><br/></div><div class=\"wandb-col\"><h3>Run summary:</h3><br/><table class=\"wandb\"><tr><td>epoch</td><td>19</td></tr><tr><td>final_val_acc</td><td>0.63288</td></tr><tr><td>train_acc</td><td>0.75275</td></tr><tr><td>train_loss</td><td>0.5748</td></tr><tr><td>val_acc</td><td>0.63288</td></tr><tr><td>val_loss</td><td>0.92156</td></tr></table><br/></div></div>"
            ],
            "text/plain": [
              "<IPython.core.display.HTML object>"
            ]
          },
          "metadata": {},
          "output_type": "display_data"
        },
        {
          "data": {
            "text/html": [
              " View run <strong style=\"color:#cdcd00\">HD=100_NL=2_DO=0.5_LR=0.005_BS=128</strong> at: <a href='https://wandb.ai/angelajcnto-the-university-of-western-australia/absa-bilstm-attention/runs/yswt2wvo' target=\"_blank\">https://wandb.ai/angelajcnto-the-university-of-western-australia/absa-bilstm-attention/runs/yswt2wvo</a><br> View project at: <a href='https://wandb.ai/angelajcnto-the-university-of-western-australia/absa-bilstm-attention' target=\"_blank\">https://wandb.ai/angelajcnto-the-university-of-western-australia/absa-bilstm-attention</a><br>Synced 5 W&B file(s), 0 media file(s), 0 artifact file(s) and 0 other file(s)"
            ],
            "text/plain": [
              "<IPython.core.display.HTML object>"
            ]
          },
          "metadata": {},
          "output_type": "display_data"
        },
        {
          "data": {
            "text/html": [
              "Find logs at: <code>.\\wandb\\run-20250425_214537-yswt2wvo\\logs</code>"
            ],
            "text/plain": [
              "<IPython.core.display.HTML object>"
            ]
          },
          "metadata": {},
          "output_type": "display_data"
        },
        {
          "data": {
            "text/html": [
              "Tracking run with wandb version 0.19.10"
            ],
            "text/plain": [
              "<IPython.core.display.HTML object>"
            ]
          },
          "metadata": {},
          "output_type": "display_data"
        },
        {
          "data": {
            "text/html": [
              "Run data is saved locally in <code>c:\\Users\\angel\\OneDrive\\uni_projects\\DATA_SCIENCE_ML\\NLP-Aspect-Based-Sentiment-Analysis\\wandb\\run-20250425_214634-wrsmt8ql</code>"
            ],
            "text/plain": [
              "<IPython.core.display.HTML object>"
            ]
          },
          "metadata": {},
          "output_type": "display_data"
        },
        {
          "data": {
            "text/html": [
              "Syncing run <strong><a href='https://wandb.ai/angelajcnto-the-university-of-western-australia/absa-bilstm-attention/runs/wrsmt8ql' target=\"_blank\">HD=100_NL=2_DO=0.5_LR=0.001_BS=32</a></strong> to <a href='https://wandb.ai/angelajcnto-the-university-of-western-australia/absa-bilstm-attention' target=\"_blank\">Weights & Biases</a> (<a href='https://wandb.me/developer-guide' target=\"_blank\">docs</a>)<br>"
            ],
            "text/plain": [
              "<IPython.core.display.HTML object>"
            ]
          },
          "metadata": {},
          "output_type": "display_data"
        },
        {
          "data": {
            "text/html": [
              " View project at <a href='https://wandb.ai/angelajcnto-the-university-of-western-australia/absa-bilstm-attention' target=\"_blank\">https://wandb.ai/angelajcnto-the-university-of-western-australia/absa-bilstm-attention</a>"
            ],
            "text/plain": [
              "<IPython.core.display.HTML object>"
            ]
          },
          "metadata": {},
          "output_type": "display_data"
        },
        {
          "data": {
            "text/html": [
              " View run at <a href='https://wandb.ai/angelajcnto-the-university-of-western-australia/absa-bilstm-attention/runs/wrsmt8ql' target=\"_blank\">https://wandb.ai/angelajcnto-the-university-of-western-australia/absa-bilstm-attention/runs/wrsmt8ql</a>"
            ],
            "text/plain": [
              "<IPython.core.display.HTML object>"
            ]
          },
          "metadata": {},
          "output_type": "display_data"
        },
        {
          "name": "stdout",
          "output_type": "stream",
          "text": [
            "\n",
            "Testing: hidden_dim=100, num_layers=2, dropout=0.5, lr=0.001, batch_size=32\n",
            "Epoch 1/30 | Train Loss: 0.9114 | Train Acc: 59.84% | Val Loss: 0.8473 | Val Acc: 61.37%\n",
            "Epoch 2/30 | Train Loss: 0.8560 | Train Acc: 62.61% | Val Loss: 0.8281 | Val Acc: 61.94%\n",
            "Epoch 3/30 | Train Loss: 0.8424 | Train Acc: 62.98% | Val Loss: 0.7988 | Val Acc: 62.84%\n",
            "Epoch 4/30 | Train Loss: 0.8194 | Train Acc: 64.58% | Val Loss: 0.7948 | Val Acc: 64.30%\n",
            "Epoch 5/30 | Train Loss: 0.8018 | Train Acc: 64.92% | Val Loss: 0.7954 | Val Acc: 64.86%\n",
            "Epoch 6/30 | Train Loss: 0.7822 | Train Acc: 66.45% | Val Loss: 0.7893 | Val Acc: 65.54%\n",
            "Epoch 7/30 | Train Loss: 0.7575 | Train Acc: 67.12% | Val Loss: 0.8250 | Val Acc: 65.65%\n",
            "Epoch 8/30 | Train Loss: 0.7274 | Train Acc: 68.74% | Val Loss: 0.7987 | Val Acc: 63.51%\n",
            "Epoch 9/30 | Train Loss: 0.6931 | Train Acc: 69.82% | Val Loss: 0.8585 | Val Acc: 63.06%\n",
            "Epoch 10/30 | Train Loss: 0.6419 | Train Acc: 72.55% | Val Loss: 0.8812 | Val Acc: 63.18%\n",
            "Epoch 11/30 | Train Loss: 0.6060 | Train Acc: 74.53% | Val Loss: 0.8783 | Val Acc: 63.40%\n",
            "Epoch 12/30 | Train Loss: 0.5560 | Train Acc: 76.69% | Val Loss: 0.9453 | Val Acc: 63.74%\n",
            "Early stopping at epoch 12\n"
          ]
        },
        {
          "data": {
            "text/html": [],
            "text/plain": [
              "<IPython.core.display.HTML object>"
            ]
          },
          "metadata": {},
          "output_type": "display_data"
        },
        {
          "data": {
            "text/html": [
              "<br>    <style><br>        .wandb-row {<br>            display: flex;<br>            flex-direction: row;<br>            flex-wrap: wrap;<br>            justify-content: flex-start;<br>            width: 100%;<br>        }<br>        .wandb-col {<br>            display: flex;<br>            flex-direction: column;<br>            flex-basis: 100%;<br>            flex: 1;<br>            padding: 10px;<br>        }<br>    </style><br><div class=\"wandb-row\"><div class=\"wandb-col\"><h3>Run history:</h3><br/><table class=\"wandb\"><tr><td>epoch</td><td>▁▂▂▃▄▄▅▅▆▇▇█</td></tr><tr><td>final_val_acc</td><td>▁</td></tr><tr><td>train_acc</td><td>▁▂▂▃▃▄▄▅▅▆▇█</td></tr><tr><td>train_loss</td><td>█▇▇▆▆▅▅▄▄▃▂▁</td></tr><tr><td>val_acc</td><td>▁▂▃▆▇██▅▄▄▄▅</td></tr><tr><td>val_loss</td><td>▄▃▁▁▁▁▃▁▄▅▅█</td></tr></table><br/></div><div class=\"wandb-col\"><h3>Run summary:</h3><br/><table class=\"wandb\"><tr><td>epoch</td><td>12</td></tr><tr><td>final_val_acc</td><td>0.63739</td></tr><tr><td>train_acc</td><td>0.76685</td></tr><tr><td>train_loss</td><td>0.55605</td></tr><tr><td>val_acc</td><td>0.63739</td></tr><tr><td>val_loss</td><td>0.94527</td></tr></table><br/></div></div>"
            ],
            "text/plain": [
              "<IPython.core.display.HTML object>"
            ]
          },
          "metadata": {},
          "output_type": "display_data"
        },
        {
          "data": {
            "text/html": [
              " View run <strong style=\"color:#cdcd00\">HD=100_NL=2_DO=0.5_LR=0.001_BS=32</strong> at: <a href='https://wandb.ai/angelajcnto-the-university-of-western-australia/absa-bilstm-attention/runs/wrsmt8ql' target=\"_blank\">https://wandb.ai/angelajcnto-the-university-of-western-australia/absa-bilstm-attention/runs/wrsmt8ql</a><br> View project at: <a href='https://wandb.ai/angelajcnto-the-university-of-western-australia/absa-bilstm-attention' target=\"_blank\">https://wandb.ai/angelajcnto-the-university-of-western-australia/absa-bilstm-attention</a><br>Synced 5 W&B file(s), 0 media file(s), 0 artifact file(s) and 0 other file(s)"
            ],
            "text/plain": [
              "<IPython.core.display.HTML object>"
            ]
          },
          "metadata": {},
          "output_type": "display_data"
        },
        {
          "data": {
            "text/html": [
              "Find logs at: <code>.\\wandb\\run-20250425_214634-wrsmt8ql\\logs</code>"
            ],
            "text/plain": [
              "<IPython.core.display.HTML object>"
            ]
          },
          "metadata": {},
          "output_type": "display_data"
        },
        {
          "data": {
            "text/html": [],
            "text/plain": [
              "<IPython.core.display.HTML object>"
            ]
          },
          "metadata": {},
          "output_type": "display_data"
        },
        {
          "data": {
            "text/html": [
              "Tracking run with wandb version 0.19.10"
            ],
            "text/plain": [
              "<IPython.core.display.HTML object>"
            ]
          },
          "metadata": {},
          "output_type": "display_data"
        },
        {
          "data": {
            "text/html": [
              "Run data is saved locally in <code>c:\\Users\\angel\\OneDrive\\uni_projects\\DATA_SCIENCE_ML\\NLP-Aspect-Based-Sentiment-Analysis\\wandb\\run-20250425_214715-mhx4kjc7</code>"
            ],
            "text/plain": [
              "<IPython.core.display.HTML object>"
            ]
          },
          "metadata": {},
          "output_type": "display_data"
        },
        {
          "data": {
            "text/html": [
              "Syncing run <strong><a href='https://wandb.ai/angelajcnto-the-university-of-western-australia/absa-bilstm-attention/runs/mhx4kjc7' target=\"_blank\">HD=100_NL=2_DO=0.5_LR=0.001_BS=64</a></strong> to <a href='https://wandb.ai/angelajcnto-the-university-of-western-australia/absa-bilstm-attention' target=\"_blank\">Weights & Biases</a> (<a href='https://wandb.me/developer-guide' target=\"_blank\">docs</a>)<br>"
            ],
            "text/plain": [
              "<IPython.core.display.HTML object>"
            ]
          },
          "metadata": {},
          "output_type": "display_data"
        },
        {
          "data": {
            "text/html": [
              " View project at <a href='https://wandb.ai/angelajcnto-the-university-of-western-australia/absa-bilstm-attention' target=\"_blank\">https://wandb.ai/angelajcnto-the-university-of-western-australia/absa-bilstm-attention</a>"
            ],
            "text/plain": [
              "<IPython.core.display.HTML object>"
            ]
          },
          "metadata": {},
          "output_type": "display_data"
        },
        {
          "data": {
            "text/html": [
              " View run at <a href='https://wandb.ai/angelajcnto-the-university-of-western-australia/absa-bilstm-attention/runs/mhx4kjc7' target=\"_blank\">https://wandb.ai/angelajcnto-the-university-of-western-australia/absa-bilstm-attention/runs/mhx4kjc7</a>"
            ],
            "text/plain": [
              "<IPython.core.display.HTML object>"
            ]
          },
          "metadata": {},
          "output_type": "display_data"
        },
        {
          "name": "stdout",
          "output_type": "stream",
          "text": [
            "\n",
            "Testing: hidden_dim=100, num_layers=2, dropout=0.5, lr=0.001, batch_size=64\n",
            "Epoch 1/30 | Train Loss: 0.9185 | Train Acc: 59.13% | Val Loss: 0.9015 | Val Acc: 60.70%\n",
            "Epoch 2/30 | Train Loss: 0.8587 | Train Acc: 62.07% | Val Loss: 0.8321 | Val Acc: 62.16%\n",
            "Epoch 3/30 | Train Loss: 0.8353 | Train Acc: 63.78% | Val Loss: 0.8110 | Val Acc: 63.29%\n",
            "Epoch 4/30 | Train Loss: 0.8249 | Train Acc: 64.27% | Val Loss: 0.8109 | Val Acc: 63.29%\n",
            "Epoch 5/30 | Train Loss: 0.8110 | Train Acc: 64.56% | Val Loss: 0.8073 | Val Acc: 62.84%\n",
            "Epoch 6/30 | Train Loss: 0.7949 | Train Acc: 65.08% | Val Loss: 0.8013 | Val Acc: 63.18%\n",
            "Epoch 7/30 | Train Loss: 0.7768 | Train Acc: 66.23% | Val Loss: 0.8105 | Val Acc: 64.19%\n",
            "Epoch 8/30 | Train Loss: 0.7496 | Train Acc: 67.74% | Val Loss: 0.7923 | Val Acc: 66.22%\n",
            "Epoch 9/30 | Train Loss: 0.7272 | Train Acc: 68.22% | Val Loss: 0.8537 | Val Acc: 61.82%\n",
            "Epoch 10/30 | Train Loss: 0.6989 | Train Acc: 70.13% | Val Loss: 0.8177 | Val Acc: 65.65%\n",
            "Epoch 11/30 | Train Loss: 0.6644 | Train Acc: 71.73% | Val Loss: 0.8401 | Val Acc: 65.54%\n",
            "Epoch 12/30 | Train Loss: 0.6241 | Train Acc: 72.76% | Val Loss: 0.8752 | Val Acc: 64.64%\n",
            "Epoch 13/30 | Train Loss: 0.5765 | Train Acc: 75.46% | Val Loss: 0.8629 | Val Acc: 65.43%\n",
            "Early stopping at epoch 13\n"
          ]
        },
        {
          "data": {
            "text/html": [],
            "text/plain": [
              "<IPython.core.display.HTML object>"
            ]
          },
          "metadata": {},
          "output_type": "display_data"
        },
        {
          "data": {
            "text/html": [
              "<br>    <style><br>        .wandb-row {<br>            display: flex;<br>            flex-direction: row;<br>            flex-wrap: wrap;<br>            justify-content: flex-start;<br>            width: 100%;<br>        }<br>        .wandb-col {<br>            display: flex;<br>            flex-direction: column;<br>            flex-basis: 100%;<br>            flex: 1;<br>            padding: 10px;<br>        }<br>    </style><br><div class=\"wandb-row\"><div class=\"wandb-col\"><h3>Run history:</h3><br/><table class=\"wandb\"><tr><td>epoch</td><td>▁▂▂▃▃▄▅▅▆▆▇▇█</td></tr><tr><td>final_val_acc</td><td>▁</td></tr><tr><td>train_acc</td><td>▁▂▃▃▃▄▄▅▅▆▆▇█</td></tr><tr><td>train_loss</td><td>█▇▆▆▆▅▅▅▄▄▃▂▁</td></tr><tr><td>val_acc</td><td>▁▃▄▄▄▄▅█▂▇▇▆▇</td></tr><tr><td>val_loss</td><td>█▄▂▂▂▂▂▁▅▃▄▆▆</td></tr></table><br/></div><div class=\"wandb-col\"><h3>Run summary:</h3><br/><table class=\"wandb\"><tr><td>epoch</td><td>13</td></tr><tr><td>final_val_acc</td><td>0.65428</td></tr><tr><td>train_acc</td><td>0.75458</td></tr><tr><td>train_loss</td><td>0.57651</td></tr><tr><td>val_acc</td><td>0.65428</td></tr><tr><td>val_loss</td><td>0.86286</td></tr></table><br/></div></div>"
            ],
            "text/plain": [
              "<IPython.core.display.HTML object>"
            ]
          },
          "metadata": {},
          "output_type": "display_data"
        },
        {
          "data": {
            "text/html": [
              " View run <strong style=\"color:#cdcd00\">HD=100_NL=2_DO=0.5_LR=0.001_BS=64</strong> at: <a href='https://wandb.ai/angelajcnto-the-university-of-western-australia/absa-bilstm-attention/runs/mhx4kjc7' target=\"_blank\">https://wandb.ai/angelajcnto-the-university-of-western-australia/absa-bilstm-attention/runs/mhx4kjc7</a><br> View project at: <a href='https://wandb.ai/angelajcnto-the-university-of-western-australia/absa-bilstm-attention' target=\"_blank\">https://wandb.ai/angelajcnto-the-university-of-western-australia/absa-bilstm-attention</a><br>Synced 5 W&B file(s), 0 media file(s), 0 artifact file(s) and 0 other file(s)"
            ],
            "text/plain": [
              "<IPython.core.display.HTML object>"
            ]
          },
          "metadata": {},
          "output_type": "display_data"
        },
        {
          "data": {
            "text/html": [
              "Find logs at: <code>.\\wandb\\run-20250425_214715-mhx4kjc7\\logs</code>"
            ],
            "text/plain": [
              "<IPython.core.display.HTML object>"
            ]
          },
          "metadata": {},
          "output_type": "display_data"
        },
        {
          "data": {
            "text/html": [
              "Tracking run with wandb version 0.19.10"
            ],
            "text/plain": [
              "<IPython.core.display.HTML object>"
            ]
          },
          "metadata": {},
          "output_type": "display_data"
        },
        {
          "data": {
            "text/html": [
              "Run data is saved locally in <code>c:\\Users\\angel\\OneDrive\\uni_projects\\DATA_SCIENCE_ML\\NLP-Aspect-Based-Sentiment-Analysis\\wandb\\run-20250425_214755-9qurndyi</code>"
            ],
            "text/plain": [
              "<IPython.core.display.HTML object>"
            ]
          },
          "metadata": {},
          "output_type": "display_data"
        },
        {
          "data": {
            "text/html": [
              "Syncing run <strong><a href='https://wandb.ai/angelajcnto-the-university-of-western-australia/absa-bilstm-attention/runs/9qurndyi' target=\"_blank\">HD=100_NL=2_DO=0.5_LR=0.001_BS=128</a></strong> to <a href='https://wandb.ai/angelajcnto-the-university-of-western-australia/absa-bilstm-attention' target=\"_blank\">Weights & Biases</a> (<a href='https://wandb.me/developer-guide' target=\"_blank\">docs</a>)<br>"
            ],
            "text/plain": [
              "<IPython.core.display.HTML object>"
            ]
          },
          "metadata": {},
          "output_type": "display_data"
        },
        {
          "data": {
            "text/html": [
              " View project at <a href='https://wandb.ai/angelajcnto-the-university-of-western-australia/absa-bilstm-attention' target=\"_blank\">https://wandb.ai/angelajcnto-the-university-of-western-australia/absa-bilstm-attention</a>"
            ],
            "text/plain": [
              "<IPython.core.display.HTML object>"
            ]
          },
          "metadata": {},
          "output_type": "display_data"
        },
        {
          "data": {
            "text/html": [
              " View run at <a href='https://wandb.ai/angelajcnto-the-university-of-western-australia/absa-bilstm-attention/runs/9qurndyi' target=\"_blank\">https://wandb.ai/angelajcnto-the-university-of-western-australia/absa-bilstm-attention/runs/9qurndyi</a>"
            ],
            "text/plain": [
              "<IPython.core.display.HTML object>"
            ]
          },
          "metadata": {},
          "output_type": "display_data"
        },
        {
          "name": "stdout",
          "output_type": "stream",
          "text": [
            "\n",
            "Testing: hidden_dim=100, num_layers=2, dropout=0.5, lr=0.001, batch_size=128\n",
            "Epoch 1/30 | Train Loss: 0.9356 | Train Acc: 58.27% | Val Loss: 0.8733 | Val Acc: 59.68%\n",
            "Epoch 2/30 | Train Loss: 0.8737 | Train Acc: 61.35% | Val Loss: 0.8660 | Val Acc: 62.05%\n",
            "Epoch 3/30 | Train Loss: 0.8490 | Train Acc: 63.20% | Val Loss: 0.8223 | Val Acc: 62.16%\n",
            "Epoch 4/30 | Train Loss: 0.8328 | Train Acc: 64.10% | Val Loss: 0.8065 | Val Acc: 62.73%\n",
            "Epoch 5/30 | Train Loss: 0.8197 | Train Acc: 64.37% | Val Loss: 0.8096 | Val Acc: 63.29%\n",
            "Epoch 6/30 | Train Loss: 0.7982 | Train Acc: 65.15% | Val Loss: 0.7992 | Val Acc: 64.30%\n",
            "Epoch 7/30 | Train Loss: 0.7886 | Train Acc: 65.97% | Val Loss: 0.7988 | Val Acc: 63.29%\n",
            "Epoch 8/30 | Train Loss: 0.7698 | Train Acc: 66.70% | Val Loss: 0.7979 | Val Acc: 65.54%\n",
            "Epoch 9/30 | Train Loss: 0.7607 | Train Acc: 66.76% | Val Loss: 0.8097 | Val Acc: 64.08%\n",
            "Epoch 10/30 | Train Loss: 0.7320 | Train Acc: 68.58% | Val Loss: 0.8126 | Val Acc: 64.41%\n",
            "Epoch 11/30 | Train Loss: 0.7035 | Train Acc: 69.25% | Val Loss: 0.8110 | Val Acc: 64.64%\n",
            "Epoch 12/30 | Train Loss: 0.6842 | Train Acc: 70.45% | Val Loss: 0.8119 | Val Acc: 65.65%\n",
            "Epoch 13/30 | Train Loss: 0.6555 | Train Acc: 72.37% | Val Loss: 0.8812 | Val Acc: 64.98%\n",
            "Epoch 14/30 | Train Loss: 0.6186 | Train Acc: 73.48% | Val Loss: 0.8884 | Val Acc: 63.51%\n",
            "Epoch 15/30 | Train Loss: 0.5771 | Train Acc: 75.66% | Val Loss: 0.9058 | Val Acc: 63.74%\n",
            "Epoch 16/30 | Train Loss: 0.5204 | Train Acc: 77.81% | Val Loss: 0.9201 | Val Acc: 65.20%\n",
            "Epoch 17/30 | Train Loss: 0.4750 | Train Acc: 80.34% | Val Loss: 1.0021 | Val Acc: 62.05%\n",
            "Early stopping at epoch 17\n"
          ]
        },
        {
          "data": {
            "text/html": [],
            "text/plain": [
              "<IPython.core.display.HTML object>"
            ]
          },
          "metadata": {},
          "output_type": "display_data"
        },
        {
          "data": {
            "text/html": [
              "<br>    <style><br>        .wandb-row {<br>            display: flex;<br>            flex-direction: row;<br>            flex-wrap: wrap;<br>            justify-content: flex-start;<br>            width: 100%;<br>        }<br>        .wandb-col {<br>            display: flex;<br>            flex-direction: column;<br>            flex-basis: 100%;<br>            flex: 1;<br>            padding: 10px;<br>        }<br>    </style><br><div class=\"wandb-row\"><div class=\"wandb-col\"><h3>Run history:</h3><br/><table class=\"wandb\"><tr><td>epoch</td><td>▁▁▂▂▃▃▄▄▅▅▅▆▆▇▇██</td></tr><tr><td>final_val_acc</td><td>▁</td></tr><tr><td>train_acc</td><td>▁▂▃▃▃▃▃▄▄▄▄▅▅▆▇▇█</td></tr><tr><td>train_loss</td><td>█▇▇▆▆▆▆▅▅▅▄▄▄▃▃▂▁</td></tr><tr><td>val_acc</td><td>▁▄▄▅▅▆▅█▆▇▇█▇▅▆▇▄</td></tr><tr><td>val_loss</td><td>▄▃▂▁▁▁▁▁▁▂▁▁▄▄▅▅█</td></tr></table><br/></div><div class=\"wandb-col\"><h3>Run summary:</h3><br/><table class=\"wandb\"><tr><td>epoch</td><td>17</td></tr><tr><td>final_val_acc</td><td>0.6205</td></tr><tr><td>train_acc</td><td>0.80339</td></tr><tr><td>train_loss</td><td>0.47504</td></tr><tr><td>val_acc</td><td>0.6205</td></tr><tr><td>val_loss</td><td>1.00215</td></tr></table><br/></div></div>"
            ],
            "text/plain": [
              "<IPython.core.display.HTML object>"
            ]
          },
          "metadata": {},
          "output_type": "display_data"
        },
        {
          "data": {
            "text/html": [
              " View run <strong style=\"color:#cdcd00\">HD=100_NL=2_DO=0.5_LR=0.001_BS=128</strong> at: <a href='https://wandb.ai/angelajcnto-the-university-of-western-australia/absa-bilstm-attention/runs/9qurndyi' target=\"_blank\">https://wandb.ai/angelajcnto-the-university-of-western-australia/absa-bilstm-attention/runs/9qurndyi</a><br> View project at: <a href='https://wandb.ai/angelajcnto-the-university-of-western-australia/absa-bilstm-attention' target=\"_blank\">https://wandb.ai/angelajcnto-the-university-of-western-australia/absa-bilstm-attention</a><br>Synced 5 W&B file(s), 0 media file(s), 0 artifact file(s) and 0 other file(s)"
            ],
            "text/plain": [
              "<IPython.core.display.HTML object>"
            ]
          },
          "metadata": {},
          "output_type": "display_data"
        },
        {
          "data": {
            "text/html": [
              "Find logs at: <code>.\\wandb\\run-20250425_214755-9qurndyi\\logs</code>"
            ],
            "text/plain": [
              "<IPython.core.display.HTML object>"
            ]
          },
          "metadata": {},
          "output_type": "display_data"
        },
        {
          "name": "stdout",
          "output_type": "stream",
          "text": [
            "\n",
            "Best Hyperparameters:\n",
            "hidden_dim: 100\n",
            "num_layers: 1\n",
            "dropout: 0.5\n",
            "learning_rate: 0.005\n",
            "batch_size: 128\n",
            "Validation Accuracy: 67.23%\n"
          ]
        }
      ],
      "source": [
        "best_params, results = hyperparameter_tuning(train_dataset, val_dataset, custom_collate, device)"
      ]
    },
    {
      "cell_type": "code",
      "execution_count": null,
      "metadata": {},
      "outputs": [
        {
          "name": "stdout",
          "output_type": "stream",
          "text": [
            "{'hidden_dim': 100, 'num_layers': 1, 'dropout': 0.5, 'learning_rate': 0.005, 'batch_size': 128, 'val_accuracy': 0.6722972972972973}\n"
          ]
        }
      ],
      "source": [
        "print(best_params)"
      ]
    },
    {
      "cell_type": "code",
      "execution_count": 115,
      "metadata": {},
      "outputs": [
        {
          "name": "stdout",
          "output_type": "stream",
          "text": [
            "Top 3 Hyperparameter Configurations:\n",
            "\n",
            "Rank 1: Validation Accuracy: 67.23%\n",
            "  hidden_dim: 100\n",
            "  num_layers: 1\n",
            "  dropout: 0.5\n",
            "  learning_rate: 0.005\n",
            "  batch_size: 128\n",
            "\n",
            "Rank 2: Validation Accuracy: 66.55%\n",
            "  hidden_dim: 50\n",
            "  num_layers: 2\n",
            "  dropout: 0.5\n",
            "  learning_rate: 0.005\n",
            "  batch_size: 128\n",
            "\n",
            "Rank 3: Validation Accuracy: 66.44%\n",
            "  hidden_dim: 100\n",
            "  num_layers: 1\n",
            "  dropout: 0.5\n",
            "  learning_rate: 0.01\n",
            "  batch_size: 64\n"
          ]
        }
      ],
      "source": [
        "sorted_results = sorted(results, key=lambda x: x['val_accuracy'], reverse=True)\n",
        "\n",
        "# Print top 3 configurations\n",
        "print(\"Top 3 Hyperparameter Configurations:\")\n",
        "for i, config in enumerate(sorted_results[:3]):\n",
        "    print(f\"\\nRank {i+1}: Validation Accuracy: {config['val_accuracy']*100:.2f}%\")\n",
        "    for param, value in config.items():\n",
        "        if param != 'val_accuracy':\n",
        "            print(f\"  {param}: {value}\")"
      ]
    },
    {
      "cell_type": "code",
      "execution_count": 127,
      "metadata": {},
      "outputs": [],
      "source": [
        "from sklearn.model_selection import KFold\n",
        "\n",
        "def k_fold_cross_validation_multi_config(dataset, configs, input_dim, output_dim, k=5, device=device):\n",
        "    kf = KFold(n_splits=k, shuffle=True, random_state=42)\n",
        "    indices = list(range(len(dataset)))\n",
        "    \n",
        "    config_results = {}\n",
        "    \n",
        "    for config_idx, config in enumerate(configs):\n",
        "        print(f\"\\n\\nEvaluating Configuration {config_idx+1}/{len(configs)}\")\n",
        "        print(f\"Parameters: {config}\")\n",
        "        \n",
        "        # Extract parameters from the configuration\n",
        "        hidden_dim = config['hidden_dim']\n",
        "        num_layers = config['num_layers']\n",
        "        dropout = config['dropout']\n",
        "        learning_rate = config['learning_rate']\n",
        "        batch_size = config['batch_size']\n",
        "\n",
        "        run_name = f\"KFold_Config_{config_idx+1}_CV\"\n",
        "        wandb.init(\n",
        "            project=\"absa-bilstm-attention\",\n",
        "            name=run_name,\n",
        "            config={\n",
        "                \"hidden_dim\": hidden_dim,\n",
        "                \"num_layers\": num_layers,\n",
        "                \"dropout\": dropout,\n",
        "                \"learning_rate\": learning_rate,\n",
        "                \"batch_size\": batch_size,\n",
        "                \"cross_validation\": True,\n",
        "                \"folds\": k\n",
        "            },\n",
        "            reinit=True\n",
        "        )\n",
        "        \n",
        "        # Tracking variables for best fold performance\n",
        "        best_fold_acc = 0\n",
        "        best_fold_idx = -1\n",
        "\n",
        "        fold_results = []\n",
        "        \n",
        "        # Perform k-fold cross validation\n",
        "        for fold, (train_idx, val_idx) in enumerate(kf.split(indices)):\n",
        "            print(f\"\\nTraining fold {fold+1}/{k}\")\n",
        "            \n",
        "            # Create samplers for fold\n",
        "            train_subsampler = torch.utils.data.SubsetRandomSampler(train_idx)\n",
        "            val_subsampler = torch.utils.data.SubsetRandomSampler(val_idx)\n",
        "            \n",
        "            # Create data loaders for fold\n",
        "            train_loader = DataLoader(\n",
        "                dataset, batch_size=batch_size, \n",
        "                sampler=train_subsampler, collate_fn=custom_collate\n",
        "            )\n",
        "            val_loader = DataLoader(\n",
        "                dataset, batch_size=batch_size,\n",
        "                sampler=val_subsampler, collate_fn=custom_collate\n",
        "            )\n",
        "            \n",
        "            # Initialize model with this configuration\n",
        "            model = BiLSTMAttention(input_dim, hidden_dim, output_dim, num_layers, dropout).to(device)\n",
        "            criterion = nn.CrossEntropyLoss()\n",
        "            optimizer = optim.Adam(model.parameters(), lr=learning_rate)\n",
        "            \n",
        "            train_model(model, train_loader, val_loader, criterion, optimizer, device=device, num_epochs=15)\n",
        "            \n",
        "            val_loss, val_acc = evaluate(model, val_loader, criterion, device)\n",
        "            print(f\"Fold {fold+1} validation accuracy: {val_acc*100:.2f}%\")\n",
        "\n",
        "            if val_acc > best_fold_acc:\n",
        "                best_fold_acc = val_acc\n",
        "                torch.save(model.state_dict(), f\"config_{config_idx+1}_fold_{fold+1}_model.pt\")\n",
        "\n",
        "            # Log fold results\n",
        "            wandb.log({\n",
        "                \"fold\": fold + 1,\n",
        "                \"fold_val_accuracy\": val_acc,\n",
        "                \"fold_val_loss\": val_loss\n",
        "            })\n",
        "            \n",
        "            fold_results.append(val_acc)\n",
        "        \n",
        "        # Calculate average performance across folds\n",
        "        avg_acc = sum(fold_results) / len(fold_results)\n",
        "        std_acc = (sum((x - avg_acc) ** 2 for x in fold_results) / len(fold_results)) ** 0.5\n",
        "\n",
        "        # Log final results to wandb\n",
        "        wandb.log({\n",
        "            \"avg_val_accuracy\": avg_acc,\n",
        "            \"std_val_accuracy\": std_acc\n",
        "        })\n",
        "        \n",
        "        print(f\"\\nConfiguration {config_idx+1} Results:\")\n",
        "        print(f\"Average validation accuracy: {avg_acc*100:.2f}%\")\n",
        "        print(f\"Standard deviation: {std_acc*100:.2f}%\")\n",
        "        \n",
        "        # Store results for this configuration\n",
        "        config_results[config_idx] = {\n",
        "            'config': config,\n",
        "            'fold_results': fold_results,\n",
        "            'avg_accuracy': avg_acc,\n",
        "            'std_accuracy': std_acc\n",
        "        }\n",
        "\n",
        "        wandb.finish()\n",
        "\n",
        "    # Find the best configuration\n",
        "    best_config_idx = max(config_results, key=lambda x: config_results[x]['avg_accuracy'])\n",
        "    best_config = config_results[best_config_idx]\n",
        "    \n",
        "    print(\"\\n\\nFINAL RESULTS\")\n",
        "    print(f\"Best configuration: #{best_config_idx+1}\")\n",
        "    for param, value in best_config['config'].items():\n",
        "        print(f\"  {param}: {value}\")\n",
        "    print(f\"Average accuracy: {best_config['avg_accuracy']*100:.2f}%\")\n",
        "    print(f\"Standard deviation: {best_config['std_accuracy']*100:.2f}%\")\n",
        "    \n",
        "    return config_results, best_config_idx"
      ]
    },
    {
      "cell_type": "code",
      "execution_count": 128,
      "metadata": {},
      "outputs": [
        {
          "name": "stdout",
          "output_type": "stream",
          "text": [
            "\n",
            "\n",
            "Evaluating Configuration 1/3\n",
            "Parameters: {'hidden_dim': 100, 'num_layers': 1, 'dropout': 0.5, 'learning_rate': 0.005, 'batch_size': 128}\n"
          ]
        },
        {
          "data": {
            "text/html": [
              "Finishing previous runs because reinit is set to True."
            ],
            "text/plain": [
              "<IPython.core.display.HTML object>"
            ]
          },
          "metadata": {},
          "output_type": "display_data"
        },
        {
          "data": {
            "text/html": [],
            "text/plain": [
              "<IPython.core.display.HTML object>"
            ]
          },
          "metadata": {},
          "output_type": "display_data"
        },
        {
          "data": {
            "text/html": [
              "<br>    <style><br>        .wandb-row {<br>            display: flex;<br>            flex-direction: row;<br>            flex-wrap: wrap;<br>            justify-content: flex-start;<br>            width: 100%;<br>        }<br>        .wandb-col {<br>            display: flex;<br>            flex-direction: column;<br>            flex-basis: 100%;<br>            flex: 1;<br>            padding: 10px;<br>        }<br>    </style><br><div class=\"wandb-row\"><div class=\"wandb-col\"><h3>Run history:</h3><br/><table class=\"wandb\"><tr><td>epoch</td><td>▁▂▃▃▄▅▆▆▇█</td></tr><tr><td>train_acc</td><td>▁▃▃▄▅▅▆▇▇█</td></tr><tr><td>train_loss</td><td>█▇▆▅▄▄▃▂▂▁</td></tr><tr><td>val_acc</td><td>▄▁▄▇█▅▇▇█▇</td></tr><tr><td>val_loss</td><td>█▅▅▅▃▃▂▁▃▅</td></tr></table><br/></div><div class=\"wandb-col\"><h3>Run summary:</h3><br/><table class=\"wandb\"><tr><td>epoch</td><td>10</td></tr><tr><td>train_acc</td><td>0.6994</td></tr><tr><td>train_loss</td><td>0.70086</td></tr><tr><td>val_acc</td><td>0.63963</td></tr><tr><td>val_loss</td><td>0.84989</td></tr></table><br/></div></div>"
            ],
            "text/plain": [
              "<IPython.core.display.HTML object>"
            ]
          },
          "metadata": {},
          "output_type": "display_data"
        },
        {
          "data": {
            "text/html": [
              " View run <strong style=\"color:#cdcd00\">KFold_Config_1_CV</strong> at: <a href='https://wandb.ai/angelajcnto-the-university-of-western-australia/absa-bilstm-attention/runs/h5eln2jf' target=\"_blank\">https://wandb.ai/angelajcnto-the-university-of-western-australia/absa-bilstm-attention/runs/h5eln2jf</a><br> View project at: <a href='https://wandb.ai/angelajcnto-the-university-of-western-australia/absa-bilstm-attention' target=\"_blank\">https://wandb.ai/angelajcnto-the-university-of-western-australia/absa-bilstm-attention</a><br>Synced 5 W&B file(s), 0 media file(s), 0 artifact file(s) and 0 other file(s)"
            ],
            "text/plain": [
              "<IPython.core.display.HTML object>"
            ]
          },
          "metadata": {},
          "output_type": "display_data"
        },
        {
          "data": {
            "text/html": [
              "Find logs at: <code>.\\wandb\\run-20250426_131235-h5eln2jf\\logs</code>"
            ],
            "text/plain": [
              "<IPython.core.display.HTML object>"
            ]
          },
          "metadata": {},
          "output_type": "display_data"
        },
        {
          "data": {
            "text/html": [
              "Tracking run with wandb version 0.19.10"
            ],
            "text/plain": [
              "<IPython.core.display.HTML object>"
            ]
          },
          "metadata": {},
          "output_type": "display_data"
        },
        {
          "data": {
            "text/html": [
              "Run data is saved locally in <code>c:\\Users\\angel\\OneDrive\\uni_projects\\DATA_SCIENCE_ML\\NLP-Aspect-Based-Sentiment-Analysis\\wandb\\run-20250426_135124-6lojj3td</code>"
            ],
            "text/plain": [
              "<IPython.core.display.HTML object>"
            ]
          },
          "metadata": {},
          "output_type": "display_data"
        },
        {
          "data": {
            "text/html": [
              "Syncing run <strong><a href='https://wandb.ai/angelajcnto-the-university-of-western-australia/absa-bilstm-attention/runs/6lojj3td' target=\"_blank\">KFold_Config_1_CV</a></strong> to <a href='https://wandb.ai/angelajcnto-the-university-of-western-australia/absa-bilstm-attention' target=\"_blank\">Weights & Biases</a> (<a href='https://wandb.me/developer-guide' target=\"_blank\">docs</a>)<br>"
            ],
            "text/plain": [
              "<IPython.core.display.HTML object>"
            ]
          },
          "metadata": {},
          "output_type": "display_data"
        },
        {
          "data": {
            "text/html": [
              " View project at <a href='https://wandb.ai/angelajcnto-the-university-of-western-australia/absa-bilstm-attention' target=\"_blank\">https://wandb.ai/angelajcnto-the-university-of-western-australia/absa-bilstm-attention</a>"
            ],
            "text/plain": [
              "<IPython.core.display.HTML object>"
            ]
          },
          "metadata": {},
          "output_type": "display_data"
        },
        {
          "data": {
            "text/html": [
              " View run at <a href='https://wandb.ai/angelajcnto-the-university-of-western-australia/absa-bilstm-attention/runs/6lojj3td' target=\"_blank\">https://wandb.ai/angelajcnto-the-university-of-western-australia/absa-bilstm-attention/runs/6lojj3td</a>"
            ],
            "text/plain": [
              "<IPython.core.display.HTML object>"
            ]
          },
          "metadata": {},
          "output_type": "display_data"
        },
        {
          "name": "stdout",
          "output_type": "stream",
          "text": [
            "\n",
            "Training fold 1/5\n"
          ]
        },
        {
          "name": "stderr",
          "output_type": "stream",
          "text": [
            "c:\\Users\\angel\\anaconda3\\Lib\\site-packages\\torch\\nn\\modules\\rnn.py:123: UserWarning: dropout option adds dropout after all but last recurrent layer, so non-zero dropout expects num_layers greater than 1, but got dropout=0.5 and num_layers=1\n",
            "  warnings.warn(\n"
          ]
        },
        {
          "name": "stdout",
          "output_type": "stream",
          "text": [
            "Epoch 1/15 | Train Loss: 0.9331 | Train Acc: 58.37% | Val Loss: 0.8911 | Val Acc: 61.14%\n",
            "Epoch 2/15 | Train Loss: 0.8806 | Train Acc: 61.37% | Val Loss: 0.8609 | Val Acc: 61.71%\n",
            "Epoch 3/15 | Train Loss: 0.8620 | Train Acc: 62.39% | Val Loss: 0.8245 | Val Acc: 63.61%\n",
            "Epoch 4/15 | Train Loss: 0.8419 | Train Acc: 64.10% | Val Loss: 0.8054 | Val Acc: 63.96%\n",
            "Epoch 5/15 | Train Loss: 0.8259 | Train Acc: 63.70% | Val Loss: 0.8180 | Val Acc: 64.17%\n",
            "Epoch 6/15 | Train Loss: 0.8044 | Train Acc: 64.39% | Val Loss: 0.8043 | Val Acc: 64.60%\n",
            "Epoch 7/15 | Train Loss: 0.7793 | Train Acc: 65.89% | Val Loss: 0.8071 | Val Acc: 63.96%\n",
            "Epoch 8/15 | Train Loss: 0.7583 | Train Acc: 67.07% | Val Loss: 0.8121 | Val Acc: 64.39%\n",
            "Epoch 9/15 | Train Loss: 0.7264 | Train Acc: 68.41% | Val Loss: 0.8412 | Val Acc: 64.60%\n",
            "Epoch 10/15 | Train Loss: 0.7083 | Train Acc: 69.18% | Val Loss: 0.7931 | Val Acc: 65.51%\n",
            "Epoch 11/15 | Train Loss: 0.6717 | Train Acc: 70.94% | Val Loss: 0.8249 | Val Acc: 65.37%\n",
            "Epoch 12/15 | Train Loss: 0.6482 | Train Acc: 71.47% | Val Loss: 0.8193 | Val Acc: 64.53%\n",
            "Epoch 13/15 | Train Loss: 0.6220 | Train Acc: 73.62% | Val Loss: 0.9012 | Val Acc: 62.76%\n",
            "Epoch 14/15 | Train Loss: 0.5916 | Train Acc: 75.02% | Val Loss: 0.9141 | Val Acc: 62.41%\n",
            "Epoch 15/15 | Train Loss: 0.5871 | Train Acc: 75.60% | Val Loss: 0.9008 | Val Acc: 62.98%\n",
            "Early stopping at epoch 15\n",
            "Fold 1 validation accuracy: 62.98%\n",
            "\n",
            "Training fold 2/5\n",
            "Epoch 1/15 | Train Loss: 0.9332 | Train Acc: 58.13% | Val Loss: 0.8876 | Val Acc: 60.08%\n",
            "Epoch 2/15 | Train Loss: 0.8751 | Train Acc: 61.41% | Val Loss: 0.8456 | Val Acc: 62.34%\n",
            "Epoch 3/15 | Train Loss: 0.8561 | Train Acc: 63.01% | Val Loss: 0.8666 | Val Acc: 61.14%\n",
            "Epoch 4/15 | Train Loss: 0.8342 | Train Acc: 63.96% | Val Loss: 0.8600 | Val Acc: 62.98%\n",
            "Epoch 5/15 | Train Loss: 0.8131 | Train Acc: 64.35% | Val Loss: 0.8364 | Val Acc: 63.47%\n",
            "Epoch 6/15 | Train Loss: 0.7901 | Train Acc: 65.73% | Val Loss: 0.8090 | Val Acc: 64.17%\n",
            "Epoch 7/15 | Train Loss: 0.7782 | Train Acc: 66.03% | Val Loss: 0.8423 | Val Acc: 63.12%\n",
            "Epoch 8/15 | Train Loss: 0.7461 | Train Acc: 67.19% | Val Loss: 0.8218 | Val Acc: 62.41%\n",
            "Epoch 9/15 | Train Loss: 0.7199 | Train Acc: 68.67% | Val Loss: 0.8080 | Val Acc: 62.91%\n",
            "Epoch 10/15 | Train Loss: 0.7087 | Train Acc: 69.48% | Val Loss: 0.8368 | Val Acc: 63.12%\n",
            "Epoch 11/15 | Train Loss: 0.6881 | Train Acc: 69.64% | Val Loss: 0.8397 | Val Acc: 61.99%\n",
            "Early stopping at epoch 11\n",
            "Fold 2 validation accuracy: 61.99%\n",
            "\n",
            "Training fold 3/5\n",
            "Epoch 1/15 | Train Loss: 0.9235 | Train Acc: 58.92% | Val Loss: 0.8893 | Val Acc: 60.23%\n",
            "Epoch 2/15 | Train Loss: 0.8700 | Train Acc: 61.76% | Val Loss: 0.9014 | Val Acc: 60.44%\n",
            "Epoch 3/15 | Train Loss: 0.8519 | Train Acc: 62.82% | Val Loss: 0.8864 | Val Acc: 58.67%\n",
            "Epoch 4/15 | Train Loss: 0.8256 | Train Acc: 64.02% | Val Loss: 0.8456 | Val Acc: 59.73%\n",
            "Epoch 5/15 | Train Loss: 0.8100 | Train Acc: 64.83% | Val Loss: 0.8661 | Val Acc: 61.00%\n",
            "Epoch 6/15 | Train Loss: 0.7844 | Train Acc: 66.40% | Val Loss: 0.8309 | Val Acc: 62.27%\n",
            "Epoch 7/15 | Train Loss: 0.7670 | Train Acc: 66.26% | Val Loss: 0.8581 | Val Acc: 61.64%\n",
            "Epoch 8/15 | Train Loss: 0.7359 | Train Acc: 67.89% | Val Loss: 0.8317 | Val Acc: 61.35%\n",
            "Epoch 9/15 | Train Loss: 0.7066 | Train Acc: 69.38% | Val Loss: 0.8622 | Val Acc: 59.87%\n",
            "Epoch 10/15 | Train Loss: 0.6825 | Train Acc: 70.29% | Val Loss: 0.9079 | Val Acc: 62.13%\n",
            "Epoch 11/15 | Train Loss: 0.6604 | Train Acc: 71.56% | Val Loss: 0.8726 | Val Acc: 61.42%\n",
            "Early stopping at epoch 11\n",
            "Fold 3 validation accuracy: 61.50%\n",
            "\n",
            "Training fold 4/5\n",
            "Epoch 1/15 | Train Loss: 0.9295 | Train Acc: 58.41% | Val Loss: 0.8606 | Val Acc: 63.12%\n",
            "Epoch 2/15 | Train Loss: 0.8797 | Train Acc: 61.74% | Val Loss: 0.8493 | Val Acc: 63.54%\n",
            "Epoch 3/15 | Train Loss: 0.8493 | Train Acc: 62.91% | Val Loss: 0.8647 | Val Acc: 62.76%\n",
            "Epoch 4/15 | Train Loss: 0.8323 | Train Acc: 63.03% | Val Loss: 0.8294 | Val Acc: 62.83%\n",
            "Epoch 5/15 | Train Loss: 0.8075 | Train Acc: 64.58% | Val Loss: 0.8219 | Val Acc: 64.60%\n",
            "Epoch 6/15 | Train Loss: 0.7798 | Train Acc: 65.60% | Val Loss: 0.8134 | Val Acc: 64.88%\n",
            "Epoch 7/15 | Train Loss: 0.7513 | Train Acc: 67.17% | Val Loss: 0.8183 | Val Acc: 64.60%\n",
            "Epoch 8/15 | Train Loss: 0.7320 | Train Acc: 67.88% | Val Loss: 0.8090 | Val Acc: 65.16%\n",
            "Epoch 9/15 | Train Loss: 0.6998 | Train Acc: 69.61% | Val Loss: 0.8382 | Val Acc: 64.25%\n",
            "Epoch 10/15 | Train Loss: 0.6757 | Train Acc: 71.40% | Val Loss: 0.8343 | Val Acc: 60.72%\n",
            "Epoch 11/15 | Train Loss: 0.6527 | Train Acc: 71.76% | Val Loss: 0.9020 | Val Acc: 64.03%\n",
            "Epoch 12/15 | Train Loss: 0.6060 | Train Acc: 73.87% | Val Loss: 0.9454 | Val Acc: 61.57%\n",
            "Epoch 13/15 | Train Loss: 0.6004 | Train Acc: 74.19% | Val Loss: 0.8964 | Val Acc: 62.69%\n",
            "Early stopping at epoch 13\n",
            "Fold 4 validation accuracy: 62.62%\n",
            "\n",
            "Training fold 5/5\n",
            "Epoch 1/15 | Train Loss: 0.9260 | Train Acc: 58.32% | Val Loss: 0.8581 | Val Acc: 63.12%\n",
            "Epoch 2/15 | Train Loss: 0.8820 | Train Acc: 60.75% | Val Loss: 0.8562 | Val Acc: 63.26%\n",
            "Epoch 3/15 | Train Loss: 0.8489 | Train Acc: 62.73% | Val Loss: 0.8369 | Val Acc: 62.41%\n",
            "Epoch 4/15 | Train Loss: 0.8390 | Train Acc: 63.22% | Val Loss: 0.8413 | Val Acc: 62.34%\n",
            "Epoch 5/15 | Train Loss: 0.8158 | Train Acc: 64.74% | Val Loss: 0.8289 | Val Acc: 63.89%\n",
            "Epoch 6/15 | Train Loss: 0.7911 | Train Acc: 65.00% | Val Loss: 0.8432 | Val Acc: 63.26%\n",
            "Epoch 7/15 | Train Loss: 0.7722 | Train Acc: 65.94% | Val Loss: 0.8461 | Val Acc: 65.02%\n",
            "Epoch 8/15 | Train Loss: 0.7384 | Train Acc: 67.95% | Val Loss: 0.8608 | Val Acc: 64.25%\n",
            "Epoch 9/15 | Train Loss: 0.7165 | Train Acc: 68.62% | Val Loss: 0.8305 | Val Acc: 62.41%\n",
            "Epoch 10/15 | Train Loss: 0.7068 | Train Acc: 69.09% | Val Loss: 0.8248 | Val Acc: 64.53%\n",
            "Epoch 11/15 | Train Loss: 0.6749 | Train Acc: 71.05% | Val Loss: 0.8579 | Val Acc: 63.96%\n",
            "Epoch 12/15 | Train Loss: 0.6536 | Train Acc: 72.18% | Val Loss: 0.8954 | Val Acc: 60.93%\n",
            "Early stopping at epoch 12\n",
            "Fold 5 validation accuracy: 61.00%\n",
            "\n",
            "Configuration 1 Results:\n",
            "Average validation accuracy: 62.02%\n",
            "Standard deviation: 0.72%\n"
          ]
        },
        {
          "data": {
            "text/html": [],
            "text/plain": [
              "<IPython.core.display.HTML object>"
            ]
          },
          "metadata": {},
          "output_type": "display_data"
        },
        {
          "data": {
            "text/html": [
              "<br>    <style><br>        .wandb-row {<br>            display: flex;<br>            flex-direction: row;<br>            flex-wrap: wrap;<br>            justify-content: flex-start;<br>            width: 100%;<br>        }<br>        .wandb-col {<br>            display: flex;<br>            flex-direction: column;<br>            flex-basis: 100%;<br>            flex: 1;<br>            padding: 10px;<br>        }<br>    </style><br><div class=\"wandb-row\"><div class=\"wandb-col\"><h3>Run history:</h3><br/><table class=\"wandb\"><tr><td>avg_val_accuracy</td><td>▁</td></tr><tr><td>epoch</td><td>▁▁▃▃▄▅▅▆▇▇█▁▁▂▃▄▅▅▅▁▃▄▅▅▆▃▃▄▅▅▆▇▇▁▁▃▅▅▅▇</td></tr><tr><td>fold</td><td>▁▃▅▆█</td></tr><tr><td>fold_val_accuracy</td><td>█▅▃▇▁</td></tr><tr><td>fold_val_loss</td><td>▅▁▆▅█</td></tr><tr><td>std_val_accuracy</td><td>▁</td></tr><tr><td>train_acc</td><td>▂▃▃▃▄▅▆▇▇█▁▂▃▃▄▅▆▁▃▃▄▄▅▆▆▂▃▄▅▅▇▇██▁▃▄▄▅▆</td></tr><tr><td>train_loss</td><td>▇▇▆▅▄▂▁▁█▇▆▆▅▄▄▃█▇▆▆▅▄▃▃▂▇▆▆▅▅▄▃▃▂▁▇▆▆▅▂</td></tr><tr><td>val_acc</td><td>▄▄▆▇▇█▇▅▅▂▄▅▆▅▅▄▁▂▃▅▄▆▆▅▅▇▇▇▃▄▆▆▅▅▆▇▇▅▇▃</td></tr><tr><td>val_loss</td><td>▆▄▂▂▂▁▂▂▇▆▄▃▂▃▂▃▃▅▆▃▃▄▃▄▆▄▄▃▂▂▂▃▃█▄▃▃▄▂▆</td></tr></table><br/></div><div class=\"wandb-col\"><h3>Run summary:</h3><br/><table class=\"wandb\"><tr><td>avg_val_accuracy</td><td>0.62017</td></tr><tr><td>epoch</td><td>12</td></tr><tr><td>fold</td><td>5</td></tr><tr><td>fold_val_accuracy</td><td>0.61001</td></tr><tr><td>fold_val_loss</td><td>0.89375</td></tr><tr><td>std_val_accuracy</td><td>0.0072</td></tr><tr><td>train_acc</td><td>0.72179</td></tr><tr><td>train_loss</td><td>0.65359</td></tr><tr><td>val_acc</td><td>0.60931</td></tr><tr><td>val_loss</td><td>0.89535</td></tr></table><br/></div></div>"
            ],
            "text/plain": [
              "<IPython.core.display.HTML object>"
            ]
          },
          "metadata": {},
          "output_type": "display_data"
        },
        {
          "data": {
            "text/html": [
              " View run <strong style=\"color:#cdcd00\">KFold_Config_1_CV</strong> at: <a href='https://wandb.ai/angelajcnto-the-university-of-western-australia/absa-bilstm-attention/runs/6lojj3td' target=\"_blank\">https://wandb.ai/angelajcnto-the-university-of-western-australia/absa-bilstm-attention/runs/6lojj3td</a><br> View project at: <a href='https://wandb.ai/angelajcnto-the-university-of-western-australia/absa-bilstm-attention' target=\"_blank\">https://wandb.ai/angelajcnto-the-university-of-western-australia/absa-bilstm-attention</a><br>Synced 5 W&B file(s), 0 media file(s), 0 artifact file(s) and 0 other file(s)"
            ],
            "text/plain": [
              "<IPython.core.display.HTML object>"
            ]
          },
          "metadata": {},
          "output_type": "display_data"
        },
        {
          "data": {
            "text/html": [
              "Find logs at: <code>.\\wandb\\run-20250426_135124-6lojj3td\\logs</code>"
            ],
            "text/plain": [
              "<IPython.core.display.HTML object>"
            ]
          },
          "metadata": {},
          "output_type": "display_data"
        },
        {
          "name": "stdout",
          "output_type": "stream",
          "text": [
            "\n",
            "\n",
            "Evaluating Configuration 2/3\n",
            "Parameters: {'hidden_dim': 50, 'num_layers': 2, 'dropout': 0.5, 'learning_rate': 0.005, 'batch_size': 128}\n"
          ]
        },
        {
          "data": {
            "text/html": [
              "Tracking run with wandb version 0.19.10"
            ],
            "text/plain": [
              "<IPython.core.display.HTML object>"
            ]
          },
          "metadata": {},
          "output_type": "display_data"
        },
        {
          "data": {
            "text/html": [
              "Run data is saved locally in <code>c:\\Users\\angel\\OneDrive\\uni_projects\\DATA_SCIENCE_ML\\NLP-Aspect-Based-Sentiment-Analysis\\wandb\\run-20250426_135422-teqdr87l</code>"
            ],
            "text/plain": [
              "<IPython.core.display.HTML object>"
            ]
          },
          "metadata": {},
          "output_type": "display_data"
        },
        {
          "data": {
            "text/html": [
              "Syncing run <strong><a href='https://wandb.ai/angelajcnto-the-university-of-western-australia/absa-bilstm-attention/runs/teqdr87l' target=\"_blank\">KFold_Config_2_CV</a></strong> to <a href='https://wandb.ai/angelajcnto-the-university-of-western-australia/absa-bilstm-attention' target=\"_blank\">Weights & Biases</a> (<a href='https://wandb.me/developer-guide' target=\"_blank\">docs</a>)<br>"
            ],
            "text/plain": [
              "<IPython.core.display.HTML object>"
            ]
          },
          "metadata": {},
          "output_type": "display_data"
        },
        {
          "data": {
            "text/html": [
              " View project at <a href='https://wandb.ai/angelajcnto-the-university-of-western-australia/absa-bilstm-attention' target=\"_blank\">https://wandb.ai/angelajcnto-the-university-of-western-australia/absa-bilstm-attention</a>"
            ],
            "text/plain": [
              "<IPython.core.display.HTML object>"
            ]
          },
          "metadata": {},
          "output_type": "display_data"
        },
        {
          "data": {
            "text/html": [
              " View run at <a href='https://wandb.ai/angelajcnto-the-university-of-western-australia/absa-bilstm-attention/runs/teqdr87l' target=\"_blank\">https://wandb.ai/angelajcnto-the-university-of-western-australia/absa-bilstm-attention/runs/teqdr87l</a>"
            ],
            "text/plain": [
              "<IPython.core.display.HTML object>"
            ]
          },
          "metadata": {},
          "output_type": "display_data"
        },
        {
          "name": "stdout",
          "output_type": "stream",
          "text": [
            "\n",
            "Training fold 1/5\n",
            "Epoch 1/15 | Train Loss: 0.9425 | Train Acc: 57.86% | Val Loss: 0.8902 | Val Acc: 61.07%\n",
            "Epoch 2/15 | Train Loss: 0.8963 | Train Acc: 60.19% | Val Loss: 0.8360 | Val Acc: 60.86%\n",
            "Epoch 3/15 | Train Loss: 0.8782 | Train Acc: 61.39% | Val Loss: 0.8440 | Val Acc: 63.47%\n",
            "Epoch 4/15 | Train Loss: 0.8464 | Train Acc: 62.85% | Val Loss: 0.8323 | Val Acc: 62.55%\n",
            "Epoch 5/15 | Train Loss: 0.8436 | Train Acc: 63.45% | Val Loss: 0.8282 | Val Acc: 64.03%\n",
            "Epoch 6/15 | Train Loss: 0.8235 | Train Acc: 64.00% | Val Loss: 0.8499 | Val Acc: 64.03%\n",
            "Epoch 7/15 | Train Loss: 0.8075 | Train Acc: 64.56% | Val Loss: 0.8078 | Val Acc: 63.96%\n",
            "Epoch 8/15 | Train Loss: 0.7855 | Train Acc: 65.55% | Val Loss: 0.8170 | Val Acc: 65.30%\n",
            "Epoch 9/15 | Train Loss: 0.7748 | Train Acc: 65.92% | Val Loss: 0.8079 | Val Acc: 64.60%\n",
            "Epoch 10/15 | Train Loss: 0.7585 | Train Acc: 66.93% | Val Loss: 0.8371 | Val Acc: 62.34%\n",
            "Epoch 11/15 | Train Loss: 0.7412 | Train Acc: 67.95% | Val Loss: 0.8250 | Val Acc: 63.40%\n",
            "Epoch 12/15 | Train Loss: 0.7209 | Train Acc: 68.55% | Val Loss: 0.8077 | Val Acc: 63.96%\n",
            "Epoch 13/15 | Train Loss: 0.7090 | Train Acc: 69.62% | Val Loss: 0.8316 | Val Acc: 63.54%\n",
            "Early stopping at epoch 13\n",
            "Fold 1 validation accuracy: 63.68%\n",
            "\n",
            "Training fold 2/5\n",
            "Epoch 1/15 | Train Loss: 0.9260 | Train Acc: 58.67% | Val Loss: 0.8860 | Val Acc: 62.27%\n",
            "Epoch 2/15 | Train Loss: 0.8828 | Train Acc: 62.01% | Val Loss: 0.8418 | Val Acc: 62.06%\n",
            "Epoch 3/15 | Train Loss: 0.8613 | Train Acc: 63.21% | Val Loss: 0.8798 | Val Acc: 61.07%\n",
            "Epoch 4/15 | Train Loss: 0.8458 | Train Acc: 63.22% | Val Loss: 0.8617 | Val Acc: 62.83%\n",
            "Epoch 5/15 | Train Loss: 0.8306 | Train Acc: 64.30% | Val Loss: 0.8645 | Val Acc: 62.34%\n",
            "Epoch 6/15 | Train Loss: 0.8105 | Train Acc: 64.97% | Val Loss: 0.8602 | Val Acc: 63.05%\n",
            "Epoch 7/15 | Train Loss: 0.7916 | Train Acc: 65.34% | Val Loss: 0.8407 | Val Acc: 62.98%\n",
            "Epoch 8/15 | Train Loss: 0.7790 | Train Acc: 65.92% | Val Loss: 0.8284 | Val Acc: 63.05%\n",
            "Epoch 9/15 | Train Loss: 0.7751 | Train Acc: 66.27% | Val Loss: 0.8372 | Val Acc: 62.98%\n",
            "Epoch 10/15 | Train Loss: 0.7524 | Train Acc: 67.74% | Val Loss: 0.8049 | Val Acc: 64.25%\n",
            "Epoch 11/15 | Train Loss: 0.7217 | Train Acc: 69.38% | Val Loss: 0.8849 | Val Acc: 63.12%\n",
            "Epoch 12/15 | Train Loss: 0.7278 | Train Acc: 68.28% | Val Loss: 0.8432 | Val Acc: 62.34%\n",
            "Epoch 13/15 | Train Loss: 0.7051 | Train Acc: 70.03% | Val Loss: 0.8318 | Val Acc: 63.05%\n",
            "Epoch 14/15 | Train Loss: 0.6856 | Train Acc: 70.22% | Val Loss: 0.8843 | Val Acc: 61.71%\n",
            "Epoch 15/15 | Train Loss: 0.6560 | Train Acc: 71.79% | Val Loss: 0.8806 | Val Acc: 62.20%\n",
            "Early stopping at epoch 15\n",
            "Fold 2 validation accuracy: 62.27%\n",
            "\n",
            "Training fold 3/5\n",
            "Epoch 1/15 | Train Loss: 0.9294 | Train Acc: 58.07% | Val Loss: 0.9196 | Val Acc: 59.59%\n",
            "Epoch 2/15 | Train Loss: 0.8723 | Train Acc: 62.32% | Val Loss: 0.8613 | Val Acc: 61.07%\n",
            "Epoch 3/15 | Train Loss: 0.8630 | Train Acc: 62.41% | Val Loss: 0.8459 | Val Acc: 60.79%\n",
            "Epoch 4/15 | Train Loss: 0.8376 | Train Acc: 63.63% | Val Loss: 0.9037 | Val Acc: 62.06%\n",
            "Epoch 5/15 | Train Loss: 0.8282 | Train Acc: 63.75% | Val Loss: 0.8929 | Val Acc: 59.66%\n",
            "Epoch 6/15 | Train Loss: 0.8013 | Train Acc: 65.16% | Val Loss: 0.8599 | Val Acc: 61.00%\n",
            "Epoch 7/15 | Train Loss: 0.7916 | Train Acc: 65.90% | Val Loss: 0.9014 | Val Acc: 61.42%\n",
            "Epoch 8/15 | Train Loss: 0.7680 | Train Acc: 67.30% | Val Loss: 0.8720 | Val Acc: 61.71%\n",
            "Epoch 9/15 | Train Loss: 0.7482 | Train Acc: 68.16% | Val Loss: 0.9037 | Val Acc: 57.76%\n",
            "Early stopping at epoch 9\n",
            "Fold 3 validation accuracy: 57.69%\n",
            "\n",
            "Training fold 4/5\n",
            "Epoch 1/15 | Train Loss: 0.9355 | Train Acc: 58.53% | Val Loss: 0.8790 | Val Acc: 60.23%\n",
            "Epoch 2/15 | Train Loss: 0.8785 | Train Acc: 61.05% | Val Loss: 0.8606 | Val Acc: 63.12%\n",
            "Epoch 3/15 | Train Loss: 0.8554 | Train Acc: 61.71% | Val Loss: 0.8172 | Val Acc: 63.68%\n",
            "Epoch 4/15 | Train Loss: 0.8334 | Train Acc: 63.63% | Val Loss: 0.8435 | Val Acc: 63.40%\n",
            "Epoch 5/15 | Train Loss: 0.8182 | Train Acc: 64.76% | Val Loss: 0.8308 | Val Acc: 62.62%\n",
            "Epoch 6/15 | Train Loss: 0.7932 | Train Acc: 65.27% | Val Loss: 0.8132 | Val Acc: 63.82%\n",
            "Epoch 7/15 | Train Loss: 0.7862 | Train Acc: 66.01% | Val Loss: 0.8686 | Val Acc: 62.62%\n",
            "Epoch 8/15 | Train Loss: 0.7612 | Train Acc: 67.24% | Val Loss: 0.8615 | Val Acc: 62.76%\n",
            "Epoch 9/15 | Train Loss: 0.7498 | Train Acc: 66.82% | Val Loss: 0.8716 | Val Acc: 61.14%\n",
            "Epoch 10/15 | Train Loss: 0.7248 | Train Acc: 68.72% | Val Loss: 0.8951 | Val Acc: 61.35%\n",
            "Epoch 11/15 | Train Loss: 0.7024 | Train Acc: 69.50% | Val Loss: 0.8985 | Val Acc: 63.33%\n",
            "Early stopping at epoch 11\n",
            "Fold 4 validation accuracy: 63.26%\n",
            "\n",
            "Training fold 5/5\n",
            "Epoch 1/15 | Train Loss: 0.9436 | Train Acc: 57.97% | Val Loss: 0.8652 | Val Acc: 62.69%\n",
            "Epoch 2/15 | Train Loss: 0.8823 | Train Acc: 61.18% | Val Loss: 0.8611 | Val Acc: 63.05%\n",
            "Epoch 3/15 | Train Loss: 0.8655 | Train Acc: 62.24% | Val Loss: 0.8494 | Val Acc: 62.27%\n",
            "Epoch 4/15 | Train Loss: 0.8411 | Train Acc: 63.21% | Val Loss: 0.8473 | Val Acc: 63.82%\n",
            "Epoch 5/15 | Train Loss: 0.8222 | Train Acc: 64.32% | Val Loss: 0.8597 | Val Acc: 64.25%\n",
            "Epoch 6/15 | Train Loss: 0.8112 | Train Acc: 64.76% | Val Loss: 0.8270 | Val Acc: 63.89%\n",
            "Epoch 7/15 | Train Loss: 0.8006 | Train Acc: 64.79% | Val Loss: 0.8717 | Val Acc: 63.33%\n",
            "Epoch 8/15 | Train Loss: 0.7755 | Train Acc: 67.01% | Val Loss: 0.8770 | Val Acc: 59.94%\n",
            "Epoch 9/15 | Train Loss: 0.7670 | Train Acc: 67.26% | Val Loss: 0.8361 | Val Acc: 64.10%\n",
            "Epoch 10/15 | Train Loss: 0.7452 | Train Acc: 68.27% | Val Loss: 0.8395 | Val Acc: 63.12%\n",
            "Early stopping at epoch 10\n",
            "Fold 5 validation accuracy: 63.12%\n",
            "\n",
            "Configuration 2 Results:\n",
            "Average validation accuracy: 62.00%\n",
            "Standard deviation: 2.21%\n"
          ]
        },
        {
          "data": {
            "text/html": [],
            "text/plain": [
              "<IPython.core.display.HTML object>"
            ]
          },
          "metadata": {},
          "output_type": "display_data"
        },
        {
          "data": {
            "text/html": [
              "<br>    <style><br>        .wandb-row {<br>            display: flex;<br>            flex-direction: row;<br>            flex-wrap: wrap;<br>            justify-content: flex-start;<br>            width: 100%;<br>        }<br>        .wandb-col {<br>            display: flex;<br>            flex-direction: column;<br>            flex-basis: 100%;<br>            flex: 1;<br>            padding: 10px;<br>        }<br>    </style><br><div class=\"wandb-row\"><div class=\"wandb-col\"><h3>Run history:</h3><br/><table class=\"wandb\"><tr><td>avg_val_accuracy</td><td>▁</td></tr><tr><td>epoch</td><td>▁▂▂▃▃▅▅▆▆▇▁▂▂▃▃▅▆▇▇█▁▂▂▃▃▅▅▆▁▃▄▅▆▆▇▂▃▃▄▆</td></tr><tr><td>fold</td><td>▁▃▅▆█</td></tr><tr><td>fold_val_accuracy</td><td>█▆▁█▇</td></tr><tr><td>fold_val_loss</td><td>▁▅▄█▁</td></tr><tr><td>std_val_accuracy</td><td>▁</td></tr><tr><td>train_acc</td><td>▁▂▃▄▄▅▆▇▇█▃▄▄▅▅▆▆█▇█▄▄▄▅▆▁▃▃▅▅▆▆▇▁▃▄▅▅▆▇</td></tr><tr><td>train_loss</td><td>▇▆▆▅▅▄▃▃▇▆▅▅▄▃▃▂▁█▆▅▅▄▄▃█▆▅▅▄▄▃▃▂█▇▅▅▅▄▃</td></tr><tr><td>val_acc</td><td>▃▆▆▆█▆▆▆▄▄▄▅▅▇▅▅▄▄▁▃▄▁▃▃▄▂▅▆▆▅▅▅▃▃▆▅▇▆▆▇</td></tr><tr><td>val_loss</td><td>▇▃▄▃▂▂▃▂▁▃▆▅▅▅▃▇▇▆▅▄▇█▆█▆▂▄▃▁▅▆▇█▅▅▄▅▂▆▃</td></tr></table><br/></div><div class=\"wandb-col\"><h3>Run summary:</h3><br/><table class=\"wandb\"><tr><td>avg_val_accuracy</td><td>0.62003</td></tr><tr><td>epoch</td><td>10</td></tr><tr><td>fold</td><td>5</td></tr><tr><td>fold_val_accuracy</td><td>0.63117</td></tr><tr><td>fold_val_loss</td><td>0.85029</td></tr><tr><td>std_val_accuracy</td><td>0.02206</td></tr><tr><td>train_acc</td><td>0.68265</td></tr><tr><td>train_loss</td><td>0.74518</td></tr><tr><td>val_acc</td><td>0.63117</td></tr><tr><td>val_loss</td><td>0.83954</td></tr></table><br/></div></div>"
            ],
            "text/plain": [
              "<IPython.core.display.HTML object>"
            ]
          },
          "metadata": {},
          "output_type": "display_data"
        },
        {
          "data": {
            "text/html": [
              " View run <strong style=\"color:#cdcd00\">KFold_Config_2_CV</strong> at: <a href='https://wandb.ai/angelajcnto-the-university-of-western-australia/absa-bilstm-attention/runs/teqdr87l' target=\"_blank\">https://wandb.ai/angelajcnto-the-university-of-western-australia/absa-bilstm-attention/runs/teqdr87l</a><br> View project at: <a href='https://wandb.ai/angelajcnto-the-university-of-western-australia/absa-bilstm-attention' target=\"_blank\">https://wandb.ai/angelajcnto-the-university-of-western-australia/absa-bilstm-attention</a><br>Synced 5 W&B file(s), 0 media file(s), 0 artifact file(s) and 0 other file(s)"
            ],
            "text/plain": [
              "<IPython.core.display.HTML object>"
            ]
          },
          "metadata": {},
          "output_type": "display_data"
        },
        {
          "data": {
            "text/html": [
              "Find logs at: <code>.\\wandb\\run-20250426_135422-teqdr87l\\logs</code>"
            ],
            "text/plain": [
              "<IPython.core.display.HTML object>"
            ]
          },
          "metadata": {},
          "output_type": "display_data"
        },
        {
          "name": "stdout",
          "output_type": "stream",
          "text": [
            "\n",
            "\n",
            "Evaluating Configuration 3/3\n",
            "Parameters: {'hidden_dim': 100, 'num_layers': 1, 'dropout': 0.3, 'learning_rate': 0.005, 'batch_size': 128}\n"
          ]
        },
        {
          "data": {
            "text/html": [],
            "text/plain": [
              "<IPython.core.display.HTML object>"
            ]
          },
          "metadata": {},
          "output_type": "display_data"
        },
        {
          "data": {
            "text/html": [
              "Tracking run with wandb version 0.19.10"
            ],
            "text/plain": [
              "<IPython.core.display.HTML object>"
            ]
          },
          "metadata": {},
          "output_type": "display_data"
        },
        {
          "data": {
            "text/html": [
              "Run data is saved locally in <code>c:\\Users\\angel\\OneDrive\\uni_projects\\DATA_SCIENCE_ML\\NLP-Aspect-Based-Sentiment-Analysis\\wandb\\run-20250426_135712-5d8sxgns</code>"
            ],
            "text/plain": [
              "<IPython.core.display.HTML object>"
            ]
          },
          "metadata": {},
          "output_type": "display_data"
        },
        {
          "data": {
            "text/html": [
              "Syncing run <strong><a href='https://wandb.ai/angelajcnto-the-university-of-western-australia/absa-bilstm-attention/runs/5d8sxgns' target=\"_blank\">KFold_Config_3_CV</a></strong> to <a href='https://wandb.ai/angelajcnto-the-university-of-western-australia/absa-bilstm-attention' target=\"_blank\">Weights & Biases</a> (<a href='https://wandb.me/developer-guide' target=\"_blank\">docs</a>)<br>"
            ],
            "text/plain": [
              "<IPython.core.display.HTML object>"
            ]
          },
          "metadata": {},
          "output_type": "display_data"
        },
        {
          "data": {
            "text/html": [
              " View project at <a href='https://wandb.ai/angelajcnto-the-university-of-western-australia/absa-bilstm-attention' target=\"_blank\">https://wandb.ai/angelajcnto-the-university-of-western-australia/absa-bilstm-attention</a>"
            ],
            "text/plain": [
              "<IPython.core.display.HTML object>"
            ]
          },
          "metadata": {},
          "output_type": "display_data"
        },
        {
          "data": {
            "text/html": [
              " View run at <a href='https://wandb.ai/angelajcnto-the-university-of-western-australia/absa-bilstm-attention/runs/5d8sxgns' target=\"_blank\">https://wandb.ai/angelajcnto-the-university-of-western-australia/absa-bilstm-attention/runs/5d8sxgns</a>"
            ],
            "text/plain": [
              "<IPython.core.display.HTML object>"
            ]
          },
          "metadata": {},
          "output_type": "display_data"
        },
        {
          "name": "stdout",
          "output_type": "stream",
          "text": [
            "\n",
            "Training fold 1/5\n"
          ]
        },
        {
          "name": "stderr",
          "output_type": "stream",
          "text": [
            "c:\\Users\\angel\\anaconda3\\Lib\\site-packages\\torch\\nn\\modules\\rnn.py:123: UserWarning: dropout option adds dropout after all but last recurrent layer, so non-zero dropout expects num_layers greater than 1, but got dropout=0.3 and num_layers=1\n",
            "  warnings.warn(\n"
          ]
        },
        {
          "name": "stdout",
          "output_type": "stream",
          "text": [
            "Epoch 1/15 | Train Loss: 0.9288 | Train Acc: 58.00% | Val Loss: 0.8670 | Val Acc: 60.79%\n",
            "Epoch 2/15 | Train Loss: 0.8744 | Train Acc: 61.74% | Val Loss: 0.8841 | Val Acc: 63.96%\n",
            "Epoch 3/15 | Train Loss: 0.8461 | Train Acc: 62.78% | Val Loss: 0.8484 | Val Acc: 63.33%\n",
            "Epoch 4/15 | Train Loss: 0.8287 | Train Acc: 63.75% | Val Loss: 0.8241 | Val Acc: 64.25%\n",
            "Epoch 5/15 | Train Loss: 0.7986 | Train Acc: 64.84% | Val Loss: 0.8184 | Val Acc: 64.25%\n",
            "Epoch 6/15 | Train Loss: 0.7690 | Train Acc: 66.43% | Val Loss: 0.8123 | Val Acc: 64.81%\n",
            "Epoch 7/15 | Train Loss: 0.7442 | Train Acc: 67.03% | Val Loss: 0.8143 | Val Acc: 65.09%\n",
            "Epoch 8/15 | Train Loss: 0.6978 | Train Acc: 70.20% | Val Loss: 0.7973 | Val Acc: 64.17%\n",
            "Epoch 9/15 | Train Loss: 0.6530 | Train Acc: 72.11% | Val Loss: 0.8520 | Val Acc: 64.17%\n",
            "Epoch 10/15 | Train Loss: 0.6404 | Train Acc: 73.36% | Val Loss: 0.8100 | Val Acc: 63.68%\n",
            "Epoch 11/15 | Train Loss: 0.6099 | Train Acc: 74.29% | Val Loss: 0.8808 | Val Acc: 62.69%\n",
            "Epoch 12/15 | Train Loss: 0.5753 | Train Acc: 75.60% | Val Loss: 0.8787 | Val Acc: 64.17%\n",
            "Early stopping at epoch 12\n",
            "Fold 1 validation accuracy: 64.39%\n",
            "\n",
            "Training fold 2/5\n",
            "Epoch 1/15 | Train Loss: 0.9200 | Train Acc: 58.25% | Val Loss: 0.9115 | Val Acc: 58.32%\n",
            "Epoch 2/15 | Train Loss: 0.8684 | Train Acc: 61.92% | Val Loss: 0.8523 | Val Acc: 62.13%\n",
            "Epoch 3/15 | Train Loss: 0.8481 | Train Acc: 62.54% | Val Loss: 0.8475 | Val Acc: 62.62%\n",
            "Epoch 4/15 | Train Loss: 0.8145 | Train Acc: 64.69% | Val Loss: 0.8362 | Val Acc: 62.98%\n",
            "Epoch 5/15 | Train Loss: 0.8035 | Train Acc: 64.65% | Val Loss: 0.8492 | Val Acc: 62.76%\n",
            "Epoch 6/15 | Train Loss: 0.7751 | Train Acc: 66.36% | Val Loss: 0.8023 | Val Acc: 63.61%\n",
            "Epoch 7/15 | Train Loss: 0.7483 | Train Acc: 67.77% | Val Loss: 0.8649 | Val Acc: 63.26%\n",
            "Epoch 8/15 | Train Loss: 0.7108 | Train Acc: 69.94% | Val Loss: 0.8442 | Val Acc: 64.39%\n",
            "Epoch 9/15 | Train Loss: 0.6783 | Train Acc: 70.35% | Val Loss: 0.8567 | Val Acc: 64.25%\n",
            "Epoch 10/15 | Train Loss: 0.6442 | Train Acc: 72.34% | Val Loss: 0.8445 | Val Acc: 62.55%\n",
            "Epoch 11/15 | Train Loss: 0.6146 | Train Acc: 73.89% | Val Loss: 0.8922 | Val Acc: 63.40%\n",
            "Epoch 12/15 | Train Loss: 0.5845 | Train Acc: 75.74% | Val Loss: 0.9923 | Val Acc: 62.27%\n",
            "Epoch 13/15 | Train Loss: 0.5562 | Train Acc: 76.78% | Val Loss: 0.9460 | Val Acc: 62.69%\n",
            "Early stopping at epoch 13\n",
            "Fold 2 validation accuracy: 62.62%\n",
            "\n",
            "Training fold 3/5\n",
            "Epoch 1/15 | Train Loss: 0.9157 | Train Acc: 59.13% | Val Loss: 0.8862 | Val Acc: 59.45%\n",
            "Epoch 2/15 | Train Loss: 0.8641 | Train Acc: 62.34% | Val Loss: 0.8640 | Val Acc: 61.14%\n",
            "Epoch 3/15 | Train Loss: 0.8368 | Train Acc: 63.65% | Val Loss: 0.8754 | Val Acc: 62.34%\n",
            "Epoch 4/15 | Train Loss: 0.8181 | Train Acc: 64.32% | Val Loss: 0.8522 | Val Acc: 61.57%\n",
            "Epoch 5/15 | Train Loss: 0.7923 | Train Acc: 65.43% | Val Loss: 0.8435 | Val Acc: 62.34%\n",
            "Epoch 6/15 | Train Loss: 0.7673 | Train Acc: 67.19% | Val Loss: 0.8600 | Val Acc: 60.30%\n",
            "Epoch 7/15 | Train Loss: 0.7372 | Train Acc: 68.64% | Val Loss: 0.8795 | Val Acc: 62.69%\n",
            "Epoch 8/15 | Train Loss: 0.7042 | Train Acc: 69.99% | Val Loss: 0.8287 | Val Acc: 63.82%\n",
            "Epoch 9/15 | Train Loss: 0.6745 | Train Acc: 71.19% | Val Loss: 0.8661 | Val Acc: 60.79%\n",
            "Epoch 10/15 | Train Loss: 0.6430 | Train Acc: 72.55% | Val Loss: 0.8998 | Val Acc: 61.21%\n",
            "Epoch 11/15 | Train Loss: 0.5880 | Train Acc: 75.12% | Val Loss: 0.8798 | Val Acc: 61.57%\n",
            "Epoch 12/15 | Train Loss: 0.5549 | Train Acc: 76.73% | Val Loss: 0.9304 | Val Acc: 60.16%\n",
            "Epoch 13/15 | Train Loss: 0.5359 | Train Acc: 77.66% | Val Loss: 0.9526 | Val Acc: 62.20%\n",
            "Early stopping at epoch 13\n",
            "Fold 3 validation accuracy: 62.20%\n",
            "\n",
            "Training fold 4/5\n",
            "Epoch 1/15 | Train Loss: 0.9219 | Train Acc: 58.43% | Val Loss: 0.8606 | Val Acc: 62.27%\n",
            "Epoch 2/15 | Train Loss: 0.8620 | Train Acc: 62.31% | Val Loss: 0.8606 | Val Acc: 63.89%\n",
            "Epoch 3/15 | Train Loss: 0.8287 | Train Acc: 62.99% | Val Loss: 0.8496 | Val Acc: 65.02%\n",
            "Epoch 4/15 | Train Loss: 0.8145 | Train Acc: 64.00% | Val Loss: 0.8239 | Val Acc: 64.25%\n",
            "Epoch 5/15 | Train Loss: 0.7907 | Train Acc: 65.50% | Val Loss: 0.8452 | Val Acc: 64.88%\n",
            "Epoch 6/15 | Train Loss: 0.7580 | Train Acc: 66.91% | Val Loss: 0.8008 | Val Acc: 63.12%\n",
            "Epoch 7/15 | Train Loss: 0.7288 | Train Acc: 68.76% | Val Loss: 0.8728 | Val Acc: 63.82%\n",
            "Epoch 8/15 | Train Loss: 0.6950 | Train Acc: 70.47% | Val Loss: 0.8201 | Val Acc: 62.69%\n",
            "Early stopping at epoch 8\n",
            "Fold 4 validation accuracy: 62.69%\n",
            "\n",
            "Training fold 5/5\n",
            "Epoch 1/15 | Train Loss: 0.9250 | Train Acc: 58.07% | Val Loss: 0.8260 | Val Acc: 62.55%\n",
            "Epoch 2/15 | Train Loss: 0.8668 | Train Acc: 62.09% | Val Loss: 0.8342 | Val Acc: 63.12%\n",
            "Epoch 3/15 | Train Loss: 0.8384 | Train Acc: 63.38% | Val Loss: 0.8259 | Val Acc: 62.20%\n",
            "Epoch 4/15 | Train Loss: 0.8226 | Train Acc: 64.39% | Val Loss: 0.8259 | Val Acc: 62.62%\n",
            "Epoch 5/15 | Train Loss: 0.7969 | Train Acc: 65.46% | Val Loss: 0.8797 | Val Acc: 62.55%\n",
            "Epoch 6/15 | Train Loss: 0.7719 | Train Acc: 65.96% | Val Loss: 0.8044 | Val Acc: 63.47%\n",
            "Epoch 7/15 | Train Loss: 0.7437 | Train Acc: 67.74% | Val Loss: 0.8321 | Val Acc: 63.33%\n",
            "Epoch 8/15 | Train Loss: 0.7099 | Train Acc: 69.31% | Val Loss: 0.8217 | Val Acc: 63.89%\n",
            "Epoch 9/15 | Train Loss: 0.6738 | Train Acc: 70.24% | Val Loss: 0.8250 | Val Acc: 64.39%\n",
            "Epoch 10/15 | Train Loss: 0.6356 | Train Acc: 72.62% | Val Loss: 0.8989 | Val Acc: 64.17%\n",
            "Epoch 11/15 | Train Loss: 0.6285 | Train Acc: 73.15% | Val Loss: 0.8819 | Val Acc: 62.06%\n",
            "Epoch 12/15 | Train Loss: 0.5823 | Train Acc: 75.11% | Val Loss: 0.9144 | Val Acc: 62.34%\n",
            "Epoch 13/15 | Train Loss: 0.5298 | Train Acc: 78.09% | Val Loss: 0.9720 | Val Acc: 62.69%\n",
            "Epoch 14/15 | Train Loss: 0.4936 | Train Acc: 79.99% | Val Loss: 1.0441 | Val Acc: 61.71%\n",
            "Early stopping at epoch 14\n",
            "Fold 5 validation accuracy: 61.71%\n",
            "\n",
            "Configuration 3 Results:\n",
            "Average validation accuracy: 62.72%\n",
            "Standard deviation: 0.90%\n"
          ]
        },
        {
          "data": {
            "text/html": [],
            "text/plain": [
              "<IPython.core.display.HTML object>"
            ]
          },
          "metadata": {},
          "output_type": "display_data"
        },
        {
          "data": {
            "text/html": [
              "<br>    <style><br>        .wandb-row {<br>            display: flex;<br>            flex-direction: row;<br>            flex-wrap: wrap;<br>            justify-content: flex-start;<br>            width: 100%;<br>        }<br>        .wandb-col {<br>            display: flex;<br>            flex-direction: column;<br>            flex-basis: 100%;<br>            flex: 1;<br>            padding: 10px;<br>        }<br>    </style><br><div class=\"wandb-row\"><div class=\"wandb-col\"><h3>Run history:</h3><br/><table class=\"wandb\"><tr><td>avg_val_accuracy</td><td>▁</td></tr><tr><td>epoch</td><td>▁▂▂▃▃▅▅▆▁▂▃▃▅▆▆▇▂▂▃▃▅▅▆▆▇▂▂▃▃▄▁▃▃▄▄▅▆▆▇█</td></tr><tr><td>fold</td><td>▁▃▅▆█</td></tr><tr><td>fold_val_accuracy</td><td>█▃▂▄▁</td></tr><tr><td>fold_val_loss</td><td>▃▄▅▁█</td></tr><tr><td>std_val_accuracy</td><td>▁</td></tr><tr><td>train_acc</td><td>▁▂▃▃▃▄▅▅▆▇▂▄▄▅▅▆▇▁▂▃▃▄▅▅▆▇▁▂▃▃▅▁▃▃▃▅▆▆▆█</td></tr><tr><td>train_loss</td><td>█▆▆▅▄▃▃▂█▇▆▆▆▅▄▇▇▆▆▅▄▃▃▂█▆▆▆▅▅█▇▇▆▅▄▄▃▂▁</td></tr><tr><td>val_acc</td><td>▄▇▆▇█▇▇▆▁▅▆▆▇▇▅▅▆▂▅▄▃▆▇▄▄▅▇█▇▆▆▅▆▅▅▆▆▇▅▅</td></tr><tr><td>val_loss</td><td>▃▃▂▂▂▁▁▃▄▂▂▂▃▂▃▄▇▅▃▂▃▃▂▃▄▅▃▃▂▂▁▃▂▂▃▂▄▃▄█</td></tr></table><br/></div><div class=\"wandb-col\"><h3>Run summary:</h3><br/><table class=\"wandb\"><tr><td>avg_val_accuracy</td><td>0.62722</td></tr><tr><td>epoch</td><td>14</td></tr><tr><td>fold</td><td>5</td></tr><tr><td>fold_val_accuracy</td><td>0.61707</td></tr><tr><td>fold_val_loss</td><td>0.99122</td></tr><tr><td>std_val_accuracy</td><td>0.00904</td></tr><tr><td>train_acc</td><td>0.79989</td></tr><tr><td>train_loss</td><td>0.4936</td></tr><tr><td>val_acc</td><td>0.61707</td></tr><tr><td>val_loss</td><td>1.04412</td></tr></table><br/></div></div>"
            ],
            "text/plain": [
              "<IPython.core.display.HTML object>"
            ]
          },
          "metadata": {},
          "output_type": "display_data"
        },
        {
          "data": {
            "text/html": [
              " View run <strong style=\"color:#cdcd00\">KFold_Config_3_CV</strong> at: <a href='https://wandb.ai/angelajcnto-the-university-of-western-australia/absa-bilstm-attention/runs/5d8sxgns' target=\"_blank\">https://wandb.ai/angelajcnto-the-university-of-western-australia/absa-bilstm-attention/runs/5d8sxgns</a><br> View project at: <a href='https://wandb.ai/angelajcnto-the-university-of-western-australia/absa-bilstm-attention' target=\"_blank\">https://wandb.ai/angelajcnto-the-university-of-western-australia/absa-bilstm-attention</a><br>Synced 5 W&B file(s), 0 media file(s), 0 artifact file(s) and 0 other file(s)"
            ],
            "text/plain": [
              "<IPython.core.display.HTML object>"
            ]
          },
          "metadata": {},
          "output_type": "display_data"
        },
        {
          "data": {
            "text/html": [
              "Find logs at: <code>.\\wandb\\run-20250426_135712-5d8sxgns\\logs</code>"
            ],
            "text/plain": [
              "<IPython.core.display.HTML object>"
            ]
          },
          "metadata": {},
          "output_type": "display_data"
        },
        {
          "name": "stdout",
          "output_type": "stream",
          "text": [
            "\n",
            "\n",
            "FINAL RESULTS\n",
            "Best configuration: #3\n",
            "  hidden_dim: 100\n",
            "  num_layers: 1\n",
            "  dropout: 0.3\n",
            "  learning_rate: 0.005\n",
            "  batch_size: 128\n",
            "Average accuracy: 62.72%\n",
            "Standard deviation: 0.90%\n"
          ]
        }
      ],
      "source": [
        "configs = [\n",
        "    {  # Rank 1\n",
        "        'hidden_dim': 100,\n",
        "        'num_layers': 1,\n",
        "        'dropout': 0.5,\n",
        "        'learning_rate': 0.005,\n",
        "        'batch_size': 128\n",
        "    },\n",
        "    {  # Rank 2\n",
        "        'hidden_dim': 50,\n",
        "        'num_layers': 2,\n",
        "        'dropout': 0.5,\n",
        "        'learning_rate': 0.005,\n",
        "        'batch_size': 128\n",
        "    },\n",
        "    {  # Modified version with lower dropout\n",
        "        'hidden_dim': 100,\n",
        "        'num_layers': 1,\n",
        "        'dropout': 0.3,\n",
        "        'learning_rate': 0.005,\n",
        "        'batch_size': 128\n",
        "    }\n",
        "]\n",
        "\n",
        "input_dim = 300\n",
        "output_dim = 3\n",
        "results, best_idx = k_fold_cross_validation_multi_config(train_dataset, configs, input_dim, output_dim, k=5)"
      ]
    },
    {
      "cell_type": "markdown",
      "metadata": {
        "id": "XBDM2yuM8ctS"
      },
      "source": [
        "Retrain model"
      ]
    },
    {
      "cell_type": "code",
      "execution_count": 129,
      "metadata": {},
      "outputs": [
        {
          "data": {
            "text/html": [
              "creating run (0.3s)"
            ],
            "text/plain": [
              "<IPython.core.display.HTML object>"
            ]
          },
          "metadata": {},
          "output_type": "display_data"
        },
        {
          "data": {
            "text/html": [
              "Tracking run with wandb version 0.19.10"
            ],
            "text/plain": [
              "<IPython.core.display.HTML object>"
            ]
          },
          "metadata": {},
          "output_type": "display_data"
        },
        {
          "data": {
            "text/html": [
              "Run data is saved locally in <code>c:\\Users\\angel\\OneDrive\\uni_projects\\DATA_SCIENCE_ML\\NLP-Aspect-Based-Sentiment-Analysis\\wandb\\run-20250426_141121-421z8z4o</code>"
            ],
            "text/plain": [
              "<IPython.core.display.HTML object>"
            ]
          },
          "metadata": {},
          "output_type": "display_data"
        },
        {
          "data": {
            "text/html": [
              "Syncing run <strong><a href='https://wandb.ai/angelajcnto-the-university-of-western-australia/absa-bilstm-attention/runs/421z8z4o' target=\"_blank\">Final_Best_Model</a></strong> to <a href='https://wandb.ai/angelajcnto-the-university-of-western-australia/absa-bilstm-attention' target=\"_blank\">Weights & Biases</a> (<a href='https://wandb.me/developer-guide' target=\"_blank\">docs</a>)<br>"
            ],
            "text/plain": [
              "<IPython.core.display.HTML object>"
            ]
          },
          "metadata": {},
          "output_type": "display_data"
        },
        {
          "data": {
            "text/html": [
              " View project at <a href='https://wandb.ai/angelajcnto-the-university-of-western-australia/absa-bilstm-attention' target=\"_blank\">https://wandb.ai/angelajcnto-the-university-of-western-australia/absa-bilstm-attention</a>"
            ],
            "text/plain": [
              "<IPython.core.display.HTML object>"
            ]
          },
          "metadata": {},
          "output_type": "display_data"
        },
        {
          "data": {
            "text/html": [
              " View run at <a href='https://wandb.ai/angelajcnto-the-university-of-western-australia/absa-bilstm-attention/runs/421z8z4o' target=\"_blank\">https://wandb.ai/angelajcnto-the-university-of-western-australia/absa-bilstm-attention/runs/421z8z4o</a>"
            ],
            "text/plain": [
              "<IPython.core.display.HTML object>"
            ]
          },
          "metadata": {},
          "output_type": "display_data"
        },
        {
          "name": "stderr",
          "output_type": "stream",
          "text": [
            "c:\\Users\\angel\\anaconda3\\Lib\\site-packages\\torch\\nn\\modules\\rnn.py:123: UserWarning: dropout option adds dropout after all but last recurrent layer, so non-zero dropout expects num_layers greater than 1, but got dropout=0.3 and num_layers=1\n",
            "  warnings.warn(\n"
          ]
        },
        {
          "name": "stdout",
          "output_type": "stream",
          "text": [
            "Epoch 1/30 | Train Loss: 0.9077 | Train Acc: 59.50%\n",
            "Epoch 2/30 | Train Loss: 0.8566 | Train Acc: 61.58%\n",
            "Epoch 3/30 | Train Loss: 0.8300 | Train Acc: 63.37%\n",
            "Epoch 4/30 | Train Loss: 0.8076 | Train Acc: 63.93%\n",
            "Epoch 5/30 | Train Loss: 0.7702 | Train Acc: 66.11%\n",
            "Epoch 6/30 | Train Loss: 0.7543 | Train Acc: 66.46%\n",
            "Epoch 7/30 | Train Loss: 0.7221 | Train Acc: 68.19%\n",
            "Epoch 8/30 | Train Loss: 0.6914 | Train Acc: 69.18%\n",
            "Epoch 9/30 | Train Loss: 0.6742 | Train Acc: 70.32%\n",
            "Epoch 10/30 | Train Loss: 0.6415 | Train Acc: 72.36%\n",
            "Epoch 11/30 | Train Loss: 0.6162 | Train Acc: 72.95%\n",
            "Epoch 12/30 | Train Loss: 0.5853 | Train Acc: 75.09%\n",
            "Epoch 13/30 | Train Loss: 0.5566 | Train Acc: 76.15%\n",
            "Epoch 14/30 | Train Loss: 0.5441 | Train Acc: 77.17%\n",
            "Epoch 15/30 | Train Loss: 0.5386 | Train Acc: 77.59%\n",
            "Epoch 16/30 | Train Loss: 0.4994 | Train Acc: 79.29%\n",
            "Epoch 17/30 | Train Loss: 0.4645 | Train Acc: 80.90%\n",
            "Epoch 18/30 | Train Loss: 0.4391 | Train Acc: 81.70%\n",
            "Epoch 19/30 | Train Loss: 0.4318 | Train Acc: 82.26%\n",
            "Epoch 20/30 | Train Loss: 0.4005 | Train Acc: 84.02%\n",
            "Epoch 21/30 | Train Loss: 0.3795 | Train Acc: 84.87%\n",
            "Epoch 22/30 | Train Loss: 0.3829 | Train Acc: 84.77%\n",
            "Epoch 23/30 | Train Loss: 0.3698 | Train Acc: 84.92%\n",
            "Epoch 24/30 | Train Loss: 0.3556 | Train Acc: 85.96%\n",
            "Epoch 25/30 | Train Loss: 0.3400 | Train Acc: 86.22%\n",
            "Epoch 26/30 | Train Loss: 0.3276 | Train Acc: 86.74%\n",
            "Epoch 27/30 | Train Loss: 0.3215 | Train Acc: 87.39%\n",
            "Epoch 28/30 | Train Loss: 0.3136 | Train Acc: 87.62%\n",
            "Epoch 29/30 | Train Loss: 0.2834 | Train Acc: 89.13%\n",
            "Epoch 30/30 | Train Loss: 0.2678 | Train Acc: 89.40%\n",
            "Saved final model to final_best_model.pt\n"
          ]
        },
        {
          "data": {
            "text/html": [],
            "text/plain": [
              "<IPython.core.display.HTML object>"
            ]
          },
          "metadata": {},
          "output_type": "display_data"
        },
        {
          "data": {
            "text/html": [
              "<br>    <style><br>        .wandb-row {<br>            display: flex;<br>            flex-direction: row;<br>            flex-wrap: wrap;<br>            justify-content: flex-start;<br>            width: 100%;<br>        }<br>        .wandb-col {<br>            display: flex;<br>            flex-direction: column;<br>            flex-basis: 100%;<br>            flex: 1;<br>            padding: 10px;<br>        }<br>    </style><br><div class=\"wandb-row\"><div class=\"wandb-col\"><h3>Run history:</h3><br/><table class=\"wandb\"><tr><td>epoch</td><td>▁▁▁▂▂▂▂▃▃▃▃▄▄▄▄▅▅▅▅▆▆▆▆▇▇▇▇███</td></tr><tr><td>train_acc</td><td>▁▁▂▂▃▃▃▃▄▄▄▅▅▅▅▆▆▆▆▇▇▇▇▇▇▇████</td></tr><tr><td>train_loss</td><td>█▇▇▇▆▆▆▆▅▅▅▄▄▄▄▄▃▃▃▂▂▂▂▂▂▂▂▂▁▁</td></tr></table><br/></div><div class=\"wandb-col\"><h3>Run summary:</h3><br/><table class=\"wandb\"><tr><td>epoch</td><td>30</td></tr><tr><td>train_acc</td><td>0.89396</td></tr><tr><td>train_loss</td><td>0.2678</td></tr></table><br/></div></div>"
            ],
            "text/plain": [
              "<IPython.core.display.HTML object>"
            ]
          },
          "metadata": {},
          "output_type": "display_data"
        },
        {
          "data": {
            "text/html": [
              " View run <strong style=\"color:#cdcd00\">Final_Best_Model</strong> at: <a href='https://wandb.ai/angelajcnto-the-university-of-western-australia/absa-bilstm-attention/runs/421z8z4o' target=\"_blank\">https://wandb.ai/angelajcnto-the-university-of-western-australia/absa-bilstm-attention/runs/421z8z4o</a><br> View project at: <a href='https://wandb.ai/angelajcnto-the-university-of-western-australia/absa-bilstm-attention' target=\"_blank\">https://wandb.ai/angelajcnto-the-university-of-western-australia/absa-bilstm-attention</a><br>Synced 5 W&B file(s), 0 media file(s), 0 artifact file(s) and 0 other file(s)"
            ],
            "text/plain": [
              "<IPython.core.display.HTML object>"
            ]
          },
          "metadata": {},
          "output_type": "display_data"
        },
        {
          "data": {
            "text/html": [
              "Find logs at: <code>.\\wandb\\run-20250426_141121-421z8z4o\\logs</code>"
            ],
            "text/plain": [
              "<IPython.core.display.HTML object>"
            ]
          },
          "metadata": {},
          "output_type": "display_data"
        }
      ],
      "source": [
        "from torch.utils.data import ConcatDataset\n",
        "\n",
        "best_config = configs[best_idx]\n",
        "\n",
        "# Combine the training and validation datasets\n",
        "combined_train_val_dataset = ConcatDataset([train_dataset, val_dataset])\n",
        "\n",
        "input_dim = 300\n",
        "output_dim = 3\n",
        "total_epochs = 30\n",
        "\n",
        "run_name = \"Final_Best_Model\"\n",
        "wandb.init(\n",
        "    project=\"absa-bilstm-attention\",\n",
        "    name=run_name,\n",
        "    config={\n",
        "        \"dropout\": best_config['dropout'],\n",
        "        \"hidden_dim\": best_config['hidden_dim'],\n",
        "        \"num_layers\": best_config['num_layers'],\n",
        "        \"learning_rate\": best_config['learning_rate'],\n",
        "        \"batch_size\": best_config['batch_size'],\n",
        "        \"input_dim\": input_dim,\n",
        "        \"output_dim\": output_dim,\n",
        "        \"epochs\": total_epochs,\n",
        "        \"final_training\": True\n",
        "    }\n",
        ")\n",
        "\n",
        "# DataLoader for the combined dataset\n",
        "combined_loader = DataLoader(\n",
        "    combined_train_val_dataset,\n",
        "    batch_size=best_config['batch_size'],\n",
        "    shuffle=True,\n",
        "    collate_fn=custom_collate\n",
        ")\n",
        "\n",
        "    # Model Setup\n",
        "final_model = BiLSTMAttention(\n",
        "    input_dim, \n",
        "    best_config['hidden_dim'], \n",
        "    output_dim, \n",
        "    best_config['num_layers'], \n",
        "    best_config['dropout']\n",
        ").to(device)\n",
        "\n",
        "criterion = nn.CrossEntropyLoss()\n",
        "optimizer = optim.Adam(final_model.parameters(), lr=best_config['learning_rate'])\n",
        "\n",
        "\n",
        "# Training\n",
        "final_model = train_model(\n",
        "    final_model, \n",
        "    combined_loader, \n",
        "    val_loader=None,\n",
        "    criterion=criterion, \n",
        "    optimizer=optimizer,\n",
        "    device=device, \n",
        "    num_epochs=total_epochs, \n",
        "    patience=5\n",
        ")\n",
        "\n",
        "# Save the final model\n",
        "torch.save(final_model.state_dict(), \"final_best_model.pt\")\n",
        "print(\"Saved final model to final_best_model.pt\")\n",
        "\n",
        "wandb.finish()"
      ]
    },
    {
      "cell_type": "markdown",
      "metadata": {
        "id": "4E7bZIdj9oHt"
      },
      "source": [
        "Test set evaluation"
      ]
    },
    {
      "cell_type": "code",
      "execution_count": 132,
      "metadata": {},
      "outputs": [],
      "source": [
        "batch_size = 128\n",
        "\n",
        "test_dataset = SentimentDataset(\n",
        "    test_df['lemmatized_tokens'].tolist(),\n",
        "    test_df['aspect'].tolist(),\n",
        "    test_df['pos_indices'].tolist(),\n",
        "    test_df['dep_indices'].tolist(),\n",
        "    test_df['polarity'].map(label_to_index).tolist()\n",
        ")\n",
        "test_loader = DataLoader(\n",
        "    test_dataset,\n",
        "    batch_size=batch_size,\n",
        "    shuffle=False,\n",
        "    collate_fn=custom_collate\n",
        ")"
      ]
    },
    {
      "cell_type": "code",
      "execution_count": 133,
      "metadata": {
        "colab": {
          "base_uri": "https://localhost:8080/"
        },
        "id": "BwujWXPL9plB",
        "outputId": "677e6774-2c6f-4300-fb14-de5a4f7bbcd6"
      },
      "outputs": [
        {
          "name": "stderr",
          "output_type": "stream",
          "text": [
            "c:\\Users\\angel\\anaconda3\\Lib\\site-packages\\torch\\nn\\modules\\rnn.py:123: UserWarning: dropout option adds dropout after all but last recurrent layer, so non-zero dropout expects num_layers greater than 1, but got dropout=0.3 and num_layers=1\n",
            "  warnings.warn(\n",
            "C:\\Users\\angel\\AppData\\Local\\Temp\\ipykernel_52828\\1770821454.py:21: FutureWarning: You are using `torch.load` with `weights_only=False` (the current default value), which uses the default pickle module implicitly. It is possible to construct malicious pickle data which will execute arbitrary code during unpickling (See https://github.com/pytorch/pytorch/blob/main/SECURITY.md#untrusted-models for more details). In a future release, the default value for `weights_only` will be flipped to `True`. This limits the functions that could be executed during unpickling. Arbitrary objects will no longer be allowed to be loaded via this mode unless they are explicitly allowlisted by the user via `torch.serialization.add_safe_globals`. We recommend you start setting `weights_only=True` for any use case where you don't have full control of the loaded file. Please open an issue on GitHub for any issues related to this experimental feature.\n",
            "  final_model.load_state_dict(torch.load(\"final_best_model.pt\"))\n"
          ]
        },
        {
          "name": "stdout",
          "output_type": "stream",
          "text": [
            "\n",
            "Final Model Test Results\n",
            "Test Accuracy: 63.71%\n",
            "\n",
            "Classification Report:\n",
            "              precision    recall  f1-score   support\n",
            "\n",
            "    positive       0.53      0.46      0.49       245\n",
            "    negative       0.61      0.63      0.62       263\n",
            "     neutral       0.71      0.75      0.73       393\n",
            "\n",
            "    accuracy                           0.64       901\n",
            "   macro avg       0.62      0.61      0.61       901\n",
            "weighted avg       0.63      0.64      0.63       901\n",
            "\n"
          ]
        }
      ],
      "source": [
        "from sklearn.metrics import confusion_matrix, accuracy_score\n",
        "from sklearn.metrics import classification_report\n",
        "\n",
        "\n",
        "def get_predictions(model, loader, device):\n",
        "    model.eval()\n",
        "    all_preds = []\n",
        "    all_labels = []\n",
        "\n",
        "    with torch.no_grad():\n",
        "        for inputs, labels in loader:\n",
        "            inputs, labels = inputs.to(device), labels.to(device)\n",
        "            outputs = model(inputs)\n",
        "            _, preds = torch.max(outputs, 1)\n",
        "            all_preds.extend(preds.cpu().numpy())\n",
        "            all_labels.extend(labels.cpu().numpy())\n",
        "\n",
        "    return all_labels, all_preds\n",
        "\n",
        "final_model = BiLSTMAttention(input_dim, hidden_dim, output_dim, num_layers, 0.3).to(device)\n",
        "final_model.load_state_dict(torch.load(\"final_best_model.pt\"))\n",
        "final_model.eval()\n",
        "\n",
        "# Get predictions\n",
        "true_labels, pred_labels = get_predictions(final_model, test_loader, device)\n",
        "\n",
        "# Confusion matricx and accuracy score\n",
        "cm = confusion_matrix(true_labels, pred_labels)\n",
        "acc = accuracy_score(true_labels, pred_labels)\n",
        "report = classification_report(true_labels, pred_labels, \n",
        "                              target_names=['positive', 'negative', 'neutral'])\n",
        "\n",
        "print(\"\\nFinal Model Test Results\")\n",
        "print(f\"Test Accuracy: {acc*100:.2f}%\")\n",
        "print(\"\\nClassification Report:\")\n",
        "print(report)"
      ]
    },
    {
      "cell_type": "code",
      "execution_count": null,
      "metadata": {},
      "outputs": [
        {
          "data": {
            "image/png": "[encoded data removed]",
            "text/plain": [
              "<Figure size 800x600 with 2 Axes>"
            ]
          },
          "metadata": {},
          "output_type": "display_data"
        }
      ],
      "source": [
        "plt.figure(figsize=(8, 6))\n",
        "sns.heatmap(cm, annto=True, fmt=\"d\", cmap=\"Greens\")\n",
        "plt.title(f\"Final Model Confusion Matrix\\nAccuracy: {acc*100:.2f}%\")\n",
        "plt.xlabel(\"Predicted\")\n",
        "plt.ylabel(\"True\")\n",
        "plt.tight_layout()\n",
        "plt.show()"
      ]
    }
  ],
  "metadata": {
    "accelerator": "GPU",
    "colab": {
      "collapsed_sections": [
        "PlLckKVgSEz4"
      ],
      "gpuType": "A100",
      "machine_shape": "hm",
      "provenance": [],
      "toc_visible": true
    },
    "kernelspec": {
      "display_name": "base",
      "language": "python",
      "name": "python3"
    },
    "language_info": {
      "codemirror_mode": {
        "name": "ipython",
        "version": 3
      },
      "file_extension": ".py",
      "mimetype": "text/x-python",
      "name": "python",
      "nbconvert_exporter": "python",
      "pygments_lexer": "ipython3",
      "version": "3.12.7"
    }
  },
  "nbformat": 4,
  "nbformat_minor": 0
}
